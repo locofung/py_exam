{
 "cells": [
  {
   "cell_type": "markdown",
   "id": "17caf759",
   "metadata": {},
   "source": [
    "### 1:print()"
   ]
  },
  {
   "cell_type": "raw",
   "id": "6d595479",
   "metadata": {},
   "source": [
    "1.print(x,y,sep=,end=)\n",
    "sep='\\n' new line\n",
    "sep='/' same line and sep with / symbol"
   ]
  },
  {
   "cell_type": "code",
   "execution_count": 4,
   "id": "0dcac779",
   "metadata": {},
   "outputs": [
    {
     "name": "stdout",
     "output_type": "stream",
     "text": [
      "hello python\n",
      "hellopython\n",
      "hello python 10\n",
      "hello\n",
      "python\n",
      "10\n"
     ]
    }
   ],
   "source": [
    "sx='hello';sy='python';sz=10\n",
    "print(sx,sy)\n",
    "print(sx+sy) # + oly work for str\n",
    "print(sx,sy,sz) \n",
    "print(sx,sy,sz,sep='\\n') # break to 3 lines\n"
   ]
  },
  {
   "cell_type": "code",
   "execution_count": 5,
   "id": "f1d9f428",
   "metadata": {},
   "outputs": [
    {
     "name": "stdout",
     "output_type": "stream",
     "text": [
      "hello//python//10;"
     ]
    }
   ],
   "source": [
    "print(sx,sy,sz,sep='//',end=';')"
   ]
  },
  {
   "cell_type": "code",
   "execution_count": 7,
   "id": "01aa1791",
   "metadata": {},
   "outputs": [
    {
     "name": "stdout",
     "output_type": "stream",
     "text": [
      "('hello', 'python', 'hello', 'python', 'hello', 'python')\n"
     ]
    }
   ],
   "source": [
    "#example:repeat str\n",
    "print((sx,sy)*3)"
   ]
  },
  {
   "cell_type": "code",
   "execution_count": 11,
   "id": "8dc0de11",
   "metadata": {},
   "outputs": [
    {
     "name": "stdout",
     "output_type": "stream",
     "text": [
      "john is 23 year old.\n"
     ]
    }
   ],
   "source": [
    "\"\"\"example 3: %s, list\n",
    "1.%s =str\n",
    "2.%d =digit\n",
    "\"\"\"\n",
    "name='john'; age=23\n",
    "#print(\"%s is %d year old.\"%(age,name)) #error 順序要跟\n",
    "print(\"%s is %d year old.\"%(name,age))"
   ]
  },
  {
   "cell_type": "code",
   "execution_count": 18,
   "id": "1a6841b2",
   "metadata": {},
   "outputs": [
    {
     "name": "stdout",
     "output_type": "stream",
     "text": [
      "<class 'tuple'>\n",
      "apple are bana fruits,priced 55.43\n"
     ]
    }
   ],
   "source": [
    "data=(\"apple\",'bana',55.43)\n",
    "print(type(data)) \n",
    "print(\"%s are %s fruits,priced %.2f\"%data) #%.2f:float to 2 decimal point"
   ]
  },
  {
   "cell_type": "raw",
   "id": "f83be786",
   "metadata": {},
   "source": [
    "list=[] #mutuable \n",
    "tuple=() #immutuable\n",
    "dict={}"
   ]
  },
  {
   "cell_type": "code",
   "execution_count": 20,
   "id": "a1fd134f",
   "metadata": {},
   "outputs": [
    {
     "name": "stdout",
     "output_type": "stream",
     "text": [
      " apple pie costs 20.\n"
     ]
    }
   ],
   "source": [
    "\"\"\"print list\"\"\"\n",
    "mylist=[10,20,30] #print mylist[1]\n",
    "print( ' apple pie costs %d.' %mylist[1])"
   ]
  },
  {
   "cell_type": "markdown",
   "id": "eb74cffc",
   "metadata": {},
   "source": [
    "### 2.input()"
   ]
  },
  {
   "cell_type": "raw",
   "id": "98d8cb12",
   "metadata": {},
   "source": [
    "<data_type>(input())"
   ]
  },
  {
   "cell_type": "code",
   "execution_count": 21,
   "id": "e18ca6f2",
   "metadata": {},
   "outputs": [
    {
     "name": "stdout",
     "output_type": "stream",
     "text": [
      "input the bonus: 50\n",
      "salary is  150;"
     ]
    }
   ],
   "source": [
    "bonus=int(input(\"input the bonus: \"))\n",
    "salary=100+bonus\n",
    "print(\"salary is \", salary,end=';')"
   ]
  },
  {
   "cell_type": "markdown",
   "id": "3ca610ed",
   "metadata": {},
   "source": [
    "#### 3.beak many lines"
   ]
  },
  {
   "cell_type": "raw",
   "id": "adef3870",
   "metadata": {},
   "source": [
    "slash \\\n",
    "blackslash /"
   ]
  },
  {
   "cell_type": "code",
   "execution_count": 22,
   "id": "3d1a1b96",
   "metadata": {},
   "outputs": [
    {
     "name": "stdout",
     "output_type": "stream",
     "text": [
      "100\n"
     ]
    }
   ],
   "source": [
    "\"\"\"ex1：break in element\"\"\"\n",
    "a=10+20\\\n",
    "   +30\\\n",
    "   +40\n",
    "print(a)"
   ]
  },
  {
   "cell_type": "code",
   "execution_count": 26,
   "id": "1d1b72ae",
   "metadata": {},
   "outputs": [
    {
     "name": "stdout",
     "output_type": "stream",
     "text": [
      "it is too many lines, they are xxxxxx++++++1000;"
     ]
    }
   ],
   "source": [
    "\"\"\"ex2:break in result\"\"\"\n",
    "a=1000\n",
    "s=\"it is too many lines, they are xxxxxx\"\n",
    "print(s,\n",
    "     a,\n",
    "     sep='++++++',\n",
    "     end=';')"
   ]
  },
  {
   "cell_type": "markdown",
   "id": "e0ea7ab3",
   "metadata": {},
   "source": [
    "###  4 math symbols"
   ]
  },
  {
   "cell_type": "raw",
   "id": "1a222d27",
   "metadata": {},
   "source": [
    "1: divide /\n",
    "2: reminder %\n",
    "3:  expoent **;  a=a**2, square\n",
    "4: not equal to !=\n",
    "5.used in loc, &(and),(|)or , can't type and or directly"
   ]
  },
  {
   "cell_type": "code",
   "execution_count": 28,
   "id": "82652e0e",
   "metadata": {},
   "outputs": [
    {
     "name": "stdout",
     "output_type": "stream",
     "text": [
      "1\n",
      "1000\n"
     ]
    }
   ],
   "source": [
    "a=10;b=3\n",
    "print(a%b) #10/3=3....1\n",
    "print(a**b) #10*10*10"
   ]
  },
  {
   "cell_type": "markdown",
   "id": "052d35e4",
   "metadata": {},
   "source": [
    "### 5.string "
   ]
  },
  {
   "cell_type": "code",
   "execution_count": 32,
   "id": "2f13c121",
   "metadata": {},
   "outputs": [
    {
     "name": "stdout",
     "output_type": "stream",
     "text": [
      "y\n",
      "pythonpythonpython\n",
      "python is a  105\n"
     ]
    }
   ],
   "source": [
    "\"\"\"ex1:simple access\"\"\"\n",
    "str='python'\n",
    "num=105\n",
    "print(str[1])\n",
    "print(str*3)\n",
    "print(str,\"is a \",num,)"
   ]
  },
  {
   "cell_type": "code",
   "execution_count": null,
   "id": "8d0f2f3d",
   "metadata": {},
   "outputs": [],
   "source": [
    "\"\"\"DML\n",
    "1.string[start:end:step] #substring\n",
    "2.s.replace('a', '')/s.strip('<remove thing>')\n",
    "3.String.find()=java contains(),find() doesn't find a match, it returns -1  \n",
    "  配合 if else\n",
    "4. remove string space\n",
    "a)x.replace(' ','')\n",
    "b)strip(),仲有lstrip(),rstrip()\n",
    "\"\"\""
   ]
  },
  {
   "cell_type": "code",
   "execution_count": 39,
   "id": "8c3e2aaa",
   "metadata": {},
   "outputs": [
    {
     "name": "stdout",
     "output_type": "stream",
     "text": [
      "15\n",
      "150\n",
      "find the lbs char\n"
     ]
    }
   ],
   "source": [
    "weight='150lbs'\n",
    "w1=weight[0:2] \n",
    "w2=weight.replace('lbs','')\n",
    "\n",
    "print(w1) # return 2-0=2 chars, \n",
    "print(w2)\n",
    "\n",
    "if weight.find('lbs')!=-1:\n",
    "    print(\"find the lbs char\")\n",
    "else:\n",
    "    print(\"not find\")"
   ]
  },
  {
   "cell_type": "code",
   "execution_count": 5,
   "id": "1711e146",
   "metadata": {
    "scrolled": true
   },
   "outputs": [
    {
     "name": "stdout",
     "output_type": "stream",
     "text": [
      "hellopython\n",
      "hello python\n",
      "hello python \n"
     ]
    }
   ],
   "source": [
    "#remove space\n",
    "str=\" hello python \"\n",
    "str1=str.replace(' ','')\n",
    "print(str1) #replace all space\n",
    "\n",
    "str2=str.strip() #remove l/r only\n",
    "print(str2)\n",
    "\n",
    "str3=str.lstrip()\n",
    "print(str3)"
   ]
  },
  {
   "cell_type": "markdown",
   "id": "115051de",
   "metadata": {},
   "source": [
    "### 6 list"
   ]
  },
  {
   "cell_type": "raw",
   "id": "abbe386b",
   "metadata": {},
   "source": [
    "list vs array\n",
    "1.list contain diff dataype, array must a same datatype \n",
    "  both can store non-unique elements\n",
    "  \n",
    "2. array is effient than list, + use numpy  "
   ]
  },
  {
   "cell_type": "raw",
   "id": "29672659",
   "metadata": {},
   "source": [
    "1.[] start from 0, last is -1\n",
    "2.access: list[start:end:step]\n",
    "3.list.count(x) #num of list elements\n",
    "4.list comprehension\n",
    "#Input processed list to another list in a hight-efficienty way\n",
    "link:\n",
    "https://www.learncodewithmike.com/2020/01/python-comprehension.html"
   ]
  },
  {
   "cell_type": "code",
   "execution_count": 15,
   "id": "d2e63531",
   "metadata": {},
   "outputs": [
    {
     "name": "stdout",
     "output_type": "stream",
     "text": [
      "[1, 2, 3]\n",
      "['B', 'ee', 'A']\n",
      "2\n"
     ]
    }
   ],
   "source": [
    "list=['A','B',3,'ee',9,'A',[1,2,3]]\n",
    "print(list[-1])\n",
    "print(list[1::2]) #even number\n",
    "print(list.count('A'))"
   ]
  },
  {
   "cell_type": "code",
   "execution_count": 18,
   "id": "33323417",
   "metadata": {},
   "outputs": [
    {
     "name": "stdout",
     "output_type": "stream",
     "text": [
      "['apple', 'banana', 'mango']\n",
      "[0, 3, 6, 9, 12, 15, 18, 21, 24, 27]\n"
     ]
    }
   ],
   "source": [
    "\"\"\"non-list comprehension\"\"\"\n",
    "fruits = [\"apple\", \"banana\", \"cherry\", \"kiwi\", \"mango\"]\n",
    "newlist = []\n",
    "for x in fruits:\n",
    "  if \"a\" in x:\n",
    "    newlist.append(x)\n",
    "\n",
    "print(newlist)\n",
    "\n",
    "#ex2:\n",
    "numbers = []\n",
    "for x in range(10):\n",
    "    numbers.append(x * 3)\n",
    "print(numbers)"
   ]
  },
  {
   "cell_type": "code",
   "execution_count": 19,
   "id": "6968e0ea",
   "metadata": {},
   "outputs": [
    {
     "name": "stdout",
     "output_type": "stream",
     "text": [
      "['apple', 'banana', 'mango']\n",
      "[0, 3, 6, 9, 12, 15, 18, 21, 24, 27]\n"
     ]
    }
   ],
   "source": [
    "newlist2 = [x for x in fruits if \"a\" in x] #can add if in \n",
    "print(newlist2)\n",
    "\n",
    "#ex2:\n",
    "numbers = [x * 3 for x in range(10)]\n",
    "print(numbers)"
   ]
  },
  {
   "cell_type": "code",
   "execution_count": 20,
   "id": "e6c796cf",
   "metadata": {},
   "outputs": [
    {
     "name": "stdout",
     "output_type": "stream",
     "text": [
      "[15, 18, 21, 24, 27]\n"
     ]
    }
   ],
   "source": [
    "\"\"\"ex3\"\"\"\n",
    "numbers = [x * 3 for x in range(10) if x > 4]\n",
    "print(numbers)"
   ]
  },
  {
   "cell_type": "code",
   "execution_count": 24,
   "id": "760b7e0e",
   "metadata": {},
   "outputs": [
    {
     "name": "stdout",
     "output_type": "stream",
     "text": [
      "[100, 4, 24, 60, 54, 8]\n",
      "[50, 12, 30, 27]\n",
      "[50, 0, 12, 30, 27, 0]\n"
     ]
    }
   ],
   "source": [
    "\"\"\"ex4\"\"\"\n",
    "numbers = [50, 2, 12, 30, 27, 4]\n",
    "result = [number * 2 for number in numbers]\n",
    "print(result)\n",
    "\n",
    "\"\"\"ex5\"\"\"\n",
    "numbers2 = [50, 2, 12, 30, 27, 4]\n",
    "result2 = [number for number in numbers2 if number > 10]\n",
    "print(result2)\n",
    "\n",
    "\"\"\"ex6\"\"\"\n",
    "numbers3 = [50, 2, 12, 30, 27, 4]\n",
    "result3 = [number if number > 10 else 0 for number in numbers3]\n",
    "#put if to front is to change the list num first\n",
    "print(result3)\n"
   ]
  },
  {
   "cell_type": "markdown",
   "id": "d101d086",
   "metadata": {},
   "source": [
    "### 7: range+random "
   ]
  },
  {
   "cell_type": "code",
   "execution_count": 32,
   "id": "80a4134e",
   "metadata": {},
   "outputs": [],
   "source": [
    "import random as rd\n",
    "import numpy as np #np also has random method"
   ]
  },
  {
   "cell_type": "code",
   "execution_count": null,
   "id": "4aab3ec3",
   "metadata": {},
   "outputs": [],
   "source": []
  },
  {
   "cell_type": "code",
   "execution_count": 35,
   "id": "e84a97f3",
   "metadata": {},
   "outputs": [
    {
     "name": "stdout",
     "output_type": "stream",
     "text": [
      "14\n",
      "8\n"
     ]
    }
   ],
   "source": [
    "r1=rd.randrange(2, 20, 2) #return 1 random than are odd number\n",
    "print(r1)\n",
    "\n",
    "r2=rd.randint(0, 9) #randin=random integer\n",
    "print(r2)"
   ]
  },
  {
   "cell_type": "code",
   "execution_count": 39,
   "id": "fd9082ea",
   "metadata": {},
   "outputs": [
    {
     "name": "stdout",
     "output_type": "stream",
     "text": [
      "[50, 24, 54, 7, 76]\n",
      "[15, 49, 39, 19, 59]\n",
      "[29, 14, 16, 21, 26]\n"
     ]
    }
   ],
   "source": [
    "\"\"\"generate a list of sample\n",
    "1.for loop + above 2 method\n",
    "2.list comprehension\n",
    "3.random.sample() function\n",
    "\"\"\"\n",
    "r1=[]\n",
    "for i in range(0,5): #gen 5 num\n",
    "    n=rd.randint(1,100) #value range 1-100 \n",
    "    #can change to randrange\n",
    "    r1.append(n)\n",
    "print(r1)\n",
    "\n",
    "#in fact just change 1 to list comprehension\n",
    "r2=[rd.randrange(1,100,2) for i in range(0,5,1) ] #1-100, odd number\n",
    "print(r2)\n",
    "\n",
    "#Generate 5 random numbers between 10 and 30\n",
    "r3 = rd.sample(range(10, 30), 5)\n",
    "print(r3)"
   ]
  },
  {
   "cell_type": "markdown",
   "id": "878294ad",
   "metadata": {},
   "source": [
    "### chapter 8:  2-d for loop"
   ]
  },
  {
   "cell_type": "code",
   "execution_count": 5,
   "id": "32a580de",
   "metadata": {},
   "outputs": [
    {
     "name": "stdout",
     "output_type": "stream",
     "text": [
      "2 c\n",
      "\n",
      "1\n",
      "2\n",
      "3\n",
      "4\n",
      "\n",
      "a\n",
      "b\n",
      "c\n",
      "d\n",
      "\n"
     ]
    }
   ],
   "source": [
    "\"\"\"8.1 understand nested list/array first\n",
    "\"\"\"\n",
    "#ex1:in theory 多，實際少用,single list\n",
    "list=[[1,2,3,4],['a','b','c','d']]\n",
    "print(list[0][1],list[1][2])\n",
    "print()\n",
    "\n",
    "for i in range(len(list)):\n",
    "    for j in range(len(list[i])):\n",
    "        print(list[i][j],sep='')\n",
    "    print()"
   ]
  },
  {
   "cell_type": "code",
   "execution_count": 16,
   "id": "a1e85ebc",
   "metadata": {},
   "outputs": [
    {
     "name": "stdout",
     "output_type": "stream",
     "text": [
      "red+apple\n",
      "red+bal\n",
      "red+cherry\n",
      "red+nut\n",
      "green+apple\n",
      "green+bal\n",
      "green+cherry\n",
      "green+nut\n",
      "blue+apple\n",
      "blue+bal\n",
      "blue+cherry\n",
      "blue+nut\n",
      "yello+apple\n",
      "yello+bal\n",
      "yello+cherry\n",
      "yello+nut\n",
      "\n",
      "red---apple\n",
      "green---bal\n",
      "blue---cherry\n",
      "yello---nut\n",
      "\n"
     ]
    }
   ],
   "source": [
    "\"\"\"\n",
    "ex2: 常見多數系matrix, one to many\n",
    "process: 1a,1b,1c,1d  [0][0],[0][1],[0][2],[0][3],[0][4]\n",
    "         2a,2b,2c,2d\n",
    "\"\"\"\n",
    "color=['red','green','blue','yello']\n",
    "fruit=['apple','bal','cherry','nut']\n",
    "for i in color:\n",
    "    for j in fruit:\n",
    "        print(i+\"+\"+j)\n",
    "print()\n",
    "\n",
    "for i in range(0,len(color),1):\n",
    "    print(color[i],fruit[i],sep='---')\n",
    "print()    "
   ]
  },
  {
   "cell_type": "code",
   "execution_count": 23,
   "id": "af683372",
   "metadata": {},
   "outputs": [
    {
     "data": {
      "text/plain": [
       "[('peter', 23, 90), ('john', 12, 88), ('amy', 43, 79)]"
      ]
     },
     "execution_count": 23,
     "metadata": {},
     "output_type": "execute_result"
    }
   ],
   "source": [
    "\"\"\"ex3:最實用，combine lists into one\n",
    "    zip(list_x,list_y,z,....)\n",
    "\"\"\"\n",
    "name=['peter','john','amy']\n",
    "age=[23,12,43]\n",
    "score=[90,88,79]\n",
    "info=list(zip(name,age,score))\n",
    "info\n",
    "#list() is a built-in funciton, don't use list=[1,2,4]\n",
    "#del list    for error: list object is not callable "
   ]
  },
  {
   "cell_type": "markdown",
   "id": "9c5324b0",
   "metadata": {},
   "source": [
    "### chapter 9: zip()"
   ]
  },
  {
   "cell_type": "code",
   "execution_count": 24,
   "id": "931c3b7a",
   "metadata": {},
   "outputs": [
    {
     "data": {
      "text/plain": [
       "{'tw': 2.1, 'us': 3.8, 'hk': 6.9}"
      ]
     },
     "execution_count": 24,
     "metadata": {},
     "output_type": "execute_result"
    }
   ],
   "source": [
    "\"\"\"ex1:dic +zip()\n",
    "change list to dict(key:value)\n",
    "\"\"\"\n",
    "\n",
    "city = [\"tw\", \"us\", \"hk\"]\n",
    "salary = [2.1, 3.8, 6.9]\n",
    "d1=dict(zip(city,salary))\n",
    "d1"
   ]
  },
  {
   "cell_type": "code",
   "execution_count": 25,
   "id": "f2bd19ed",
   "metadata": {},
   "outputs": [
    {
     "name": "stdout",
     "output_type": "stream",
     "text": [
      "A 11 45\n",
      "B 23 67\n",
      "C 46 82\n"
     ]
    }
   ],
   "source": [
    "\"\"\"ex2:for loop\n",
    "\"\"\"\n",
    "names = [\"A\", \"B\", \"C\"]\n",
    "level = [11, 23, 46]\n",
    "ages = [45, 67, 82]\n",
    "for x, y, z in zip(names, level, ages):\n",
    "    print(x,y,z)"
   ]
  },
  {
   "cell_type": "code",
   "execution_count": 27,
   "id": "e068507b",
   "metadata": {},
   "outputs": [
    {
     "data": {
      "text/plain": [
       "[(0, 'A'), (1, 'B'), (2, 'C')]"
      ]
     },
     "execution_count": 27,
     "metadata": {},
     "output_type": "execute_result"
    }
   ],
   "source": [
    "\"\"\"ex3:gen list\"\"\"\n",
    "data = list(zip(range(3), 'ABCD')) #must in pair\n",
    "data"
   ]
  },
  {
   "cell_type": "markdown",
   "id": "800f8cbc",
   "metadata": {},
   "source": [
    "### chapter 10: set"
   ]
  },
  {
   "cell_type": "raw",
   "id": "3619601e",
   "metadata": {},
   "source": [
    "#note: set values will auto distinct \n",
    "1.a - b  集合a中包含而集合b中不包含的元素\n",
    "2.a | b    element in set a or b\n",
    "3.a & b    insection, must in a and b\n",
    "4. a ^ b   不同时包含于a和b的元素, 只出現在set a or b\n",
    "5.'orange' in basket  # return True/False\n",
    "#################\n",
    "s.add( x )   # add elements\n",
    "s.update( x )\n",
    "s.remove( x )"
   ]
  },
  {
   "cell_type": "code",
   "execution_count": 5,
   "id": "5441b385",
   "metadata": {},
   "outputs": [
    {
     "name": "stdout",
     "output_type": "stream",
     "text": [
      "{'pear', 'orange', 'banana', 'apple'}\n",
      "True\n"
     ]
    }
   ],
   "source": [
    "basket = {'apple', 'orange', 'apple', 'pear', 'orange', 'banana'}\n",
    "print(basket) #auto remove duplicate value\n",
    "print(\"banana\" in basket)\n",
    "#print(basket[1]) # will error"
   ]
  },
  {
   "cell_type": "code",
   "execution_count": 6,
   "id": "3430ffe5",
   "metadata": {},
   "outputs": [
    {
     "name": "stdout",
     "output_type": "stream",
     "text": [
      "pear\n",
      "orange\n",
      "banana\n",
      "apple\n"
     ]
    }
   ],
   "source": [
    "\"\"\"print set() value \"\"\"\n",
    "basket = {'apple', 'orange', 'apple', 'pear', 'orange', 'banana'}\n",
    "# for each loop. print all\n",
    "for i in basket:\n",
    "    print(i)"
   ]
  },
  {
   "cell_type": "code",
   "execution_count": 10,
   "id": "3af522ef",
   "metadata": {},
   "outputs": [
    {
     "name": "stdout",
     "output_type": "stream",
     "text": [
      "banana\n"
     ]
    }
   ],
   "source": [
    "#return specific value\n",
    "for i in basket:\n",
    "    if i.find('b')>=0:\n",
    "        print(i)"
   ]
  },
  {
   "cell_type": "code",
   "execution_count": 11,
   "id": "47e985f4",
   "metadata": {},
   "outputs": [
    {
     "name": "stdout",
     "output_type": "stream",
     "text": [
      "{'c', 'd', 'b', 'a', 'r'}\n"
     ]
    }
   ],
   "source": [
    "a = set('abracadabra')\n",
    "print(a)"
   ]
  },
  {
   "cell_type": "code",
   "execution_count": 12,
   "id": "c16b650a",
   "metadata": {},
   "outputs": [
    {
     "data": {
      "text/plain": [
       "{'d', 'r'}"
      ]
     },
     "execution_count": 12,
     "metadata": {},
     "output_type": "execute_result"
    }
   ],
   "source": [
    "\"\"\"list comprehension\n",
    "for loop + if \n",
    "\"\"\"\n",
    "list presentation \n",
    "\n",
    "a1 = {x for x in 'abracadabra' if x not in 'abc'}\n",
    "a1  "
   ]
  },
  {
   "cell_type": "code",
   "execution_count": 14,
   "id": "fd09d107",
   "metadata": {},
   "outputs": [
    {
     "name": "stdout",
     "output_type": "stream",
     "text": [
      "a-b is: {'d', 'r', 'b'}\n",
      "a^b is: {'r', 'b', 'l', 'd', 'm', 'z'}\n",
      "a|b is : {'l', 'c', 'd', 'b', 'm', 'z', 'a', 'r'}\n",
      "a&b is :  {'a', 'c'}\n"
     ]
    }
   ],
   "source": [
    "\"\"\"must use symbol but not text like ''\n",
    "\"\"\"\n",
    "a = set('abracadabra')\n",
    "b = set('alacazam')\n",
    "print(\"a-b is:\", a-b) # value in a but no in b\n",
    "print(\"a^b is:\", a^b) # data can only in a or b, can not both\n",
    "print(\"a|b is :\",a|b) # union in a or b \n",
    "print(\"a&b is : \", a&b) #intersection, must in both a and b"
   ]
  },
  {
   "cell_type": "markdown",
   "id": "38e38427",
   "metadata": {},
   "source": [
    "### chapter 11 :read files"
   ]
  },
  {
   "cell_type": "raw",
   "id": "823c99f0",
   "metadata": {},
   "source": [
    "the chapters of basic knowledge have gone. Start to 實戰。 \n",
    "1.data files: txt xlsx csv\n",
    "2.usually we need to change the txt, csv to xlsx.\n",
    "~~~~~~~\n",
    "3.csv=microsoft excel comma  seperated values file\n",
    "  xlsx=microsoft excel worksheet\n",
    "  txt=text document"
   ]
  },
  {
   "cell_type": "code",
   "execution_count": 32,
   "id": "5cd1ab17",
   "metadata": {},
   "outputs": [],
   "source": [
    "import pandas as pd\n",
    "# inplace =True  meas change to exiting df, default is False "
   ]
  },
  {
   "cell_type": "code",
   "execution_count": 15,
   "id": "7cacb1bd",
   "metadata": {},
   "outputs": [
    {
     "ename": "SyntaxError",
     "evalue": "(unicode error) 'unicodeescape' codec can't decode bytes in position 117-118: truncated \\UXXXXXXXX escape (Temp/ipykernel_3956/338393444.py, line 8)",
     "output_type": "error",
     "traceback": [
      "\u001b[1;36m  File \u001b[1;32m\"C:\\Users\\fengs\\AppData\\Local\\Temp/ipykernel_3956/338393444.py\"\u001b[1;36m, line \u001b[1;32m8\u001b[0m\n\u001b[1;33m    \"\"\"\u001b[0m\n\u001b[1;37m       ^\u001b[0m\n\u001b[1;31mSyntaxError\u001b[0m\u001b[1;31m:\u001b[0m (unicode error) 'unicodeescape' codec can't decode bytes in position 117-118: truncated \\UXXXXXXXX escape\n"
     ]
    }
   ],
   "source": [
    "\"\"\"use pandas module's methods, but not function,\n",
    "   so it is pd.to_read(var), but to_read(var)\n",
    "#######\n",
    "1.\n",
    "given path:C:\\Users\\fengs\\Desktop\\py_project\\csv_file\n",
    "not use \\, but /\n",
    "2.or add (r'')\n",
    "\"\"\"\n",
    "#df_p=pd.read_csv('C:\\Users\\fengs\\Desktop\\py_project\\csv_file\\pokemon_data.csv') #unicode error\n",
    "#df_p=pd.read_csv('C:/Users/fengs/Desktop/py_project/Upy_project/csv_file/pokemon_data.csv')"
   ]
  },
  {
   "cell_type": "markdown",
   "id": "be398077",
   "metadata": {},
   "source": [
    "### chapter 11.1 foundational info of DF"
   ]
  },
  {
   "cell_type": "code",
   "execution_count": 3,
   "id": "71ce7b08",
   "metadata": {},
   "outputs": [
    {
     "data": {
      "text/html": [
       "<div>\n",
       "<style scoped>\n",
       "    .dataframe tbody tr th:only-of-type {\n",
       "        vertical-align: middle;\n",
       "    }\n",
       "\n",
       "    .dataframe tbody tr th {\n",
       "        vertical-align: top;\n",
       "    }\n",
       "\n",
       "    .dataframe thead th {\n",
       "        text-align: right;\n",
       "    }\n",
       "</style>\n",
       "<table border=\"1\" class=\"dataframe\">\n",
       "  <thead>\n",
       "    <tr style=\"text-align: right;\">\n",
       "      <th></th>\n",
       "      <th>#</th>\n",
       "      <th>Name</th>\n",
       "      <th>Type 1</th>\n",
       "      <th>Type 2</th>\n",
       "      <th>HP</th>\n",
       "      <th>Attack</th>\n",
       "      <th>Defense</th>\n",
       "      <th>Sp. Atk</th>\n",
       "      <th>Sp. Def</th>\n",
       "      <th>Speed</th>\n",
       "      <th>Generation</th>\n",
       "      <th>Legendary</th>\n",
       "    </tr>\n",
       "  </thead>\n",
       "  <tbody>\n",
       "    <tr>\n",
       "      <th>0</th>\n",
       "      <td>1</td>\n",
       "      <td>Bulbasaur</td>\n",
       "      <td>Grass</td>\n",
       "      <td>Poison</td>\n",
       "      <td>45</td>\n",
       "      <td>49</td>\n",
       "      <td>49</td>\n",
       "      <td>65</td>\n",
       "      <td>65</td>\n",
       "      <td>45</td>\n",
       "      <td>1</td>\n",
       "      <td>False</td>\n",
       "    </tr>\n",
       "    <tr>\n",
       "      <th>1</th>\n",
       "      <td>2</td>\n",
       "      <td>Ivysaur</td>\n",
       "      <td>Grass</td>\n",
       "      <td>Poison</td>\n",
       "      <td>60</td>\n",
       "      <td>62</td>\n",
       "      <td>63</td>\n",
       "      <td>80</td>\n",
       "      <td>80</td>\n",
       "      <td>60</td>\n",
       "      <td>1</td>\n",
       "      <td>False</td>\n",
       "    </tr>\n",
       "    <tr>\n",
       "      <th>2</th>\n",
       "      <td>3</td>\n",
       "      <td>Venusaur</td>\n",
       "      <td>Grass</td>\n",
       "      <td>Poison</td>\n",
       "      <td>80</td>\n",
       "      <td>82</td>\n",
       "      <td>83</td>\n",
       "      <td>100</td>\n",
       "      <td>100</td>\n",
       "      <td>80</td>\n",
       "      <td>1</td>\n",
       "      <td>False</td>\n",
       "    </tr>\n",
       "    <tr>\n",
       "      <th>3</th>\n",
       "      <td>3</td>\n",
       "      <td>VenusaurMega Venusaur</td>\n",
       "      <td>Grass</td>\n",
       "      <td>Poison</td>\n",
       "      <td>80</td>\n",
       "      <td>100</td>\n",
       "      <td>123</td>\n",
       "      <td>122</td>\n",
       "      <td>120</td>\n",
       "      <td>80</td>\n",
       "      <td>1</td>\n",
       "      <td>False</td>\n",
       "    </tr>\n",
       "    <tr>\n",
       "      <th>4</th>\n",
       "      <td>4</td>\n",
       "      <td>Charmander</td>\n",
       "      <td>Fire</td>\n",
       "      <td>NaN</td>\n",
       "      <td>39</td>\n",
       "      <td>52</td>\n",
       "      <td>43</td>\n",
       "      <td>60</td>\n",
       "      <td>50</td>\n",
       "      <td>65</td>\n",
       "      <td>1</td>\n",
       "      <td>False</td>\n",
       "    </tr>\n",
       "  </tbody>\n",
       "</table>\n",
       "</div>"
      ],
      "text/plain": [
       "   #                   Name Type 1  Type 2  HP  Attack  Defense  Sp. Atk  \\\n",
       "0  1              Bulbasaur  Grass  Poison  45      49       49       65   \n",
       "1  2                Ivysaur  Grass  Poison  60      62       63       80   \n",
       "2  3               Venusaur  Grass  Poison  80      82       83      100   \n",
       "3  3  VenusaurMega Venusaur  Grass  Poison  80     100      123      122   \n",
       "4  4             Charmander   Fire     NaN  39      52       43       60   \n",
       "\n",
       "   Sp. Def  Speed  Generation  Legendary  \n",
       "0       65     45           1      False  \n",
       "1       80     60           1      False  \n",
       "2      100     80           1      False  \n",
       "3      120     80           1      False  \n",
       "4       50     65           1      False  "
      ]
     },
     "execution_count": 3,
     "metadata": {},
     "output_type": "execute_result"
    }
   ],
   "source": [
    "df_csv=pd.read_csv(r'C:\\Users\\fengs\\Desktop\\py_project\\csv_file\\pokemon_data.csv') \n",
    "df_csv.head()"
   ]
  },
  {
   "cell_type": "code",
   "execution_count": 63,
   "id": "611ea1a5",
   "metadata": {},
   "outputs": [
    {
     "name": "stdout",
     "output_type": "stream",
     "text": [
      "(800, 12)\n",
      "800 12\n",
      "#             800\n",
      "Name          800\n",
      "Type 1        800\n",
      "Type 2        414\n",
      "HP            800\n",
      "Attack        800\n",
      "Defense       800\n",
      "Sp. Atk       800\n",
      "Sp. Def       800\n",
      "Speed         800\n",
      "Generation    800\n",
      "Legendary     800\n",
      "dtype: int64\n"
     ]
    }
   ],
   "source": [
    "#find df's row &columns\n",
    "#(number of rows, number of columns).\n",
    "print(df_csv.shape)\n",
    "print(df_csv.shape[0],df_csv.shape[1])\n",
    "print(df_csv.count(0))"
   ]
  },
  {
   "cell_type": "code",
   "execution_count": 19,
   "id": "590b14d8",
   "metadata": {},
   "outputs": [
    {
     "data": {
      "text/plain": [
       "Index(['#', 'Name', 'Type 1', 'Type 2', 'HP', 'Attack', 'Defense', 'Sp. Atk',\n",
       "       'Sp. Def', 'Speed', 'Generation', 'Legendary'],\n",
       "      dtype='object')"
      ]
     },
     "execution_count": 19,
     "metadata": {},
     "output_type": "execute_result"
    }
   ],
   "source": [
    "df_csv.columns  #it is an attribute but not a function or method"
   ]
  },
  {
   "cell_type": "code",
   "execution_count": 21,
   "id": "304dc407",
   "metadata": {},
   "outputs": [
    {
     "name": "stdout",
     "output_type": "stream",
     "text": [
      "<class 'pandas.core.frame.DataFrame'>\n",
      "RangeIndex: 800 entries, 0 to 799\n",
      "Data columns (total 12 columns):\n",
      " #   Column      Non-Null Count  Dtype \n",
      "---  ------      --------------  ----- \n",
      " 0   #           800 non-null    int64 \n",
      " 1   Name        800 non-null    object\n",
      " 2   Type 1      800 non-null    object\n",
      " 3   Type 2      414 non-null    object\n",
      " 4   HP          800 non-null    int64 \n",
      " 5   Attack      800 non-null    int64 \n",
      " 6   Defense     800 non-null    int64 \n",
      " 7   Sp. Atk     800 non-null    int64 \n",
      " 8   Sp. Def     800 non-null    int64 \n",
      " 9   Speed       800 non-null    int64 \n",
      " 10  Generation  800 non-null    int64 \n",
      " 11  Legendary   800 non-null    bool  \n",
      "dtypes: bool(1), int64(8), object(3)\n",
      "memory usage: 69.7+ KB\n"
     ]
    }
   ],
   "source": [
    "#df.info()=show table DDL \n",
    "df_csv.info()"
   ]
  },
  {
   "cell_type": "code",
   "execution_count": 22,
   "id": "a12987c7",
   "metadata": {},
   "outputs": [
    {
     "data": {
      "text/html": [
       "<div>\n",
       "<style scoped>\n",
       "    .dataframe tbody tr th:only-of-type {\n",
       "        vertical-align: middle;\n",
       "    }\n",
       "\n",
       "    .dataframe tbody tr th {\n",
       "        vertical-align: top;\n",
       "    }\n",
       "\n",
       "    .dataframe thead th {\n",
       "        text-align: right;\n",
       "    }\n",
       "</style>\n",
       "<table border=\"1\" class=\"dataframe\">\n",
       "  <thead>\n",
       "    <tr style=\"text-align: right;\">\n",
       "      <th></th>\n",
       "      <th>#</th>\n",
       "      <th>HP</th>\n",
       "      <th>Attack</th>\n",
       "      <th>Defense</th>\n",
       "      <th>Sp. Atk</th>\n",
       "      <th>Sp. Def</th>\n",
       "      <th>Speed</th>\n",
       "      <th>Generation</th>\n",
       "    </tr>\n",
       "  </thead>\n",
       "  <tbody>\n",
       "    <tr>\n",
       "      <th>count</th>\n",
       "      <td>800.000000</td>\n",
       "      <td>800.000000</td>\n",
       "      <td>800.000000</td>\n",
       "      <td>800.000000</td>\n",
       "      <td>800.000000</td>\n",
       "      <td>800.000000</td>\n",
       "      <td>800.000000</td>\n",
       "      <td>800.00000</td>\n",
       "    </tr>\n",
       "    <tr>\n",
       "      <th>mean</th>\n",
       "      <td>362.813750</td>\n",
       "      <td>69.258750</td>\n",
       "      <td>79.001250</td>\n",
       "      <td>73.842500</td>\n",
       "      <td>72.820000</td>\n",
       "      <td>71.902500</td>\n",
       "      <td>68.277500</td>\n",
       "      <td>3.32375</td>\n",
       "    </tr>\n",
       "    <tr>\n",
       "      <th>std</th>\n",
       "      <td>208.343798</td>\n",
       "      <td>25.534669</td>\n",
       "      <td>32.457366</td>\n",
       "      <td>31.183501</td>\n",
       "      <td>32.722294</td>\n",
       "      <td>27.828916</td>\n",
       "      <td>29.060474</td>\n",
       "      <td>1.66129</td>\n",
       "    </tr>\n",
       "    <tr>\n",
       "      <th>min</th>\n",
       "      <td>1.000000</td>\n",
       "      <td>1.000000</td>\n",
       "      <td>5.000000</td>\n",
       "      <td>5.000000</td>\n",
       "      <td>10.000000</td>\n",
       "      <td>20.000000</td>\n",
       "      <td>5.000000</td>\n",
       "      <td>1.00000</td>\n",
       "    </tr>\n",
       "    <tr>\n",
       "      <th>25%</th>\n",
       "      <td>184.750000</td>\n",
       "      <td>50.000000</td>\n",
       "      <td>55.000000</td>\n",
       "      <td>50.000000</td>\n",
       "      <td>49.750000</td>\n",
       "      <td>50.000000</td>\n",
       "      <td>45.000000</td>\n",
       "      <td>2.00000</td>\n",
       "    </tr>\n",
       "    <tr>\n",
       "      <th>50%</th>\n",
       "      <td>364.500000</td>\n",
       "      <td>65.000000</td>\n",
       "      <td>75.000000</td>\n",
       "      <td>70.000000</td>\n",
       "      <td>65.000000</td>\n",
       "      <td>70.000000</td>\n",
       "      <td>65.000000</td>\n",
       "      <td>3.00000</td>\n",
       "    </tr>\n",
       "    <tr>\n",
       "      <th>75%</th>\n",
       "      <td>539.250000</td>\n",
       "      <td>80.000000</td>\n",
       "      <td>100.000000</td>\n",
       "      <td>90.000000</td>\n",
       "      <td>95.000000</td>\n",
       "      <td>90.000000</td>\n",
       "      <td>90.000000</td>\n",
       "      <td>5.00000</td>\n",
       "    </tr>\n",
       "    <tr>\n",
       "      <th>max</th>\n",
       "      <td>721.000000</td>\n",
       "      <td>255.000000</td>\n",
       "      <td>190.000000</td>\n",
       "      <td>230.000000</td>\n",
       "      <td>194.000000</td>\n",
       "      <td>230.000000</td>\n",
       "      <td>180.000000</td>\n",
       "      <td>6.00000</td>\n",
       "    </tr>\n",
       "  </tbody>\n",
       "</table>\n",
       "</div>"
      ],
      "text/plain": [
       "                #          HP      Attack     Defense     Sp. Atk     Sp. Def  \\\n",
       "count  800.000000  800.000000  800.000000  800.000000  800.000000  800.000000   \n",
       "mean   362.813750   69.258750   79.001250   73.842500   72.820000   71.902500   \n",
       "std    208.343798   25.534669   32.457366   31.183501   32.722294   27.828916   \n",
       "min      1.000000    1.000000    5.000000    5.000000   10.000000   20.000000   \n",
       "25%    184.750000   50.000000   55.000000   50.000000   49.750000   50.000000   \n",
       "50%    364.500000   65.000000   75.000000   70.000000   65.000000   70.000000   \n",
       "75%    539.250000   80.000000  100.000000   90.000000   95.000000   90.000000   \n",
       "max    721.000000  255.000000  190.000000  230.000000  194.000000  230.000000   \n",
       "\n",
       "            Speed  Generation  \n",
       "count  800.000000   800.00000  \n",
       "mean    68.277500     3.32375  \n",
       "std     29.060474     1.66129  \n",
       "min      5.000000     1.00000  \n",
       "25%     45.000000     2.00000  \n",
       "50%     65.000000     3.00000  \n",
       "75%     90.000000     5.00000  \n",
       "max    180.000000     6.00000  "
      ]
     },
     "execution_count": 22,
     "metadata": {},
     "output_type": "execute_result"
    }
   ],
   "source": [
    "#df_describe()=show stat data\n",
    "df_csv.describe()"
   ]
  },
  {
   "cell_type": "code",
   "execution_count": 20,
   "id": "c552a28f",
   "metadata": {},
   "outputs": [
    {
     "name": "stdout",
     "output_type": "stream",
     "text": [
      "   #       Name Type 1  Type 2  HP  Attack  Defense  Sp. Atk  Sp. Def  Speed  \\\n",
      "0  1  Bulbasaur  Grass  Poison  45      49       49       65       65     45   \n",
      "1  2    Ivysaur  Grass  Poison  60      62       63       80       80     60   \n",
      "\n",
      "   Generation  Legendary  \n",
      "0           1      False  \n",
      "1           1      False  \n",
      "       #                Name   Type 1 Type 2  HP  Attack  Defense  Sp. Atk  \\\n",
      "798  720  HoopaHoopa Unbound  Psychic   Dark  80     160       60      170   \n",
      "799  721           Volcanion     Fire  Water  80     110      120      130   \n",
      "\n",
      "     Sp. Def  Speed  Generation  Legendary  \n",
      "798      130     80           6       True  \n",
      "799       90     70           6       True  \n"
     ]
    }
   ],
   "source": [
    "print(df_csv.head(2))\n",
    "print(df_csv.tail(2))"
   ]
  },
  {
   "cell_type": "markdown",
   "id": "b63a74a6",
   "metadata": {},
   "source": [
    "### Chapter 11.2 query DF"
   ]
  },
  {
   "cell_type": "code",
   "execution_count": 29,
   "id": "386122c8",
   "metadata": {},
   "outputs": [
    {
     "name": "stdout",
     "output_type": "stream",
     "text": [
      "   #       Name Type 1\n",
      "0  1  Bulbasaur  Grass\n",
      "1  2    Ivysaur  Grass\n",
      "       #                Name  HP\n",
      "798  720  HoopaHoopa Unbound  80\n",
      "799  721           Volcanion  80\n"
     ]
    }
   ],
   "source": [
    "\"\"\"select cols,\n",
    "1.df[] only for single col\n",
    "2.df[[x,y]] for multi-col, as it only return one arg\n",
    "\"\"\"\n",
    "print(df_csv[['#','Name','Type 1']].head(2)) \n",
    "print(df_csv[['#','Name','HP']].tail(2))"
   ]
  },
  {
   "cell_type": "code",
   "execution_count": 37,
   "id": "41387de0",
   "metadata": {},
   "outputs": [
    {
     "data": {
      "text/html": [
       "<div>\n",
       "<style scoped>\n",
       "    .dataframe tbody tr th:only-of-type {\n",
       "        vertical-align: middle;\n",
       "    }\n",
       "\n",
       "    .dataframe tbody tr th {\n",
       "        vertical-align: top;\n",
       "    }\n",
       "\n",
       "    .dataframe thead th {\n",
       "        text-align: right;\n",
       "    }\n",
       "</style>\n",
       "<table border=\"1\" class=\"dataframe\">\n",
       "  <thead>\n",
       "    <tr style=\"text-align: right;\">\n",
       "      <th></th>\n",
       "      <th>#</th>\n",
       "      <th>Name</th>\n",
       "      <th>Type 1</th>\n",
       "      <th>Type 2</th>\n",
       "      <th>HP</th>\n",
       "      <th>Attack</th>\n",
       "      <th>Defense</th>\n",
       "      <th>Sp. Atk</th>\n",
       "      <th>Sp. Def</th>\n",
       "      <th>Speed</th>\n",
       "      <th>Generation</th>\n",
       "      <th>Legendary</th>\n",
       "    </tr>\n",
       "  </thead>\n",
       "  <tbody>\n",
       "    <tr>\n",
       "      <th>107</th>\n",
       "      <td>99</td>\n",
       "      <td>Kingler</td>\n",
       "      <td>Water</td>\n",
       "      <td>NaN</td>\n",
       "      <td>55</td>\n",
       "      <td>130</td>\n",
       "      <td>115</td>\n",
       "      <td>50</td>\n",
       "      <td>50</td>\n",
       "      <td>75</td>\n",
       "      <td>1</td>\n",
       "      <td>False</td>\n",
       "    </tr>\n",
       "    <tr>\n",
       "      <th>108</th>\n",
       "      <td>100</td>\n",
       "      <td>Voltorb</td>\n",
       "      <td>Electric</td>\n",
       "      <td>NaN</td>\n",
       "      <td>40</td>\n",
       "      <td>30</td>\n",
       "      <td>50</td>\n",
       "      <td>55</td>\n",
       "      <td>55</td>\n",
       "      <td>100</td>\n",
       "      <td>1</td>\n",
       "      <td>False</td>\n",
       "    </tr>\n",
       "    <tr>\n",
       "      <th>109</th>\n",
       "      <td>101</td>\n",
       "      <td>Electrode</td>\n",
       "      <td>Electric</td>\n",
       "      <td>NaN</td>\n",
       "      <td>60</td>\n",
       "      <td>50</td>\n",
       "      <td>70</td>\n",
       "      <td>80</td>\n",
       "      <td>80</td>\n",
       "      <td>140</td>\n",
       "      <td>1</td>\n",
       "      <td>False</td>\n",
       "    </tr>\n",
       "  </tbody>\n",
       "</table>\n",
       "</div>"
      ],
      "text/plain": [
       "       #       Name    Type 1 Type 2  HP  Attack  Defense  Sp. Atk  Sp. Def  \\\n",
       "107   99    Kingler     Water    NaN  55     130      115       50       50   \n",
       "108  100    Voltorb  Electric    NaN  40      30       50       55       55   \n",
       "109  101  Electrode  Electric    NaN  60      50       70       80       80   \n",
       "\n",
       "     Speed  Generation  Legendary  \n",
       "107     75           1      False  \n",
       "108    100           1      False  \n",
       "109    140           1      False  "
      ]
     },
     "execution_count": 37,
     "metadata": {},
     "output_type": "execute_result"
    }
   ],
   "source": [
    "#between 2 values\n",
    "df_csv.loc[df_csv['#'].between(99, 101)]"
   ]
  },
  {
   "cell_type": "code",
   "execution_count": 4,
   "id": "cd23fe21",
   "metadata": {},
   "outputs": [
    {
     "data": {
      "text/html": [
       "<div>\n",
       "<style scoped>\n",
       "    .dataframe tbody tr th:only-of-type {\n",
       "        vertical-align: middle;\n",
       "    }\n",
       "\n",
       "    .dataframe tbody tr th {\n",
       "        vertical-align: top;\n",
       "    }\n",
       "\n",
       "    .dataframe thead th {\n",
       "        text-align: right;\n",
       "    }\n",
       "</style>\n",
       "<table border=\"1\" class=\"dataframe\">\n",
       "  <thead>\n",
       "    <tr style=\"text-align: right;\">\n",
       "      <th></th>\n",
       "      <th>#</th>\n",
       "      <th>Name</th>\n",
       "      <th>Sp. Atk</th>\n",
       "    </tr>\n",
       "  </thead>\n",
       "  <tbody>\n",
       "    <tr>\n",
       "      <th>0</th>\n",
       "      <td>1</td>\n",
       "      <td>Bulbasaur</td>\n",
       "      <td>65</td>\n",
       "    </tr>\n",
       "    <tr>\n",
       "      <th>2</th>\n",
       "      <td>3</td>\n",
       "      <td>Venusaur</td>\n",
       "      <td>100</td>\n",
       "    </tr>\n",
       "    <tr>\n",
       "      <th>4</th>\n",
       "      <td>4</td>\n",
       "      <td>Charmander</td>\n",
       "      <td>60</td>\n",
       "    </tr>\n",
       "  </tbody>\n",
       "</table>\n",
       "</div>"
      ],
      "text/plain": [
       "   #        Name  Sp. Atk\n",
       "0  1   Bulbasaur       65\n",
       "2  3    Venusaur      100\n",
       "4  4  Charmander       60"
      ]
     },
     "execution_count": 4,
     "metadata": {},
     "output_type": "execute_result"
    }
   ],
   "source": [
    "\"\"\"loc[row,cols]\n",
    "loc[].range(start,end,step)\n",
    "most practical function of DF\n",
    "2.loc=location\n",
    "iloc=index location\n",
    "\"\"\"\n",
    "r1=df_csv.loc[range(0,len(df_csv),2),['#','Name','Sp. Atk']].head(3) #even 雙，odd 單\n",
    "r1"
   ]
  },
  {
   "cell_type": "raw",
   "id": "116a059a",
   "metadata": {},
   "source": [
    "ref:\n",
    "df3 = df.loc[(df['Date'] > 'Feb 06, 2019') & (df['Open'] > 62), ['Date', 'Open']]"
   ]
  },
  {
   "cell_type": "code",
   "execution_count": 5,
   "id": "8b7c4b82",
   "metadata": {},
   "outputs": [
    {
     "data": {
      "text/html": [
       "<div>\n",
       "<style scoped>\n",
       "    .dataframe tbody tr th:only-of-type {\n",
       "        vertical-align: middle;\n",
       "    }\n",
       "\n",
       "    .dataframe tbody tr th {\n",
       "        vertical-align: top;\n",
       "    }\n",
       "\n",
       "    .dataframe thead th {\n",
       "        text-align: right;\n",
       "    }\n",
       "</style>\n",
       "<table border=\"1\" class=\"dataframe\">\n",
       "  <thead>\n",
       "    <tr style=\"text-align: right;\">\n",
       "      <th></th>\n",
       "      <th>#</th>\n",
       "      <th>Name</th>\n",
       "      <th>Type 1</th>\n",
       "    </tr>\n",
       "  </thead>\n",
       "  <tbody>\n",
       "    <tr>\n",
       "      <th>4</th>\n",
       "      <td>4</td>\n",
       "      <td>Charmander</td>\n",
       "      <td>Fire</td>\n",
       "    </tr>\n",
       "    <tr>\n",
       "      <th>5</th>\n",
       "      <td>5</td>\n",
       "      <td>Charmeleon</td>\n",
       "      <td>Fire</td>\n",
       "    </tr>\n",
       "    <tr>\n",
       "      <th>6</th>\n",
       "      <td>6</td>\n",
       "      <td>Charizard</td>\n",
       "      <td>Fire</td>\n",
       "    </tr>\n",
       "  </tbody>\n",
       "</table>\n",
       "</div>"
      ],
      "text/plain": [
       "   #        Name Type 1\n",
       "4  4  Charmander   Fire\n",
       "5  5  Charmeleon   Fire\n",
       "6  6   Charizard   Fire"
      ]
     },
     "execution_count": 5,
     "metadata": {},
     "output_type": "execute_result"
    }
   ],
   "source": [
    "\"\"\"loc + where condition\n",
    "df.loc[(c1)&(c2)&(c3)....,['col1','col2']]\n",
    "1.each condition needs to be bracketed\n",
    "2.use []=='string', but not =, '=' means assign to \n",
    "\n",
    "\"\"\"\n",
    "r2=df_csv.loc[(df_csv['#'].between(3,30)) & (df_csv['Type 1']=='Fire'),['#','Name','Type 1']]\n",
    "r2.head(3)"
   ]
  },
  {
   "cell_type": "code",
   "execution_count": 6,
   "id": "e1fea2fd",
   "metadata": {},
   "outputs": [
    {
     "data": {
      "text/html": [
       "<div>\n",
       "<style scoped>\n",
       "    .dataframe tbody tr th:only-of-type {\n",
       "        vertical-align: middle;\n",
       "    }\n",
       "\n",
       "    .dataframe tbody tr th {\n",
       "        vertical-align: top;\n",
       "    }\n",
       "\n",
       "    .dataframe thead th {\n",
       "        text-align: right;\n",
       "    }\n",
       "</style>\n",
       "<table border=\"1\" class=\"dataframe\">\n",
       "  <thead>\n",
       "    <tr style=\"text-align: right;\">\n",
       "      <th></th>\n",
       "      <th>#</th>\n",
       "      <th>Name</th>\n",
       "      <th>Type 1</th>\n",
       "      <th>Speed</th>\n",
       "    </tr>\n",
       "  </thead>\n",
       "  <tbody>\n",
       "    <tr>\n",
       "      <th>4</th>\n",
       "      <td>4</td>\n",
       "      <td>Charmander</td>\n",
       "      <td>Fire</td>\n",
       "      <td>65</td>\n",
       "    </tr>\n",
       "    <tr>\n",
       "      <th>5</th>\n",
       "      <td>5</td>\n",
       "      <td>Charmeleon</td>\n",
       "      <td>Fire</td>\n",
       "      <td>80</td>\n",
       "    </tr>\n",
       "    <tr>\n",
       "      <th>6</th>\n",
       "      <td>6</td>\n",
       "      <td>Charizard</td>\n",
       "      <td>Fire</td>\n",
       "      <td>100</td>\n",
       "    </tr>\n",
       "    <tr>\n",
       "      <th>7</th>\n",
       "      <td>6</td>\n",
       "      <td>CharizardMega Charizard X</td>\n",
       "      <td>Fire</td>\n",
       "      <td>100</td>\n",
       "    </tr>\n",
       "    <tr>\n",
       "      <th>8</th>\n",
       "      <td>6</td>\n",
       "      <td>CharizardMega Charizard Y</td>\n",
       "      <td>Fire</td>\n",
       "      <td>100</td>\n",
       "    </tr>\n",
       "    <tr>\n",
       "      <th>315</th>\n",
       "      <td>291</td>\n",
       "      <td>Ninjask</td>\n",
       "      <td>Bug</td>\n",
       "      <td>160</td>\n",
       "    </tr>\n",
       "    <tr>\n",
       "      <th>431</th>\n",
       "      <td>386</td>\n",
       "      <td>DeoxysSpeed Forme</td>\n",
       "      <td>Psychic</td>\n",
       "      <td>180</td>\n",
       "    </tr>\n",
       "  </tbody>\n",
       "</table>\n",
       "</div>"
      ],
      "text/plain": [
       "       #                       Name   Type 1  Speed\n",
       "4      4                 Charmander     Fire     65\n",
       "5      5                 Charmeleon     Fire     80\n",
       "6      6                  Charizard     Fire    100\n",
       "7      6  CharizardMega Charizard X     Fire    100\n",
       "8      6  CharizardMega Charizard Y     Fire    100\n",
       "315  291                    Ninjask      Bug    160\n",
       "431  386          DeoxysSpeed Forme  Psychic    180"
      ]
     },
     "execution_count": 6,
     "metadata": {},
     "output_type": "execute_result"
    }
   ],
   "source": [
    "r3=df_csv.loc[((df_csv['#'].between(3,30)) & (df_csv['Type 1']=='Fire'))|(df_csv['Speed']>150),\n",
    "              ['#','Name','Type 1','Speed']]\n",
    "r3"
   ]
  },
  {
   "cell_type": "code",
   "execution_count": 7,
   "id": "1e24c0d3",
   "metadata": {},
   "outputs": [
    {
     "data": {
      "text/html": [
       "<div>\n",
       "<style scoped>\n",
       "    .dataframe tbody tr th:only-of-type {\n",
       "        vertical-align: middle;\n",
       "    }\n",
       "\n",
       "    .dataframe tbody tr th {\n",
       "        vertical-align: top;\n",
       "    }\n",
       "\n",
       "    .dataframe thead th {\n",
       "        text-align: right;\n",
       "    }\n",
       "</style>\n",
       "<table border=\"1\" class=\"dataframe\">\n",
       "  <thead>\n",
       "    <tr style=\"text-align: right;\">\n",
       "      <th></th>\n",
       "      <th>Name</th>\n",
       "      <th>#</th>\n",
       "      <th>Attack</th>\n",
       "      <th>Type 1</th>\n",
       "    </tr>\n",
       "  </thead>\n",
       "  <tbody>\n",
       "    <tr>\n",
       "      <th>33</th>\n",
       "      <td>Sandslash</td>\n",
       "      <td>28</td>\n",
       "      <td>100</td>\n",
       "      <td>Ground</td>\n",
       "    </tr>\n",
       "    <tr>\n",
       "      <th>84</th>\n",
       "      <td>Rapidash</td>\n",
       "      <td>78</td>\n",
       "      <td>100</td>\n",
       "      <td>Fire</td>\n",
       "    </tr>\n",
       "    <tr>\n",
       "      <th>124</th>\n",
       "      <td>KangaskhanMega Kangaskhan</td>\n",
       "      <td>115</td>\n",
       "      <td>125</td>\n",
       "      <td>Normal</td>\n",
       "    </tr>\n",
       "  </tbody>\n",
       "</table>\n",
       "</div>"
      ],
      "text/plain": [
       "                          Name    #  Attack  Type 1\n",
       "33                   Sandslash   28     100  Ground\n",
       "84                    Rapidash   78     100    Fire\n",
       "124  KangaskhanMega Kangaskhan  115     125  Normal"
      ]
     },
     "execution_count": 7,
     "metadata": {},
     "output_type": "execute_result"
    }
   ],
   "source": [
    "\"\"\"more advaced query \n",
    "1.df[].str.contain('A|B') # like\n",
    "2.~df[].str.contain('A|B')\n",
    "3.join\n",
    "\"\"\"\n",
    "r4=df_csv.loc[(df_csv['#'].between(20,120)) & (df_csv['Attack']>=100) & (df_csv['Name'].str.contains('s')),\n",
    "              ['Name','#','Attack','Type 1']]\n",
    "r4"
   ]
  },
  {
   "cell_type": "code",
   "execution_count": null,
   "id": "a3a9099e",
   "metadata": {},
   "outputs": [],
   "source": [
    "#add new columns base on conditon\n",
    "df['Is_eligible'] = np.where(df['Age'] >= 18, True, False)"
   ]
  },
  {
   "cell_type": "markdown",
   "id": "a2fb6d12",
   "metadata": {},
   "source": [
    "### chapter 11.3 sorting DF"
   ]
  },
  {
   "cell_type": "raw",
   "id": "08644a2e",
   "metadata": {},
   "source": [
    "\"\"\"sorting \n",
    "DataFrame.sort_values(by, axis=0, ascending=True, inplace=False, kind='quicksort',\n",
    "                     na_position='last', ignore_index=False, key=None)[source]\n",
    "\"\"\"\n",
    "ref:df.sort_values(by=['Brand'], inplace=True, ascending=False)"
   ]
  },
  {
   "cell_type": "code",
   "execution_count": null,
   "id": "ad0c7cc4",
   "metadata": {},
   "outputs": [],
   "source": [
    "#example: sort many cols\n",
    "df.sort(['a', 'b'], ascending=[True, False]) #or use 0,1"
   ]
  },
  {
   "cell_type": "code",
   "execution_count": 8,
   "id": "6eb644ee",
   "metadata": {},
   "outputs": [
    {
     "data": {
      "text/html": [
       "<div>\n",
       "<style scoped>\n",
       "    .dataframe tbody tr th:only-of-type {\n",
       "        vertical-align: middle;\n",
       "    }\n",
       "\n",
       "    .dataframe tbody tr th {\n",
       "        vertical-align: top;\n",
       "    }\n",
       "\n",
       "    .dataframe thead th {\n",
       "        text-align: right;\n",
       "    }\n",
       "</style>\n",
       "<table border=\"1\" class=\"dataframe\">\n",
       "  <thead>\n",
       "    <tr style=\"text-align: right;\">\n",
       "      <th></th>\n",
       "      <th>#</th>\n",
       "      <th>Name</th>\n",
       "      <th>Type 1</th>\n",
       "      <th>HP</th>\n",
       "      <th>Attack</th>\n",
       "    </tr>\n",
       "  </thead>\n",
       "  <tbody>\n",
       "    <tr>\n",
       "      <th>108</th>\n",
       "      <td>100</td>\n",
       "      <td>Voltorb</td>\n",
       "      <td>Electric</td>\n",
       "      <td>40</td>\n",
       "      <td>30</td>\n",
       "    </tr>\n",
       "    <tr>\n",
       "      <th>107</th>\n",
       "      <td>99</td>\n",
       "      <td>Kingler</td>\n",
       "      <td>Water</td>\n",
       "      <td>55</td>\n",
       "      <td>130</td>\n",
       "    </tr>\n",
       "    <tr>\n",
       "      <th>106</th>\n",
       "      <td>98</td>\n",
       "      <td>Krabby</td>\n",
       "      <td>Water</td>\n",
       "      <td>30</td>\n",
       "      <td>105</td>\n",
       "    </tr>\n",
       "    <tr>\n",
       "      <th>105</th>\n",
       "      <td>97</td>\n",
       "      <td>Hypno</td>\n",
       "      <td>Psychic</td>\n",
       "      <td>85</td>\n",
       "      <td>73</td>\n",
       "    </tr>\n",
       "    <tr>\n",
       "      <th>104</th>\n",
       "      <td>96</td>\n",
       "      <td>Drowzee</td>\n",
       "      <td>Psychic</td>\n",
       "      <td>60</td>\n",
       "      <td>48</td>\n",
       "    </tr>\n",
       "  </tbody>\n",
       "</table>\n",
       "</div>"
      ],
      "text/plain": [
       "       #     Name    Type 1  HP  Attack\n",
       "108  100  Voltorb  Electric  40      30\n",
       "107   99  Kingler     Water  55     130\n",
       "106   98   Krabby     Water  30     105\n",
       "105   97    Hypno   Psychic  85      73\n",
       "104   96  Drowzee   Psychic  60      48"
      ]
     },
     "execution_count": 8,
     "metadata": {},
     "output_type": "execute_result"
    }
   ],
   "source": [
    "r5=df_csv.loc[df_csv['#'].between(50,100),['#','Name','Type 1','HP','Attack']]\n",
    "r5.sort_values(by=['#'],inplace=True,ascending=False)\n",
    "r5.head(5)"
   ]
  },
  {
   "cell_type": "code",
   "execution_count": 9,
   "id": "c02cbb07",
   "metadata": {},
   "outputs": [
    {
     "data": {
      "text/html": [
       "<div>\n",
       "<style scoped>\n",
       "    .dataframe tbody tr th:only-of-type {\n",
       "        vertical-align: middle;\n",
       "    }\n",
       "\n",
       "    .dataframe tbody tr th {\n",
       "        vertical-align: top;\n",
       "    }\n",
       "\n",
       "    .dataframe thead th {\n",
       "        text-align: right;\n",
       "    }\n",
       "</style>\n",
       "<table border=\"1\" class=\"dataframe\">\n",
       "  <thead>\n",
       "    <tr style=\"text-align: right;\">\n",
       "      <th></th>\n",
       "      <th>name</th>\n",
       "      <th>region</th>\n",
       "      <th>sales</th>\n",
       "      <th>expenses</th>\n",
       "    </tr>\n",
       "  </thead>\n",
       "  <tbody>\n",
       "    <tr>\n",
       "      <th>0</th>\n",
       "      <td>William</td>\n",
       "      <td>East</td>\n",
       "      <td>50000</td>\n",
       "      <td>42000</td>\n",
       "    </tr>\n",
       "    <tr>\n",
       "      <th>1</th>\n",
       "      <td>Emma</td>\n",
       "      <td>North</td>\n",
       "      <td>52000</td>\n",
       "      <td>43000</td>\n",
       "    </tr>\n",
       "    <tr>\n",
       "      <th>2</th>\n",
       "      <td>Sofia</td>\n",
       "      <td>East</td>\n",
       "      <td>90000</td>\n",
       "      <td>50000</td>\n",
       "    </tr>\n",
       "    <tr>\n",
       "      <th>3</th>\n",
       "      <td>Markus</td>\n",
       "      <td>South</td>\n",
       "      <td>34000</td>\n",
       "      <td>44000</td>\n",
       "    </tr>\n",
       "    <tr>\n",
       "      <th>4</th>\n",
       "      <td>Edward</td>\n",
       "      <td>West</td>\n",
       "      <td>42000</td>\n",
       "      <td>38000</td>\n",
       "    </tr>\n",
       "    <tr>\n",
       "      <th>5</th>\n",
       "      <td>Thomas</td>\n",
       "      <td>West</td>\n",
       "      <td>72000</td>\n",
       "      <td>39000</td>\n",
       "    </tr>\n",
       "    <tr>\n",
       "      <th>6</th>\n",
       "      <td>Ethan</td>\n",
       "      <td>South</td>\n",
       "      <td>49000</td>\n",
       "      <td>42000</td>\n",
       "    </tr>\n",
       "    <tr>\n",
       "      <th>7</th>\n",
       "      <td>Olivia</td>\n",
       "      <td>West</td>\n",
       "      <td>55000</td>\n",
       "      <td>60000</td>\n",
       "    </tr>\n",
       "    <tr>\n",
       "      <th>8</th>\n",
       "      <td>Arun</td>\n",
       "      <td>West</td>\n",
       "      <td>67000</td>\n",
       "      <td>39000</td>\n",
       "    </tr>\n",
       "    <tr>\n",
       "      <th>9</th>\n",
       "      <td>Anika</td>\n",
       "      <td>East</td>\n",
       "      <td>65000</td>\n",
       "      <td>44000</td>\n",
       "    </tr>\n",
       "    <tr>\n",
       "      <th>10</th>\n",
       "      <td>Paulo</td>\n",
       "      <td>South</td>\n",
       "      <td>67000</td>\n",
       "      <td>45000</td>\n",
       "    </tr>\n",
       "  </tbody>\n",
       "</table>\n",
       "</div>"
      ],
      "text/plain": [
       "       name region  sales  expenses\n",
       "0   William   East  50000     42000\n",
       "1      Emma  North  52000     43000\n",
       "2     Sofia   East  90000     50000\n",
       "3    Markus  South  34000     44000\n",
       "4    Edward   West  42000     38000\n",
       "5    Thomas   West  72000     39000\n",
       "6     Ethan  South  49000     42000\n",
       "7    Olivia   West  55000     60000\n",
       "8      Arun   West  67000     39000\n",
       "9     Anika   East  65000     44000\n",
       "10    Paulo  South  67000     45000"
      ]
     },
     "execution_count": 9,
     "metadata": {},
     "output_type": "execute_result"
    }
   ],
   "source": [
    "sales_data = pd.DataFrame({\"name\":[\"William\",\"Emma\",\"Sofia\",\"Markus\",\"Edward\",\"Thomas\",\"Ethan\",\"Olivia\",\"Arun\",\"Anika\",\"Paulo\"]\n",
    ",\"region\":[\"East\",\"North\",\"East\",\"South\",\"West\",\"West\",\"South\",\"West\",\"West\",\"East\",\"South\"]\n",
    ",\"sales\":[50000,52000,90000,34000,42000,72000,49000,55000,67000,65000,67000]\n",
    ",\"expenses\":[42000,43000,50000,44000,38000,39000,42000,60000,39000,44000,45000]})\n",
    "sales_data"
   ]
  },
  {
   "cell_type": "code",
   "execution_count": 10,
   "id": "5210321f",
   "metadata": {},
   "outputs": [
    {
     "data": {
      "text/html": [
       "<div>\n",
       "<style scoped>\n",
       "    .dataframe tbody tr th:only-of-type {\n",
       "        vertical-align: middle;\n",
       "    }\n",
       "\n",
       "    .dataframe tbody tr th {\n",
       "        vertical-align: top;\n",
       "    }\n",
       "\n",
       "    .dataframe thead th {\n",
       "        text-align: right;\n",
       "    }\n",
       "</style>\n",
       "<table border=\"1\" class=\"dataframe\">\n",
       "  <thead>\n",
       "    <tr style=\"text-align: right;\">\n",
       "      <th></th>\n",
       "      <th>name</th>\n",
       "      <th>region</th>\n",
       "      <th>sales</th>\n",
       "      <th>expenses</th>\n",
       "    </tr>\n",
       "  </thead>\n",
       "  <tbody>\n",
       "    <tr>\n",
       "      <th>2</th>\n",
       "      <td>Sofia</td>\n",
       "      <td>East</td>\n",
       "      <td>90000</td>\n",
       "      <td>50000</td>\n",
       "    </tr>\n",
       "    <tr>\n",
       "      <th>5</th>\n",
       "      <td>Thomas</td>\n",
       "      <td>West</td>\n",
       "      <td>72000</td>\n",
       "      <td>39000</td>\n",
       "    </tr>\n",
       "    <tr>\n",
       "      <th>8</th>\n",
       "      <td>Arun</td>\n",
       "      <td>West</td>\n",
       "      <td>67000</td>\n",
       "      <td>39000</td>\n",
       "    </tr>\n",
       "    <tr>\n",
       "      <th>10</th>\n",
       "      <td>Paulo</td>\n",
       "      <td>South</td>\n",
       "      <td>67000</td>\n",
       "      <td>45000</td>\n",
       "    </tr>\n",
       "    <tr>\n",
       "      <th>9</th>\n",
       "      <td>Anika</td>\n",
       "      <td>East</td>\n",
       "      <td>65000</td>\n",
       "      <td>44000</td>\n",
       "    </tr>\n",
       "    <tr>\n",
       "      <th>7</th>\n",
       "      <td>Olivia</td>\n",
       "      <td>West</td>\n",
       "      <td>55000</td>\n",
       "      <td>60000</td>\n",
       "    </tr>\n",
       "    <tr>\n",
       "      <th>1</th>\n",
       "      <td>Emma</td>\n",
       "      <td>North</td>\n",
       "      <td>52000</td>\n",
       "      <td>43000</td>\n",
       "    </tr>\n",
       "    <tr>\n",
       "      <th>0</th>\n",
       "      <td>William</td>\n",
       "      <td>East</td>\n",
       "      <td>50000</td>\n",
       "      <td>42000</td>\n",
       "    </tr>\n",
       "    <tr>\n",
       "      <th>6</th>\n",
       "      <td>Ethan</td>\n",
       "      <td>South</td>\n",
       "      <td>49000</td>\n",
       "      <td>42000</td>\n",
       "    </tr>\n",
       "    <tr>\n",
       "      <th>4</th>\n",
       "      <td>Edward</td>\n",
       "      <td>West</td>\n",
       "      <td>42000</td>\n",
       "      <td>38000</td>\n",
       "    </tr>\n",
       "    <tr>\n",
       "      <th>3</th>\n",
       "      <td>Markus</td>\n",
       "      <td>South</td>\n",
       "      <td>34000</td>\n",
       "      <td>44000</td>\n",
       "    </tr>\n",
       "  </tbody>\n",
       "</table>\n",
       "</div>"
      ],
      "text/plain": [
       "       name region  sales  expenses\n",
       "2     Sofia   East  90000     50000\n",
       "5    Thomas   West  72000     39000\n",
       "8      Arun   West  67000     39000\n",
       "10    Paulo  South  67000     45000\n",
       "9     Anika   East  65000     44000\n",
       "7    Olivia   West  55000     60000\n",
       "1      Emma  North  52000     43000\n",
       "0   William   East  50000     42000\n",
       "6     Ethan  South  49000     42000\n",
       "4    Edward   West  42000     38000\n",
       "3    Markus  South  34000     44000"
      ]
     },
     "execution_count": 10,
     "metadata": {},
     "output_type": "execute_result"
    }
   ],
   "source": [
    "sales_data.sort_values(by=['sales','expenses'],inplace=True,ascending=[False,True])\n",
    "sales_data"
   ]
  },
  {
   "cell_type": "markdown",
   "id": "5567b197",
   "metadata": {},
   "source": [
    "### 11.5 custom ordering"
   ]
  },
  {
   "cell_type": "code",
   "execution_count": 12,
   "id": "c70f5759",
   "metadata": {
    "scrolled": true
   },
   "outputs": [
    {
     "data": {
      "text/html": [
       "<div>\n",
       "<style scoped>\n",
       "    .dataframe tbody tr th:only-of-type {\n",
       "        vertical-align: middle;\n",
       "    }\n",
       "\n",
       "    .dataframe tbody tr th {\n",
       "        vertical-align: top;\n",
       "    }\n",
       "\n",
       "    .dataframe thead th {\n",
       "        text-align: right;\n",
       "    }\n",
       "</style>\n",
       "<table border=\"1\" class=\"dataframe\">\n",
       "  <thead>\n",
       "    <tr style=\"text-align: right;\">\n",
       "      <th></th>\n",
       "      <th>Name</th>\n",
       "      <th>#</th>\n",
       "      <th>HP</th>\n",
       "      <th>Type 1</th>\n",
       "    </tr>\n",
       "  </thead>\n",
       "  <tbody>\n",
       "    <tr>\n",
       "      <th>30</th>\n",
       "      <td>Pikachu</td>\n",
       "      <td>25</td>\n",
       "      <td>35</td>\n",
       "      <td>Electric</td>\n",
       "    </tr>\n",
       "    <tr>\n",
       "      <th>31</th>\n",
       "      <td>Raichu</td>\n",
       "      <td>26</td>\n",
       "      <td>60</td>\n",
       "      <td>Electric</td>\n",
       "    </tr>\n",
       "    <tr>\n",
       "      <th>32</th>\n",
       "      <td>Sandshrew</td>\n",
       "      <td>27</td>\n",
       "      <td>50</td>\n",
       "      <td>Ground</td>\n",
       "    </tr>\n",
       "    <tr>\n",
       "      <th>33</th>\n",
       "      <td>Sandslash</td>\n",
       "      <td>28</td>\n",
       "      <td>75</td>\n",
       "      <td>Ground</td>\n",
       "    </tr>\n",
       "    <tr>\n",
       "      <th>34</th>\n",
       "      <td>Nidoran (Female)</td>\n",
       "      <td>29</td>\n",
       "      <td>55</td>\n",
       "      <td>Poison</td>\n",
       "    </tr>\n",
       "  </tbody>\n",
       "</table>\n",
       "</div>"
      ],
      "text/plain": [
       "                Name   #  HP    Type 1\n",
       "30           Pikachu  25  35  Electric\n",
       "31            Raichu  26  60  Electric\n",
       "32         Sandshrew  27  50    Ground\n",
       "33         Sandslash  28  75    Ground\n",
       "34  Nidoran (Female)  29  55    Poison"
      ]
     },
     "execution_count": 12,
     "metadata": {},
     "output_type": "execute_result"
    }
   ],
   "source": [
    "#try to sorting by type 1\n",
    "r6=df_csv.loc[df_csv['#'].between(25,100),['Name','#','HP','Type 1']]\n",
    "r6.head()"
   ]
  },
  {
   "cell_type": "code",
   "execution_count": 14,
   "id": "d0e55961",
   "metadata": {},
   "outputs": [
    {
     "data": {
      "text/plain": [
       "array(['Grass', 'Fire', 'Water', 'Bug', 'Normal', 'Poison', 'Electric',\n",
       "       'Ground', 'Fairy', 'Fighting', 'Psychic', 'Rock', 'Ghost', 'Ice',\n",
       "       'Dragon', 'Dark', 'Steel', 'Flying'], dtype=object)"
      ]
     },
     "execution_count": 14,
     "metadata": {},
     "output_type": "execute_result"
    }
   ],
   "source": [
    "#find distinct value of a column, \n",
    "#sort by this custom cols value\n",
    "df_csv['Type 1'].unique()"
   ]
  },
  {
   "cell_type": "raw",
   "id": "3f50a9a0",
   "metadata": {},
   "source": [
    "pandas not equal to list of values\n",
    "df[~df['column_name'].isin(['value_1', 'value_2'])] \n",
    "\n",
    "#failed\n",
    "r6['Type 1']!=('Water','Normal','Grass') "
   ]
  },
  {
   "cell_type": "code",
   "execution_count": 58,
   "id": "4a0567eb",
   "metadata": {},
   "outputs": [
    {
     "data": {
      "text/html": [
       "<div>\n",
       "<style scoped>\n",
       "    .dataframe tbody tr th:only-of-type {\n",
       "        vertical-align: middle;\n",
       "    }\n",
       "\n",
       "    .dataframe tbody tr th {\n",
       "        vertical-align: top;\n",
       "    }\n",
       "\n",
       "    .dataframe thead th {\n",
       "        text-align: right;\n",
       "    }\n",
       "</style>\n",
       "<table border=\"1\" class=\"dataframe\">\n",
       "  <thead>\n",
       "    <tr style=\"text-align: right;\">\n",
       "      <th></th>\n",
       "      <th>Name</th>\n",
       "      <th>#</th>\n",
       "      <th>HP</th>\n",
       "      <th>Type 1</th>\n",
       "      <th>order</th>\n",
       "    </tr>\n",
       "  </thead>\n",
       "  <tbody>\n",
       "    <tr>\n",
       "      <th>30</th>\n",
       "      <td>Pikachu</td>\n",
       "      <td>25</td>\n",
       "      <td>35</td>\n",
       "      <td>Electric</td>\n",
       "      <td>4</td>\n",
       "    </tr>\n",
       "    <tr>\n",
       "      <th>31</th>\n",
       "      <td>Raichu</td>\n",
       "      <td>26</td>\n",
       "      <td>60</td>\n",
       "      <td>Electric</td>\n",
       "      <td>4</td>\n",
       "    </tr>\n",
       "    <tr>\n",
       "      <th>32</th>\n",
       "      <td>Sandshrew</td>\n",
       "      <td>27</td>\n",
       "      <td>50</td>\n",
       "      <td>Ground</td>\n",
       "      <td>4</td>\n",
       "    </tr>\n",
       "    <tr>\n",
       "      <th>33</th>\n",
       "      <td>Sandslash</td>\n",
       "      <td>28</td>\n",
       "      <td>75</td>\n",
       "      <td>Ground</td>\n",
       "      <td>4</td>\n",
       "    </tr>\n",
       "    <tr>\n",
       "      <th>34</th>\n",
       "      <td>Nidoran (Female)</td>\n",
       "      <td>29</td>\n",
       "      <td>55</td>\n",
       "      <td>Poison</td>\n",
       "      <td>4</td>\n",
       "    </tr>\n",
       "    <tr>\n",
       "      <th>...</th>\n",
       "      <td>...</td>\n",
       "      <td>...</td>\n",
       "      <td>...</td>\n",
       "      <td>...</td>\n",
       "      <td>...</td>\n",
       "    </tr>\n",
       "    <tr>\n",
       "      <th>104</th>\n",
       "      <td>Drowzee</td>\n",
       "      <td>96</td>\n",
       "      <td>60</td>\n",
       "      <td>Psychic</td>\n",
       "      <td>4</td>\n",
       "    </tr>\n",
       "    <tr>\n",
       "      <th>105</th>\n",
       "      <td>Hypno</td>\n",
       "      <td>97</td>\n",
       "      <td>85</td>\n",
       "      <td>Psychic</td>\n",
       "      <td>4</td>\n",
       "    </tr>\n",
       "    <tr>\n",
       "      <th>106</th>\n",
       "      <td>Krabby</td>\n",
       "      <td>98</td>\n",
       "      <td>30</td>\n",
       "      <td>Water</td>\n",
       "      <td>1</td>\n",
       "    </tr>\n",
       "    <tr>\n",
       "      <th>107</th>\n",
       "      <td>Kingler</td>\n",
       "      <td>99</td>\n",
       "      <td>55</td>\n",
       "      <td>Water</td>\n",
       "      <td>1</td>\n",
       "    </tr>\n",
       "    <tr>\n",
       "      <th>108</th>\n",
       "      <td>Voltorb</td>\n",
       "      <td>100</td>\n",
       "      <td>40</td>\n",
       "      <td>Electric</td>\n",
       "      <td>4</td>\n",
       "    </tr>\n",
       "  </tbody>\n",
       "</table>\n",
       "<p>79 rows × 5 columns</p>\n",
       "</div>"
      ],
      "text/plain": [
       "                 Name    #  HP    Type 1  order\n",
       "30            Pikachu   25  35  Electric      4\n",
       "31             Raichu   26  60  Electric      4\n",
       "32          Sandshrew   27  50    Ground      4\n",
       "33          Sandslash   28  75    Ground      4\n",
       "34   Nidoran (Female)   29  55    Poison      4\n",
       "..                ...  ...  ..       ...    ...\n",
       "104           Drowzee   96  60   Psychic      4\n",
       "105             Hypno   97  85   Psychic      4\n",
       "106            Krabby   98  30     Water      1\n",
       "107           Kingler   99  55     Water      1\n",
       "108           Voltorb  100  40  Electric      4\n",
       "\n",
       "[79 rows x 5 columns]"
      ]
     },
     "execution_count": 58,
     "metadata": {},
     "output_type": "execute_result"
    }
   ],
   "source": [
    "\"\"\"1.map a new cols\n",
    "   2.Use CategoricalDtype Cast data to an ordered category type\n",
    "   3.As commented, in newer pandas, \n",
    "     Series has a replace method to do this more elegantly:\n",
    "     s = df['m'].replace({'March':0, 'April':1, 'Dec':3})\n",
    "     \n",
    "link: df.map() vs df.apply()\n",
    "https://zhuanlan.zhihu.com/p/100064394 \n",
    "https://chowdera.com/2020/11/20201106205416849i.html\n",
    "\"\"\"\n",
    "main=['Water','Normal','Grass']\n",
    "#link:https://www.statology.org/case-statement-pandas/\n",
    "r6['order']=np.where(r6['Type 1']=='Water',1,\n",
    "                     np.where(r6['Type 1']=='Normal',2,\n",
    "                     np.where(r6['Type 1']=='Grass',3,\n",
    "                     4    #mean not in  3 above \n",
    "                                 )))\n",
    "r6"
   ]
  },
  {
   "cell_type": "code",
   "execution_count": 59,
   "id": "6648b328",
   "metadata": {},
   "outputs": [
    {
     "data": {
      "text/html": [
       "<div>\n",
       "<style scoped>\n",
       "    .dataframe tbody tr th:only-of-type {\n",
       "        vertical-align: middle;\n",
       "    }\n",
       "\n",
       "    .dataframe tbody tr th {\n",
       "        vertical-align: top;\n",
       "    }\n",
       "\n",
       "    .dataframe thead th {\n",
       "        text-align: right;\n",
       "    }\n",
       "</style>\n",
       "<table border=\"1\" class=\"dataframe\">\n",
       "  <thead>\n",
       "    <tr style=\"text-align: right;\">\n",
       "      <th></th>\n",
       "      <th>Name</th>\n",
       "      <th>#</th>\n",
       "      <th>HP</th>\n",
       "      <th>Type 1</th>\n",
       "      <th>order</th>\n",
       "    </tr>\n",
       "  </thead>\n",
       "  <tbody>\n",
       "    <tr>\n",
       "      <th>98</th>\n",
       "      <td>Cloyster</td>\n",
       "      <td>91</td>\n",
       "      <td>50</td>\n",
       "      <td>Water</td>\n",
       "      <td>1</td>\n",
       "    </tr>\n",
       "    <tr>\n",
       "      <th>94</th>\n",
       "      <td>Dewgong</td>\n",
       "      <td>87</td>\n",
       "      <td>90</td>\n",
       "      <td>Water</td>\n",
       "      <td>1</td>\n",
       "    </tr>\n",
       "    <tr>\n",
       "      <th>60</th>\n",
       "      <td>Golduck</td>\n",
       "      <td>55</td>\n",
       "      <td>80</td>\n",
       "      <td>Water</td>\n",
       "      <td>1</td>\n",
       "    </tr>\n",
       "    <tr>\n",
       "      <th>107</th>\n",
       "      <td>Kingler</td>\n",
       "      <td>99</td>\n",
       "      <td>55</td>\n",
       "      <td>Water</td>\n",
       "      <td>1</td>\n",
       "    </tr>\n",
       "    <tr>\n",
       "      <th>106</th>\n",
       "      <td>Krabby</td>\n",
       "      <td>98</td>\n",
       "      <td>30</td>\n",
       "      <td>Water</td>\n",
       "      <td>1</td>\n",
       "    </tr>\n",
       "    <tr>\n",
       "      <th>...</th>\n",
       "      <td>...</td>\n",
       "      <td>...</td>\n",
       "      <td>...</td>\n",
       "      <td>...</td>\n",
       "      <td>...</td>\n",
       "    </tr>\n",
       "    <tr>\n",
       "      <th>54</th>\n",
       "      <td>Venomoth</td>\n",
       "      <td>49</td>\n",
       "      <td>70</td>\n",
       "      <td>Bug</td>\n",
       "      <td>4</td>\n",
       "    </tr>\n",
       "    <tr>\n",
       "      <th>53</th>\n",
       "      <td>Venonat</td>\n",
       "      <td>48</td>\n",
       "      <td>60</td>\n",
       "      <td>Bug</td>\n",
       "      <td>4</td>\n",
       "    </tr>\n",
       "    <tr>\n",
       "      <th>108</th>\n",
       "      <td>Voltorb</td>\n",
       "      <td>100</td>\n",
       "      <td>40</td>\n",
       "      <td>Electric</td>\n",
       "      <td>4</td>\n",
       "    </tr>\n",
       "    <tr>\n",
       "      <th>42</th>\n",
       "      <td>Vulpix</td>\n",
       "      <td>37</td>\n",
       "      <td>38</td>\n",
       "      <td>Fire</td>\n",
       "      <td>4</td>\n",
       "    </tr>\n",
       "    <tr>\n",
       "      <th>46</th>\n",
       "      <td>Zubat</td>\n",
       "      <td>41</td>\n",
       "      <td>40</td>\n",
       "      <td>Poison</td>\n",
       "      <td>4</td>\n",
       "    </tr>\n",
       "  </tbody>\n",
       "</table>\n",
       "<p>79 rows × 5 columns</p>\n",
       "</div>"
      ],
      "text/plain": [
       "         Name    #  HP    Type 1  order\n",
       "98   Cloyster   91  50     Water      1\n",
       "94    Dewgong   87  90     Water      1\n",
       "60    Golduck   55  80     Water      1\n",
       "107   Kingler   99  55     Water      1\n",
       "106    Krabby   98  30     Water      1\n",
       "..        ...  ...  ..       ...    ...\n",
       "54   Venomoth   49  70       Bug      4\n",
       "53    Venonat   48  60       Bug      4\n",
       "108   Voltorb  100  40  Electric      4\n",
       "42     Vulpix   37  38      Fire      4\n",
       "46      Zubat   41  40    Poison      4\n",
       "\n",
       "[79 rows x 5 columns]"
      ]
     },
     "execution_count": 59,
     "metadata": {},
     "output_type": "execute_result"
    }
   ],
   "source": [
    "r6.sort_values(by=['order','Name'],inplace=True,ascending=[True,True])\n",
    "r6"
   ]
  },
  {
   "cell_type": "code",
   "execution_count": 69,
   "id": "8818a7e9",
   "metadata": {},
   "outputs": [
    {
     "data": {
      "text/html": [
       "<div>\n",
       "<style scoped>\n",
       "    .dataframe tbody tr th:only-of-type {\n",
       "        vertical-align: middle;\n",
       "    }\n",
       "\n",
       "    .dataframe tbody tr th {\n",
       "        vertical-align: top;\n",
       "    }\n",
       "\n",
       "    .dataframe thead th {\n",
       "        text-align: right;\n",
       "    }\n",
       "</style>\n",
       "<table border=\"1\" class=\"dataframe\">\n",
       "  <thead>\n",
       "    <tr style=\"text-align: right;\">\n",
       "      <th></th>\n",
       "      <th>Name</th>\n",
       "      <th>#</th>\n",
       "      <th>Type 1</th>\n",
       "    </tr>\n",
       "  </thead>\n",
       "  <tbody>\n",
       "    <tr>\n",
       "      <th>98</th>\n",
       "      <td>Cloyster</td>\n",
       "      <td>91</td>\n",
       "      <td>Water</td>\n",
       "    </tr>\n",
       "    <tr>\n",
       "      <th>94</th>\n",
       "      <td>Dewgong</td>\n",
       "      <td>87</td>\n",
       "      <td>Water</td>\n",
       "    </tr>\n",
       "    <tr>\n",
       "      <th>60</th>\n",
       "      <td>Golduck</td>\n",
       "      <td>55</td>\n",
       "      <td>Water</td>\n",
       "    </tr>\n",
       "    <tr>\n",
       "      <th>107</th>\n",
       "      <td>Kingler</td>\n",
       "      <td>99</td>\n",
       "      <td>Water</td>\n",
       "    </tr>\n",
       "    <tr>\n",
       "      <th>106</th>\n",
       "      <td>Krabby</td>\n",
       "      <td>98</td>\n",
       "      <td>Water</td>\n",
       "    </tr>\n",
       "  </tbody>\n",
       "</table>\n",
       "</div>"
      ],
      "text/plain": [
       "         Name   # Type 1\n",
       "98   Cloyster  91  Water\n",
       "94    Dewgong  87  Water\n",
       "60    Golduck  55  Water\n",
       "107   Kingler  99  Water\n",
       "106    Krabby  98  Water"
      ]
     },
     "execution_count": 69,
     "metadata": {},
     "output_type": "execute_result"
    }
   ],
   "source": [
    "####show all columns execept one\n",
    "#r6.loc[:,r6.columns!='order']\n",
    "\n",
    "#not show some columbs\n",
    "#df.loc[:, ~df.columns.isin(['col1', 'col2'])]\n",
    "r6.loc[:,~r6.columns.isin(['order','HP'])].head()"
   ]
  },
  {
   "cell_type": "markdown",
   "id": "e883fba2",
   "metadata": {},
   "source": [
    "### 11.5.2 :create a ordering function"
   ]
  },
  {
   "cell_type": "raw",
   "id": "1412de26",
   "metadata": {},
   "source": [
    "if row A == B: 0\n",
    "\n",
    "if rowA > B: 1\n",
    "\n",
    "if row A < B: -1"
   ]
  },
  {
   "cell_type": "code",
   "execution_count": 68,
   "id": "09bd65f0",
   "metadata": {},
   "outputs": [
    {
     "data": {
      "text/html": [
       "<div>\n",
       "<style scoped>\n",
       "    .dataframe tbody tr th:only-of-type {\n",
       "        vertical-align: middle;\n",
       "    }\n",
       "\n",
       "    .dataframe tbody tr th {\n",
       "        vertical-align: top;\n",
       "    }\n",
       "\n",
       "    .dataframe thead th {\n",
       "        text-align: right;\n",
       "    }\n",
       "</style>\n",
       "<table border=\"1\" class=\"dataframe\">\n",
       "  <thead>\n",
       "    <tr style=\"text-align: right;\">\n",
       "      <th></th>\n",
       "      <th>A</th>\n",
       "      <th>B</th>\n",
       "    </tr>\n",
       "  </thead>\n",
       "  <tbody>\n",
       "    <tr>\n",
       "      <th>0</th>\n",
       "      <td>2</td>\n",
       "      <td>2</td>\n",
       "    </tr>\n",
       "    <tr>\n",
       "      <th>1</th>\n",
       "      <td>3</td>\n",
       "      <td>1</td>\n",
       "    </tr>\n",
       "    <tr>\n",
       "      <th>2</th>\n",
       "      <td>1</td>\n",
       "      <td>3</td>\n",
       "    </tr>\n",
       "  </tbody>\n",
       "</table>\n",
       "</div>"
      ],
      "text/plain": [
       "   A  B\n",
       "0  2  2\n",
       "1  3  1\n",
       "2  1  3"
      ]
     },
     "execution_count": 68,
     "metadata": {},
     "output_type": "execute_result"
    }
   ],
   "source": [
    "#create lists to DF\n",
    "df=pd.DataFrame({\n",
    "    'A':[2,3,1],\n",
    "    'B':[2,1,3]\n",
    "   })\n",
    "df"
   ]
  },
  {
   "cell_type": "code",
   "execution_count": 53,
   "id": "6dc5baaf",
   "metadata": {},
   "outputs": [
    {
     "data": {
      "text/html": [
       "<div>\n",
       "<style scoped>\n",
       "    .dataframe tbody tr th:only-of-type {\n",
       "        vertical-align: middle;\n",
       "    }\n",
       "\n",
       "    .dataframe tbody tr th {\n",
       "        vertical-align: top;\n",
       "    }\n",
       "\n",
       "    .dataframe thead th {\n",
       "        text-align: right;\n",
       "    }\n",
       "</style>\n",
       "<table border=\"1\" class=\"dataframe\">\n",
       "  <thead>\n",
       "    <tr style=\"text-align: right;\">\n",
       "      <th></th>\n",
       "      <th>A</th>\n",
       "      <th>B</th>\n",
       "      <th>C</th>\n",
       "    </tr>\n",
       "  </thead>\n",
       "  <tbody>\n",
       "    <tr>\n",
       "      <th>0</th>\n",
       "      <td>2</td>\n",
       "      <td>2</td>\n",
       "      <td>0</td>\n",
       "    </tr>\n",
       "    <tr>\n",
       "      <th>1</th>\n",
       "      <td>3</td>\n",
       "      <td>1</td>\n",
       "      <td>1</td>\n",
       "    </tr>\n",
       "    <tr>\n",
       "      <th>2</th>\n",
       "      <td>1</td>\n",
       "      <td>3</td>\n",
       "      <td>-1</td>\n",
       "    </tr>\n",
       "  </tbody>\n",
       "</table>\n",
       "</div>"
      ],
      "text/plain": [
       "   A  B  C\n",
       "0  2  2  0\n",
       "1  3  1  1\n",
       "2  1  3 -1"
      ]
     },
     "execution_count": 53,
     "metadata": {},
     "output_type": "execute_result"
    }
   ],
   "source": [
    "def f(row):\n",
    "    if row['A'] == row['B']:\n",
    "        val = 0\n",
    "    elif row['A'] > row['B']:\n",
    "        val = 1\n",
    "    else:\n",
    "        val = -1\n",
    "    return val\n",
    "df['C'] = df.apply(f, axis=1) #axis=1 AS diff ROW compare\n",
    "df"
   ]
  },
  {
   "cell_type": "code",
   "execution_count": 23,
   "id": "230b4f22",
   "metadata": {},
   "outputs": [],
   "source": [
    "import numpy as np"
   ]
  },
  {
   "cell_type": "code",
   "execution_count": 43,
   "id": "4d7020a0",
   "metadata": {},
   "outputs": [
    {
     "data": {
      "text/html": [
       "<div>\n",
       "<style scoped>\n",
       "    .dataframe tbody tr th:only-of-type {\n",
       "        vertical-align: middle;\n",
       "    }\n",
       "\n",
       "    .dataframe tbody tr th {\n",
       "        vertical-align: top;\n",
       "    }\n",
       "\n",
       "    .dataframe thead th {\n",
       "        text-align: right;\n",
       "    }\n",
       "</style>\n",
       "<table border=\"1\" class=\"dataframe\">\n",
       "  <thead>\n",
       "    <tr style=\"text-align: right;\">\n",
       "      <th></th>\n",
       "      <th>#</th>\n",
       "      <th>Name</th>\n",
       "      <th>Type 1</th>\n",
       "      <th>Type 2</th>\n",
       "      <th>HP</th>\n",
       "      <th>Attack</th>\n",
       "      <th>Defense</th>\n",
       "      <th>Sp. Atk</th>\n",
       "      <th>Sp. Def</th>\n",
       "      <th>Speed</th>\n",
       "      <th>Generation</th>\n",
       "      <th>Legendary</th>\n",
       "    </tr>\n",
       "  </thead>\n",
       "  <tbody>\n",
       "    <tr>\n",
       "      <th>4</th>\n",
       "      <td>4</td>\n",
       "      <td>Charmander</td>\n",
       "      <td>Fire</td>\n",
       "      <td>NaN</td>\n",
       "      <td>39</td>\n",
       "      <td>52</td>\n",
       "      <td>43</td>\n",
       "      <td>60</td>\n",
       "      <td>50</td>\n",
       "      <td>65</td>\n",
       "      <td>1</td>\n",
       "      <td>False</td>\n",
       "    </tr>\n",
       "    <tr>\n",
       "      <th>5</th>\n",
       "      <td>5</td>\n",
       "      <td>Charmeleon</td>\n",
       "      <td>Fire</td>\n",
       "      <td>NaN</td>\n",
       "      <td>58</td>\n",
       "      <td>64</td>\n",
       "      <td>58</td>\n",
       "      <td>80</td>\n",
       "      <td>65</td>\n",
       "      <td>80</td>\n",
       "      <td>1</td>\n",
       "      <td>False</td>\n",
       "    </tr>\n",
       "    <tr>\n",
       "      <th>6</th>\n",
       "      <td>6</td>\n",
       "      <td>Charizard</td>\n",
       "      <td>Fire</td>\n",
       "      <td>Flying</td>\n",
       "      <td>78</td>\n",
       "      <td>84</td>\n",
       "      <td>78</td>\n",
       "      <td>109</td>\n",
       "      <td>85</td>\n",
       "      <td>100</td>\n",
       "      <td>1</td>\n",
       "      <td>False</td>\n",
       "    </tr>\n",
       "    <tr>\n",
       "      <th>7</th>\n",
       "      <td>6</td>\n",
       "      <td>CharizardMega Charizard X</td>\n",
       "      <td>Fire</td>\n",
       "      <td>Dragon</td>\n",
       "      <td>78</td>\n",
       "      <td>130</td>\n",
       "      <td>111</td>\n",
       "      <td>130</td>\n",
       "      <td>85</td>\n",
       "      <td>100</td>\n",
       "      <td>1</td>\n",
       "      <td>False</td>\n",
       "    </tr>\n",
       "    <tr>\n",
       "      <th>8</th>\n",
       "      <td>6</td>\n",
       "      <td>CharizardMega Charizard Y</td>\n",
       "      <td>Fire</td>\n",
       "      <td>Flying</td>\n",
       "      <td>78</td>\n",
       "      <td>104</td>\n",
       "      <td>78</td>\n",
       "      <td>159</td>\n",
       "      <td>115</td>\n",
       "      <td>100</td>\n",
       "      <td>1</td>\n",
       "      <td>False</td>\n",
       "    </tr>\n",
       "    <tr>\n",
       "      <th>13</th>\n",
       "      <td>10</td>\n",
       "      <td>Caterpie</td>\n",
       "      <td>Bug</td>\n",
       "      <td>NaN</td>\n",
       "      <td>45</td>\n",
       "      <td>30</td>\n",
       "      <td>35</td>\n",
       "      <td>20</td>\n",
       "      <td>20</td>\n",
       "      <td>45</td>\n",
       "      <td>1</td>\n",
       "      <td>False</td>\n",
       "    </tr>\n",
       "  </tbody>\n",
       "</table>\n",
       "</div>"
      ],
      "text/plain": [
       "     #                       Name Type 1  Type 2  HP  Attack  Defense  \\\n",
       "4    4                 Charmander   Fire     NaN  39      52       43   \n",
       "5    5                 Charmeleon   Fire     NaN  58      64       58   \n",
       "6    6                  Charizard   Fire  Flying  78      84       78   \n",
       "7    6  CharizardMega Charizard X   Fire  Dragon  78     130      111   \n",
       "8    6  CharizardMega Charizard Y   Fire  Flying  78     104       78   \n",
       "13  10                   Caterpie    Bug     NaN  45      30       35   \n",
       "\n",
       "    Sp. Atk  Sp. Def  Speed  Generation  Legendary  \n",
       "4        60       50     65           1      False  \n",
       "5        80       65     80           1      False  \n",
       "6       109       85    100           1      False  \n",
       "7       130       85    100           1      False  \n",
       "8       159      115    100           1      False  \n",
       "13       20       20     45           1      False  "
      ]
     },
     "execution_count": 43,
     "metadata": {},
     "output_type": "execute_result"
    }
   ],
   "source": [
    "r7=df_csv.loc[(df_csv['#'].between(1,10)) & (~df_csv['Type 1'].isin(['Grass','Water']))]\n",
    "r7"
   ]
  },
  {
   "cell_type": "markdown",
   "id": "95ea6bd1",
   "metadata": {},
   "source": [
    "### chapter 13.numpy"
   ]
  },
  {
   "cell_type": "markdown",
   "id": "178fe0d6",
   "metadata": {},
   "source": [
    "### chapter 13.1： background"
   ]
  },
  {
   "cell_type": "raw",
   "id": "4b711896",
   "metadata": {},
   "source": [
    "numpy use n-dimension array to replace python list,MAIN concepts include{ ndim,shape,dtype}\n",
    "1234 :shape(4,); axis=0\n",
    "\n",
    "1234\n",
    "5678 \n",
    "shape(2,4); axis has 0,1 0:y-aixs(cols) 1:x-aix(rows)"
   ]
  },
  {
   "cell_type": "raw",
   "id": "7e742fb5",
   "metadata": {},
   "source": [
    "Q1:why use numpy???\n",
    "In Python we have lists that serve the purpose of arrays, but they are slow to process.\n",
    "NumPy aims to provide an array object that is up to 50x faster than traditional Python lists.\n",
    "The array object in NumPy is called ndarray, it provides a lot of supporting functions that make working with ndarray very easy.\n",
    "Arrays are very frequently used in data science, where speed and resources are very important.\n",
    "\n",
    "Q2:Why is NumPy Faster Than Lists?\n",
    "NumPy arrays are stored at one continuous place in memory unlike lists, so processes can access and manipulate them very efficiently.This behavior is called locality of reference in computer science.\n",
    "This is the main reason why NumPy is faster than lists. Also it is optimized to work with latest CPU architectures.\n"
   ]
  },
  {
   "cell_type": "markdown",
   "id": "9710b0e9",
   "metadata": {},
   "source": [
    "### Chapter 13.2 basic syntax"
   ]
  },
  {
   "cell_type": "code",
   "execution_count": 3,
   "id": "affe3ed6",
   "metadata": {},
   "outputs": [],
   "source": [
    "import numpy as np\n",
    "import pandas as pd\n",
    "import matplotlib.pyplot as plt\n",
    "import os\n",
    "import sys"
   ]
  },
  {
   "cell_type": "code",
   "execution_count": null,
   "id": "ac20a861",
   "metadata": {},
   "outputs": [],
   "source": [
    "numpy.array(object, dtype=None, copy=True, order='K', subok=False, ndmin=0)\n",
    "\n",
    "link:\n",
    "https://thispointer.com/python-numpy-create-a-ndarray-from-list-tuple-or-list-of-lists-using-numpy-array/"
   ]
  },
  {
   "cell_type": "code",
   "execution_count": 5,
   "id": "438998da",
   "metadata": {},
   "outputs": [
    {
     "name": "stdout",
     "output_type": "stream",
     "text": [
      "[1 2 3]\n",
      "[4 5 6]\n",
      "<class 'numpy.ndarray'> <class 'numpy.ndarray'>\n"
     ]
    }
   ],
   "source": [
    "#1.create list/tuple array\n",
    "np1=np.array([1,2,3]) #list[]\n",
    "np2=np.array((4,5,6)) #tupe(), immutuble,one datatype\n",
    "print(np1)\n",
    "print(np2)\n",
    "print(type(np1),type(np2)) # bot convert to ndarray"
   ]
  },
  {
   "cell_type": "code",
   "execution_count": 8,
   "id": "cd99564d",
   "metadata": {},
   "outputs": [
    {
     "name": "stdout",
     "output_type": "stream",
     "text": [
      "[1 2 3]\n",
      "[1. 2. 3.]\n"
     ]
    }
   ],
   "source": [
    "a1=np.array([1,2,3],dtype=int)\n",
    "a2=np.array([1,2,3],dtype=float)\n",
    "print(a1)\n",
    "print(a2)"
   ]
  },
  {
   "cell_type": "code",
   "execution_count": 7,
   "id": "95677888",
   "metadata": {},
   "outputs": [
    {
     "name": "stdout",
     "output_type": "stream",
     "text": [
      "[1 4 7]\n",
      "[ 1.  4.  7. 10.]\n"
     ]
    }
   ],
   "source": [
    "#2.arrang(start,stop,step,dtype=None) \n",
    "\"\"\"similar list range,range is built-in python class\n",
    "   arange is a function of third-party library(Numpy)\n",
    "\"\"\"\n",
    "print(np.arange(1, 8, 3))\n",
    "print( np.arange(1, 10.1, 3)) #get 4f, include 10.1"
   ]
  },
  {
   "cell_type": "code",
   "execution_count": 11,
   "id": "77abbee2",
   "metadata": {},
   "outputs": [
    {
     "name": "stdout",
     "output_type": "stream",
     "text": [
      "[0.  0.5 1.  1.5 2. ]\n",
      "[0. 8.]\n"
     ]
    }
   ],
   "source": [
    "\"\"\"\n",
    "numpy.linspace(start, stop, num=50, \n",
    "               endpoint=True, retstep=False, \n",
    "               dtype=None, axis=0)\n",
    "-> start  : [optional] start of interval range. By default start = 0\n",
    "-> stop   : end of interval range\n",
    "-> restep : If True, return (samples, step). By deflut restep = False\n",
    "-> num    : [int, optional] No. of samples to generate\n",
    "-> dtype  : type of output array\n",
    "\"\"\"\n",
    "x = np.linspace(0, 2, 5) #5 is return 5 num \n",
    "print(x) #default return float\n",
    "\n",
    "y=np.linspace(0,8,2) #return 2 nums\n",
    "print(y)"
   ]
  },
  {
   "cell_type": "code",
   "execution_count": 23,
   "id": "96fb668f",
   "metadata": {},
   "outputs": [
    {
     "name": "stdout",
     "output_type": "stream",
     "text": [
      "arr3 is : [[[1 2 3]\n",
      "  [4 5 6]]\n",
      "\n",
      " [[1 2 3]\n",
      "  [4 5 6]]]\n",
      "\n",
      "arr4 is: [['1' '2' '4' '3']\n",
      " ['d' 'e' 'f' 'G']\n",
      " ['ten' 'ele' 'twe' '13th']]\n",
      "dimentsion:  2\n",
      "matrix/(row: col) is : (3, 4)\n",
      "total number of ele is: 12\n"
     ]
    }
   ],
   "source": [
    "#3.create nd-array\n",
    "\"\"\"\n",
    "arr1 = np.array([1, 2, 3, 4, 5]) #1d\n",
    "arr2 = np.array([[1, 2, 3], [4, 5, 6]]) #2d\n",
    "\n",
    "arr3 = np.array([[[1, 2, 3], [4, 5, 6]],\n",
    "                  [[1, 2, 3], [4, 5, 6]]\n",
    "                ])\n",
    "\"\"\"\n",
    "print('arr3 is :',arr3) \n",
    "print()\n",
    "\n",
    "#error:if [1,2,3,4]\n",
    "#3*4 matrix\n",
    "arr4=np.array([[1,2,4,3],['d','e','f','G'],['ten','ele','twe','13th']])\n",
    "print('arr4 is:',arr4)\n",
    "print(\"dimentsion: \",arr4.ndim) #as not more than 2 layer nested array\n",
    "print(\"matrix/(row: col) is :\",arr4.shape)\n",
    "print(\"total number of ele is:\",arr4.size)"
   ]
  },
  {
   "cell_type": "code",
   "execution_count": 30,
   "id": "1abaa214",
   "metadata": {},
   "outputs": [
    {
     "name": "stdout",
     "output_type": "stream",
     "text": [
      "[0 1 2 3 4 5 6 7]\n",
      "[[ 1  2  3  4]\n",
      " [ 5  6  7  8]\n",
      " [ 9 10 11 12]\n",
      " [13 14 15 16]]\n"
     ]
    }
   ],
   "source": [
    "\"\"\"4.change to multi-list to array\n",
    "numpy.reshape(a, newshape, order='C')\n",
    "order:'C','K','A'\n",
    "\"\"\"\n",
    "a1=np.arange(8) #(sart,end,step)\n",
    "print(a1)\n",
    "a1=np.arange(1,17).reshape(4,4) #(row,col)\n",
    "print(a1)"
   ]
  },
  {
   "cell_type": "code",
   "execution_count": 37,
   "id": "9fcad721",
   "metadata": {},
   "outputs": [
    {
     "name": "stdout",
     "output_type": "stream",
     "text": [
      "[6 7]\n",
      "[ 7 11]\n",
      "[[ 1  3]\n",
      " [ 9 11]]\n",
      "[ 3  7 11 15]\n",
      "[5 6 7 8]\n"
     ]
    }
   ],
   "source": [
    "#5 access array values\n",
    "#a1[row,col]=[<start:end:step:>,<:::>] start from 0\n",
    "print(a1[1,1:3]) #1st row,1,2 ele\n",
    "print(a1[1:3,2]) # 1&2 row, 2nd col\n",
    "print(a1[::2,::2])\n",
    "print(a1[:,2])\n",
    "print(a1[1,:])"
   ]
  },
  {
   "cell_type": "markdown",
   "id": "591db486",
   "metadata": {},
   "source": [
    "### chapter 13.3 initialize diff types of arrays"
   ]
  },
  {
   "cell_type": "code",
   "execution_count": 43,
   "id": "a07893b1",
   "metadata": {},
   "outputs": [
    {
     "name": "stdout",
     "output_type": "stream",
     "text": [
      "[0. 0. 0.]\n",
      "[[0. 0. 0.]\n",
      " [0. 0. 0.]]\n",
      "[[1. 1. 1.]\n",
      " [1. 1. 1.]\n",
      " [1. 1. 1.]]\n"
     ]
    }
   ],
   "source": [
    "#1.all 1s/0s matrix\n",
    "#numpy.ones(shape, dtype = None, order = 'C') \n",
    "#shape =(row,col)\n",
    "print(np.zeros(3,))\n",
    "print(np.zeros((2,3)))\n",
    "print(np.ones((3,3)))\n"
   ]
  },
  {
   "cell_type": "code",
   "execution_count": 44,
   "id": "0ec6b15b",
   "metadata": {},
   "outputs": [
    {
     "data": {
      "text/plain": [
       "array([[12, 12, 12],\n",
       "       [12, 12, 12]])"
      ]
     },
     "execution_count": 44,
     "metadata": {},
     "output_type": "execute_result"
    }
   ],
   "source": [
    "#2.any other number martrix\n",
    "#numpy.full(shape, fill_value, dtype = None, order = ‘C’)\n",
    "np.full((2,3),12)"
   ]
  },
  {
   "cell_type": "code",
   "execution_count": 45,
   "id": "4e5e36cb",
   "metadata": {},
   "outputs": [
    {
     "name": "stdout",
     "output_type": "stream",
     "text": [
      "\n",
      "\n",
      "arr2 before full_like : \n",
      " [[ 0.  1.  2.  3.]\n",
      " [ 4.  5.  6.  7.]\n",
      " [ 8.  9. 10. 11.]\n",
      " [12. 13. 14. 15.]]\n",
      "\n",
      "arr2 after full_like : \n",
      " [[-3. -3. -3. -3.]\n",
      " [-3. -3. -3. -3.]\n",
      " [-3. -3. -3. -3.]\n",
      " [-3. -3. -3. -3.]]\n"
     ]
    }
   ],
   "source": [
    "#full_like, change copy a matrix shape\n",
    "arr2 = np.arange(16, dtype=float).reshape(4, 4)\n",
    "print(\"\\n\\narr2 before full_like : \\n\", arr2)\n",
    "\n",
    "# using full_like\n",
    "print(\"\\narr2 after full_like : \\n\", np.full_like(arr2, -3))"
   ]
  },
  {
   "cell_type": "markdown",
   "id": "86357730",
   "metadata": {},
   "source": [
    "## chapter 14 numpy generate randon data"
   ]
  },
  {
   "cell_type": "code",
   "execution_count": 47,
   "id": "f08309b0",
   "metadata": {},
   "outputs": [
    {
     "name": "stdout",
     "output_type": "stream",
     "text": [
      "[0.18144125 0.18824898]\n",
      "[[0.55449679 0.15667761 0.77931262]\n",
      " [0.7523837  0.38728601 0.72929654]]\n"
     ]
    }
   ],
   "source": [
    "\"\"\"\n",
    "1.random decimal number\n",
    "np.random.rand(d0,d2,d3) :d means dimension \n",
    "#value[0,1]\n",
    "\"\"\"\n",
    "print(np.random.rand(2))\n",
    "print(np.random.rand(2,3))#(row,cols)"
   ]
  },
  {
   "cell_type": "code",
   "execution_count": 51,
   "id": "4c0b36b9",
   "metadata": {},
   "outputs": [
    {
     "name": "stdout",
     "output_type": "stream",
     "text": [
      "1st arr: \n",
      " [6 4 0 2]\n",
      "2nd arr: \n",
      " [[3 3 2]\n",
      " [5 2 3]]\n"
     ]
    }
   ],
   "source": [
    "\"\"\"\n",
    "2.np.random.randint(min,max,size,dtype)\n",
    "random.randint(low, high=None, size=None, dtype=int)\n",
    "#size(row,col) d-array\n",
    "\"\"\"\n",
    "print(\"1st arr: \\n\",\n",
    "     np.random.randint(7,size=(4))) #0-7,7 exclude\n",
    "print(\"2nd arr: \\n\",\n",
    "     np.random.randint(low=2,high=8,size=(2,3))\n",
    "     )"
   ]
  },
  {
   "cell_type": "code",
   "execution_count": 58,
   "id": "13027d8d",
   "metadata": {},
   "outputs": [
    {
     "name": "stdout",
     "output_type": "stream",
     "text": [
      "1st arr: \n",
      " [7 9 8 3 6]\n",
      "2nd arr: \n",
      " [[13 33 24 40]\n",
      " [46  8 16 30]]\n"
     ]
    }
   ],
   "source": [
    "\"\"\"most practical use to gen list data\n",
    "3.choice(a, size=None, replace=True, p=None)\n",
    "NOTE:replace=False :not repeat value\n",
    "a=array\n",
    "\"\"\"\n",
    "print(\"1st arr: \\n\",\n",
    "      np.random.choice(range(2,10),size=(5),replace=False)\n",
    "     )\n",
    "print(\"2nd arr: \\n\",\n",
    "      np.random.choice(range(3,50),size=(2,4),replace=False)\n",
    "     )"
   ]
  },
  {
   "cell_type": "markdown",
   "id": "5faa87b9",
   "metadata": {},
   "source": [
    "### real case on plot"
   ]
  },
  {
   "cell_type": "code",
   "execution_count": 67,
   "id": "d833e16c",
   "metadata": {},
   "outputs": [],
   "source": [
    "boolean=[True,False]\n",
    "gender=[\"男\",\"女\"]\n",
    "color=[\"white\",\"black\",\"yellow\"]\n",
    "data=pd.DataFrame({\n",
    "    \"height\":np.random.randint(150,190,100),\n",
    "    \"weight\":np.random.randint(40,90,100),\n",
    "    \"smoker\":[boolean[x] for x in np.random.randint(0,2,100)],\n",
    "    \"gender\":[gender[x] for x in np.random.randint(0,2,100)],\n",
    "    \"age\":np.random.randint(15,90,100),\n",
    "    \"color\":[color[x] for x in np.random.randint(0,len(color),100) ]\n",
    "}\n",
    ")"
   ]
  },
  {
   "cell_type": "code",
   "execution_count": null,
   "id": "65ed7f83",
   "metadata": {},
   "outputs": [],
   "source": [
    "\"\"\"gender列的男替换为1，女替换为0，\n",
    "Series.map() vs apply()\n",
    "\"\"\"\n",
    "data[\"gender\"] = data[\"gender\"].map({\"男\":1, \"女\":0})\n",
    "data[\"gender\"] = data[\"gender\"].map(gender_map)\n",
    "#\n",
    "data[\"age\"] = data[\"age\"].apply(apply_age,args=(-3,))"
   ]
  },
  {
   "cell_type": "markdown",
   "id": "d7f9b007",
   "metadata": {},
   "source": [
    "### chapter 14.2 numpy math"
   ]
  },
  {
   "cell_type": "markdown",
   "id": "399579b8",
   "metadata": {},
   "source": [
    "### given random arrays"
   ]
  },
  {
   "cell_type": "code",
   "execution_count": 59,
   "id": "3d1464a2",
   "metadata": {},
   "outputs": [
    {
     "data": {
      "text/plain": [
       "array([4, 2, 7, 6, 9])"
      ]
     },
     "execution_count": 59,
     "metadata": {},
     "output_type": "execute_result"
    }
   ],
   "source": [
    "a=np.random.choice(range(2,10),size=(5),replace=False)\n",
    "b=a.copy()\n",
    "b"
   ]
  },
  {
   "cell_type": "code",
   "execution_count": 67,
   "id": "313e78d0",
   "metadata": {},
   "outputs": [
    {
     "name": "stdout",
     "output_type": "stream",
     "text": [
      "a array is:\n",
      " [[8 4 3]\n",
      " [7 2 5]]\n",
      "b array is:\n",
      " [[ 5  6  7]\n",
      " [ 8  9 10]]\n"
     ]
    }
   ],
   "source": [
    "#1given\n",
    "#random draw [1,10] to build 2*3\n",
    "a=np.random.choice(range(1,10),size=(2,3),replace=False)\n",
    "\n",
    "\"\"\"\n",
    "#[2,13] all element to build 2*3\n",
    "#error:b=np.arange(2,13).reshape(2,3)\n",
    "#need to arange=2*3=6\n",
    "\"\"\"\n",
    "b=np.arange(5,11).reshape(2,3) #range total must=6\n",
    "\n",
    "print(\"a array is:\\n\",a)\n",
    "print(\"b array is:\\n\",b)"
   ]
  },
  {
   "cell_type": "code",
   "execution_count": 73,
   "id": "2268da89",
   "metadata": {},
   "outputs": [
    {
     "name": "stdout",
     "output_type": "stream",
     "text": [
      "c is :\n",
      " [[9 5 4]\n",
      " [8 3 6]]\n",
      "\n",
      "d is : \n",
      " [[64 16  9]\n",
      " [49  4 25]]\n",
      "\n",
      "e is :\n",
      " [9 5 4]\n"
     ]
    }
   ],
   "source": [
    "#1 add\n",
    "c= a+1\n",
    "print(\"c is :\\n\",c)\n",
    "print()\n",
    "\n",
    "#expoent 次方\n",
    "d=a**2\n",
    "print(\"d is : \\n\",d)\n",
    "print()\n",
    "\n",
    "#extract specific element\n",
    "e=(a[0,:]+1) # fist row,all cols\n",
    "print(\"e is :\\n\",e)"
   ]
  },
  {
   "cell_type": "code",
   "execution_count": 77,
   "id": "e5d3c164",
   "metadata": {},
   "outputs": [
    {
     "name": "stdout",
     "output_type": "stream",
     "text": [
      "[[8 4 3]\n",
      " [7 2 5]]\n",
      "\n",
      "29\n",
      "\n",
      "prod is : 6720\n",
      "h is \n",
      " [array([7, 2, 3]), array([8, 7])]\n"
     ]
    }
   ],
   "source": [
    "\"\"\"Agg of arrays\n",
    "\"\"\"\n",
    "#ex1:\n",
    "print(a)\n",
    "print()\n",
    "f=np.sum(a)\n",
    "print(f)\n",
    "print()\n",
    "\n",
    "#ex2:expod\n",
    "#所有相乘\n",
    "g=np.prod(a)\n",
    "print(\"prod is :\",g)\n",
    "\n",
    "#min/max\n",
    "#(0=y)min:each col\n",
    "#(1=x)max：each row\n",
    "h=[np.min(a,axis=0),np.max(a,axis=1)]\n",
    "print(\"h is \\n\",h)\n",
    "\n",
    "\"\"\"others stat\n",
    "1.cumsum 累計加\n",
    "2.cumprod 累計乘\n",
    "3.ptp :diff=max-min\n",
    "4.percentitle(arr,75) 第75% value\n",
    "\"\"\""
   ]
  },
  {
   "cell_type": "markdown",
   "id": "b1d3a12e",
   "metadata": {},
   "source": [
    "## 14.3 sorting array"
   ]
  },
  {
   "cell_type": "code",
   "execution_count": 81,
   "id": "4e9ae63f",
   "metadata": {},
   "outputs": [
    {
     "data": {
      "text/plain": [
       "array([[ 3, 13, 11,  9,  9],\n",
       "       [ 7,  6, 10,  6,  4],\n",
       "       [ 7,  3, 11,  9,  3]])"
      ]
     },
     "execution_count": 81,
     "metadata": {},
     "output_type": "execute_result"
    }
   ],
   "source": [
    "#randint has not replace agr\n",
    "#elements may repeat\n",
    "x=np.random.randint(2,15,size=(3,5))\n",
    "x"
   ]
  },
  {
   "cell_type": "code",
   "execution_count": 78,
   "id": "0b6b4f35",
   "metadata": {},
   "outputs": [
    {
     "data": {
      "text/plain": [
       "array([[10,  4, 13,  9],\n",
       "       [ 6, 11,  3, 14],\n",
       "       [ 2, 12,  8,  7]])"
      ]
     },
     "execution_count": 78,
     "metadata": {},
     "output_type": "execute_result"
    }
   ],
   "source": []
  },
  {
   "cell_type": "code",
   "execution_count": 88,
   "id": "381e7d6f",
   "metadata": {},
   "outputs": [
    {
     "name": "stdout",
     "output_type": "stream",
     "text": [
      "given arrays is:\n",
      " [[ 8  7 12  2]\n",
      " [14  5 11  9]\n",
      " [ 6 13 10  3]]\n",
      "\n",
      "sort by row ascending:\n",
      " [[ 2  7  8 12]\n",
      " [ 5  9 11 14]\n",
      " [ 3  6 10 13]]\n",
      "\n",
      "sort by row descending:\n",
      " [[12  8  7  2]\n",
      " [14 11  9  5]\n",
      " [13 10  6  3]]\n",
      "\n",
      "sort by cols:\n",
      " [[ 6  5 10  2]\n",
      " [ 8  7 11  3]\n",
      " [14 13 12  9]]\n"
     ]
    }
   ],
   "source": [
    "#replace=False(not repeat)\n",
    "a=np.random.choice(range(2,15),size=(3,4),replace=False)\n",
    "print(\"given arrays is:\\n\",a)\n",
    "print()\n",
    "\n",
    "#sprt by row\n",
    "b=np.sort(a,axis=1)\n",
    "print(\"sort by row ascending:\\n\",b)\n",
    "print()\n",
    "\n",
    "b1=-np.sort(-a,axis=1)\n",
    "print(\"sort by row descending:\\n\",b1)\n",
    "print()\n",
    "\n",
    "c=np.sort(a,axis=0)\n",
    "print(\"sort by cols:\\n\", c)"
   ]
  },
  {
   "cell_type": "code",
   "execution_count": null,
   "id": "a030d313",
   "metadata": {},
   "outputs": [],
   "source": []
  },
  {
   "cell_type": "code",
   "execution_count": null,
   "id": "77546d0c",
   "metadata": {},
   "outputs": [],
   "source": []
  },
  {
   "cell_type": "markdown",
   "id": "be162a65",
   "metadata": {},
   "source": [
    "### chapter 15. outport DF to excel"
   ]
  },
  {
   "cell_type": "code",
   "execution_count": null,
   "id": "2cb2497d",
   "metadata": {},
   "outputs": [],
   "source": []
  },
  {
   "cell_type": "markdown",
   "id": "f591cd08",
   "metadata": {},
   "source": [
    "# Part 2: "
   ]
  },
  {
   "cell_type": "markdown",
   "id": "a692e024",
   "metadata": {},
   "source": [
    "### chapter 16: OS module"
   ]
  },
  {
   "cell_type": "code",
   "execution_count": 1,
   "id": "9561c619",
   "metadata": {},
   "outputs": [],
   "source": [
    "\"\"\"get the jupyter files info:\n",
    "eg:path ,file names\n",
    "\"\"\"\n",
    "import os"
   ]
  },
  {
   "cell_type": "code",
   "execution_count": 3,
   "id": "75399b1d",
   "metadata": {},
   "outputs": [
    {
     "data": {
      "text/plain": [
       "'C:\\\\Users\\\\fengs'"
      ]
     },
     "execution_count": 3,
     "metadata": {},
     "output_type": "execute_result"
    }
   ],
   "source": [
    "#cwd: current working directly\n",
    "os.getcwd()"
   ]
  },
  {
   "cell_type": "code",
   "execution_count": 7,
   "id": "b6092ec7",
   "metadata": {},
   "outputs": [
    {
     "data": {
      "text/plain": [
       "['data.xlsx',\n",
       " 'forget',\n",
       " 'gd',\n",
       " 'gd_2',\n",
       " 'gd_3',\n",
       " 'GeeksforGeeks',\n",
       " 'mathplot',\n",
       " 'mathplot.pdf',\n",
       " 'matplotlib_tutorial-master.zip',\n",
       " 'Misc',\n",
       " 'py_loc.pdf',\n",
       " 'py_road.pdf',\n",
       " 'README.md',\n",
       " 'SalesAnalysis']"
      ]
     },
     "execution_count": 7,
     "metadata": {},
     "output_type": "execute_result"
    }
   ],
   "source": [
    "\"\"\"\n",
    "default:list cwd files \n",
    "dir=directory\n",
    "\"\"\"\n",
    "#os.listdir() \n",
    "os.listdir('C:/Users/fengs/Desktop/pd_real')"
   ]
  },
  {
   "cell_type": "code",
   "execution_count": 9,
   "id": "9498fdc8",
   "metadata": {},
   "outputs": [
    {
     "name": "stdout",
     "output_type": "stream",
     "text": [
      "['C:/Users/fengs/Desktop/pd_real\\\\mathplot.pdf', 'C:/Users/fengs/Desktop/pd_real\\\\py_loc.pdf', 'C:/Users/fengs/Desktop/pd_real\\\\py_road.pdf']\n"
     ]
    }
   ],
   "source": [
    "import glob\n",
    "# All files and directories ending with .pdf and that don't begin with a dot:\n",
    "print(glob.glob(\"C:/Users/fengs/Desktop/pd_real/*.pdf\")) "
   ]
  },
  {
   "cell_type": "code",
   "execution_count": 11,
   "id": "bfb3e6c0",
   "metadata": {},
   "outputs": [
    {
     "name": "stdout",
     "output_type": "stream",
     "text": [
      "['C:/Users/fengs/Desktop/pd_real\\\\mathplot.pdf', 'C:/Users/fengs/Desktop/pd_real\\\\py_loc.pdf', 'C:/Users/fengs/Desktop/pd_real\\\\py_road.pdf']\n"
     ]
    }
   ],
   "source": [
    "# All files and directories ending with .pdf with depth of 2 folders, ignoring names beginning with a dot:\n",
    "print(glob.glob(\"C:/Users/fengs/Desktop/pd_real/*.pdf\")) "
   ]
  },
  {
   "cell_type": "code",
   "execution_count": 16,
   "id": "e15864db",
   "metadata": {},
   "outputs": [
    {
     "name": "stdout",
     "output_type": "stream",
     "text": [
      "C:/Users/fengs/Desktop/pd_real\\mathplot.pdf\n",
      "C:/Users/fengs/Desktop/pd_real\\py_loc.pdf\n",
      "C:/Users/fengs/Desktop/pd_real\\py_road.pdf\n"
     ]
    }
   ],
   "source": [
    "#print paths of files as well\n",
    "pdf_files = []\n",
    "for file in glob.glob(\"C:/Users/fengs/Desktop/pd_real/*.pdf\"):\n",
    "    #pdf_files.append(file)\n",
    "     print(file)"
   ]
  },
  {
   "cell_type": "markdown",
   "id": "0a706d8a",
   "metadata": {},
   "source": [
    "### chapter 16.2 formal ways"
   ]
  },
  {
   "cell_type": "code",
   "execution_count": 17,
   "id": "d01aef1c",
   "metadata": {},
   "outputs": [
    {
     "name": "stdout",
     "output_type": "stream",
     "text": [
      "Files and directories in ' C:/Users/fengs/Desktop/pd_real ' :\n",
      "['data.xlsx', 'forget', 'gd', 'gd_2', 'gd_3', 'GeeksforGeeks', 'mathplot', 'mathplot.pdf', 'matplotlib_tutorial-master.zip', 'Misc', 'py_loc.pdf', 'py_road.pdf', 'README.md', 'SalesAnalysis']\n"
     ]
    }
   ],
   "source": [
    "path = \"C:/Users/fengs/Desktop/pd_real\"\n",
    "dir_list = os.listdir(path)\n",
    " \n",
    "print(\"Files and directories in '\", path, \"' :\")\n",
    " \n",
    "# prints all files\n",
    "print(dir_list)"
   ]
  },
  {
   "cell_type": "code",
   "execution_count": 19,
   "id": "3e283bbb",
   "metadata": {},
   "outputs": [
    {
     "name": "stdout",
     "output_type": "stream",
     "text": [
      "fifa_data.csv\n",
      "gas_prices.csv\n"
     ]
    }
   ],
   "source": [
    "#print files names only\n",
    "path='C:/Users/fengs/Desktop/pd_real/mathplot'\n",
    "for x in os.listdir(path):\n",
    "    if x.endswith(\".csv\"):\n",
    "        # Prints only csv file present in My Folder\n",
    "        print(x)"
   ]
  },
  {
   "cell_type": "markdown",
   "id": "c113971e",
   "metadata": {},
   "source": [
    "## chapter 17:pandas plot"
   ]
  },
  {
   "cell_type": "raw",
   "id": "51fa6697",
   "metadata": {},
   "source": [
    "there are 3 commonly used plots:\n",
    "1.pandas plot :simple,easy to use\n",
    "2.mathplotlib plot: complicated, but more flexible\n",
    "3.seaborn plot :optional to know"
   ]
  },
  {
   "cell_type": "raw",
   "id": "cd06920c",
   "metadata": {},
   "source": [
    "Although they may appear similar, these modules have unique purposes and functionalities.\n",
    "\n",
    "The Pandas module is used for working with tabular data. It allows us to work with data in table form,\n",
    "such as in CSV or SQL database formats. We can also create tables of our own,\n",
    "and edit or add columns or rows to tables. \n",
    "Pandas provides us with some powerful objects like DataFrames and Series which \n",
    "are very useful for working with and analyzing data.\n",
    "\n",
    "The Numpy module is mainly used for working with numerical data. \n",
    "It provides us with a powerful object known as an Array.\n",
    "With Arrays, we can perform mathematical operations on multiple values \n",
    "in the Arrays at the same time, and also perform operations between different Arrays,\n",
    "similar to matrix operations.\n",
    "\n",
    "Last, but not least, the Matplotlib module is used for data visualization.\n",
    "It provides functionality for us to draw charts and graphs, \n",
    "so that we can better understand and present the data visually.\n",
    "\n",
    "These modules have different purposes and functionality they excel at,\n",
    "and together they allow us to analyze, \n",
    "manipulate and visualize data in very useful ways."
   ]
  },
  {
   "cell_type": "code",
   "execution_count": 21,
   "id": "95e3b2c3",
   "metadata": {},
   "outputs": [],
   "source": [
    "import matplotlib.pyplot as plt\n",
    "import pandas as pd\n",
    "import numpy as np"
   ]
  },
  {
   "cell_type": "raw",
   "id": "7d63fe1a",
   "metadata": {},
   "source": [
    "df.plot(kind = '<graph_type>', x = 'x_tilte', y = 'y_axis',color='',ls='',marker='<o/.>',xlim,xticks)\n",
    "1.kind='line','bar','hist','bar','barh(橫條)','scatter','pie'\n",
    "2.x/y=names of axis\n",
    "3.ls=linestyle,<->實線,<-->虛線,<:>點線,<-*>虛點線\n",
    "4.lw=lineweigth,\n",
    "5.figsize=[10,5],[8,4]: x,y axis length ratio\n",
    "  \n",
    "  ~~~~\n",
    "df.plot is friendly with tabular data,\n",
    "so CAN combine loc\n",
    "eg:one row one line\n",
    "df.iloc[1].plot() \n",
    "df.iloc[2].plot()"
   ]
  },
  {
   "cell_type": "markdown",
   "id": "9620dae3",
   "metadata": {},
   "source": [
    "### example_1: school marks"
   ]
  },
  {
   "cell_type": "code",
   "execution_count": 31,
   "id": "4249ac1f",
   "metadata": {},
   "outputs": [
    {
     "data": {
      "text/html": [
       "<div>\n",
       "<style scoped>\n",
       "    .dataframe tbody tr th:only-of-type {\n",
       "        vertical-align: middle;\n",
       "    }\n",
       "\n",
       "    .dataframe tbody tr th {\n",
       "        vertical-align: top;\n",
       "    }\n",
       "\n",
       "    .dataframe thead th {\n",
       "        text-align: right;\n",
       "    }\n",
       "</style>\n",
       "<table border=\"1\" class=\"dataframe\">\n",
       "  <thead>\n",
       "    <tr style=\"text-align: right;\">\n",
       "      <th></th>\n",
       "      <th>Subject_1</th>\n",
       "      <th>Subject_2</th>\n",
       "      <th>Subject_3</th>\n",
       "      <th>School</th>\n",
       "      <th>Date</th>\n",
       "    </tr>\n",
       "  </thead>\n",
       "  <tbody>\n",
       "    <tr>\n",
       "      <th>0</th>\n",
       "      <td>70.5</td>\n",
       "      <td>40.24</td>\n",
       "      <td>30.00</td>\n",
       "      <td>School_1</td>\n",
       "      <td>2021/06/01</td>\n",
       "    </tr>\n",
       "    <tr>\n",
       "      <th>1</th>\n",
       "      <td>80.7</td>\n",
       "      <td>50.90</td>\n",
       "      <td>50.50</td>\n",
       "      <td>School_2</td>\n",
       "      <td>2021/06/02</td>\n",
       "    </tr>\n",
       "    <tr>\n",
       "      <th>2</th>\n",
       "      <td>50.4</td>\n",
       "      <td>70.60</td>\n",
       "      <td>70.80</td>\n",
       "      <td>School_3</td>\n",
       "      <td>2021/06/03</td>\n",
       "    </tr>\n",
       "    <tr>\n",
       "      <th>3</th>\n",
       "      <td>70.5</td>\n",
       "      <td>80.10</td>\n",
       "      <td>90.88</td>\n",
       "      <td>School_4</td>\n",
       "      <td>2021/06/04</td>\n",
       "    </tr>\n",
       "    <tr>\n",
       "      <th>4</th>\n",
       "      <td>80.9</td>\n",
       "      <td>50.90</td>\n",
       "      <td>30.00</td>\n",
       "      <td>School_5</td>\n",
       "      <td>2021/06/05</td>\n",
       "    </tr>\n",
       "  </tbody>\n",
       "</table>\n",
       "</div>"
      ],
      "text/plain": [
       "   Subject_1  Subject_2  Subject_3    School        Date\n",
       "0       70.5      40.24      30.00  School_1  2021/06/01\n",
       "1       80.7      50.90      50.50  School_2  2021/06/02\n",
       "2       50.4      70.60      70.80  School_3  2021/06/03\n",
       "3       70.5      80.10      90.88  School_4  2021/06/04\n",
       "4       80.9      50.90      30.00  School_5  2021/06/05"
      ]
     },
     "execution_count": 31,
     "metadata": {},
     "output_type": "execute_result"
    }
   ],
   "source": [
    "\"\"\"ref:example\n",
    "\"\"\"\n",
    "df = pd.DataFrame({\n",
    "    'Subject_1': [70.5, 80.7, 50.4, 70.5, 80.9],\n",
    "    'Subject_2': [40.24, 50.9, 70.6, 80.1, 50.9],\n",
    "    'Subject_3': [30, 50.5, 70.8, 90.88, 30],\n",
    "    'School': ['School_1', 'School_2', 'School_3', 'School_4', 'School_5'],\n",
    "    'Date': ['2021/06/01', '2021/06/02', '2021/06/03', '2021/06/04', '2021/06/05']\n",
    "})\n",
    "df"
   ]
  },
  {
   "cell_type": "code",
   "execution_count": 32,
   "id": "c3037ecd",
   "metadata": {},
   "outputs": [
    {
     "data": {
      "image/png": "[encoded data removed]",
      "text/plain": [
       "<Figure size 432x288 with 1 Axes>"
      ]
     },
     "metadata": {
      "needs_background": "light"
     },
     "output_type": "display_data"
    }
   ],
   "source": [
    "\"\"\"\n",
    "1.line plot with x and y values defined\n",
    " 抽其中一個object 出來，自己define x,y axis values\n",
    " the x,y 100% same as the column name, row value\n",
    " 自己識食\n",
    "\"\"\"\n",
    "#compare schools's sub_1 values \n",
    "df.plot(x='School', y='Subject_1');"
   ]
  },
  {
   "cell_type": "markdown",
   "id": "af3cfb6f",
   "metadata": {},
   "source": [
    "## real excel case for gas_price"
   ]
  },
  {
   "cell_type": "code",
   "execution_count": 25,
   "id": "ccd31cf3",
   "metadata": {},
   "outputs": [
    {
     "data": {
      "text/html": [
       "<div>\n",
       "<style scoped>\n",
       "    .dataframe tbody tr th:only-of-type {\n",
       "        vertical-align: middle;\n",
       "    }\n",
       "\n",
       "    .dataframe tbody tr th {\n",
       "        vertical-align: top;\n",
       "    }\n",
       "\n",
       "    .dataframe thead th {\n",
       "        text-align: right;\n",
       "    }\n",
       "</style>\n",
       "<table border=\"1\" class=\"dataframe\">\n",
       "  <thead>\n",
       "    <tr style=\"text-align: right;\">\n",
       "      <th></th>\n",
       "      <th>Year</th>\n",
       "      <th>Australia</th>\n",
       "      <th>Canada</th>\n",
       "      <th>France</th>\n",
       "      <th>Germany</th>\n",
       "      <th>Italy</th>\n",
       "      <th>Japan</th>\n",
       "      <th>Mexico</th>\n",
       "      <th>South Korea</th>\n",
       "      <th>UK</th>\n",
       "      <th>USA</th>\n",
       "    </tr>\n",
       "  </thead>\n",
       "  <tbody>\n",
       "    <tr>\n",
       "      <th>0</th>\n",
       "      <td>1990</td>\n",
       "      <td>NaN</td>\n",
       "      <td>1.87</td>\n",
       "      <td>3.63</td>\n",
       "      <td>2.65</td>\n",
       "      <td>4.59</td>\n",
       "      <td>3.16</td>\n",
       "      <td>1.00</td>\n",
       "      <td>2.05</td>\n",
       "      <td>2.82</td>\n",
       "      <td>1.16</td>\n",
       "    </tr>\n",
       "    <tr>\n",
       "      <th>1</th>\n",
       "      <td>1991</td>\n",
       "      <td>1.96</td>\n",
       "      <td>1.92</td>\n",
       "      <td>3.45</td>\n",
       "      <td>2.90</td>\n",
       "      <td>4.50</td>\n",
       "      <td>3.46</td>\n",
       "      <td>1.30</td>\n",
       "      <td>2.49</td>\n",
       "      <td>3.01</td>\n",
       "      <td>1.14</td>\n",
       "    </tr>\n",
       "    <tr>\n",
       "      <th>2</th>\n",
       "      <td>1992</td>\n",
       "      <td>1.89</td>\n",
       "      <td>1.73</td>\n",
       "      <td>3.56</td>\n",
       "      <td>3.27</td>\n",
       "      <td>4.53</td>\n",
       "      <td>3.58</td>\n",
       "      <td>1.50</td>\n",
       "      <td>2.65</td>\n",
       "      <td>3.06</td>\n",
       "      <td>1.13</td>\n",
       "    </tr>\n",
       "    <tr>\n",
       "      <th>3</th>\n",
       "      <td>1993</td>\n",
       "      <td>1.73</td>\n",
       "      <td>1.57</td>\n",
       "      <td>3.41</td>\n",
       "      <td>3.07</td>\n",
       "      <td>3.68</td>\n",
       "      <td>4.16</td>\n",
       "      <td>1.56</td>\n",
       "      <td>2.88</td>\n",
       "      <td>2.84</td>\n",
       "      <td>1.11</td>\n",
       "    </tr>\n",
       "    <tr>\n",
       "      <th>4</th>\n",
       "      <td>1994</td>\n",
       "      <td>1.84</td>\n",
       "      <td>1.45</td>\n",
       "      <td>3.59</td>\n",
       "      <td>3.52</td>\n",
       "      <td>3.70</td>\n",
       "      <td>4.36</td>\n",
       "      <td>1.48</td>\n",
       "      <td>2.87</td>\n",
       "      <td>2.99</td>\n",
       "      <td>1.11</td>\n",
       "    </tr>\n",
       "  </tbody>\n",
       "</table>\n",
       "</div>"
      ],
      "text/plain": [
       "   Year  Australia  Canada  France  Germany  Italy  Japan  Mexico  \\\n",
       "0  1990        NaN    1.87    3.63     2.65   4.59   3.16    1.00   \n",
       "1  1991       1.96    1.92    3.45     2.90   4.50   3.46    1.30   \n",
       "2  1992       1.89    1.73    3.56     3.27   4.53   3.58    1.50   \n",
       "3  1993       1.73    1.57    3.41     3.07   3.68   4.16    1.56   \n",
       "4  1994       1.84    1.45    3.59     3.52   3.70   4.36    1.48   \n",
       "\n",
       "   South Korea    UK   USA  \n",
       "0         2.05  2.82  1.16  \n",
       "1         2.49  3.01  1.14  \n",
       "2         2.65  3.06  1.13  \n",
       "3         2.88  2.84  1.11  \n",
       "4         2.87  2.99  1.11  "
      ]
     },
     "execution_count": 25,
     "metadata": {},
     "output_type": "execute_result"
    }
   ],
   "source": [
    "\"\"\"\n",
    "PATH='/ FOR folder, \\file.xxx'\n",
    "\"\"\"\n",
    "df_gas=pd.read_csv('C:/Users/fengs/Desktop/pd_real/mathplot\\gas_prices.csv')\n",
    "df_gas.head()"
   ]
  },
  {
   "cell_type": "code",
   "execution_count": 83,
   "id": "acaa3487",
   "metadata": {},
   "outputs": [
    {
     "data": {
      "text/plain": [
       "<AxesSubplot:title={'center':'Oversea Gas Prices'}, xlabel='Years', ylabel='Price'>"
      ]
     },
     "execution_count": 83,
     "metadata": {},
     "output_type": "execute_result"
    },
    {
     "data": {
      "image/png": "[encoded data removed]",
      "text/plain": [
       "<Figure size 432x288 with 1 Axes>"
      ]
     },
     "metadata": {
      "needs_background": "light"
     },
     "output_type": "display_data"
    }
   ],
   "source": [
    "#try to use pandas.plot only, no matplotlib\n",
    "#CANNOT g1=df.plot g2=df.plot, it will come out 2 graphs\n",
    "#link:https://realpython.com/pandas-plot-python/\n",
    "df_gas.plot(x='Year',y=['Canada','France','Germany','USA'], #must know:to draw multi-lines\n",
    "            xticks=range(df_gas['Year'].min(),df_gas['Year'].max(),3),\n",
    "            xlabel='Years',ylabel='Price',title='Oversea Gas Prices'            \n",
    "           )\n"
   ]
  },
  {
   "cell_type": "code",
   "execution_count": 38,
   "id": "6635bcf8",
   "metadata": {},
   "outputs": [
    {
     "name": "stdout",
     "output_type": "stream",
     "text": [
      "1990 2008\n"
     ]
    }
   ],
   "source": [
    "\"\"\"prepare the x,y axis values\"\"\"\n",
    "print(df_gas['Year'].min(),df_gas['Year'].max())"
   ]
  },
  {
   "cell_type": "markdown",
   "id": "e57c004e",
   "metadata": {},
   "source": [
    "### demo show point values"
   ]
  },
  {
   "cell_type": "code",
   "execution_count": 52,
   "id": "c1d4a899",
   "metadata": {
    "scrolled": true
   },
   "outputs": [
    {
     "data": {
      "image/png": "[encoded data removed]",
      "text/plain": [
       "<Figure size 432x288 with 1 Axes>"
      ]
     },
     "metadata": {
      "needs_background": "light"
     },
     "output_type": "display_data"
    }
   ],
   "source": [
    "import matplotlib.pyplot as plt\n",
    "\n",
    "x=[1,2,3]\n",
    "y=[9,8,7]\n",
    "\n",
    "plt.plot(x,y)\n",
    "for a,b in zip(x, y): \n",
    "    plt.text(a, b, str(b))\n",
    "plt.show()"
   ]
  },
  {
   "cell_type": "markdown",
   "id": "3f80cb77",
   "metadata": {},
   "source": [
    "### chapter 18 :Mathplotlib graphics"
   ]
  },
  {
   "cell_type": "raw",
   "id": "63efc06d",
   "metadata": {},
   "source": [
    "syntax:\n",
    " plt.plot(x,y,color='r,g,b',marker=<o/.>,ls=<-/--/:>,label='')\n",
    " \n",
    "1.figsize is size on container  \n",
    "   # Creating a new figure with width = 5 inches\n",
    "   # and height = 4 inches\n",
    "   fig = plt.figure(figsize =(5, 4)) \n",
    "   \n",
    "2.subplot=container分成幾多個小正方形，用來在一個containers\n",
    "          draw N graphics,如果1個就不用理，default(1,1,1)\n",
    "3.label=line name\n",
    "4.ls=line style"
   ]
  },
  {
   "cell_type": "code",
   "execution_count": 58,
   "id": "5426e3f7",
   "metadata": {},
   "outputs": [],
   "source": [
    "import matplotlib.pyplot as plt\n",
    "df_gas=pd.read_csv('C:/Users/fengs/Desktop/pd_real/mathplot\\gas_prices.csv')"
   ]
  },
  {
   "cell_type": "code",
   "execution_count": 82,
   "id": "02337d52",
   "metadata": {},
   "outputs": [
    {
     "data": {
      "text/html": [
       "<div>\n",
       "<style scoped>\n",
       "    .dataframe tbody tr th:only-of-type {\n",
       "        vertical-align: middle;\n",
       "    }\n",
       "\n",
       "    .dataframe tbody tr th {\n",
       "        vertical-align: top;\n",
       "    }\n",
       "\n",
       "    .dataframe thead th {\n",
       "        text-align: right;\n",
       "    }\n",
       "</style>\n",
       "<table border=\"1\" class=\"dataframe\">\n",
       "  <thead>\n",
       "    <tr style=\"text-align: right;\">\n",
       "      <th></th>\n",
       "      <th>Year</th>\n",
       "      <th>Australia</th>\n",
       "      <th>Canada</th>\n",
       "      <th>France</th>\n",
       "      <th>Germany</th>\n",
       "      <th>Italy</th>\n",
       "      <th>Japan</th>\n",
       "      <th>Mexico</th>\n",
       "      <th>South Korea</th>\n",
       "      <th>UK</th>\n",
       "      <th>USA</th>\n",
       "    </tr>\n",
       "  </thead>\n",
       "  <tbody>\n",
       "    <tr>\n",
       "      <th>0</th>\n",
       "      <td>1990</td>\n",
       "      <td>NaN</td>\n",
       "      <td>1.87</td>\n",
       "      <td>3.63</td>\n",
       "      <td>2.65</td>\n",
       "      <td>4.59</td>\n",
       "      <td>3.16</td>\n",
       "      <td>1.0</td>\n",
       "      <td>2.05</td>\n",
       "      <td>2.82</td>\n",
       "      <td>1.16</td>\n",
       "    </tr>\n",
       "    <tr>\n",
       "      <th>1</th>\n",
       "      <td>1991</td>\n",
       "      <td>1.96</td>\n",
       "      <td>1.92</td>\n",
       "      <td>3.45</td>\n",
       "      <td>2.90</td>\n",
       "      <td>4.50</td>\n",
       "      <td>3.46</td>\n",
       "      <td>1.3</td>\n",
       "      <td>2.49</td>\n",
       "      <td>3.01</td>\n",
       "      <td>1.14</td>\n",
       "    </tr>\n",
       "  </tbody>\n",
       "</table>\n",
       "</div>"
      ],
      "text/plain": [
       "   Year  Australia  Canada  France  Germany  Italy  Japan  Mexico  \\\n",
       "0  1990        NaN    1.87    3.63     2.65   4.59   3.16     1.0   \n",
       "1  1991       1.96    1.92    3.45     2.90   4.50   3.46     1.3   \n",
       "\n",
       "   South Korea    UK   USA  \n",
       "0         2.05  2.82  1.16  \n",
       "1         2.49  3.01  1.14  "
      ]
     },
     "execution_count": 82,
     "metadata": {},
     "output_type": "execute_result"
    }
   ],
   "source": [
    " df_gas.head(2)"
   ]
  },
  {
   "cell_type": "markdown",
   "id": "b8b096d0",
   "metadata": {},
   "source": [
    "### 18.1 :EX1: Multi-line "
   ]
  },
  {
   "cell_type": "code",
   "execution_count": 85,
   "id": "86659f97",
   "metadata": {},
   "outputs": [
    {
     "data": {
      "image/png": "[encoded data removed]",
      "text/plain": [
       "<Figure size 576x360 with 1 Axes>"
      ]
     },
     "metadata": {
      "needs_background": "light"
     },
     "output_type": "display_data"
    },
    {
     "data": {
      "text/plain": [
       "\"note\\n1.can y[['1','2'....]],but not sugg, as mark label problem\\n2.type change is not (kind='x'),but pltbar()/plthist()/\\n\""
      ]
     },
     "execution_count": 85,
     "metadata": {},
     "output_type": "execute_result"
    }
   ],
   "source": [
    "#1.commonly shared by lines \n",
    "plt.figure(figsize=(8,5)) #x=8 inch ,y =5 inch\n",
    "plt.title('USA VS Canada Gas Prices')\n",
    "plt.ylabel('Dollars/Gallon') \n",
    "\n",
    "#x-value intervals\n",
    "plt.xticks(df_gas['Year'][::3])\n",
    "\n",
    "#2.no :x=[],y=[] arg, directly x,y varible\n",
    "plt.plot(df_gas['Year'],df_gas['Canada'],ls='-',marker='o' ,\n",
    "         label='CANADA')\n",
    "plt.plot(df_gas['Year'],df_gas['USA'],ls='--',marker='o' ,\n",
    "         label='USA')\n",
    "#shortform yellow line, dot mark,: 虛線\n",
    "plt.plot(df_gas['Year'],df_gas['France'],'y.:', \n",
    "         label='France')\n",
    "\n",
    "#3.legend=傳說/圖像說明\n",
    "plt.legend() #to display the line label\n",
    "plt.show()\n",
    "\n",
    "\"\"\"note\n",
    "1.can y[['1','2'....]],but not sugg, as mark label problem\n",
    "2.type change is not (kind='x'),but pltbar()/plthist()/\n",
    "\"\"\""
   ]
  },
  {
   "cell_type": "markdown",
   "id": "2a29a3b0",
   "metadata": {},
   "source": [
    "### 18.1.1 print point values of lines"
   ]
  },
  {
   "cell_type": "code",
   "execution_count": 105,
   "id": "7ae3d50f",
   "metadata": {},
   "outputs": [
    {
     "data": {
      "image/png": "[encoded data removed]",
      "text/plain": [
       "<Figure size 432x288 with 1 Axes>"
      ]
     },
     "metadata": {
      "needs_background": "light"
     },
     "output_type": "display_data"
    }
   ],
   "source": [
    "# plt.figure(figsize=(8,5)) #x=8 inch ,y =5 inch\n",
    "plt.title('jp VS uk Gas Prices')\n",
    "plt.ylabel('Dollars/Gallon') \n",
    "plt.xticks(df_gas['Year'][::3])\n",
    "\n",
    "x1=df_gas['Year']\n",
    "y1=df_gas['Japan']\n",
    "y2=df_gas['UK']\n",
    "\n",
    "plt.plot(x1,y1,'g.-',label='Japan')\n",
    "plt.plot(x1,y2,'r.-',label='UK')\n",
    "\n",
    "for a1,b1 in zip(x1,y1):\n",
    "     plt.text(a1,b1,str(b1))\n",
    "              \n",
    "for a2,b2 in zip(x1,y2):\n",
    "     plt.text(a2,b1,str(b2))\n",
    "            \n",
    "plt.legend() #to display the line label\n",
    "plt.show()"
   ]
  },
  {
   "cell_type": "markdown",
   "id": "5fbf52d6",
   "metadata": {},
   "source": [
    "### 18.2 quick way to show all lines"
   ]
  },
  {
   "cell_type": "code",
   "execution_count": 89,
   "id": "d29e388a",
   "metadata": {},
   "outputs": [
    {
     "data": {
      "image/png": "[encoded data removed]",
      "text/plain": [
       "<Figure size 576x360 with 1 Axes>"
      ]
     },
     "metadata": {
      "needs_background": "light"
     },
     "output_type": "display_data"
    }
   ],
   "source": [
    "#1.commonly shared by lines \n",
    "plt.figure(figsize=(8,5)) #x=8 inch ,y =5 inch\n",
    "plt.title('USA VS Canada Gas Prices')\n",
    "plt.ylabel('Dollars/Gallon') \n",
    "\n",
    "#x-value intervals\n",
    "plt.xticks(df_gas['Year'][::3])\n",
    "\n",
    "#for each loop print all countries\n",
    "for country in df_gas:\n",
    "    if country!='Year' :\n",
    "        plt.plot(df_gas['Year'],df_gas[country],marker='.',label=country)\n",
    "    \n",
    "#3.legend=傳說/圖像說明\n",
    "plt.legend() #to display the line label\n",
    "plt.show()"
   ]
  },
  {
   "cell_type": "code",
   "execution_count": 86,
   "id": "90da9cde",
   "metadata": {},
   "outputs": [
    {
     "name": "stdout",
     "output_type": "stream",
     "text": [
      "Year\n",
      "Australia\n",
      "Canada\n",
      "France\n",
      "Germany\n",
      "Italy\n",
      "Japan\n",
      "Mexico\n",
      "South Korea\n",
      "UK\n",
      "USA\n"
     ]
    }
   ],
   "source": [
    "for country in df_gas:\n",
    "    print(country)"
   ]
  },
  {
   "cell_type": "markdown",
   "id": "97cea385",
   "metadata": {},
   "source": [
    "### 18.3 only not plot some lines/columns"
   ]
  },
  {
   "cell_type": "code",
   "execution_count": 92,
   "id": "4307af3b",
   "metadata": {},
   "outputs": [
    {
     "data": {
      "image/png": "[encoded data removed]",
      "text/plain": [
       "<Figure size 576x360 with 1 Axes>"
      ]
     },
     "metadata": {
      "needs_background": "light"
     },
     "output_type": "display_data"
    }
   ],
   "source": [
    "\n",
    "#1.commonly shared by lines \n",
    "plt.figure(figsize=(8,5)) #x=8 inch ,y =5 inch\n",
    "plt.title('USA VS Canada Gas Prices')\n",
    "plt.ylabel('Dollars/Gallon') \n",
    "\n",
    "#x-value intervals\n",
    "plt.xticks(df_gas['Year'][::3])\n",
    "\n",
    "#make a not print list\n",
    "country_not_look=['Australia','USA','Canada','Germany','USA']\n",
    "\n",
    "#for each loop print all countries\n",
    "for country in df_gas:\n",
    "    #not use isin(); us in/not in\n",
    "    if (country!='Year')&(country not in country_not_look):       \n",
    "        plt.plot(df_gas['Year'],df_gas[country],marker='.',label=country)\n",
    "    \n",
    "#3.legend=傳說/圖像說明\n",
    "plt.legend() #to display the line label\n",
    "plt.show()"
   ]
  },
  {
   "cell_type": "markdown",
   "id": "96fc5509",
   "metadata": {},
   "source": [
    "## chapter 19 pie chart"
   ]
  },
  {
   "cell_type": "raw",
   "id": "ab713b73",
   "metadata": {},
   "source": [
    "1.bar is similar to line, but pie is another thing\n",
    "2.bar need to change value to pct\n",
    "syntax:\n",
    "plt.pie()\n",
    "a)labels\n",
    "b)autopct:% of each parts\n",
    "         autopct='%.2f':2 float \n",
    "         autopct='%.2f%%': show % as well\n",
    "c)explode(0,0,0.2,0)\n",
    "          ～4 parts, 3rd part 凸其0.2格\n",
    "          ~突出重點or 不要太靠近\n",
    "d)pctdistince=0.6：pct 距離圓心0.6"
   ]
  },
  {
   "cell_type": "code",
   "execution_count": 1,
   "id": "028a7ee7",
   "metadata": {},
   "outputs": [],
   "source": [
    "import matplotlib.pyplot as plt\n",
    "import numpy as np\n",
    "import pandas as pd"
   ]
  },
  {
   "cell_type": "code",
   "execution_count": 10,
   "id": "4fbb8437",
   "metadata": {},
   "outputs": [
    {
     "data": {
      "text/html": [
       "<div>\n",
       "<style scoped>\n",
       "    .dataframe tbody tr th:only-of-type {\n",
       "        vertical-align: middle;\n",
       "    }\n",
       "\n",
       "    .dataframe tbody tr th {\n",
       "        vertical-align: top;\n",
       "    }\n",
       "\n",
       "    .dataframe thead th {\n",
       "        text-align: right;\n",
       "    }\n",
       "</style>\n",
       "<table border=\"1\" class=\"dataframe\">\n",
       "  <thead>\n",
       "    <tr style=\"text-align: right;\">\n",
       "      <th></th>\n",
       "      <th>Unnamed: 0</th>\n",
       "      <th>ID</th>\n",
       "      <th>Name</th>\n",
       "      <th>Age</th>\n",
       "      <th>Photo</th>\n",
       "      <th>Nationality</th>\n",
       "      <th>Flag</th>\n",
       "      <th>Overall</th>\n",
       "      <th>Potential</th>\n",
       "      <th>Club</th>\n",
       "      <th>...</th>\n",
       "      <th>Composure</th>\n",
       "      <th>Marking</th>\n",
       "      <th>StandingTackle</th>\n",
       "      <th>SlidingTackle</th>\n",
       "      <th>GKDiving</th>\n",
       "      <th>GKHandling</th>\n",
       "      <th>GKKicking</th>\n",
       "      <th>GKPositioning</th>\n",
       "      <th>GKReflexes</th>\n",
       "      <th>Release Clause</th>\n",
       "    </tr>\n",
       "  </thead>\n",
       "  <tbody>\n",
       "    <tr>\n",
       "      <th>0</th>\n",
       "      <td>0</td>\n",
       "      <td>158023</td>\n",
       "      <td>L. Messi</td>\n",
       "      <td>31</td>\n",
       "      <td>https://cdn.sofifa.org/players/4/19/158023.png</td>\n",
       "      <td>Argentina</td>\n",
       "      <td>https://cdn.sofifa.org/flags/52.png</td>\n",
       "      <td>94</td>\n",
       "      <td>94</td>\n",
       "      <td>FC Barcelona</td>\n",
       "      <td>...</td>\n",
       "      <td>96.0</td>\n",
       "      <td>33.0</td>\n",
       "      <td>28.0</td>\n",
       "      <td>26.0</td>\n",
       "      <td>6.0</td>\n",
       "      <td>11.0</td>\n",
       "      <td>15.0</td>\n",
       "      <td>14.0</td>\n",
       "      <td>8.0</td>\n",
       "      <td>€226.5M</td>\n",
       "    </tr>\n",
       "    <tr>\n",
       "      <th>1</th>\n",
       "      <td>1</td>\n",
       "      <td>20801</td>\n",
       "      <td>Cristiano Ronaldo</td>\n",
       "      <td>33</td>\n",
       "      <td>https://cdn.sofifa.org/players/4/19/20801.png</td>\n",
       "      <td>Portugal</td>\n",
       "      <td>https://cdn.sofifa.org/flags/38.png</td>\n",
       "      <td>94</td>\n",
       "      <td>94</td>\n",
       "      <td>Juventus</td>\n",
       "      <td>...</td>\n",
       "      <td>95.0</td>\n",
       "      <td>28.0</td>\n",
       "      <td>31.0</td>\n",
       "      <td>23.0</td>\n",
       "      <td>7.0</td>\n",
       "      <td>11.0</td>\n",
       "      <td>15.0</td>\n",
       "      <td>14.0</td>\n",
       "      <td>11.0</td>\n",
       "      <td>€127.1M</td>\n",
       "    </tr>\n",
       "    <tr>\n",
       "      <th>2</th>\n",
       "      <td>2</td>\n",
       "      <td>190871</td>\n",
       "      <td>Neymar Jr</td>\n",
       "      <td>26</td>\n",
       "      <td>https://cdn.sofifa.org/players/4/19/190871.png</td>\n",
       "      <td>Brazil</td>\n",
       "      <td>https://cdn.sofifa.org/flags/54.png</td>\n",
       "      <td>92</td>\n",
       "      <td>93</td>\n",
       "      <td>Paris Saint-Germain</td>\n",
       "      <td>...</td>\n",
       "      <td>94.0</td>\n",
       "      <td>27.0</td>\n",
       "      <td>24.0</td>\n",
       "      <td>33.0</td>\n",
       "      <td>9.0</td>\n",
       "      <td>9.0</td>\n",
       "      <td>15.0</td>\n",
       "      <td>15.0</td>\n",
       "      <td>11.0</td>\n",
       "      <td>€228.1M</td>\n",
       "    </tr>\n",
       "    <tr>\n",
       "      <th>3</th>\n",
       "      <td>3</td>\n",
       "      <td>193080</td>\n",
       "      <td>De Gea</td>\n",
       "      <td>27</td>\n",
       "      <td>https://cdn.sofifa.org/players/4/19/193080.png</td>\n",
       "      <td>Spain</td>\n",
       "      <td>https://cdn.sofifa.org/flags/45.png</td>\n",
       "      <td>91</td>\n",
       "      <td>93</td>\n",
       "      <td>Manchester United</td>\n",
       "      <td>...</td>\n",
       "      <td>68.0</td>\n",
       "      <td>15.0</td>\n",
       "      <td>21.0</td>\n",
       "      <td>13.0</td>\n",
       "      <td>90.0</td>\n",
       "      <td>85.0</td>\n",
       "      <td>87.0</td>\n",
       "      <td>88.0</td>\n",
       "      <td>94.0</td>\n",
       "      <td>€138.6M</td>\n",
       "    </tr>\n",
       "    <tr>\n",
       "      <th>4</th>\n",
       "      <td>4</td>\n",
       "      <td>192985</td>\n",
       "      <td>K. De Bruyne</td>\n",
       "      <td>27</td>\n",
       "      <td>https://cdn.sofifa.org/players/4/19/192985.png</td>\n",
       "      <td>Belgium</td>\n",
       "      <td>https://cdn.sofifa.org/flags/7.png</td>\n",
       "      <td>91</td>\n",
       "      <td>92</td>\n",
       "      <td>Manchester City</td>\n",
       "      <td>...</td>\n",
       "      <td>88.0</td>\n",
       "      <td>68.0</td>\n",
       "      <td>58.0</td>\n",
       "      <td>51.0</td>\n",
       "      <td>15.0</td>\n",
       "      <td>13.0</td>\n",
       "      <td>5.0</td>\n",
       "      <td>10.0</td>\n",
       "      <td>13.0</td>\n",
       "      <td>€196.4M</td>\n",
       "    </tr>\n",
       "  </tbody>\n",
       "</table>\n",
       "<p>5 rows × 89 columns</p>\n",
       "</div>"
      ],
      "text/plain": [
       "   Unnamed: 0      ID               Name  Age  \\\n",
       "0           0  158023           L. Messi   31   \n",
       "1           1   20801  Cristiano Ronaldo   33   \n",
       "2           2  190871          Neymar Jr   26   \n",
       "3           3  193080             De Gea   27   \n",
       "4           4  192985       K. De Bruyne   27   \n",
       "\n",
       "                                            Photo Nationality  \\\n",
       "0  https://cdn.sofifa.org/players/4/19/158023.png   Argentina   \n",
       "1   https://cdn.sofifa.org/players/4/19/20801.png    Portugal   \n",
       "2  https://cdn.sofifa.org/players/4/19/190871.png      Brazil   \n",
       "3  https://cdn.sofifa.org/players/4/19/193080.png       Spain   \n",
       "4  https://cdn.sofifa.org/players/4/19/192985.png     Belgium   \n",
       "\n",
       "                                  Flag  Overall  Potential  \\\n",
       "0  https://cdn.sofifa.org/flags/52.png       94         94   \n",
       "1  https://cdn.sofifa.org/flags/38.png       94         94   \n",
       "2  https://cdn.sofifa.org/flags/54.png       92         93   \n",
       "3  https://cdn.sofifa.org/flags/45.png       91         93   \n",
       "4   https://cdn.sofifa.org/flags/7.png       91         92   \n",
       "\n",
       "                  Club  ... Composure Marking StandingTackle  SlidingTackle  \\\n",
       "0         FC Barcelona  ...      96.0    33.0           28.0           26.0   \n",
       "1             Juventus  ...      95.0    28.0           31.0           23.0   \n",
       "2  Paris Saint-Germain  ...      94.0    27.0           24.0           33.0   \n",
       "3    Manchester United  ...      68.0    15.0           21.0           13.0   \n",
       "4      Manchester City  ...      88.0    68.0           58.0           51.0   \n",
       "\n",
       "  GKDiving  GKHandling  GKKicking  GKPositioning GKReflexes Release Clause  \n",
       "0      6.0        11.0       15.0           14.0        8.0        €226.5M  \n",
       "1      7.0        11.0       15.0           14.0       11.0        €127.1M  \n",
       "2      9.0         9.0       15.0           15.0       11.0        €228.1M  \n",
       "3     90.0        85.0       87.0           88.0       94.0        €138.6M  \n",
       "4     15.0        13.0        5.0           10.0       13.0        €196.4M  \n",
       "\n",
       "[5 rows x 89 columns]"
      ]
     },
     "execution_count": 10,
     "metadata": {},
     "output_type": "execute_result"
    }
   ],
   "source": [
    "#ref:df_gas=pd.read_csv('C:/Users/fengs/Desktop/pd_real/mathplot\\gas_prices.csv')\n",
    "df_fifa=pd.read_csv(r'C:/Users/fengs/Desktop/pd_real/mathplot\\fifa_data.csv')\n",
    "df_fifa.head()"
   ]
  },
  {
   "cell_type": "markdown",
   "id": "69fe8203",
   "metadata": {},
   "source": [
    "### chapter 19.1 simple pie of football"
   ]
  },
  {
   "cell_type": "code",
   "execution_count": 3,
   "id": "4816db57",
   "metadata": {},
   "outputs": [
    {
     "name": "stdout",
     "output_type": "stream",
     "text": [
      "['Left' 'Right' nan]\n"
     ]
    },
    {
     "data": {
      "text/plain": [
       "4211"
      ]
     },
     "execution_count": 3,
     "metadata": {},
     "output_type": "execute_result"
    }
   ],
   "source": [
    "#1.df_fifa.columns\n",
    "print(df_fifa['Preferred Foot'].unique())\n",
    "#return the count value only,[0] fist\n",
    "df_fifa.loc[df_fifa['Preferred Foot']=='Left'].count()[0]"
   ]
  },
  {
   "cell_type": "raw",
   "id": "96450ad0",
   "metadata": {},
   "source": [
    "matplotlib.pyplot.pie(x, explode=None, labels=None, colors=None, autopct=None, \n",
    "                      pctdistance=0.6, shadow=False, labeldistance=1.1, startangle=0, radius=1, \n",
    "                      counterclock=True, wedgeprops=None, textprops=None, center=(0, 0), \n",
    "                         rotatelabels=False, *, normalize=True, data=None)"
   ]
  },
  {
   "cell_type": "code",
   "execution_count": 5,
   "id": "2e36aa56",
   "metadata": {},
   "outputs": [
    {
     "data": {
      "image/png": "[encoded data removed]",
      "text/plain": [
       "<Figure size 432x288 with 1 Axes>"
      ]
     },
     "metadata": {},
     "output_type": "display_data"
    }
   ],
   "source": [
    "left=df_fifa.loc[df_fifa['Preferred Foot']=='Left'].count()[0]\n",
    "right=df_fifa.loc[df_fifa['Preferred Foot']=='Right'].count()[0]\n",
    "\n",
    "#[left,right] as only can fullin x, 1-d array\n",
    "#'%.2f'=2 float, '%.2f%%'=add % sm\n",
    "plt.pie([left,right],labels=['Lef','Rig'],autopct='%.2f%%') \n",
    "\n",
    "plt.title=('foot preferences of players')\n",
    "plt.legend()\n",
    "plt.show()"
   ]
  },
  {
   "cell_type": "markdown",
   "id": "82550260",
   "metadata": {},
   "source": [
    "### chaper 19.2 more real case of footabll"
   ]
  },
  {
   "cell_type": "code",
   "execution_count": 21,
   "id": "082c181b",
   "metadata": {},
   "outputs": [
    {
     "data": {
      "text/plain": [
       "'159'"
      ]
     },
     "execution_count": 21,
     "metadata": {},
     "output_type": "execute_result"
    }
   ],
   "source": [
    "\"\"\"background\n",
    "1.df_fifa['Weight'].head()\n",
    " 159lbs is str but not number, need to substr\n",
    " but some are number, some ar nan<null>\n",
    " bad data sameple\n",
    " \n",
    " # storing first 3 letters of name as username\n",
    " df['UserName'] = df['Name'].str[:3]\n",
    " \n",
    " #strip()=remove space, \n",
    " strip('xx')=remove char\n",
    "\"\"\"\n",
    "#1:update the Weight column\n",
    "#'folat' object has no attribute 'strip'\n",
    "#list comprehension, only get the true value\n",
    "df_fifa['Weight']=[x.strip('lbs') if type(x)==str else x # 放前面可以令else做額外\n",
    "                   for x in df_fifa['Weight'] \n",
    "                   ] \n",
    "df_fifa['Weight'][0]  # get first number\n",
    "#'159' is str but not number"
   ]
  },
  {
   "cell_type": "raw",
   "id": "03ace995",
   "metadata": {},
   "source": [
    "use for loop+ if in dataframe\n",
    "1.df['new column name'] = df['column name'].apply(\n",
    "    lambda x: 'value if condition is met' if x condition \n",
    "    else 'value if condition is not met')\n"
   ]
  },
  {
   "cell_type": "markdown",
   "id": "54967f5b",
   "metadata": {},
   "source": [
    "### Convert list of NaNs and strings to int?"
   ]
  },
  {
   "cell_type": "code",
   "execution_count": null,
   "id": "6fcb9097",
   "metadata": {},
   "outputs": [],
   "source": []
  },
  {
   "cell_type": "code",
   "execution_count": 57,
   "id": "1c1d1c34",
   "metadata": {
    "scrolled": true
   },
   "outputs": [
    {
     "name": "stdout",
     "output_type": "stream",
     "text": [
      "\n"
     ]
    }
   ],
   "source": [
    "\"\"\"problem 1: 'list' object has no attribute 'astype'\n",
    "一定是df=df.astype(int/float)\n",
    "\"\"\"\n",
    "# df_fifa['Weight']=[x.strip('lbs') if type(x)==str else x # 放前面可以令else做額外\n",
    "#                    for x in df_fifa['Weight'] \n",
    "#                    ].astype[float]\n",
    "#AttributeError: 'list' object has no attribute 'astype'\n",
    "\n",
    "\n",
    "\"\"\"problems 2: some a nan so \n",
    "failed to convert \n",
    "ValueError: cannot convert float NaN to integer\n",
    "#FAILED\n",
    "df_fifa['Weight']=df_fifa['Weight'].astype(int)\n",
    "\"\"\"\n",
    "print()"
   ]
  },
  {
   "cell_type": "markdown",
   "id": "fdf2082a",
   "metadata": {},
   "source": [
    "### note:find NaN rows"
   ]
  },
  {
   "cell_type": "code",
   "execution_count": 49,
   "id": "b162b5cf",
   "metadata": {},
   "outputs": [
    {
     "data": {
      "text/html": [
       "<div>\n",
       "<style scoped>\n",
       "    .dataframe tbody tr th:only-of-type {\n",
       "        vertical-align: middle;\n",
       "    }\n",
       "\n",
       "    .dataframe tbody tr th {\n",
       "        vertical-align: top;\n",
       "    }\n",
       "\n",
       "    .dataframe thead th {\n",
       "        text-align: right;\n",
       "    }\n",
       "</style>\n",
       "<table border=\"1\" class=\"dataframe\">\n",
       "  <thead>\n",
       "    <tr style=\"text-align: right;\">\n",
       "      <th></th>\n",
       "      <th>ID</th>\n",
       "      <th>Name</th>\n",
       "      <th>Age</th>\n",
       "      <th>Weight</th>\n",
       "    </tr>\n",
       "  </thead>\n",
       "  <tbody>\n",
       "    <tr>\n",
       "      <th>13237</th>\n",
       "      <td>195380</td>\n",
       "      <td>J. Barrera</td>\n",
       "      <td>29</td>\n",
       "      <td>NaN</td>\n",
       "    </tr>\n",
       "    <tr>\n",
       "      <th>13239</th>\n",
       "      <td>240437</td>\n",
       "      <td>A. Semprini</td>\n",
       "      <td>20</td>\n",
       "      <td>NaN</td>\n",
       "    </tr>\n",
       "    <tr>\n",
       "      <th>13240</th>\n",
       "      <td>209462</td>\n",
       "      <td>R. Bingham</td>\n",
       "      <td>24</td>\n",
       "      <td>NaN</td>\n",
       "    </tr>\n",
       "    <tr>\n",
       "      <th>13241</th>\n",
       "      <td>219702</td>\n",
       "      <td>K. Dankowski</td>\n",
       "      <td>21</td>\n",
       "      <td>NaN</td>\n",
       "    </tr>\n",
       "    <tr>\n",
       "      <th>13242</th>\n",
       "      <td>225590</td>\n",
       "      <td>I. Colman</td>\n",
       "      <td>23</td>\n",
       "      <td>NaN</td>\n",
       "    </tr>\n",
       "  </tbody>\n",
       "</table>\n",
       "</div>"
      ],
      "text/plain": [
       "           ID          Name  Age Weight\n",
       "13237  195380    J. Barrera   29    NaN\n",
       "13239  240437   A. Semprini   20    NaN\n",
       "13240  209462    R. Bingham   24    NaN\n",
       "13241  219702  K. Dankowski   21    NaN\n",
       "13242  225590     I. Colman   23    NaN"
      ]
     },
     "execution_count": 49,
     "metadata": {},
     "output_type": "execute_result"
    }
   ],
   "source": [
    "\"\"\"\n",
    "df_fifa['Weight'].isna() only return T/F\n",
    "\"\"\"\n",
    "#S1:df.loc[<where conditions>,[cols]]\n",
    "#df_fifa.loc[df_fifa['Weight'].isna(),['ID','Name','Age','Weight']].head()\n",
    "\n",
    "\n",
    "\"\"\"\n",
    "S2:no use pandas, but only add where\n",
    " #df_fifa[df_fifa['Weight'].isna()].head()\n",
    " #df_fifa[where conditions]\n",
    " \n",
    "df_fifa[(df_fifa['Weight'].isna()) & (df_fifa.Age<30)] #valid\n",
    "\"\"\"\n",
    "df_fifa.loc[(df_fifa['Weight'].isna()) & (df_fifa.Age<30) \n",
    "            ,df_fifa.columns.isin(['Age','ID','Name','Weight'])].head()\n",
    "#isin is df attribute, if(x not in listx) when normal condition"
   ]
  },
  {
   "cell_type": "markdown",
   "id": "49edd736",
   "metadata": {},
   "source": [
    "### note:conver nan in string cols to empty str "
   ]
  },
  {
   "cell_type": "code",
   "execution_count": null,
   "id": "ec2572da",
   "metadata": {},
   "outputs": [],
   "source": [
    "df[['column1','column2']] = df[['column1','column2']].fillna('')"
   ]
  },
  {
   "cell_type": "code",
   "execution_count": 64,
   "id": "a33b11de",
   "metadata": {},
   "outputs": [
    {
     "data": {
      "text/plain": [
       "pandas.core.series.Series"
      ]
     },
     "execution_count": 64,
     "metadata": {},
     "output_type": "execute_result"
    }
   ],
   "source": [
    "#1.fill in nan \n",
    "#df_fifa['Weight']=df_fifa['Weight'].fillna('')\n",
    "\n",
    "#2.check whether still nan row \n",
    "#df_fifa[df_fifa['Weight'].isna()]\n",
    "\n",
    "#3.change str to int\n",
    "#ref:df['Price'] = df['Price'].astype(int)\n",
    "\n",
    "type(df_fifa.dtypes) #pandas.core.series.Series"
   ]
  },
  {
   "cell_type": "markdown",
   "id": "2e7cc495",
   "metadata": {},
   "source": [
    "### note:only not show some columns"
   ]
  },
  {
   "cell_type": "code",
   "execution_count": 54,
   "id": "b59b6571",
   "metadata": {},
   "outputs": [
    {
     "data": {
      "text/html": [
       "<div>\n",
       "<style scoped>\n",
       "    .dataframe tbody tr th:only-of-type {\n",
       "        vertical-align: middle;\n",
       "    }\n",
       "\n",
       "    .dataframe tbody tr th {\n",
       "        vertical-align: top;\n",
       "    }\n",
       "\n",
       "    .dataframe thead th {\n",
       "        text-align: right;\n",
       "    }\n",
       "</style>\n",
       "<table border=\"1\" class=\"dataframe\">\n",
       "  <thead>\n",
       "    <tr style=\"text-align: right;\">\n",
       "      <th></th>\n",
       "      <th>ID</th>\n",
       "      <th>Name</th>\n",
       "      <th>Age</th>\n",
       "      <th>Weight</th>\n",
       "    </tr>\n",
       "  </thead>\n",
       "  <tbody>\n",
       "    <tr>\n",
       "      <th>0</th>\n",
       "      <td>158023</td>\n",
       "      <td>L. Messi</td>\n",
       "      <td>31</td>\n",
       "      <td>159</td>\n",
       "    </tr>\n",
       "    <tr>\n",
       "      <th>1</th>\n",
       "      <td>20801</td>\n",
       "      <td>Cristiano Ronaldo</td>\n",
       "      <td>33</td>\n",
       "      <td>183</td>\n",
       "    </tr>\n",
       "    <tr>\n",
       "      <th>2</th>\n",
       "      <td>190871</td>\n",
       "      <td>Neymar Jr</td>\n",
       "      <td>26</td>\n",
       "      <td>150</td>\n",
       "    </tr>\n",
       "    <tr>\n",
       "      <th>3</th>\n",
       "      <td>193080</td>\n",
       "      <td>De Gea</td>\n",
       "      <td>27</td>\n",
       "      <td>168</td>\n",
       "    </tr>\n",
       "  </tbody>\n",
       "</table>\n",
       "</div>"
      ],
      "text/plain": [
       "       ID               Name  Age Weight\n",
       "0  158023           L. Messi   31    159\n",
       "1   20801  Cristiano Ronaldo   33    183\n",
       "2  190871          Neymar Jr   26    150\n",
       "3  193080             De Gea   27    168"
      ]
     },
     "execution_count": 54,
     "metadata": {},
     "output_type": "execute_result"
    }
   ],
   "source": [
    "\"\"\"\n",
    "df.loc[<row condition>,<~df.columns.isin(['a','b'])>]\n",
    "\n",
    "1/exclude one clos\n",
    " #df.loc[:, df.columns!='column1']\n",
    " \n",
    "2/exclude some clos\n",
    "df.loc[:, ~df.columns.isin(['a','b'])]\n",
    "\"\"\"\n",
    "df_fifa.loc[0:3,df_fifa.columns.isin(['Age','ID','Name','Weight'])]"
   ]
  },
  {
   "cell_type": "markdown",
   "id": "49293981",
   "metadata": {},
   "source": [
    "## note: drop cols in dataframe"
   ]
  },
  {
   "cell_type": "code",
   "execution_count": null,
   "id": "31093ea3",
   "metadata": {},
   "outputs": [],
   "source": [
    "newdf = df.drop(\"age\", axis='columns')"
   ]
  },
  {
   "cell_type": "code",
   "execution_count": 66,
   "id": "b2f0a46e",
   "metadata": {},
   "outputs": [],
   "source": [
    "#delete dataframe\n",
    "#del [[df_1,df_2]]\n",
    "del [df_fifa]"
   ]
  },
  {
   "cell_type": "markdown",
   "id": "8f046d47",
   "metadata": {},
   "source": [
    "### 19.2.1 start the football case "
   ]
  },
  {
   "cell_type": "code",
   "execution_count": 6,
   "id": "0065706b",
   "metadata": {},
   "outputs": [
    {
     "data": {
      "text/html": [
       "<div>\n",
       "<style scoped>\n",
       "    .dataframe tbody tr th:only-of-type {\n",
       "        vertical-align: middle;\n",
       "    }\n",
       "\n",
       "    .dataframe tbody tr th {\n",
       "        vertical-align: top;\n",
       "    }\n",
       "\n",
       "    .dataframe thead th {\n",
       "        text-align: right;\n",
       "    }\n",
       "</style>\n",
       "<table border=\"1\" class=\"dataframe\">\n",
       "  <thead>\n",
       "    <tr style=\"text-align: right;\">\n",
       "      <th></th>\n",
       "      <th>Unnamed: 0</th>\n",
       "      <th>ID</th>\n",
       "      <th>Name</th>\n",
       "      <th>Age</th>\n",
       "      <th>Photo</th>\n",
       "      <th>Nationality</th>\n",
       "      <th>Flag</th>\n",
       "      <th>Overall</th>\n",
       "      <th>Potential</th>\n",
       "      <th>Club</th>\n",
       "      <th>...</th>\n",
       "      <th>Composure</th>\n",
       "      <th>Marking</th>\n",
       "      <th>StandingTackle</th>\n",
       "      <th>SlidingTackle</th>\n",
       "      <th>GKDiving</th>\n",
       "      <th>GKHandling</th>\n",
       "      <th>GKKicking</th>\n",
       "      <th>GKPositioning</th>\n",
       "      <th>GKReflexes</th>\n",
       "      <th>Release Clause</th>\n",
       "    </tr>\n",
       "  </thead>\n",
       "  <tbody>\n",
       "    <tr>\n",
       "      <th>0</th>\n",
       "      <td>0</td>\n",
       "      <td>158023</td>\n",
       "      <td>L. Messi</td>\n",
       "      <td>31</td>\n",
       "      <td>https://cdn.sofifa.org/players/4/19/158023.png</td>\n",
       "      <td>Argentina</td>\n",
       "      <td>https://cdn.sofifa.org/flags/52.png</td>\n",
       "      <td>94</td>\n",
       "      <td>94</td>\n",
       "      <td>FC Barcelona</td>\n",
       "      <td>...</td>\n",
       "      <td>96.0</td>\n",
       "      <td>33.0</td>\n",
       "      <td>28.0</td>\n",
       "      <td>26.0</td>\n",
       "      <td>6.0</td>\n",
       "      <td>11.0</td>\n",
       "      <td>15.0</td>\n",
       "      <td>14.0</td>\n",
       "      <td>8.0</td>\n",
       "      <td>€226.5M</td>\n",
       "    </tr>\n",
       "    <tr>\n",
       "      <th>1</th>\n",
       "      <td>1</td>\n",
       "      <td>20801</td>\n",
       "      <td>Cristiano Ronaldo</td>\n",
       "      <td>33</td>\n",
       "      <td>https://cdn.sofifa.org/players/4/19/20801.png</td>\n",
       "      <td>Portugal</td>\n",
       "      <td>https://cdn.sofifa.org/flags/38.png</td>\n",
       "      <td>94</td>\n",
       "      <td>94</td>\n",
       "      <td>Juventus</td>\n",
       "      <td>...</td>\n",
       "      <td>95.0</td>\n",
       "      <td>28.0</td>\n",
       "      <td>31.0</td>\n",
       "      <td>23.0</td>\n",
       "      <td>7.0</td>\n",
       "      <td>11.0</td>\n",
       "      <td>15.0</td>\n",
       "      <td>14.0</td>\n",
       "      <td>11.0</td>\n",
       "      <td>€127.1M</td>\n",
       "    </tr>\n",
       "    <tr>\n",
       "      <th>2</th>\n",
       "      <td>2</td>\n",
       "      <td>190871</td>\n",
       "      <td>Neymar Jr</td>\n",
       "      <td>26</td>\n",
       "      <td>https://cdn.sofifa.org/players/4/19/190871.png</td>\n",
       "      <td>Brazil</td>\n",
       "      <td>https://cdn.sofifa.org/flags/54.png</td>\n",
       "      <td>92</td>\n",
       "      <td>93</td>\n",
       "      <td>Paris Saint-Germain</td>\n",
       "      <td>...</td>\n",
       "      <td>94.0</td>\n",
       "      <td>27.0</td>\n",
       "      <td>24.0</td>\n",
       "      <td>33.0</td>\n",
       "      <td>9.0</td>\n",
       "      <td>9.0</td>\n",
       "      <td>15.0</td>\n",
       "      <td>15.0</td>\n",
       "      <td>11.0</td>\n",
       "      <td>€228.1M</td>\n",
       "    </tr>\n",
       "    <tr>\n",
       "      <th>3</th>\n",
       "      <td>3</td>\n",
       "      <td>193080</td>\n",
       "      <td>De Gea</td>\n",
       "      <td>27</td>\n",
       "      <td>https://cdn.sofifa.org/players/4/19/193080.png</td>\n",
       "      <td>Spain</td>\n",
       "      <td>https://cdn.sofifa.org/flags/45.png</td>\n",
       "      <td>91</td>\n",
       "      <td>93</td>\n",
       "      <td>Manchester United</td>\n",
       "      <td>...</td>\n",
       "      <td>68.0</td>\n",
       "      <td>15.0</td>\n",
       "      <td>21.0</td>\n",
       "      <td>13.0</td>\n",
       "      <td>90.0</td>\n",
       "      <td>85.0</td>\n",
       "      <td>87.0</td>\n",
       "      <td>88.0</td>\n",
       "      <td>94.0</td>\n",
       "      <td>€138.6M</td>\n",
       "    </tr>\n",
       "    <tr>\n",
       "      <th>4</th>\n",
       "      <td>4</td>\n",
       "      <td>192985</td>\n",
       "      <td>K. De Bruyne</td>\n",
       "      <td>27</td>\n",
       "      <td>https://cdn.sofifa.org/players/4/19/192985.png</td>\n",
       "      <td>Belgium</td>\n",
       "      <td>https://cdn.sofifa.org/flags/7.png</td>\n",
       "      <td>91</td>\n",
       "      <td>92</td>\n",
       "      <td>Manchester City</td>\n",
       "      <td>...</td>\n",
       "      <td>88.0</td>\n",
       "      <td>68.0</td>\n",
       "      <td>58.0</td>\n",
       "      <td>51.0</td>\n",
       "      <td>15.0</td>\n",
       "      <td>13.0</td>\n",
       "      <td>5.0</td>\n",
       "      <td>10.0</td>\n",
       "      <td>13.0</td>\n",
       "      <td>€196.4M</td>\n",
       "    </tr>\n",
       "  </tbody>\n",
       "</table>\n",
       "<p>5 rows × 89 columns</p>\n",
       "</div>"
      ],
      "text/plain": [
       "   Unnamed: 0      ID               Name  Age  \\\n",
       "0           0  158023           L. Messi   31   \n",
       "1           1   20801  Cristiano Ronaldo   33   \n",
       "2           2  190871          Neymar Jr   26   \n",
       "3           3  193080             De Gea   27   \n",
       "4           4  192985       K. De Bruyne   27   \n",
       "\n",
       "                                            Photo Nationality  \\\n",
       "0  https://cdn.sofifa.org/players/4/19/158023.png   Argentina   \n",
       "1   https://cdn.sofifa.org/players/4/19/20801.png    Portugal   \n",
       "2  https://cdn.sofifa.org/players/4/19/190871.png      Brazil   \n",
       "3  https://cdn.sofifa.org/players/4/19/193080.png       Spain   \n",
       "4  https://cdn.sofifa.org/players/4/19/192985.png     Belgium   \n",
       "\n",
       "                                  Flag  Overall  Potential  \\\n",
       "0  https://cdn.sofifa.org/flags/52.png       94         94   \n",
       "1  https://cdn.sofifa.org/flags/38.png       94         94   \n",
       "2  https://cdn.sofifa.org/flags/54.png       92         93   \n",
       "3  https://cdn.sofifa.org/flags/45.png       91         93   \n",
       "4   https://cdn.sofifa.org/flags/7.png       91         92   \n",
       "\n",
       "                  Club  ... Composure Marking StandingTackle  SlidingTackle  \\\n",
       "0         FC Barcelona  ...      96.0    33.0           28.0           26.0   \n",
       "1             Juventus  ...      95.0    28.0           31.0           23.0   \n",
       "2  Paris Saint-Germain  ...      94.0    27.0           24.0           33.0   \n",
       "3    Manchester United  ...      68.0    15.0           21.0           13.0   \n",
       "4      Manchester City  ...      88.0    68.0           58.0           51.0   \n",
       "\n",
       "  GKDiving  GKHandling  GKKicking  GKPositioning GKReflexes Release Clause  \n",
       "0      6.0        11.0       15.0           14.0        8.0        €226.5M  \n",
       "1      7.0        11.0       15.0           14.0       11.0        €127.1M  \n",
       "2      9.0         9.0       15.0           15.0       11.0        €228.1M  \n",
       "3     90.0        85.0       87.0           88.0       94.0        €138.6M  \n",
       "4     15.0        13.0        5.0           10.0       13.0        €196.4M  \n",
       "\n",
       "[5 rows x 89 columns]"
      ]
     },
     "execution_count": 6,
     "metadata": {},
     "output_type": "execute_result"
    }
   ],
   "source": [
    "#1.del first\n",
    "#del [df_fifa]\n",
    "df_fifa=pd.read_csv(r'C:/Users/fengs/Desktop/pd_real/mathplot\\fifa_data.csv')\n",
    "df_fifa.head()"
   ]
  },
  {
   "cell_type": "code",
   "execution_count": 4,
   "id": "49f4acfc",
   "metadata": {},
   "outputs": [
    {
     "name": "stdout",
     "output_type": "stream",
     "text": [
      "159.0\n",
      "float64\n"
     ]
    }
   ],
   "source": [
    "df_fifa['Weight']=[int(x.strip('lbs')) if type(x)==str else x # 放前面可以令else做額外\n",
    "                   for x in df_fifa['Weight'] \n",
    "                   ] \n",
    "print(df_fifa['Weight'][0])\n",
    "print(df_fifa['Weight'].dtype)"
   ]
  },
  {
   "cell_type": "code",
   "execution_count": 13,
   "id": "3be010c8",
   "metadata": {},
   "outputs": [
    {
     "data": {
      "image/png": "[encoded data removed]",
      "text/plain": [
       "<Figure size 432x288 with 1 Axes>"
      ]
     },
     "metadata": {},
     "output_type": "display_data"
    }
   ],
   "source": [
    "light=df_fifa.loc[df_fifa.Weight<125].count()[0]\n",
    "medium=df_fifa.loc[df_fifa.Weight.between(125,150)].count()[0]\n",
    "heavy=df_fifa.loc[df_fifa.Weight.between(151,175)].count()[0]\n",
    "giant=df_fifa.loc[df_fifa.Weight.between(175,200)].count()[0]\n",
    "sg=df_fifa.loc[df_fifa.Weight>200].count()[0]\n",
    "\n",
    "#number list but not string name list,as put as x in plt.pie(x)\n",
    "weights=[light,medium,heavy,giant,sg]\n",
    "#labels names list\n",
    "labels=['<125','125-150','151-175','176-200','>200']\n",
    "\n",
    "plt.pie(weights,labels=labels,autopct='%0.2f')\n",
    "plt.show()"
   ]
  },
  {
   "cell_type": "code",
   "execution_count": 24,
   "id": "875603a3",
   "metadata": {},
   "outputs": [
    {
     "data": {
      "image/png": "[encoded data removed]",
      "text/plain": [
       "<Figure size 432x288 with 1 Axes>"
      ]
     },
     "metadata": {},
     "output_type": "display_data"
    }
   ],
   "source": [
    "\"\"\"fine-tune pie above\n",
    "1.explode()\n",
    "2.pctdistance=<0.6-0.8>\n",
    "\"\"\"\n",
    "plt.stype=('ggplot') # one color/display template \n",
    "plt.title=('Weight of Player')\n",
    "\n",
    "plt.pie(weights,labels=labels,autopct='%0.2f',pctdistance=0.8,explode=(0.4,0,0,0,0.6)) \n",
    "#as only <125 ,>200 are tight,數番上面weights[]排位\n",
    "\n",
    "plt.legend() # give the color description\n",
    "plt.show()"
   ]
  },
  {
   "cell_type": "markdown",
   "id": "be97c078",
   "metadata": {},
   "source": [
    "### chapter 19.3 boxplot"
   ]
  },
  {
   "cell_type": "raw",
   "id": "3a5177e9",
   "metadata": {},
   "source": [
    "boxplot(箱形圖)compare 大家的 5個數字：\n",
    "1.頭min，max,top 25%/75%，median,\n",
    "\n",
    "display the five-number summary of a dataset\n",
    "min/max/1st quartile/median/3rd quartile"
   ]
  },
  {
   "cell_type": "markdown",
   "id": "08e4d13d",
   "metadata": {},
   "source": [
    "### 19.3.1 basic example"
   ]
  },
  {
   "cell_type": "code",
   "execution_count": null,
   "id": "aa548756",
   "metadata": {},
   "outputs": [],
   "source": [
    "df=pf.DataFrame{'A':[1,1,2,2],\n",
    "                'B':[''],\n",
    "    \n",
    "}"
   ]
  },
  {
   "cell_type": "code",
   "execution_count": null,
   "id": "eeef119e",
   "metadata": {},
   "outputs": [],
   "source": []
  },
  {
   "cell_type": "code",
   "execution_count": 30,
   "id": "6b9ea907",
   "metadata": {},
   "outputs": [
    {
     "data": {
      "image/png": "[encoded data removed]",
      "text/plain": [
       "<Figure size 432x288 with 1 Axes>"
      ]
     },
     "metadata": {
      "needs_background": "light"
     },
     "output_type": "display_data"
    }
   ],
   "source": [
    "\"\"\"syntax\n",
    "plt.boxplot([d1,d2],....) [x,y] is data,if single just x,\n",
    "\"\"\"\n",
    "barcelona=df_fifa.loc[df_fifa.Club=='FC Barcelona']['Overall']\n",
    "madrid=df_fifa.loc[df_fifa.Club=='Real Madrid']['Overall']\n",
    "revs=df_fifa.loc[df_fifa.Club=='New England Revolution']['Overall']\n",
    "\n",
    "plt.boxplot([barcelona,madrid,revs],labels=['barce','Mad','REV'])\n",
    "\n",
    "plt.title=('Team Soccer Comparsion')\n",
    "plt.ylabel=('Overall Rate')\n",
    "\n",
    "plt.show()"
   ]
  },
  {
   "cell_type": "markdown",
   "id": "fabae6c3",
   "metadata": {},
   "source": [
    "### chapter 19.x:create nested pie with subplot"
   ]
  },
  {
   "cell_type": "code",
   "execution_count": null,
   "id": "c2ff9801",
   "metadata": {},
   "outputs": [],
   "source": []
  },
  {
   "cell_type": "markdown",
   "id": "c2c5902c",
   "metadata": {},
   "source": [
    "## chpater 20:statistic Pandas "
   ]
  },
  {
   "cell_type": "code",
   "execution_count": null,
   "id": "55bc042c",
   "metadata": {},
   "outputs": [],
   "source": [
    "1.video link:\n",
    "    https://www.youtube.com/watch?v=txMdrV1Ut64\n",
    "2.ref link\n",
    "      https://www.geeksforgeeks.org/python-pandas-dataframe-groupby/"
   ]
  },
  {
   "cell_type": "markdown",
   "id": "8126e3df",
   "metadata": {},
   "source": [
    "### chapter 20.1 groupby"
   ]
  },
  {
   "cell_type": "raw",
   "id": "d4b9acb7",
   "metadata": {},
   "source": [
    "Syntax: df.groupby(by=None, axis=0, level=None, \n",
    "              as_index=True, sort=True, group_keys=True, squeeze=False, **kwargs)"
   ]
  },
  {
   "cell_type": "markdown",
   "id": "95787b49",
   "metadata": {},
   "source": [
    "### EX1: NBA worker info"
   ]
  },
  {
   "cell_type": "code",
   "execution_count": 7,
   "id": "6a188917",
   "metadata": {},
   "outputs": [
    {
     "data": {
      "text/html": [
       "<div>\n",
       "<style scoped>\n",
       "    .dataframe tbody tr th:only-of-type {\n",
       "        vertical-align: middle;\n",
       "    }\n",
       "\n",
       "    .dataframe tbody tr th {\n",
       "        vertical-align: top;\n",
       "    }\n",
       "\n",
       "    .dataframe thead th {\n",
       "        text-align: right;\n",
       "    }\n",
       "</style>\n",
       "<table border=\"1\" class=\"dataframe\">\n",
       "  <thead>\n",
       "    <tr style=\"text-align: right;\">\n",
       "      <th></th>\n",
       "      <th>Name</th>\n",
       "      <th>Team</th>\n",
       "      <th>Number</th>\n",
       "      <th>Position</th>\n",
       "      <th>Age</th>\n",
       "      <th>Height</th>\n",
       "      <th>Weight</th>\n",
       "      <th>College</th>\n",
       "      <th>Salary</th>\n",
       "    </tr>\n",
       "  </thead>\n",
       "  <tbody>\n",
       "    <tr>\n",
       "      <th>0</th>\n",
       "      <td>Avery Bradley</td>\n",
       "      <td>Boston Celtics</td>\n",
       "      <td>0.0</td>\n",
       "      <td>PG</td>\n",
       "      <td>25.0</td>\n",
       "      <td>6-2</td>\n",
       "      <td>180.0</td>\n",
       "      <td>Texas</td>\n",
       "      <td>7730337.0</td>\n",
       "    </tr>\n",
       "    <tr>\n",
       "      <th>1</th>\n",
       "      <td>Jae Crowder</td>\n",
       "      <td>Boston Celtics</td>\n",
       "      <td>99.0</td>\n",
       "      <td>SF</td>\n",
       "      <td>25.0</td>\n",
       "      <td>6-6</td>\n",
       "      <td>235.0</td>\n",
       "      <td>Marquette</td>\n",
       "      <td>6796117.0</td>\n",
       "    </tr>\n",
       "    <tr>\n",
       "      <th>2</th>\n",
       "      <td>John Holland</td>\n",
       "      <td>Boston Celtics</td>\n",
       "      <td>30.0</td>\n",
       "      <td>SG</td>\n",
       "      <td>27.0</td>\n",
       "      <td>6-5</td>\n",
       "      <td>205.0</td>\n",
       "      <td>Boston University</td>\n",
       "      <td>NaN</td>\n",
       "    </tr>\n",
       "    <tr>\n",
       "      <th>3</th>\n",
       "      <td>R.J. Hunter</td>\n",
       "      <td>Boston Celtics</td>\n",
       "      <td>28.0</td>\n",
       "      <td>SG</td>\n",
       "      <td>22.0</td>\n",
       "      <td>6-5</td>\n",
       "      <td>185.0</td>\n",
       "      <td>Georgia State</td>\n",
       "      <td>1148640.0</td>\n",
       "    </tr>\n",
       "    <tr>\n",
       "      <th>4</th>\n",
       "      <td>Jonas Jerebko</td>\n",
       "      <td>Boston Celtics</td>\n",
       "      <td>8.0</td>\n",
       "      <td>PF</td>\n",
       "      <td>29.0</td>\n",
       "      <td>6-10</td>\n",
       "      <td>231.0</td>\n",
       "      <td>NaN</td>\n",
       "      <td>5000000.0</td>\n",
       "    </tr>\n",
       "  </tbody>\n",
       "</table>\n",
       "</div>"
      ],
      "text/plain": [
       "            Name            Team  Number Position   Age Height  Weight  \\\n",
       "0  Avery Bradley  Boston Celtics     0.0       PG  25.0    6-2   180.0   \n",
       "1    Jae Crowder  Boston Celtics    99.0       SF  25.0    6-6   235.0   \n",
       "2   John Holland  Boston Celtics    30.0       SG  27.0    6-5   205.0   \n",
       "3    R.J. Hunter  Boston Celtics    28.0       SG  22.0    6-5   185.0   \n",
       "4  Jonas Jerebko  Boston Celtics     8.0       PF  29.0   6-10   231.0   \n",
       "\n",
       "             College     Salary  \n",
       "0              Texas  7730337.0  \n",
       "1          Marquette  6796117.0  \n",
       "2  Boston University        NaN  \n",
       "3      Georgia State  1148640.0  \n",
       "4                NaN  5000000.0  "
      ]
     },
     "execution_count": 7,
     "metadata": {},
     "output_type": "execute_result"
    }
   ],
   "source": [
    "#ref:df_fifa=pd.read_csv(r'C:/Users/fengs/Desktop/pd_real/mathplot\\fifa_data.csv')\n",
    "df_nba=pd.read_csv(r'C:\\Users\\fengs\\Desktop\\pd_real\\nba.csv')\n",
    "df_nba.head()"
   ]
  },
  {
   "cell_type": "code",
   "execution_count": 8,
   "id": "dc001cd9",
   "metadata": {},
   "outputs": [
    {
     "data": {
      "text/plain": [
       "array(['Boston Celtics', 'Brooklyn Nets', 'New York Knicks',\n",
       "       'Philadelphia 76ers', 'Toronto Raptors', 'Golden State Warriors',\n",
       "       'Los Angeles Clippers', 'Los Angeles Lakers', 'Phoenix Suns',\n",
       "       'Sacramento Kings', 'Chicago Bulls', 'Cleveland Cavaliers',\n",
       "       'Detroit Pistons', 'Indiana Pacers', 'Milwaukee Bucks',\n",
       "       'Dallas Mavericks', 'Houston Rockets', 'Memphis Grizzlies',\n",
       "       'New Orleans Pelicans', 'San Antonio Spurs', 'Atlanta Hawks',\n",
       "       'Charlotte Hornets', 'Miami Heat', 'Orlando Magic',\n",
       "       'Washington Wizards', 'Denver Nuggets', 'Minnesota Timberwolves',\n",
       "       'Oklahoma City Thunder', 'Portland Trail Blazers', 'Utah Jazz',\n",
       "       nan], dtype=object)"
      ]
     },
     "execution_count": 8,
     "metadata": {},
     "output_type": "execute_result"
    }
   ],
   "source": [
    "#show unique\n",
    "print(df_nba['Team'].unique())"
   ]
  },
  {
   "cell_type": "code",
   "execution_count": 14,
   "id": "b8f6a5e2",
   "metadata": {},
   "outputs": [
    {
     "data": {
      "text/html": [
       "<div>\n",
       "<style scoped>\n",
       "    .dataframe tbody tr th:only-of-type {\n",
       "        vertical-align: middle;\n",
       "    }\n",
       "\n",
       "    .dataframe tbody tr th {\n",
       "        vertical-align: top;\n",
       "    }\n",
       "\n",
       "    .dataframe thead th {\n",
       "        text-align: right;\n",
       "    }\n",
       "</style>\n",
       "<table border=\"1\" class=\"dataframe\">\n",
       "  <thead>\n",
       "    <tr style=\"text-align: right;\">\n",
       "      <th></th>\n",
       "      <th>Name</th>\n",
       "      <th>Number</th>\n",
       "      <th>Position</th>\n",
       "      <th>Age</th>\n",
       "      <th>Height</th>\n",
       "      <th>Weight</th>\n",
       "      <th>College</th>\n",
       "      <th>Salary</th>\n",
       "    </tr>\n",
       "    <tr>\n",
       "      <th>Team</th>\n",
       "      <th></th>\n",
       "      <th></th>\n",
       "      <th></th>\n",
       "      <th></th>\n",
       "      <th></th>\n",
       "      <th></th>\n",
       "      <th></th>\n",
       "      <th></th>\n",
       "    </tr>\n",
       "  </thead>\n",
       "  <tbody>\n",
       "    <tr>\n",
       "      <th>Atlanta Hawks</th>\n",
       "      <td>Kent Bazemore</td>\n",
       "      <td>24.0</td>\n",
       "      <td>SF</td>\n",
       "      <td>26.0</td>\n",
       "      <td>6-5</td>\n",
       "      <td>201.0</td>\n",
       "      <td>Old Dominion</td>\n",
       "      <td>2000000.0</td>\n",
       "    </tr>\n",
       "    <tr>\n",
       "      <th>Boston Celtics</th>\n",
       "      <td>Avery Bradley</td>\n",
       "      <td>0.0</td>\n",
       "      <td>PG</td>\n",
       "      <td>25.0</td>\n",
       "      <td>6-2</td>\n",
       "      <td>180.0</td>\n",
       "      <td>Texas</td>\n",
       "      <td>7730337.0</td>\n",
       "    </tr>\n",
       "    <tr>\n",
       "      <th>Brooklyn Nets</th>\n",
       "      <td>Bojan Bogdanovic</td>\n",
       "      <td>44.0</td>\n",
       "      <td>SG</td>\n",
       "      <td>27.0</td>\n",
       "      <td>6-8</td>\n",
       "      <td>216.0</td>\n",
       "      <td>Oklahoma State</td>\n",
       "      <td>3425510.0</td>\n",
       "    </tr>\n",
       "    <tr>\n",
       "      <th>Charlotte Hornets</th>\n",
       "      <td>Nicolas Batum</td>\n",
       "      <td>5.0</td>\n",
       "      <td>SG</td>\n",
       "      <td>27.0</td>\n",
       "      <td>6-8</td>\n",
       "      <td>200.0</td>\n",
       "      <td>Virginia Commonwealth</td>\n",
       "      <td>13125306.0</td>\n",
       "    </tr>\n",
       "    <tr>\n",
       "      <th>Chicago Bulls</th>\n",
       "      <td>Cameron Bairstow</td>\n",
       "      <td>41.0</td>\n",
       "      <td>PF</td>\n",
       "      <td>25.0</td>\n",
       "      <td>6-9</td>\n",
       "      <td>250.0</td>\n",
       "      <td>New Mexico</td>\n",
       "      <td>845059.0</td>\n",
       "    </tr>\n",
       "  </tbody>\n",
       "</table>\n",
       "</div>"
      ],
      "text/plain": [
       "                               Name  Number Position   Age Height  Weight  \\\n",
       "Team                                                                        \n",
       "Atlanta Hawks         Kent Bazemore    24.0       SF  26.0    6-5   201.0   \n",
       "Boston Celtics        Avery Bradley     0.0       PG  25.0    6-2   180.0   \n",
       "Brooklyn Nets      Bojan Bogdanovic    44.0       SG  27.0    6-8   216.0   \n",
       "Charlotte Hornets     Nicolas Batum     5.0       SG  27.0    6-8   200.0   \n",
       "Chicago Bulls      Cameron Bairstow    41.0       PF  25.0    6-9   250.0   \n",
       "\n",
       "                                 College      Salary  \n",
       "Team                                                  \n",
       "Atlanta Hawks               Old Dominion   2000000.0  \n",
       "Boston Celtics                     Texas   7730337.0  \n",
       "Brooklyn Nets             Oklahoma State   3425510.0  \n",
       "Charlotte Hornets  Virginia Commonwealth  13125306.0  \n",
       "Chicago Bulls                 New Mexico    845059.0  "
      ]
     },
     "execution_count": 14,
     "metadata": {},
     "output_type": "execute_result"
    }
   ],
   "source": [
    "\"\"\"\n",
    "1.df.groupby(['<col_name>'].<arg>())\n",
    "#<arg>.():mean(),count()\n",
    "\"\"\"\n",
    "team=df_nba.groupby('Team') #return a ref_no\n",
    "team.first().head()  #first() return 1st record of each group"
   ]
  },
  {
   "cell_type": "code",
   "execution_count": 16,
   "id": "1da6af9f",
   "metadata": {},
   "outputs": [
    {
     "data": {
      "text/html": [
       "<div>\n",
       "<style scoped>\n",
       "    .dataframe tbody tr th:only-of-type {\n",
       "        vertical-align: middle;\n",
       "    }\n",
       "\n",
       "    .dataframe tbody tr th {\n",
       "        vertical-align: top;\n",
       "    }\n",
       "\n",
       "    .dataframe thead th {\n",
       "        text-align: right;\n",
       "    }\n",
       "</style>\n",
       "<table border=\"1\" class=\"dataframe\">\n",
       "  <thead>\n",
       "    <tr style=\"text-align: right;\">\n",
       "      <th></th>\n",
       "      <th>Name</th>\n",
       "      <th>Team</th>\n",
       "      <th>Number</th>\n",
       "      <th>Position</th>\n",
       "      <th>Age</th>\n",
       "      <th>Height</th>\n",
       "      <th>Weight</th>\n",
       "      <th>College</th>\n",
       "      <th>Salary</th>\n",
       "    </tr>\n",
       "  </thead>\n",
       "  <tbody>\n",
       "    <tr>\n",
       "      <th>43</th>\n",
       "      <td>Sasha Vujacic</td>\n",
       "      <td>New York Knicks</td>\n",
       "      <td>18.0</td>\n",
       "      <td>SG</td>\n",
       "      <td>32.0</td>\n",
       "      <td>6-7</td>\n",
       "      <td>195.0</td>\n",
       "      <td>NaN</td>\n",
       "      <td>947276.0</td>\n",
       "    </tr>\n",
       "    <tr>\n",
       "      <th>44</th>\n",
       "      <td>Derrick Williams</td>\n",
       "      <td>New York Knicks</td>\n",
       "      <td>23.0</td>\n",
       "      <td>PF</td>\n",
       "      <td>25.0</td>\n",
       "      <td>6-8</td>\n",
       "      <td>240.0</td>\n",
       "      <td>Arizona</td>\n",
       "      <td>4000000.0</td>\n",
       "    </tr>\n",
       "    <tr>\n",
       "      <th>45</th>\n",
       "      <td>Tony Wroten</td>\n",
       "      <td>New York Knicks</td>\n",
       "      <td>5.0</td>\n",
       "      <td>SG</td>\n",
       "      <td>23.0</td>\n",
       "      <td>6-6</td>\n",
       "      <td>205.0</td>\n",
       "      <td>Washington</td>\n",
       "      <td>167406.0</td>\n",
       "    </tr>\n",
       "  </tbody>\n",
       "</table>\n",
       "</div>"
      ],
      "text/plain": [
       "                Name             Team  Number Position   Age Height  Weight  \\\n",
       "43     Sasha Vujacic  New York Knicks    18.0       SG  32.0    6-7   195.0   \n",
       "44  Derrick Williams  New York Knicks    23.0       PF  25.0    6-8   240.0   \n",
       "45       Tony Wroten  New York Knicks     5.0       SG  23.0    6-6   205.0   \n",
       "\n",
       "       College     Salary  \n",
       "43         NaN   947276.0  \n",
       "44     Arizona  4000000.0  \n",
       "45  Washington   167406.0  "
      ]
     },
     "execution_count": 16,
     "metadata": {},
     "output_type": "execute_result"
    }
   ],
   "source": [
    "#return a specfici group value\n",
    "team.get_group('New York Knicks').tail(3)"
   ]
  },
  {
   "cell_type": "code",
   "execution_count": 18,
   "id": "c0f29071",
   "metadata": {},
   "outputs": [
    {
     "data": {
      "text/html": [
       "<div>\n",
       "<style scoped>\n",
       "    .dataframe tbody tr th:only-of-type {\n",
       "        vertical-align: middle;\n",
       "    }\n",
       "\n",
       "    .dataframe tbody tr th {\n",
       "        vertical-align: top;\n",
       "    }\n",
       "\n",
       "    .dataframe thead th {\n",
       "        text-align: right;\n",
       "    }\n",
       "</style>\n",
       "<table border=\"1\" class=\"dataframe\">\n",
       "  <thead>\n",
       "    <tr style=\"text-align: right;\">\n",
       "      <th></th>\n",
       "      <th></th>\n",
       "      <th>Name</th>\n",
       "      <th>Number</th>\n",
       "      <th>Age</th>\n",
       "      <th>Height</th>\n",
       "      <th>Weight</th>\n",
       "      <th>College</th>\n",
       "      <th>Salary</th>\n",
       "    </tr>\n",
       "    <tr>\n",
       "      <th>Team</th>\n",
       "      <th>Position</th>\n",
       "      <th></th>\n",
       "      <th></th>\n",
       "      <th></th>\n",
       "      <th></th>\n",
       "      <th></th>\n",
       "      <th></th>\n",
       "      <th></th>\n",
       "    </tr>\n",
       "  </thead>\n",
       "  <tbody>\n",
       "    <tr>\n",
       "      <th rowspan=\"5\" valign=\"top\">Atlanta Hawks</th>\n",
       "      <th>C</th>\n",
       "      <td>Al Horford</td>\n",
       "      <td>15.0</td>\n",
       "      <td>30.0</td>\n",
       "      <td>6-10</td>\n",
       "      <td>245.0</td>\n",
       "      <td>Florida</td>\n",
       "      <td>12000000.0</td>\n",
       "    </tr>\n",
       "    <tr>\n",
       "      <th>PF</th>\n",
       "      <td>Kris Humphries</td>\n",
       "      <td>43.0</td>\n",
       "      <td>31.0</td>\n",
       "      <td>6-9</td>\n",
       "      <td>235.0</td>\n",
       "      <td>Minnesota</td>\n",
       "      <td>1000000.0</td>\n",
       "    </tr>\n",
       "    <tr>\n",
       "      <th>PG</th>\n",
       "      <td>Dennis Schroder</td>\n",
       "      <td>17.0</td>\n",
       "      <td>22.0</td>\n",
       "      <td>6-1</td>\n",
       "      <td>172.0</td>\n",
       "      <td>Wake Forest</td>\n",
       "      <td>1763400.0</td>\n",
       "    </tr>\n",
       "    <tr>\n",
       "      <th>SF</th>\n",
       "      <td>Kent Bazemore</td>\n",
       "      <td>24.0</td>\n",
       "      <td>26.0</td>\n",
       "      <td>6-5</td>\n",
       "      <td>201.0</td>\n",
       "      <td>Old Dominion</td>\n",
       "      <td>2000000.0</td>\n",
       "    </tr>\n",
       "    <tr>\n",
       "      <th>SG</th>\n",
       "      <td>Tim Hardaway Jr.</td>\n",
       "      <td>10.0</td>\n",
       "      <td>24.0</td>\n",
       "      <td>6-6</td>\n",
       "      <td>205.0</td>\n",
       "      <td>Michigan</td>\n",
       "      <td>1304520.0</td>\n",
       "    </tr>\n",
       "    <tr>\n",
       "      <th>...</th>\n",
       "      <th>...</th>\n",
       "      <td>...</td>\n",
       "      <td>...</td>\n",
       "      <td>...</td>\n",
       "      <td>...</td>\n",
       "      <td>...</td>\n",
       "      <td>...</td>\n",
       "      <td>...</td>\n",
       "    </tr>\n",
       "    <tr>\n",
       "      <th rowspan=\"5\" valign=\"top\">Washington Wizards</th>\n",
       "      <th>C</th>\n",
       "      <td>Marcin Gortat</td>\n",
       "      <td>13.0</td>\n",
       "      <td>32.0</td>\n",
       "      <td>6-11</td>\n",
       "      <td>240.0</td>\n",
       "      <td>North Carolina State</td>\n",
       "      <td>11217391.0</td>\n",
       "    </tr>\n",
       "    <tr>\n",
       "      <th>PF</th>\n",
       "      <td>Drew Gooden</td>\n",
       "      <td>90.0</td>\n",
       "      <td>34.0</td>\n",
       "      <td>6-10</td>\n",
       "      <td>250.0</td>\n",
       "      <td>Kansas</td>\n",
       "      <td>3300000.0</td>\n",
       "    </tr>\n",
       "    <tr>\n",
       "      <th>PG</th>\n",
       "      <td>Ramon Sessions</td>\n",
       "      <td>7.0</td>\n",
       "      <td>30.0</td>\n",
       "      <td>6-3</td>\n",
       "      <td>190.0</td>\n",
       "      <td>Nevada</td>\n",
       "      <td>2170465.0</td>\n",
       "    </tr>\n",
       "    <tr>\n",
       "      <th>SF</th>\n",
       "      <td>Jared Dudley</td>\n",
       "      <td>1.0</td>\n",
       "      <td>30.0</td>\n",
       "      <td>6-7</td>\n",
       "      <td>225.0</td>\n",
       "      <td>Boston College</td>\n",
       "      <td>4375000.0</td>\n",
       "    </tr>\n",
       "    <tr>\n",
       "      <th>SG</th>\n",
       "      <td>Alan Anderson</td>\n",
       "      <td>6.0</td>\n",
       "      <td>33.0</td>\n",
       "      <td>6-6</td>\n",
       "      <td>220.0</td>\n",
       "      <td>Michigan State</td>\n",
       "      <td>4000000.0</td>\n",
       "    </tr>\n",
       "  </tbody>\n",
       "</table>\n",
       "<p>149 rows × 7 columns</p>\n",
       "</div>"
      ],
      "text/plain": [
       "                                         Name  Number   Age Height  Weight  \\\n",
       "Team               Position                                                  \n",
       "Atlanta Hawks      C               Al Horford    15.0  30.0   6-10   245.0   \n",
       "                   PF          Kris Humphries    43.0  31.0    6-9   235.0   \n",
       "                   PG         Dennis Schroder    17.0  22.0    6-1   172.0   \n",
       "                   SF           Kent Bazemore    24.0  26.0    6-5   201.0   \n",
       "                   SG        Tim Hardaway Jr.    10.0  24.0    6-6   205.0   \n",
       "...                                       ...     ...   ...    ...     ...   \n",
       "Washington Wizards C            Marcin Gortat    13.0  32.0   6-11   240.0   \n",
       "                   PF             Drew Gooden    90.0  34.0   6-10   250.0   \n",
       "                   PG          Ramon Sessions     7.0  30.0    6-3   190.0   \n",
       "                   SF            Jared Dudley     1.0  30.0    6-7   225.0   \n",
       "                   SG           Alan Anderson     6.0  33.0    6-6   220.0   \n",
       "\n",
       "                                          College      Salary  \n",
       "Team               Position                                    \n",
       "Atlanta Hawks      C                      Florida  12000000.0  \n",
       "                   PF                   Minnesota   1000000.0  \n",
       "                   PG                 Wake Forest   1763400.0  \n",
       "                   SF                Old Dominion   2000000.0  \n",
       "                   SG                    Michigan   1304520.0  \n",
       "...                                           ...         ...  \n",
       "Washington Wizards C         North Carolina State  11217391.0  \n",
       "                   PF                      Kansas   3300000.0  \n",
       "                   PG                      Nevada   2170465.0  \n",
       "                   SF              Boston College   4375000.0  \n",
       "                   SG              Michigan State   4000000.0  \n",
       "\n",
       "[149 rows x 7 columns]"
      ]
     },
     "execution_count": 18,
     "metadata": {},
     "output_type": "execute_result"
    }
   ],
   "source": [
    "\"\"\"group by 2 cols\n",
    "\"\"\"\n",
    "#use <df_name>.groupby, but not pd.groupby()\n",
    "duo_group=df_nba.groupby(['Team','Position'])\n",
    "duo_group.first()"
   ]
  },
  {
   "cell_type": "code",
   "execution_count": 27,
   "id": "a186dd24",
   "metadata": {},
   "outputs": [
    {
     "data": {
      "text/plain": [
       "Team\n",
       "Atlanta Hawks        15\n",
       "Boston Celtics       15\n",
       "Brooklyn Nets        15\n",
       "Charlotte Hornets    15\n",
       "Chicago Bulls        15\n",
       "Name: Team, dtype: int64"
      ]
     },
     "execution_count": 27,
     "metadata": {},
     "output_type": "execute_result"
    }
   ],
   "source": [
    "\"\"\"2.with agg function\n",
    "groupby(['co2l'])['col2'].sum()/mean()\n",
    "yet didnot add any where conditon\n",
    "\"\"\"\n",
    "df_nba.groupby(['Team'])['Team'].count().head()"
   ]
  },
  {
   "cell_type": "code",
   "execution_count": 25,
   "id": "82feed7b",
   "metadata": {
    "scrolled": true
   },
   "outputs": [
    {
     "data": {
      "text/plain": [
       "Team                \n",
       "New Orleans Pelicans    19\n",
       "Memphis Grizzlies       18\n",
       "New York Knicks         16\n",
       "Milwaukee Bucks         16\n",
       "Atlanta Hawks           15\n",
       "dtype: int64"
      ]
     },
     "execution_count": 25,
     "metadata": {},
     "output_type": "execute_result"
    }
   ],
   "source": [
    "#same as above\n",
    "df_nba.value_counts(['Team']).head()"
   ]
  },
  {
   "cell_type": "markdown",
   "id": "8d59e96b",
   "metadata": {},
   "source": [
    "### Groupby+agg()"
   ]
  },
  {
   "cell_type": "code",
   "execution_count": 31,
   "id": "fd4b0cc4",
   "metadata": {},
   "outputs": [
    {
     "data": {
      "text/html": [
       "<div>\n",
       "<style scoped>\n",
       "    .dataframe tbody tr th:only-of-type {\n",
       "        vertical-align: middle;\n",
       "    }\n",
       "\n",
       "    .dataframe tbody tr th {\n",
       "        vertical-align: top;\n",
       "    }\n",
       "\n",
       "    .dataframe thead th {\n",
       "        text-align: right;\n",
       "    }\n",
       "</style>\n",
       "<table border=\"1\" class=\"dataframe\">\n",
       "  <thead>\n",
       "    <tr style=\"text-align: right;\">\n",
       "      <th></th>\n",
       "      <th>min</th>\n",
       "      <th>max</th>\n",
       "    </tr>\n",
       "    <tr>\n",
       "      <th>Team</th>\n",
       "      <th></th>\n",
       "      <th></th>\n",
       "    </tr>\n",
       "  </thead>\n",
       "  <tbody>\n",
       "    <tr>\n",
       "      <th>Atlanta Hawks</th>\n",
       "      <td>22.0</td>\n",
       "      <td>35.0</td>\n",
       "    </tr>\n",
       "    <tr>\n",
       "      <th>Boston Celtics</th>\n",
       "      <td>20.0</td>\n",
       "      <td>29.0</td>\n",
       "    </tr>\n",
       "    <tr>\n",
       "      <th>Brooklyn Nets</th>\n",
       "      <td>21.0</td>\n",
       "      <td>32.0</td>\n",
       "    </tr>\n",
       "    <tr>\n",
       "      <th>Charlotte Hornets</th>\n",
       "      <td>21.0</td>\n",
       "      <td>31.0</td>\n",
       "    </tr>\n",
       "    <tr>\n",
       "      <th>Chicago Bulls</th>\n",
       "      <td>21.0</td>\n",
       "      <td>35.0</td>\n",
       "    </tr>\n",
       "  </tbody>\n",
       "</table>\n",
       "</div>"
      ],
      "text/plain": [
       "                    min   max\n",
       "Team                         \n",
       "Atlanta Hawks      22.0  35.0\n",
       "Boston Celtics     20.0  29.0\n",
       "Brooklyn Nets      21.0  32.0\n",
       "Charlotte Hornets  21.0  31.0\n",
       "Chicago Bulls      21.0  35.0"
      ]
     },
     "execution_count": 31,
     "metadata": {},
     "output_type": "execute_result"
    }
   ],
   "source": [
    "#find the max,min age of each team\n",
    "df_nba.groupby(['Team'])['Age'].agg(['min','max']).head()"
   ]
  },
  {
   "cell_type": "markdown",
   "id": "f98e954c",
   "metadata": {},
   "source": [
    "### EX2: Phone Info(實用)"
   ]
  },
  {
   "cell_type": "code",
   "execution_count": null,
   "id": "2b813676",
   "metadata": {},
   "outputs": [],
   "source": [
    "useful link:\n",
    "https://www.shanelynn.ie/summarising-aggregation-and-grouping-data-in-python-pandas/ "
   ]
  },
  {
   "cell_type": "markdown",
   "id": "3ab15549",
   "metadata": {},
   "source": [
    "### Note:Steps to insert image:"
   ]
  },
  {
   "cell_type": "raw",
   "id": "4b47e482",
   "metadata": {},
   "source": [
    "1.change cell to 'Markdown'but not code\n",
    "2.Edit>inset image(bottom)"
   ]
  },
  {
   "cell_type": "markdown",
   "id": "5be9bf89",
   "metadata": {},
   "source": [
    "\"\"\"\n",
    "link:\n",
    "https://pandas.pydata.org/pandas-docs/version/0.22/generated\n",
    "\"\"\""
   ]
  },
  {
   "attachments": {
    "pandas-python-group-by-named-aggregation-update.jpg": {
     "image/jpeg": "[encoded data removed]"
    }
   },
   "cell_type": "markdown",
   "id": "868af7b8",
   "metadata": {},
   "source": [
    "![pandas-python-group-by-named-aggregation-update.jpg](attachment:pandas-python-group-by-named-aggregation-update.jpg)"
   ]
  },
  {
   "cell_type": "code",
   "execution_count": 32,
   "id": "1e4103a9",
   "metadata": {},
   "outputs": [
    {
     "data": {
      "text/html": [
       "<div>\n",
       "<style scoped>\n",
       "    .dataframe tbody tr th:only-of-type {\n",
       "        vertical-align: middle;\n",
       "    }\n",
       "\n",
       "    .dataframe tbody tr th {\n",
       "        vertical-align: top;\n",
       "    }\n",
       "\n",
       "    .dataframe thead th {\n",
       "        text-align: right;\n",
       "    }\n",
       "</style>\n",
       "<table border=\"1\" class=\"dataframe\">\n",
       "  <thead>\n",
       "    <tr style=\"text-align: right;\">\n",
       "      <th></th>\n",
       "      <th>index</th>\n",
       "      <th>date</th>\n",
       "      <th>duration</th>\n",
       "      <th>item</th>\n",
       "      <th>month</th>\n",
       "      <th>network</th>\n",
       "      <th>network_type</th>\n",
       "    </tr>\n",
       "  </thead>\n",
       "  <tbody>\n",
       "    <tr>\n",
       "      <th>0</th>\n",
       "      <td>0</td>\n",
       "      <td>15/10/14 06:58</td>\n",
       "      <td>34.429</td>\n",
       "      <td>data</td>\n",
       "      <td>2014-11</td>\n",
       "      <td>data</td>\n",
       "      <td>data</td>\n",
       "    </tr>\n",
       "    <tr>\n",
       "      <th>1</th>\n",
       "      <td>1</td>\n",
       "      <td>15/10/14 06:58</td>\n",
       "      <td>13.000</td>\n",
       "      <td>call</td>\n",
       "      <td>2014-11</td>\n",
       "      <td>Vodafone</td>\n",
       "      <td>mobile</td>\n",
       "    </tr>\n",
       "    <tr>\n",
       "      <th>2</th>\n",
       "      <td>2</td>\n",
       "      <td>15/10/14 14:46</td>\n",
       "      <td>23.000</td>\n",
       "      <td>call</td>\n",
       "      <td>2014-11</td>\n",
       "      <td>Meteor</td>\n",
       "      <td>mobile</td>\n",
       "    </tr>\n",
       "    <tr>\n",
       "      <th>3</th>\n",
       "      <td>3</td>\n",
       "      <td>15/10/14 14:48</td>\n",
       "      <td>4.000</td>\n",
       "      <td>call</td>\n",
       "      <td>2014-11</td>\n",
       "      <td>Tesco</td>\n",
       "      <td>mobile</td>\n",
       "    </tr>\n",
       "    <tr>\n",
       "      <th>4</th>\n",
       "      <td>4</td>\n",
       "      <td>15/10/14 17:27</td>\n",
       "      <td>4.000</td>\n",
       "      <td>call</td>\n",
       "      <td>2014-11</td>\n",
       "      <td>Tesco</td>\n",
       "      <td>mobile</td>\n",
       "    </tr>\n",
       "  </tbody>\n",
       "</table>\n",
       "</div>"
      ],
      "text/plain": [
       "   index            date  duration  item    month   network network_type\n",
       "0      0  15/10/14 06:58    34.429  data  2014-11      data         data\n",
       "1      1  15/10/14 06:58    13.000  call  2014-11  Vodafone       mobile\n",
       "2      2  15/10/14 14:46    23.000  call  2014-11    Meteor       mobile\n",
       "3      3  15/10/14 14:48     4.000  call  2014-11     Tesco       mobile\n",
       "4      4  15/10/14 17:27     4.000  call  2014-11     Tesco       mobile"
      ]
     },
     "execution_count": 32,
     "metadata": {},
     "output_type": "execute_result"
    }
   ],
   "source": [
    "df_phone=pd.read_csv('C:/Users/fengs/Desktop/pd_real\\phone_data.csv')\n",
    "df_phone.head()"
   ]
  },
  {
   "cell_type": "code",
   "execution_count": 34,
   "id": "aab4e149",
   "metadata": {},
   "outputs": [
    {
     "data": {
      "text/plain": [
       "month\n",
       "2014-11    26639.441\n",
       "2014-12    14641.870\n",
       "2015-01    18223.299\n",
       "2015-02    15522.299\n",
       "2015-03    22750.441\n",
       "Name: duration, dtype: float64"
      ]
     },
     "execution_count": 34,
     "metadata": {},
     "output_type": "execute_result"
    }
   ],
   "source": [
    "\"\"\"\n",
    "1.find the sum of duration of each month\n",
    "#without agg\n",
    "#need to consider sorting as well\n",
    "\"\"\"\n",
    "df_phone.groupby(['month'])['duration'].sum()"
   ]
  },
  {
   "cell_type": "code",
   "execution_count": 36,
   "id": "fb2930dc",
   "metadata": {},
   "outputs": [
    {
     "data": {
      "text/plain": [
       "month\n",
       "2014-11    230\n",
       "2014-12    157\n",
       "2015-01    205\n",
       "2015-02    137\n",
       "2015-03    101\n",
       "Name: date, dtype: int64"
      ]
     },
     "execution_count": 36,
     "metadata": {},
     "output_type": "execute_result"
    }
   ],
   "source": [
    "#get num of date each month\n",
    "#in fact it count ref_no\n",
    "df_phone.groupby('month')['date'].count()"
   ]
  },
  {
   "cell_type": "code",
   "execution_count": 43,
   "id": "cfac6827",
   "metadata": {},
   "outputs": [
    {
     "data": {
      "text/html": [
       "<div>\n",
       "<style scoped>\n",
       "    .dataframe tbody tr th:only-of-type {\n",
       "        vertical-align: middle;\n",
       "    }\n",
       "\n",
       "    .dataframe tbody tr th {\n",
       "        vertical-align: top;\n",
       "    }\n",
       "\n",
       "    .dataframe thead th {\n",
       "        text-align: right;\n",
       "    }\n",
       "</style>\n",
       "<table border=\"1\" class=\"dataframe\">\n",
       "  <thead>\n",
       "    <tr style=\"text-align: right;\">\n",
       "      <th></th>\n",
       "      <th>duration</th>\n",
       "    </tr>\n",
       "    <tr>\n",
       "      <th>network</th>\n",
       "      <th></th>\n",
       "    </tr>\n",
       "  </thead>\n",
       "  <tbody>\n",
       "    <tr>\n",
       "      <th>Meteor</th>\n",
       "      <td>7200.0</td>\n",
       "    </tr>\n",
       "    <tr>\n",
       "      <th>Tesco</th>\n",
       "      <td>13828.0</td>\n",
       "    </tr>\n",
       "    <tr>\n",
       "      <th>Three</th>\n",
       "      <td>36464.0</td>\n",
       "    </tr>\n",
       "    <tr>\n",
       "      <th>Vodafone</th>\n",
       "      <td>14621.0</td>\n",
       "    </tr>\n",
       "    <tr>\n",
       "      <th>landline</th>\n",
       "      <td>18433.0</td>\n",
       "    </tr>\n",
       "    <tr>\n",
       "      <th>voicemail</th>\n",
       "      <td>1775.0</td>\n",
       "    </tr>\n",
       "  </tbody>\n",
       "</table>\n",
       "</div>"
      ],
      "text/plain": [
       "           duration\n",
       "network            \n",
       "Meteor       7200.0\n",
       "Tesco       13828.0\n",
       "Three       36464.0\n",
       "Vodafone    14621.0\n",
       "landline    18433.0\n",
       "voicemail    1775.0"
      ]
     },
     "execution_count": 43,
     "metadata": {},
     "output_type": "execute_result"
    }
   ],
   "source": [
    "\"\"\"\n",
    "Q2.add where clause\n",
    "df[where clause].groupby(['xx'])[<yy>].<agg>()\n",
    "#note: it may combine with loc\n",
    "\"\"\"\n",
    "\"\"\"\n",
    "1.valid\n",
    "#df_phone.loc[df_phone['item']=='call'] \n",
    "\n",
    "2.return a memory serise num\n",
    "#df_phone.loc[df_phone['item']=='call'].groupby('network')\n",
    "#extract 1st entry of each group with first()\n",
    "#df_phone.loc[df_phone['item']=='call'].groupby('network').first()\n",
    "\n",
    "3.get values\n",
    "#add ['<cal_cols>'].sum()\n",
    "#df.loc[(w1)&(w2),['A','B','C']]\n",
    "\"\"\"\n",
    "#call only,sum of duration of each network\n",
    "df_phone.loc[df_phone['item']=='call',['network','duration']].groupby('network').sum()"
   ]
  },
  {
   "cell_type": "code",
   "execution_count": 49,
   "id": "d1e31d72",
   "metadata": {},
   "outputs": [
    {
     "data": {
      "text/plain": [
       "month    item\n",
       "2014-11  call    107\n",
       "         data     29\n",
       "         sms      94\n",
       "2014-12  call     79\n",
       "         data     30\n",
       "         sms      48\n",
       "2015-01  call     88\n",
       "         data     31\n",
       "         sms      86\n",
       "2015-02  call     67\n",
       "         data     31\n",
       "         sms      39\n",
       "2015-03  call     47\n",
       "         data     29\n",
       "         sms      25\n",
       "Name: date, dtype: int64"
      ]
     },
     "execution_count": 49,
     "metadata": {},
     "output_type": "execute_result"
    }
   ],
   "source": [
    "\"\"\"\n",
    "Q3:group by N cols,\n",
    "loc[row,col]\n",
    "\"\"\"\n",
    "#if loc filter out cal cols,\n",
    "#will error:'Column not found: date'\n",
    "#df_phone.loc[:,['month','item']].groupby(['month','item'])['date'].count()\n",
    "\n",
    "df_phone.loc[:,['month','item','date']].groupby(['month','item'])['date'].count()"
   ]
  },
  {
   "cell_type": "markdown",
   "id": "7c158741",
   "metadata": {},
   "source": [
    "### groupby +agg(Multi-stat)"
   ]
  },
  {
   "cell_type": "raw",
   "id": "aed975ca",
   "metadata": {},
   "source": [
    "# in realiy there will more than agg() cols\n",
    "like the nba example, the min(),max() age of each team"
   ]
  },
  {
   "cell_type": "raw",
   "id": "e162453f",
   "metadata": {},
   "source": [
    "#group by has sort/aixs args\n",
    "DataFrame.groupby(by=None, axis=0, level=None, as_index=True,\n",
    "                  sort=True, group_keys=True, \n",
    "                  squeeze=NoDefault.no_default, observed=False, \n",
    "                  dropna=True)\n",
    "                  \n",
    "#sort: bool, default True\n",
    "#axis{0 or ‘index’, 1 or ‘columns’}, default 0, \n",
    "  group by each row\n",
    " Split along rows (0) or columns (1).\n",
    "#as_index:bool, default True\n",
    "For aggregated output, return object with group labels as the index. \n",
    "Only relevant for DataFrame input. as_index=False \n",
    "is effectively “SQL-style” grouped output."
   ]
  },
  {
   "cell_type": "code",
   "execution_count": null,
   "id": "413f87b6",
   "metadata": {},
   "outputs": [],
   "source": [
    "\"\"\"\n",
    "1.same meaning\n",
    "\"\"\"\n",
    "df_phone.groupby"
   ]
  },
  {
   "cell_type": "code",
   "execution_count": null,
   "id": "eb782759",
   "metadata": {},
   "outputs": [],
   "source": []
  },
  {
   "cell_type": "code",
   "execution_count": null,
   "id": "2d1b740e",
   "metadata": {},
   "outputs": [],
   "source": []
  },
  {
   "cell_type": "markdown",
   "id": "3c38e309",
   "metadata": {},
   "source": [
    "### chapter 21:pivot table"
   ]
  },
  {
   "cell_type": "code",
   "execution_count": null,
   "id": "44197e91",
   "metadata": {},
   "outputs": [],
   "source": []
  },
  {
   "cell_type": "code",
   "execution_count": null,
   "id": "f2d23834",
   "metadata": {},
   "outputs": [],
   "source": []
  },
  {
   "cell_type": "markdown",
   "id": "d0814826",
   "metadata": {},
   "source": [
    "### chapter 22:manipulate spreadsheets"
   ]
  },
  {
   "cell_type": "code",
   "execution_count": null,
   "id": "2b4bd586",
   "metadata": {},
   "outputs": [],
   "source": []
  },
  {
   "cell_type": "code",
   "execution_count": null,
   "id": "c028acba",
   "metadata": {},
   "outputs": [],
   "source": []
  }
 ],
 "metadata": {
  "kernelspec": {
   "display_name": "Python 3 (ipykernel)",
   "language": "python",
   "name": "python3"
  },
  "language_info": {
   "codemirror_mode": {
    "name": "ipython",
    "version": 3
   },
   "file_extension": ".py",
   "mimetype": "text/x-python",
   "name": "python",
   "nbconvert_exporter": "python",
   "pygments_lexer": "ipython3",
   "version": "3.9.7"
  }
 },
 "nbformat": 4,
 "nbformat_minor": 5
}
