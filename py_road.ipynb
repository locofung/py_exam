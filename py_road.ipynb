{
 "cells": [
  {
   "cell_type": "raw",
   "id": "eb3bdb02",
   "metadata": {},
   "source": [
    "link:\n",
    "https://www.youtube.com/watch?v=WcDaZ67TVRo\n",
    "data_source:\n",
    "https://github.com/ifrankandrade/python-course-for-excel-users"
   ]
  },
  {
   "cell_type": "markdown",
   "id": "7dac2c75",
   "metadata": {},
   "source": [
    "# part A: Dimensions"
   ]
  },
  {
   "cell_type": "raw",
   "id": "e0d6db04",
   "metadata": {},
   "source": [
    "1.core syntax\n",
    "2.excel with pythons\n",
    "3.SQL+DB with python(advance)\n",
    "4.Real case(YT+github) + question banks(buy)"
   ]
  },
  {
   "cell_type": "markdown",
   "id": "ec56cca2",
   "metadata": {},
   "source": [
    "## Part B: modules"
   ]
  },
  {
   "cell_type": "raw",
   "id": "a000eb82",
   "metadata": {},
   "source": [
    "1.OS\n",
    "2.Pandas\n",
    "  series\n",
    "  dataframe\n",
    "  csv\n",
    "  jason\n",
    "3.numpy\n",
    "4.mathlib"
   ]
  },
  {
   "cell_type": "markdown",
   "id": "4629d702",
   "metadata": {},
   "source": [
    "## chapter 1: OS modules"
   ]
  },
  {
   "cell_type": "code",
   "execution_count": 5,
   "id": "58165441",
   "metadata": {},
   "outputs": [
    {
     "data": {
      "text/plain": [
       "'C:\\\\Users\\\\fengs'"
      ]
     },
     "execution_count": 5,
     "metadata": {},
     "output_type": "execute_result"
    }
   ],
   "source": [
    "\"\"\"\n",
    "To get the location of the current working directory(CWD) os.getcwd() is used.\n",
    "\"\"\"\n",
    "#import os\n",
    "import pandas as pd\n",
    "os.getcwd() "
   ]
  },
  {
   "cell_type": "code",
   "execution_count": 10,
   "id": "ae6470b2",
   "metadata": {
    "scrolled": true
   },
   "outputs": [],
   "source": [
    "os.listdir() \n",
    "#show files(elements) under cwd:'C:\\\\Users\\\\fengs'"
   ]
  },
  {
   "cell_type": "code",
   "execution_count": 13,
   "id": "ce5979e2",
   "metadata": {},
   "outputs": [
    {
     "name": "stdout",
     "output_type": "stream",
     "text": [
      "C:/Users/fengs/Desktop/pd_real\\GeeksforGeeks\n",
      "Directory 'GeeksforGeeks' created\n"
     ]
    }
   ],
   "source": [
    "\"\"\"\n",
    " for creating a new folder:\n",
    "os.mkdir()\n",
    "os.makedirs()\n",
    "\"\"\"\n",
    "# Directory\n",
    "directory = \"GeeksforGeeks\"\n",
    "  \n",
    "# Parent Directory path\n",
    "parent_dir = \"C:/Users/fengs/Desktop/pd_real\"\n",
    "#copy from pc: C:\\Users\\fengs\\Desktop\\pd_real, need to change to /\n",
    "  \n",
    "# Path\n",
    "path = os.path.join(parent_dir, directory)\n",
    "print(path)\n",
    "#os.mkdir(path)\n",
    "print(\"Directory '% s' created\" % directory)"
   ]
  },
  {
   "cell_type": "code",
   "execution_count": 18,
   "id": "d09d44bf",
   "metadata": {},
   "outputs": [],
   "source": [
    "#way 1:change \\(pc) to /(pw)\n",
    "os.mkdir('C:/Users/fengs/Desktop/pd_real/gd_2')\n",
    "\n",
    "#way 2:add r: raw path\n",
    "os.mkdir(r'C:\\Users\\fengs\\Desktop\\pd_real\\gd_3')"
   ]
  },
  {
   "cell_type": "markdown",
   "id": "4f67c946",
   "metadata": {},
   "source": [
    "## chatper 2 Pandas"
   ]
  },
  {
   "cell_type": "raw",
   "id": "2f8f3aa5",
   "metadata": {},
   "source": [
    "1.pandas.series() is a one-dimensional labeled array capable of holding data of any type,like a    list\n",
    "  df is 2-d array\n",
    "2.pandas.Series( data, index, dtype, name, copy)\n",
    "3.類似於DF['xxxx'] 單獨一個col"
   ]
  },
  {
   "cell_type": "raw",
   "id": "6caf39dc",
   "metadata": {},
   "source": [
    "excel            pandas\n",
    "worksheet        Dataframe\n",
    "column           series\n",
    "row heading      index\n",
    "row              row\n",
    "Empty cell       NaN"
   ]
  },
  {
   "cell_type": "code",
   "execution_count": 1,
   "id": "2761cab0",
   "metadata": {},
   "outputs": [],
   "source": [
    "import pandas as pd\n",
    "import numpy  as np"
   ]
  },
  {
   "cell_type": "markdown",
   "id": "10d462e0",
   "metadata": {},
   "source": [
    "### 2.1 create DF with list"
   ]
  },
  {
   "cell_type": "code",
   "execution_count": 26,
   "id": "0b1a8d56",
   "metadata": {},
   "outputs": [
    {
     "data": {
      "text/plain": [
       "0    g\n",
       "1    e\n",
       "2    e\n",
       "3    k\n",
       "4    s\n",
       "dtype: object"
      ]
     },
     "execution_count": 26,
     "metadata": {},
     "output_type": "execute_result"
    }
   ],
   "source": [
    "list = ['g', 'e', 'e', 'k', 's']\n",
    "ser = pd.Series(list)\n",
    "ser"
   ]
  },
  {
   "cell_type": "code",
   "execution_count": 21,
   "id": "966b0f2c",
   "metadata": {},
   "outputs": [
    {
     "name": "stdout",
     "output_type": "stream",
     "text": [
      "[[1 4]\n",
      " [2 5]\n",
      " [8 9]]\n"
     ]
    }
   ],
   "source": [
    "data=np.array([[1,4],[2,5],[8,9]]) \n",
    "print(data)\n",
    "#[1,4] is 1 row record,[2,5] is 2nd row"
   ]
  },
  {
   "cell_type": "code",
   "execution_count": 25,
   "id": "4c949726",
   "metadata": {},
   "outputs": [
    {
     "data": {
      "text/html": [
       "<div>\n",
       "<style scoped>\n",
       "    .dataframe tbody tr th:only-of-type {\n",
       "        vertical-align: middle;\n",
       "    }\n",
       "\n",
       "    .dataframe tbody tr th {\n",
       "        vertical-align: top;\n",
       "    }\n",
       "\n",
       "    .dataframe thead th {\n",
       "        text-align: right;\n",
       "    }\n",
       "</style>\n",
       "<table border=\"1\" class=\"dataframe\">\n",
       "  <thead>\n",
       "    <tr style=\"text-align: right;\">\n",
       "      <th></th>\n",
       "      <th>0</th>\n",
       "      <th>1</th>\n",
       "    </tr>\n",
       "  </thead>\n",
       "  <tbody>\n",
       "    <tr>\n",
       "      <th>0</th>\n",
       "      <td>1</td>\n",
       "      <td>4</td>\n",
       "    </tr>\n",
       "    <tr>\n",
       "      <th>1</th>\n",
       "      <td>2</td>\n",
       "      <td>5</td>\n",
       "    </tr>\n",
       "    <tr>\n",
       "      <th>2</th>\n",
       "      <td>8</td>\n",
       "      <td>9</td>\n",
       "    </tr>\n",
       "  </tbody>\n",
       "</table>\n",
       "</div>"
      ],
      "text/plain": [
       "   0  1\n",
       "0  1  4\n",
       "1  2  5\n",
       "2  8  9"
      ]
     },
     "execution_count": 25,
     "metadata": {},
     "output_type": "execute_result"
    }
   ],
   "source": [
    "#pandas.Series( data, index, dtype, name, copy)\n",
    "#pandas.DataFrame(data=None, index=None, columns=None, dtype=None, copy=None)\n",
    "data2=pd.DataFrame(data) \n",
    "data2"
   ]
  },
  {
   "cell_type": "code",
   "execution_count": 27,
   "id": "7b4a5c94",
   "metadata": {},
   "outputs": [
    {
     "data": {
      "text/html": [
       "<div>\n",
       "<style scoped>\n",
       "    .dataframe tbody tr th:only-of-type {\n",
       "        vertical-align: middle;\n",
       "    }\n",
       "\n",
       "    .dataframe tbody tr th {\n",
       "        vertical-align: top;\n",
       "    }\n",
       "\n",
       "    .dataframe thead th {\n",
       "        text-align: right;\n",
       "    }\n",
       "</style>\n",
       "<table border=\"1\" class=\"dataframe\">\n",
       "  <thead>\n",
       "    <tr style=\"text-align: right;\">\n",
       "      <th></th>\n",
       "      <th>col1</th>\n",
       "      <th>col2</th>\n",
       "    </tr>\n",
       "  </thead>\n",
       "  <tbody>\n",
       "    <tr>\n",
       "      <th>row1</th>\n",
       "      <td>1</td>\n",
       "      <td>4</td>\n",
       "    </tr>\n",
       "    <tr>\n",
       "      <th>row2</th>\n",
       "      <td>2</td>\n",
       "      <td>5</td>\n",
       "    </tr>\n",
       "    <tr>\n",
       "      <th>row3</th>\n",
       "      <td>8</td>\n",
       "      <td>9</td>\n",
       "    </tr>\n",
       "  </tbody>\n",
       "</table>\n",
       "</div>"
      ],
      "text/plain": [
       "      col1  col2\n",
       "row1     1     4\n",
       "row2     2     5\n",
       "row3     8     9"
      ]
     },
     "execution_count": 27,
     "metadata": {},
     "output_type": "execute_result"
    }
   ],
   "source": [
    "data3=pd.DataFrame(data,index=['row1','row2','row3'],columns=['col1','col2'])\n",
    "data3  \n",
    "#index is rows names \n"
   ]
  },
  {
   "cell_type": "markdown",
   "id": "7ebfd52c",
   "metadata": {},
   "source": [
    "### 2.2 create dataframe with dict"
   ]
  },
  {
   "cell_type": "code",
   "execution_count": 1,
   "id": "3b4015bb",
   "metadata": {},
   "outputs": [
    {
     "data": {
      "text/plain": [
       "[[1, 4], [2, 5], [8, 9]]"
      ]
     },
     "execution_count": 1,
     "metadata": {},
     "output_type": "execute_result"
    }
   ],
   "source": [
    "#list for this example\n",
    "#without numpy \n",
    "data=[[1,4],[2,5],[8,9]] #this is n-d list but not array\n",
    "data"
   ]
  },
  {
   "cell_type": "code",
   "execution_count": 4,
   "id": "686f742a",
   "metadata": {},
   "outputs": [
    {
     "data": {
      "text/html": [
       "<div>\n",
       "<style scoped>\n",
       "    .dataframe tbody tr th:only-of-type {\n",
       "        vertical-align: middle;\n",
       "    }\n",
       "\n",
       "    .dataframe tbody tr th {\n",
       "        vertical-align: top;\n",
       "    }\n",
       "\n",
       "    .dataframe thead th {\n",
       "        text-align: right;\n",
       "    }\n",
       "</style>\n",
       "<table border=\"1\" class=\"dataframe\">\n",
       "  <thead>\n",
       "    <tr style=\"text-align: right;\">\n",
       "      <th></th>\n",
       "      <th>col1</th>\n",
       "      <th>col2</th>\n",
       "    </tr>\n",
       "  </thead>\n",
       "  <tbody>\n",
       "    <tr>\n",
       "      <th>row1</th>\n",
       "      <td>1</td>\n",
       "      <td>4</td>\n",
       "    </tr>\n",
       "    <tr>\n",
       "      <th>row2</th>\n",
       "      <td>2</td>\n",
       "      <td>5</td>\n",
       "    </tr>\n",
       "    <tr>\n",
       "      <th>row3</th>\n",
       "      <td>8</td>\n",
       "      <td>9</td>\n",
       "    </tr>\n",
       "  </tbody>\n",
       "</table>\n",
       "</div>"
      ],
      "text/plain": [
       "      col1  col2\n",
       "row1     1     4\n",
       "row2     2     5\n",
       "row3     8     9"
      ]
     },
     "execution_count": 4,
     "metadata": {},
     "output_type": "execute_result"
    }
   ],
   "source": [
    "data3=pd.DataFrame(data,index=['row1','row2','row3'],columns=['col1','col2'])\n",
    "data3  \n",
    "#so no need to change to numpy first"
   ]
  },
  {
   "cell_type": "markdown",
   "id": "dc1390f9",
   "metadata": {},
   "source": [
    "### 2.2.2step to create DF from dict "
   ]
  },
  {
   "cell_type": "code",
   "execution_count": 7,
   "id": "6b57cb5b",
   "metadata": {},
   "outputs": [],
   "source": [
    "#a 1-d list\n",
    "state=['California','Texas','Florida','New York']\n",
    "population=[1000,2000,4000,5000]"
   ]
  },
  {
   "cell_type": "code",
   "execution_count": 9,
   "id": "2ebf3b0b",
   "metadata": {},
   "outputs": [
    {
     "name": "stdout",
     "output_type": "stream",
     "text": [
      "{'States': ['California', 'Texas', 'Florida', 'New York'], 'Poplulations': [1000, 2000, 4000, 5000]}\n"
     ]
    }
   ],
   "source": [
    "\"\"\"\n",
    "store list into a dictionary\n",
    "need to set keys\n",
    "d = {\n",
    "    <key>: <value>,\n",
    "    <key>: <value>,\n",
    "    ....\n",
    "    }\n",
    "\"\"\"\n",
    "dict={\"States\":state,\"Poplulations\":population}\n",
    "print(dict)"
   ]
  },
  {
   "cell_type": "code",
   "execution_count": 13,
   "id": "82f0b52e",
   "metadata": {},
   "outputs": [
    {
     "data": {
      "text/html": [
       "<div>\n",
       "<style scoped>\n",
       "    .dataframe tbody tr th:only-of-type {\n",
       "        vertical-align: middle;\n",
       "    }\n",
       "\n",
       "    .dataframe tbody tr th {\n",
       "        vertical-align: top;\n",
       "    }\n",
       "\n",
       "    .dataframe thead th {\n",
       "        text-align: right;\n",
       "    }\n",
       "</style>\n",
       "<table border=\"1\" class=\"dataframe\">\n",
       "  <thead>\n",
       "    <tr style=\"text-align: right;\">\n",
       "      <th></th>\n",
       "      <th>States</th>\n",
       "      <th>Poplulations</th>\n",
       "    </tr>\n",
       "  </thead>\n",
       "  <tbody>\n",
       "    <tr>\n",
       "      <th>0</th>\n",
       "      <td>California</td>\n",
       "      <td>1000</td>\n",
       "    </tr>\n",
       "    <tr>\n",
       "      <th>1</th>\n",
       "      <td>Texas</td>\n",
       "      <td>2000</td>\n",
       "    </tr>\n",
       "    <tr>\n",
       "      <th>2</th>\n",
       "      <td>Florida</td>\n",
       "      <td>4000</td>\n",
       "    </tr>\n",
       "    <tr>\n",
       "      <th>3</th>\n",
       "      <td>New York</td>\n",
       "      <td>5000</td>\n",
       "    </tr>\n",
       "  </tbody>\n",
       "</table>\n",
       "</div>"
      ],
      "text/plain": [
       "       States  Poplulations\n",
       "0  California          1000\n",
       "1       Texas          2000\n",
       "2     Florida          4000\n",
       "3    New York          5000"
      ]
     },
     "execution_count": 13,
     "metadata": {},
     "output_type": "execute_result"
    }
   ],
   "source": [
    "df_country=pd.DataFrame(dict)\n",
    "df_country\n",
    "#'States','Population' become col-headind,\n",
    "#list "
   ]
  },
  {
   "cell_type": "markdown",
   "id": "fef6c8bb",
   "metadata": {},
   "source": [
    "#  chapter 3: create DF from CSV"
   ]
  },
  {
   "cell_type": "markdown",
   "id": "480ffd50",
   "metadata": {},
   "source": [
    "### 3.1 show DataFrame "
   ]
  },
  {
   "cell_type": "code",
   "execution_count": 2,
   "id": "9450b057",
   "metadata": {
    "scrolled": true
   },
   "outputs": [
    {
     "data": {
      "text/html": [
       "<div>\n",
       "<style scoped>\n",
       "    .dataframe tbody tr th:only-of-type {\n",
       "        vertical-align: middle;\n",
       "    }\n",
       "\n",
       "    .dataframe tbody tr th {\n",
       "        vertical-align: top;\n",
       "    }\n",
       "\n",
       "    .dataframe thead th {\n",
       "        text-align: right;\n",
       "    }\n",
       "</style>\n",
       "<table border=\"1\" class=\"dataframe\">\n",
       "  <thead>\n",
       "    <tr style=\"text-align: right;\">\n",
       "      <th></th>\n",
       "      <th>gender</th>\n",
       "      <th>race/ethnicity</th>\n",
       "      <th>parental level of education</th>\n",
       "      <th>lunch</th>\n",
       "      <th>test preparation course</th>\n",
       "      <th>math score</th>\n",
       "      <th>reading score</th>\n",
       "      <th>writing score</th>\n",
       "    </tr>\n",
       "  </thead>\n",
       "  <tbody>\n",
       "    <tr>\n",
       "      <th>0</th>\n",
       "      <td>female</td>\n",
       "      <td>group B</td>\n",
       "      <td>bachelor's degree</td>\n",
       "      <td>standard</td>\n",
       "      <td>none</td>\n",
       "      <td>72</td>\n",
       "      <td>72</td>\n",
       "      <td>74</td>\n",
       "    </tr>\n",
       "    <tr>\n",
       "      <th>1</th>\n",
       "      <td>female</td>\n",
       "      <td>group C</td>\n",
       "      <td>some college</td>\n",
       "      <td>standard</td>\n",
       "      <td>completed</td>\n",
       "      <td>69</td>\n",
       "      <td>90</td>\n",
       "      <td>88</td>\n",
       "    </tr>\n",
       "    <tr>\n",
       "      <th>2</th>\n",
       "      <td>female</td>\n",
       "      <td>group B</td>\n",
       "      <td>master's degree</td>\n",
       "      <td>standard</td>\n",
       "      <td>none</td>\n",
       "      <td>90</td>\n",
       "      <td>95</td>\n",
       "      <td>93</td>\n",
       "    </tr>\n",
       "    <tr>\n",
       "      <th>3</th>\n",
       "      <td>male</td>\n",
       "      <td>group A</td>\n",
       "      <td>associate's degree</td>\n",
       "      <td>free/reduced</td>\n",
       "      <td>none</td>\n",
       "      <td>47</td>\n",
       "      <td>57</td>\n",
       "      <td>44</td>\n",
       "    </tr>\n",
       "    <tr>\n",
       "      <th>4</th>\n",
       "      <td>male</td>\n",
       "      <td>group C</td>\n",
       "      <td>some college</td>\n",
       "      <td>standard</td>\n",
       "      <td>none</td>\n",
       "      <td>76</td>\n",
       "      <td>78</td>\n",
       "      <td>75</td>\n",
       "    </tr>\n",
       "  </tbody>\n",
       "</table>\n",
       "</div>"
      ],
      "text/plain": [
       "   gender race/ethnicity parental level of education         lunch  \\\n",
       "0  female        group B           bachelor's degree      standard   \n",
       "1  female        group C                some college      standard   \n",
       "2  female        group B             master's degree      standard   \n",
       "3    male        group A          associate's degree  free/reduced   \n",
       "4    male        group C                some college      standard   \n",
       "\n",
       "  test preparation course  math score  reading score  writing score  \n",
       "0                    none          72             72             74  \n",
       "1               completed          69             90             88  \n",
       "2                    none          90             95             93  \n",
       "3                    none          47             57             44  \n",
       "4                    none          76             78             75  "
      ]
     },
     "execution_count": 2,
     "metadata": {},
     "output_type": "execute_result"
    }
   ],
   "source": [
    "#Read csv file =data set \n",
    "df_exam=pd.read_csv(r'C:\\Users\\fengs\\Desktop\\pd_real\\python-course-for-excel-users-main\\2.Intro to Pandas\\StudentsPerformance.csv')\n",
    "df_exam.head() #head() show first 5 rows"
   ]
  },
  {
   "cell_type": "code",
   "execution_count": 28,
   "id": "b9a27b07",
   "metadata": {},
   "outputs": [
    {
     "name": "stdout",
     "output_type": "stream",
     "text": [
      "     gender  ... writing score\n",
      "0    female  ...            74\n",
      "1    female  ...            88\n",
      "..      ...  ...           ...\n",
      "998  female  ...            77\n",
      "999  female  ...            86\n",
      "\n",
      "[1000 rows x 8 columns]\n"
     ]
    }
   ],
   "source": [
    "\"\"\"basic attributes,methods\n",
    "\"\"\"\n",
    "#1.show first 5 rows\n",
    "df_exam.head(5)\n",
    "\n",
    "#2.show last 5 rows\n",
    "df_exam.tail(5)\n",
    "\n",
    "#3.get access to shape attribute\n",
    "df_exam.shape #(num of row, num of cols)\n",
    "\n",
    "#4.display n rows/columns\n",
    "#pandas.set_option(pat, value)\n",
    "pd.set_option(\"display.max_columns\", 3)\n",
    "pd.set_option(\"display.max_rows\", 5)\n",
    "print(df_exam) #dpn't know why it display incorrectly"
   ]
  },
  {
   "cell_type": "code",
   "execution_count": 30,
   "id": "98c751e1",
   "metadata": {},
   "outputs": [
    {
     "name": "stdout",
     "output_type": "stream",
     "text": [
      "None\n"
     ]
    }
   ],
   "source": [
    "df_show=pd.set_option(\"display.max_rows\", 5)\n",
    "print(df_show) #no need to assign to a variable"
   ]
  },
  {
   "cell_type": "markdown",
   "id": "026fed3a",
   "metadata": {},
   "source": [
    "### 3.2 functions +attribute + methods"
   ]
  },
  {
   "cell_type": "raw",
   "id": "a0a79f68",
   "metadata": {},
   "source": [
    "1.attribute:\n",
    "   ~a value associate with an object.\n",
    "   ~ref by name using dotted expression\n",
    "   ~df.columns\n",
    "   ~no related any modules/package\n",
    "\n",
    "2.function\n",
    "  ~a group of related statements that performs a specific task\n",
    "  ～通用到whole py script.\n",
    "  ~eg: python built-in functions: \n",
    "  max();min();len()\n",
    "\n",
    "3.methods\n",
    "  ~a function which define inside a class body\n",
    " ～要import xxxxx\n",
    "  ~eg：df.head()\n"
   ]
  },
  {
   "cell_type": "code",
   "execution_count": 31,
   "id": "147cc17a",
   "metadata": {},
   "outputs": [],
   "source": [
    "import pandas as pd\n",
    "import numpy  as np"
   ]
  },
  {
   "cell_type": "markdown",
   "id": "5bf03205",
   "metadata": {},
   "source": [
    "### 3.2.2. attributes"
   ]
  },
  {
   "cell_type": "raw",
   "id": "5de03b78",
   "metadata": {},
   "source": [
    "index\n",
    "columns\n",
    "axes\n",
    "dtypes\n",
    "size\n",
    "shape\n",
    "ndim\n",
    "empty\n",
    "T\n",
    "values"
   ]
  },
  {
   "cell_type": "code",
   "execution_count": 32,
   "id": "0b3c259e",
   "metadata": {},
   "outputs": [
    {
     "data": {
      "text/plain": [
       "(1000, 8)"
      ]
     },
     "execution_count": 32,
     "metadata": {},
     "output_type": "execute_result"
    }
   ],
   "source": [
    "#shape attribute\n",
    "df_exam.shape #(rows,cols)"
   ]
  },
  {
   "cell_type": "code",
   "execution_count": 33,
   "id": "8561afcf",
   "metadata": {},
   "outputs": [
    {
     "data": {
      "text/plain": [
       "RangeIndex(start=0, stop=1000, step=1)"
      ]
     },
     "execution_count": 33,
     "metadata": {},
     "output_type": "execute_result"
    }
   ],
   "source": [
    "#index attributes\n",
    "df_exam.index"
   ]
  },
  {
   "cell_type": "code",
   "execution_count": 34,
   "id": "b36093ab",
   "metadata": {},
   "outputs": [
    {
     "data": {
      "text/plain": [
       "Index(['gender', 'race/ethnicity', 'parental level of education', 'lunch',\n",
       "       'test preparation course', 'math score', 'reading score',\n",
       "       'writing score'],\n",
       "      dtype='object')"
      ]
     },
     "execution_count": 34,
     "metadata": {},
     "output_type": "execute_result"
    }
   ],
   "source": [
    "#show cols names\n",
    "df_exam.columns"
   ]
  },
  {
   "cell_type": "code",
   "execution_count": 36,
   "id": "7d36805e",
   "metadata": {},
   "outputs": [
    {
     "data": {
      "text/plain": [
       "gender            object\n",
       "race/ethnicity    object\n",
       "                   ...  \n",
       "reading score      int64\n",
       "writing score      int64\n",
       "Length: 8, dtype: object"
      ]
     },
     "execution_count": 36,
     "metadata": {},
     "output_type": "execute_result"
    }
   ],
   "source": [
    "#DDL(data type) of each columns\n",
    "df_exam.dtypes"
   ]
  },
  {
   "cell_type": "markdown",
   "id": "cc715ffe",
   "metadata": {},
   "source": [
    "### 3.2.3 methods"
   ]
  },
  {
   "cell_type": "code",
   "execution_count": 5,
   "id": "4fff1506",
   "metadata": {},
   "outputs": [],
   "source": [
    "df_exam=pd.read_csv(r'C:\\Users\\fengs\\Desktop\\pd_real\\python-course-for-excel-users-main\\2.Intro to Pandas\\StudentsPerformance.csv')"
   ]
  },
  {
   "cell_type": "code",
   "execution_count": 38,
   "id": "ee7d8d2d",
   "metadata": {},
   "outputs": [
    {
     "name": "stdout",
     "output_type": "stream",
     "text": [
      "<class 'pandas.core.frame.DataFrame'>\n",
      "RangeIndex: 1000 entries, 0 to 999\n",
      "Data columns (total 8 columns):\n",
      " #   Column                       Non-Null Count  Dtype \n",
      "---  ------                       --------------  ----- \n",
      " 0   gender                       1000 non-null   object\n",
      " 1   race/ethnicity               1000 non-null   object\n",
      " 2   parental level of education  1000 non-null   object\n",
      " 3   lunch                        1000 non-null   object\n",
      " 4   test preparation course      1000 non-null   object\n",
      " 5   math score                   1000 non-null   int64 \n",
      " 6   reading score                1000 non-null   int64 \n",
      " 7   writing score                1000 non-null   int64 \n",
      "dtypes: int64(3), object(5)\n",
      "memory usage: 62.6+ KB\n"
     ]
    }
   ],
   "source": [
    "#1.shoew first 4 rows\n",
    "df_exam.head(4)\n",
    "\n",
    "#2.show df information\n",
    "df_exam.info() #better than df_exam.dtypes"
   ]
  },
  {
   "cell_type": "code",
   "execution_count": 39,
   "id": "7708957a",
   "metadata": {},
   "outputs": [
    {
     "data": {
      "text/html": [
       "<div>\n",
       "<style scoped>\n",
       "    .dataframe tbody tr th:only-of-type {\n",
       "        vertical-align: middle;\n",
       "    }\n",
       "\n",
       "    .dataframe tbody tr th {\n",
       "        vertical-align: top;\n",
       "    }\n",
       "\n",
       "    .dataframe thead th {\n",
       "        text-align: right;\n",
       "    }\n",
       "</style>\n",
       "<table border=\"1\" class=\"dataframe\">\n",
       "  <thead>\n",
       "    <tr style=\"text-align: right;\">\n",
       "      <th></th>\n",
       "      <th>math score</th>\n",
       "      <th>reading score</th>\n",
       "      <th>writing score</th>\n",
       "    </tr>\n",
       "  </thead>\n",
       "  <tbody>\n",
       "    <tr>\n",
       "      <th>count</th>\n",
       "      <td>1000.000</td>\n",
       "      <td>1000.000</td>\n",
       "      <td>1000.000</td>\n",
       "    </tr>\n",
       "    <tr>\n",
       "      <th>mean</th>\n",
       "      <td>66.089</td>\n",
       "      <td>69.169</td>\n",
       "      <td>68.054</td>\n",
       "    </tr>\n",
       "    <tr>\n",
       "      <th>...</th>\n",
       "      <td>...</td>\n",
       "      <td>...</td>\n",
       "      <td>...</td>\n",
       "    </tr>\n",
       "    <tr>\n",
       "      <th>75%</th>\n",
       "      <td>77.000</td>\n",
       "      <td>79.000</td>\n",
       "      <td>79.000</td>\n",
       "    </tr>\n",
       "    <tr>\n",
       "      <th>max</th>\n",
       "      <td>100.000</td>\n",
       "      <td>100.000</td>\n",
       "      <td>100.000</td>\n",
       "    </tr>\n",
       "  </tbody>\n",
       "</table>\n",
       "<p>8 rows × 3 columns</p>\n",
       "</div>"
      ],
      "text/plain": [
       "       math score  reading score  writing score\n",
       "count    1000.000       1000.000       1000.000\n",
       "mean       66.089         69.169         68.054\n",
       "...           ...            ...            ...\n",
       "75%        77.000         79.000         79.000\n",
       "max       100.000        100.000        100.000\n",
       "\n",
       "[8 rows x 3 columns]"
      ]
     },
     "execution_count": 39,
     "metadata": {},
     "output_type": "execute_result"
    }
   ],
   "source": [
    "#3. show basic statistic info\n",
    "df_exam.describe()"
   ]
  },
  {
   "cell_type": "markdown",
   "id": "c04e64c0",
   "metadata": {},
   "source": [
    "### 3.2.3 functions "
   ]
  },
  {
   "cell_type": "code",
   "execution_count": 3,
   "id": "d60555a1",
   "metadata": {},
   "outputs": [],
   "source": [
    "#set tools display rows\n",
    "pd.set_option('display.max_rows', 10)  #\n",
    "pd.set_option('display.max_columns', 10)  #"
   ]
  },
  {
   "cell_type": "code",
   "execution_count": 46,
   "id": "e3a3d03c",
   "metadata": {},
   "outputs": [
    {
     "data": {
      "text/plain": [
       "1000"
      ]
     },
     "execution_count": 46,
     "metadata": {},
     "output_type": "execute_result"
    }
   ],
   "source": [
    "#1:numbers of row\n",
    "len(df_exam) #use df_exam.shape is better"
   ]
  },
  {
   "cell_type": "code",
   "execution_count": 48,
   "id": "54ecb4ae",
   "metadata": {},
   "outputs": [
    {
     "data": {
      "text/plain": [
       "100"
      ]
     },
     "execution_count": 48,
     "metadata": {},
     "output_type": "execute_result"
    }
   ],
   "source": [
    "#2. max//min of a columns\n",
    "\n",
    "df_exam['math score'].max()\n",
    "#   df_exam.columns #show cols name\n"
   ]
  },
  {
   "cell_type": "code",
   "execution_count": 66,
   "id": "513c9fb6",
   "metadata": {},
   "outputs": [
    {
     "data": {
      "text/html": [
       "<div>\n",
       "<style scoped>\n",
       "    .dataframe tbody tr th:only-of-type {\n",
       "        vertical-align: middle;\n",
       "    }\n",
       "\n",
       "    .dataframe tbody tr th {\n",
       "        vertical-align: top;\n",
       "    }\n",
       "\n",
       "    .dataframe thead th {\n",
       "        text-align: right;\n",
       "    }\n",
       "</style>\n",
       "<table border=\"1\" class=\"dataframe\">\n",
       "  <thead>\n",
       "    <tr style=\"text-align: right;\">\n",
       "      <th></th>\n",
       "      <th>gender</th>\n",
       "      <th>race/ethnicity</th>\n",
       "      <th>parental level of education</th>\n",
       "      <th>lunch</th>\n",
       "      <th>test preparation course</th>\n",
       "      <th>math score</th>\n",
       "      <th>reading score</th>\n",
       "      <th>writing score</th>\n",
       "    </tr>\n",
       "  </thead>\n",
       "  <tbody>\n",
       "    <tr>\n",
       "      <th>149</th>\n",
       "      <td>male</td>\n",
       "      <td>group E</td>\n",
       "      <td>associate's degree</td>\n",
       "      <td>free/reduced</td>\n",
       "      <td>completed</td>\n",
       "      <td>100</td>\n",
       "      <td>100</td>\n",
       "      <td>93</td>\n",
       "    </tr>\n",
       "    <tr>\n",
       "      <th>451</th>\n",
       "      <td>female</td>\n",
       "      <td>group E</td>\n",
       "      <td>some college</td>\n",
       "      <td>standard</td>\n",
       "      <td>none</td>\n",
       "      <td>100</td>\n",
       "      <td>92</td>\n",
       "      <td>97</td>\n",
       "    </tr>\n",
       "    <tr>\n",
       "      <th>458</th>\n",
       "      <td>female</td>\n",
       "      <td>group E</td>\n",
       "      <td>bachelor's degree</td>\n",
       "      <td>standard</td>\n",
       "      <td>none</td>\n",
       "      <td>100</td>\n",
       "      <td>100</td>\n",
       "      <td>100</td>\n",
       "    </tr>\n",
       "    <tr>\n",
       "      <th>623</th>\n",
       "      <td>male</td>\n",
       "      <td>group A</td>\n",
       "      <td>some college</td>\n",
       "      <td>standard</td>\n",
       "      <td>completed</td>\n",
       "      <td>100</td>\n",
       "      <td>96</td>\n",
       "      <td>86</td>\n",
       "    </tr>\n",
       "    <tr>\n",
       "      <th>625</th>\n",
       "      <td>male</td>\n",
       "      <td>group D</td>\n",
       "      <td>some college</td>\n",
       "      <td>standard</td>\n",
       "      <td>completed</td>\n",
       "      <td>100</td>\n",
       "      <td>97</td>\n",
       "      <td>99</td>\n",
       "    </tr>\n",
       "    <tr>\n",
       "      <th>916</th>\n",
       "      <td>male</td>\n",
       "      <td>group E</td>\n",
       "      <td>bachelor's degree</td>\n",
       "      <td>standard</td>\n",
       "      <td>completed</td>\n",
       "      <td>100</td>\n",
       "      <td>100</td>\n",
       "      <td>100</td>\n",
       "    </tr>\n",
       "    <tr>\n",
       "      <th>962</th>\n",
       "      <td>female</td>\n",
       "      <td>group E</td>\n",
       "      <td>associate's degree</td>\n",
       "      <td>standard</td>\n",
       "      <td>none</td>\n",
       "      <td>100</td>\n",
       "      <td>100</td>\n",
       "      <td>100</td>\n",
       "    </tr>\n",
       "  </tbody>\n",
       "</table>\n",
       "</div>"
      ],
      "text/plain": [
       "     gender race/ethnicity parental level of education         lunch  \\\n",
       "149    male        group E          associate's degree  free/reduced   \n",
       "451  female        group E                some college      standard   \n",
       "458  female        group E           bachelor's degree      standard   \n",
       "623    male        group A                some college      standard   \n",
       "625    male        group D                some college      standard   \n",
       "916    male        group E           bachelor's degree      standard   \n",
       "962  female        group E          associate's degree      standard   \n",
       "\n",
       "    test preparation course  math score  reading score  writing score  \n",
       "149               completed         100            100             93  \n",
       "451                    none         100             92             97  \n",
       "458                    none         100            100            100  \n",
       "623               completed         100             96             86  \n",
       "625               completed         100             97             99  \n",
       "916               completed         100            100            100  \n",
       "962                    none         100            100            100  "
      ]
     },
     "execution_count": 66,
     "metadata": {},
     "output_type": "execute_result"
    }
   ],
   "source": [
    "\"\"\"\n",
    "3. a row of min/max value of a cols\n",
    "loc(row,col) + condition\n",
    "\n",
    "\"\"\"\n",
    "df_exam.loc[df_exam['math score'] == df_exam['math score'].max()] "
   ]
  },
  {
   "cell_type": "code",
   "execution_count": 67,
   "id": "83101fb8",
   "metadata": {},
   "outputs": [
    {
     "data": {
      "text/html": [
       "<div>\n",
       "<style scoped>\n",
       "    .dataframe tbody tr th:only-of-type {\n",
       "        vertical-align: middle;\n",
       "    }\n",
       "\n",
       "    .dataframe tbody tr th {\n",
       "        vertical-align: top;\n",
       "    }\n",
       "\n",
       "    .dataframe thead th {\n",
       "        text-align: right;\n",
       "    }\n",
       "</style>\n",
       "<table border=\"1\" class=\"dataframe\">\n",
       "  <thead>\n",
       "    <tr style=\"text-align: right;\">\n",
       "      <th></th>\n",
       "      <th>gender</th>\n",
       "      <th>race/ethnicity</th>\n",
       "      <th>parental level of education</th>\n",
       "      <th>lunch</th>\n",
       "      <th>test preparation course</th>\n",
       "      <th>math score</th>\n",
       "      <th>reading score</th>\n",
       "      <th>writing score</th>\n",
       "    </tr>\n",
       "  </thead>\n",
       "  <tbody>\n",
       "    <tr>\n",
       "      <th>0</th>\n",
       "      <td>female</td>\n",
       "      <td>group B</td>\n",
       "      <td>bachelor's degree</td>\n",
       "      <td>standard</td>\n",
       "      <td>none</td>\n",
       "      <td>72</td>\n",
       "      <td>72</td>\n",
       "      <td>74</td>\n",
       "    </tr>\n",
       "    <tr>\n",
       "      <th>1</th>\n",
       "      <td>female</td>\n",
       "      <td>group C</td>\n",
       "      <td>some college</td>\n",
       "      <td>standard</td>\n",
       "      <td>completed</td>\n",
       "      <td>69</td>\n",
       "      <td>90</td>\n",
       "      <td>88</td>\n",
       "    </tr>\n",
       "    <tr>\n",
       "      <th>2</th>\n",
       "      <td>female</td>\n",
       "      <td>group B</td>\n",
       "      <td>master's degree</td>\n",
       "      <td>standard</td>\n",
       "      <td>none</td>\n",
       "      <td>90</td>\n",
       "      <td>95</td>\n",
       "      <td>93</td>\n",
       "    </tr>\n",
       "    <tr>\n",
       "      <th>3</th>\n",
       "      <td>male</td>\n",
       "      <td>group A</td>\n",
       "      <td>associate's degree</td>\n",
       "      <td>free/reduced</td>\n",
       "      <td>none</td>\n",
       "      <td>47</td>\n",
       "      <td>57</td>\n",
       "      <td>44</td>\n",
       "    </tr>\n",
       "    <tr>\n",
       "      <th>4</th>\n",
       "      <td>male</td>\n",
       "      <td>group C</td>\n",
       "      <td>some college</td>\n",
       "      <td>standard</td>\n",
       "      <td>none</td>\n",
       "      <td>76</td>\n",
       "      <td>78</td>\n",
       "      <td>75</td>\n",
       "    </tr>\n",
       "    <tr>\n",
       "      <th>...</th>\n",
       "      <td>...</td>\n",
       "      <td>...</td>\n",
       "      <td>...</td>\n",
       "      <td>...</td>\n",
       "      <td>...</td>\n",
       "      <td>...</td>\n",
       "      <td>...</td>\n",
       "      <td>...</td>\n",
       "    </tr>\n",
       "    <tr>\n",
       "      <th>995</th>\n",
       "      <td>female</td>\n",
       "      <td>group E</td>\n",
       "      <td>master's degree</td>\n",
       "      <td>standard</td>\n",
       "      <td>completed</td>\n",
       "      <td>88</td>\n",
       "      <td>99</td>\n",
       "      <td>95</td>\n",
       "    </tr>\n",
       "    <tr>\n",
       "      <th>996</th>\n",
       "      <td>male</td>\n",
       "      <td>group C</td>\n",
       "      <td>high school</td>\n",
       "      <td>free/reduced</td>\n",
       "      <td>none</td>\n",
       "      <td>62</td>\n",
       "      <td>55</td>\n",
       "      <td>55</td>\n",
       "    </tr>\n",
       "    <tr>\n",
       "      <th>997</th>\n",
       "      <td>female</td>\n",
       "      <td>group C</td>\n",
       "      <td>high school</td>\n",
       "      <td>free/reduced</td>\n",
       "      <td>completed</td>\n",
       "      <td>59</td>\n",
       "      <td>71</td>\n",
       "      <td>65</td>\n",
       "    </tr>\n",
       "    <tr>\n",
       "      <th>998</th>\n",
       "      <td>female</td>\n",
       "      <td>group D</td>\n",
       "      <td>some college</td>\n",
       "      <td>standard</td>\n",
       "      <td>completed</td>\n",
       "      <td>68</td>\n",
       "      <td>78</td>\n",
       "      <td>77</td>\n",
       "    </tr>\n",
       "    <tr>\n",
       "      <th>999</th>\n",
       "      <td>female</td>\n",
       "      <td>group D</td>\n",
       "      <td>some college</td>\n",
       "      <td>free/reduced</td>\n",
       "      <td>none</td>\n",
       "      <td>77</td>\n",
       "      <td>86</td>\n",
       "      <td>86</td>\n",
       "    </tr>\n",
       "  </tbody>\n",
       "</table>\n",
       "<p>1000 rows × 8 columns</p>\n",
       "</div>"
      ],
      "text/plain": [
       "     gender race/ethnicity parental level of education         lunch  \\\n",
       "0    female        group B           bachelor's degree      standard   \n",
       "1    female        group C                some college      standard   \n",
       "2    female        group B             master's degree      standard   \n",
       "3      male        group A          associate's degree  free/reduced   \n",
       "4      male        group C                some college      standard   \n",
       "..      ...            ...                         ...           ...   \n",
       "995  female        group E             master's degree      standard   \n",
       "996    male        group C                 high school  free/reduced   \n",
       "997  female        group C                 high school  free/reduced   \n",
       "998  female        group D                some college      standard   \n",
       "999  female        group D                some college  free/reduced   \n",
       "\n",
       "    test preparation course  math score  reading score  writing score  \n",
       "0                      none          72             72             74  \n",
       "1                 completed          69             90             88  \n",
       "2                      none          90             95             93  \n",
       "3                      none          47             57             44  \n",
       "4                      none          76             78             75  \n",
       "..                      ...         ...            ...            ...  \n",
       "995               completed          88             99             95  \n",
       "996                    none          62             55             55  \n",
       "997               completed          59             71             65  \n",
       "998               completed          68             78             77  \n",
       "999                    none          77             86             86  \n",
       "\n",
       "[1000 rows x 8 columns]"
      ]
     },
     "execution_count": 67,
     "metadata": {},
     "output_type": "execute_result"
    }
   ],
   "source": [
    "\"\"\"\n",
    "4. round function:round(x,d) d:decimal point\n",
    "\"\"\"\n",
    "round(df_exam,2)"
   ]
  },
  {
   "cell_type": "markdown",
   "id": "f0af73b6",
   "metadata": {},
   "source": [
    "# chapter 4 Dataframe Query"
   ]
  },
  {
   "cell_type": "code",
   "execution_count": 9,
   "id": "e282ed1e",
   "metadata": {},
   "outputs": [
    {
     "data": {
      "text/plain": [
       "0    female\n",
       "1    female\n",
       "2    female\n",
       "3      male\n",
       "Name: gender, dtype: object"
      ]
     },
     "execution_count": 9,
     "metadata": {},
     "output_type": "execute_result"
    }
   ],
   "source": [
    "#1.select df columns\n",
    "df_exam['gender'].head(4)"
   ]
  },
  {
   "cell_type": "code",
   "execution_count": 10,
   "id": "f73218c8",
   "metadata": {},
   "outputs": [
    {
     "data": {
      "text/plain": [
       "pandas.core.series.Series"
      ]
     },
     "execution_count": 10,
     "metadata": {},
     "output_type": "execute_result"
    }
   ],
   "source": [
    "#2.check column type\n",
    "type(df_exam['gender'])"
   ]
  },
  {
   "cell_type": "code",
   "execution_count": 16,
   "id": "c32b56d3",
   "metadata": {},
   "outputs": [
    {
     "data": {
      "text/plain": [
       "0      72\n",
       "1      69\n",
       "2      90\n",
       "3      47\n",
       "4      76\n",
       "       ..\n",
       "995    88\n",
       "996    62\n",
       "997    59\n",
       "998    68\n",
       "999    77\n",
       "Name: math score, Length: 1000, dtype: int64"
      ]
     },
     "execution_count": 16,
     "metadata": {},
     "output_type": "execute_result"
    }
   ],
   "source": [
    "\"\"\"\n",
    "3.select col with dot (has pitfalls陷阱)\n",
    "\"\"\"\n",
    "#df_exam.gender.head(4) # vs #1\n",
    "#df_exam.math score  #if name has space,it will error\n",
    "# vs\n",
    "df_exam['math score']"
   ]
  },
  {
   "cell_type": "markdown",
   "id": "db751e3a",
   "metadata": {},
   "source": [
    "### 4.2 Query Many cols "
   ]
  },
  {
   "cell_type": "code",
   "execution_count": 20,
   "id": "210736b1",
   "metadata": {},
   "outputs": [
    {
     "data": {
      "text/html": [
       "<div>\n",
       "<style scoped>\n",
       "    .dataframe tbody tr th:only-of-type {\n",
       "        vertical-align: middle;\n",
       "    }\n",
       "\n",
       "    .dataframe tbody tr th {\n",
       "        vertical-align: top;\n",
       "    }\n",
       "\n",
       "    .dataframe thead th {\n",
       "        text-align: right;\n",
       "    }\n",
       "</style>\n",
       "<table border=\"1\" class=\"dataframe\">\n",
       "  <thead>\n",
       "    <tr style=\"text-align: right;\">\n",
       "      <th></th>\n",
       "      <th>gender</th>\n",
       "      <th>race/ethnicity</th>\n",
       "      <th>parental level of education</th>\n",
       "    </tr>\n",
       "  </thead>\n",
       "  <tbody>\n",
       "    <tr>\n",
       "      <th>0</th>\n",
       "      <td>female</td>\n",
       "      <td>group B</td>\n",
       "      <td>bachelor's degree</td>\n",
       "    </tr>\n",
       "    <tr>\n",
       "      <th>1</th>\n",
       "      <td>female</td>\n",
       "      <td>group C</td>\n",
       "      <td>some college</td>\n",
       "    </tr>\n",
       "  </tbody>\n",
       "</table>\n",
       "</div>"
      ],
      "text/plain": [
       "   gender race/ethnicity parental level of education\n",
       "0  female        group B           bachelor's degree\n",
       "1  female        group C                some college"
      ]
     },
     "execution_count": 20,
     "metadata": {},
     "output_type": "execute_result"
    }
   ],
   "source": [
    "\"\"\"1.use [['x','y','z']],\n",
    "    pair[]=DataFrame\n",
    "    single[]=seriese\n",
    "\"\"\"\n",
    "df_exam.columns\n",
    "df_exam[['gender', 'race/ethnicity', 'parental level of education']].head(2)"
   ]
  },
  {
   "cell_type": "markdown",
   "id": "3a65d27d",
   "metadata": {},
   "source": [
    "# Chapter 5: DML DataFrame(Numpy)"
   ]
  },
  {
   "cell_type": "raw",
   "id": "4118f9e1",
   "metadata": {},
   "source": [
    "1.def\n",
    "NumPy stands for numeric python which is a python package for the computation and processing of the multidimensional and single dimensional array elements.\n",
    "2.real:\n",
    "pandas handle n-d list, dictionary\n",
    "numpy relates to n-d array"
   ]
  },
  {
   "cell_type": "code",
   "execution_count": 22,
   "id": "9aa36c40",
   "metadata": {},
   "outputs": [],
   "source": [
    "df_exam=pd.read_csv(r'C:\\Users\\fengs\\Desktop\\pd_real\\python-course-for-excel-users-main\\2.Intro to Pandas\\StudentsPerformance.csv')"
   ]
  },
  {
   "cell_type": "code",
   "execution_count": 23,
   "id": "f338a2fe",
   "metadata": {},
   "outputs": [
    {
     "data": {
      "text/plain": [
       "Index(['gender', 'race/ethnicity', 'parental level of education', 'lunch',\n",
       "       'test preparation course', 'math score', 'reading score',\n",
       "       'writing score'],\n",
       "      dtype='object')"
      ]
     },
     "execution_count": 23,
     "metadata": {},
     "output_type": "execute_result"
    }
   ],
   "source": [
    "df_exam.columns"
   ]
  },
  {
   "cell_type": "code",
   "execution_count": 26,
   "id": "15dbb80c",
   "metadata": {},
   "outputs": [
    {
     "data": {
      "text/html": [
       "<div>\n",
       "<style scoped>\n",
       "    .dataframe tbody tr th:only-of-type {\n",
       "        vertical-align: middle;\n",
       "    }\n",
       "\n",
       "    .dataframe tbody tr th {\n",
       "        vertical-align: top;\n",
       "    }\n",
       "\n",
       "    .dataframe thead th {\n",
       "        text-align: right;\n",
       "    }\n",
       "</style>\n",
       "<table border=\"1\" class=\"dataframe\">\n",
       "  <thead>\n",
       "    <tr style=\"text-align: right;\">\n",
       "      <th></th>\n",
       "      <th>gender</th>\n",
       "      <th>race/ethnicity</th>\n",
       "      <th>parental level of education</th>\n",
       "      <th>lunch</th>\n",
       "      <th>test preparation course</th>\n",
       "      <th>math score</th>\n",
       "      <th>reading score</th>\n",
       "      <th>writing score</th>\n",
       "      <th>new score</th>\n",
       "    </tr>\n",
       "  </thead>\n",
       "  <tbody>\n",
       "    <tr>\n",
       "      <th>0</th>\n",
       "      <td>female</td>\n",
       "      <td>group B</td>\n",
       "      <td>bachelor's degree</td>\n",
       "      <td>standard</td>\n",
       "      <td>none</td>\n",
       "      <td>72</td>\n",
       "      <td>72</td>\n",
       "      <td>74</td>\n",
       "      <td>82</td>\n",
       "    </tr>\n",
       "    <tr>\n",
       "      <th>1</th>\n",
       "      <td>female</td>\n",
       "      <td>group C</td>\n",
       "      <td>some college</td>\n",
       "      <td>standard</td>\n",
       "      <td>completed</td>\n",
       "      <td>69</td>\n",
       "      <td>90</td>\n",
       "      <td>88</td>\n",
       "      <td>79</td>\n",
       "    </tr>\n",
       "    <tr>\n",
       "      <th>2</th>\n",
       "      <td>female</td>\n",
       "      <td>group B</td>\n",
       "      <td>master's degree</td>\n",
       "      <td>standard</td>\n",
       "      <td>none</td>\n",
       "      <td>90</td>\n",
       "      <td>95</td>\n",
       "      <td>93</td>\n",
       "      <td>100</td>\n",
       "    </tr>\n",
       "  </tbody>\n",
       "</table>\n",
       "</div>"
      ],
      "text/plain": [
       "   gender race/ethnicity parental level of education     lunch  \\\n",
       "0  female        group B           bachelor's degree  standard   \n",
       "1  female        group C                some college  standard   \n",
       "2  female        group B             master's degree  standard   \n",
       "\n",
       "  test preparation course  math score  reading score  writing score  new score  \n",
       "0                    none          72             72             74         82  \n",
       "1               completed          69             90             88         79  \n",
       "2                    none          90             95             93        100  "
      ]
     },
     "execution_count": 26,
     "metadata": {},
     "output_type": "execute_result"
    }
   ],
   "source": [
    "#1.add col\n",
    "df_exam['new score']=df_exam['math score']+10\n",
    "df_exam.head(3)"
   ]
  },
  {
   "cell_type": "code",
   "execution_count": 28,
   "id": "0152c61b",
   "metadata": {},
   "outputs": [
    {
     "data": {
      "text/plain": [
       "1000"
      ]
     },
     "execution_count": 28,
     "metadata": {},
     "output_type": "execute_result"
    }
   ],
   "source": [
    "\"\"\"2.add new cols with numpy\n",
    "#if DF more than 1000 rows use numpy\n",
    "\"\"\"\n",
    "import numpy as np\n",
    "\n",
    "np.arange(0,1000)\n",
    "len(np.arange(0,1000))"
   ]
  },
  {
   "cell_type": "code",
   "execution_count": 32,
   "id": "b32bb3ee",
   "metadata": {},
   "outputs": [
    {
     "data": {
      "text/html": [
       "<div>\n",
       "<style scoped>\n",
       "    .dataframe tbody tr th:only-of-type {\n",
       "        vertical-align: middle;\n",
       "    }\n",
       "\n",
       "    .dataframe tbody tr th {\n",
       "        vertical-align: top;\n",
       "    }\n",
       "\n",
       "    .dataframe thead th {\n",
       "        text-align: right;\n",
       "    }\n",
       "</style>\n",
       "<table border=\"1\" class=\"dataframe\">\n",
       "  <thead>\n",
       "    <tr style=\"text-align: right;\">\n",
       "      <th></th>\n",
       "      <th>gender</th>\n",
       "      <th>race/ethnicity</th>\n",
       "      <th>parental level of education</th>\n",
       "      <th>lunch</th>\n",
       "      <th>test preparation course</th>\n",
       "      <th>math score</th>\n",
       "      <th>reading score</th>\n",
       "      <th>writing score</th>\n",
       "      <th>new score</th>\n",
       "    </tr>\n",
       "  </thead>\n",
       "  <tbody>\n",
       "    <tr>\n",
       "      <th>0</th>\n",
       "      <td>female</td>\n",
       "      <td>group B</td>\n",
       "      <td>bachelor's degree</td>\n",
       "      <td>standard</td>\n",
       "      <td>none</td>\n",
       "      <td>72</td>\n",
       "      <td>72</td>\n",
       "      <td>74</td>\n",
       "      <td>0</td>\n",
       "    </tr>\n",
       "    <tr>\n",
       "      <th>1</th>\n",
       "      <td>female</td>\n",
       "      <td>group C</td>\n",
       "      <td>some college</td>\n",
       "      <td>standard</td>\n",
       "      <td>completed</td>\n",
       "      <td>69</td>\n",
       "      <td>90</td>\n",
       "      <td>88</td>\n",
       "      <td>1</td>\n",
       "    </tr>\n",
       "    <tr>\n",
       "      <th>2</th>\n",
       "      <td>female</td>\n",
       "      <td>group B</td>\n",
       "      <td>master's degree</td>\n",
       "      <td>standard</td>\n",
       "      <td>none</td>\n",
       "      <td>90</td>\n",
       "      <td>95</td>\n",
       "      <td>93</td>\n",
       "      <td>2</td>\n",
       "    </tr>\n",
       "  </tbody>\n",
       "</table>\n",
       "</div>"
      ],
      "text/plain": [
       "   gender race/ethnicity parental level of education     lunch  \\\n",
       "0  female        group B           bachelor's degree  standard   \n",
       "1  female        group C                some college  standard   \n",
       "2  female        group B             master's degree  standard   \n",
       "\n",
       "  test preparation course  math score  reading score  writing score  new score  \n",
       "0                    none          72             72             74          0  \n",
       "1               completed          69             90             88          1  \n",
       "2                    none          90             95             93          2  "
      ]
     },
     "execution_count": 32,
     "metadata": {},
     "output_type": "execute_result"
    }
   ],
   "source": [
    "df_exam['new score']=np.arange(0,1000)\n",
    "df_exam.head(3)"
   ]
  },
  {
   "cell_type": "code",
   "execution_count": 33,
   "id": "2ed79b74",
   "metadata": {},
   "outputs": [
    {
     "data": {
      "text/plain": [
       "75"
      ]
     },
     "execution_count": 33,
     "metadata": {},
     "output_type": "execute_result"
    }
   ],
   "source": [
    "\"\"\"#3.numpy random generate a int [1:100]\n",
    "   randin(start,end) ,randin=random integer\n",
    "   random.randint(low, high=None, size=None, dtype=int)\n",
    "\"\"\"\n",
    "np.random.randint(1,100) #size define 1,gen one int"
   ]
  },
  {
   "cell_type": "code",
   "execution_count": 35,
   "id": "a40d3ef3",
   "metadata": {},
   "outputs": [
    {
     "name": "stdout",
     "output_type": "stream",
     "text": [
      "45\n",
      "32\n",
      "88\n",
      "54\n",
      "10\n"
     ]
    }
   ],
   "source": [
    "#for each loop, simple\n",
    "np_ra=np.random.randint(1,100,size=5)\n",
    "for i in np_ra:\n",
    "    print(i)"
   ]
  },
  {
   "cell_type": "code",
   "execution_count": 36,
   "id": "bc3e56c6",
   "metadata": {},
   "outputs": [
    {
     "name": "stdout",
     "output_type": "stream",
     "text": [
      "61\n",
      "90\n",
      "99\n",
      "24\n",
      "17\n"
     ]
    }
   ],
   "source": [
    "#standard for loop\n",
    "np_ra=np.random.randint(1,100,size=5)\n",
    "for i in range(0,len(np_ra),1):\n",
    "    print(np_ra[i])"
   ]
  },
  {
   "cell_type": "code",
   "execution_count": 38,
   "id": "2666cf70",
   "metadata": {},
   "outputs": [
    {
     "data": {
      "text/html": [
       "<div>\n",
       "<style scoped>\n",
       "    .dataframe tbody tr th:only-of-type {\n",
       "        vertical-align: middle;\n",
       "    }\n",
       "\n",
       "    .dataframe tbody tr th {\n",
       "        vertical-align: top;\n",
       "    }\n",
       "\n",
       "    .dataframe thead th {\n",
       "        text-align: right;\n",
       "    }\n",
       "</style>\n",
       "<table border=\"1\" class=\"dataframe\">\n",
       "  <thead>\n",
       "    <tr style=\"text-align: right;\">\n",
       "      <th></th>\n",
       "      <th>gender</th>\n",
       "      <th>race/ethnicity</th>\n",
       "      <th>parental level of education</th>\n",
       "      <th>lunch</th>\n",
       "      <th>test preparation course</th>\n",
       "      <th>math score</th>\n",
       "      <th>reading score</th>\n",
       "      <th>writing score</th>\n",
       "      <th>new score</th>\n",
       "    </tr>\n",
       "  </thead>\n",
       "  <tbody>\n",
       "    <tr>\n",
       "      <th>0</th>\n",
       "      <td>female</td>\n",
       "      <td>group B</td>\n",
       "      <td>bachelor's degree</td>\n",
       "      <td>standard</td>\n",
       "      <td>none</td>\n",
       "      <td>72</td>\n",
       "      <td>72</td>\n",
       "      <td>74</td>\n",
       "      <td>34</td>\n",
       "    </tr>\n",
       "    <tr>\n",
       "      <th>1</th>\n",
       "      <td>female</td>\n",
       "      <td>group C</td>\n",
       "      <td>some college</td>\n",
       "      <td>standard</td>\n",
       "      <td>completed</td>\n",
       "      <td>69</td>\n",
       "      <td>90</td>\n",
       "      <td>88</td>\n",
       "      <td>69</td>\n",
       "    </tr>\n",
       "    <tr>\n",
       "      <th>2</th>\n",
       "      <td>female</td>\n",
       "      <td>group B</td>\n",
       "      <td>master's degree</td>\n",
       "      <td>standard</td>\n",
       "      <td>none</td>\n",
       "      <td>90</td>\n",
       "      <td>95</td>\n",
       "      <td>93</td>\n",
       "      <td>7</td>\n",
       "    </tr>\n",
       "    <tr>\n",
       "      <th>3</th>\n",
       "      <td>male</td>\n",
       "      <td>group A</td>\n",
       "      <td>associate's degree</td>\n",
       "      <td>free/reduced</td>\n",
       "      <td>none</td>\n",
       "      <td>47</td>\n",
       "      <td>57</td>\n",
       "      <td>44</td>\n",
       "      <td>37</td>\n",
       "    </tr>\n",
       "    <tr>\n",
       "      <th>4</th>\n",
       "      <td>male</td>\n",
       "      <td>group C</td>\n",
       "      <td>some college</td>\n",
       "      <td>standard</td>\n",
       "      <td>none</td>\n",
       "      <td>76</td>\n",
       "      <td>78</td>\n",
       "      <td>75</td>\n",
       "      <td>49</td>\n",
       "    </tr>\n",
       "  </tbody>\n",
       "</table>\n",
       "</div>"
      ],
      "text/plain": [
       "   gender race/ethnicity parental level of education         lunch  \\\n",
       "0  female        group B           bachelor's degree      standard   \n",
       "1  female        group C                some college      standard   \n",
       "2  female        group B             master's degree      standard   \n",
       "3    male        group A          associate's degree  free/reduced   \n",
       "4    male        group C                some college      standard   \n",
       "\n",
       "  test preparation course  math score  reading score  writing score  new score  \n",
       "0                    none          72             72             74         34  \n",
       "1               completed          69             90             88         69  \n",
       "2                    none          90             95             93          7  \n",
       "3                    none          47             57             44         37  \n",
       "4                    none          76             78             75         49  "
      ]
     },
     "execution_count": 38,
     "metadata": {},
     "output_type": "execute_result"
    }
   ],
   "source": [
    "#4.add col with numpy,random gen num\n",
    "df_exam['new score']=np.random.randint(1,100,size=1000) #size=1000 as row=1k\n",
    "df_exam.head()"
   ]
  },
  {
   "cell_type": "code",
   "execution_count": 39,
   "id": "37741562",
   "metadata": {},
   "outputs": [
    {
     "data": {
      "text/html": [
       "<div>\n",
       "<style scoped>\n",
       "    .dataframe tbody tr th:only-of-type {\n",
       "        vertical-align: middle;\n",
       "    }\n",
       "\n",
       "    .dataframe tbody tr th {\n",
       "        vertical-align: top;\n",
       "    }\n",
       "\n",
       "    .dataframe thead th {\n",
       "        text-align: right;\n",
       "    }\n",
       "</style>\n",
       "<table border=\"1\" class=\"dataframe\">\n",
       "  <thead>\n",
       "    <tr style=\"text-align: right;\">\n",
       "      <th></th>\n",
       "      <th>gender</th>\n",
       "      <th>race/ethnicity</th>\n",
       "      <th>parental level of education</th>\n",
       "      <th>lunch</th>\n",
       "      <th>test preparation course</th>\n",
       "      <th>math score</th>\n",
       "      <th>reading score</th>\n",
       "      <th>writing score</th>\n",
       "      <th>new score</th>\n",
       "    </tr>\n",
       "  </thead>\n",
       "  <tbody>\n",
       "    <tr>\n",
       "      <th>24</th>\n",
       "      <td>male</td>\n",
       "      <td>group D</td>\n",
       "      <td>bachelor's degree</td>\n",
       "      <td>free/reduced</td>\n",
       "      <td>completed</td>\n",
       "      <td>74</td>\n",
       "      <td>71</td>\n",
       "      <td>80</td>\n",
       "      <td>99</td>\n",
       "    </tr>\n",
       "    <tr>\n",
       "      <th>85</th>\n",
       "      <td>female</td>\n",
       "      <td>group C</td>\n",
       "      <td>some college</td>\n",
       "      <td>standard</td>\n",
       "      <td>none</td>\n",
       "      <td>73</td>\n",
       "      <td>80</td>\n",
       "      <td>82</td>\n",
       "      <td>99</td>\n",
       "    </tr>\n",
       "    <tr>\n",
       "      <th>298</th>\n",
       "      <td>male</td>\n",
       "      <td>group C</td>\n",
       "      <td>high school</td>\n",
       "      <td>free/reduced</td>\n",
       "      <td>completed</td>\n",
       "      <td>40</td>\n",
       "      <td>46</td>\n",
       "      <td>50</td>\n",
       "      <td>99</td>\n",
       "    </tr>\n",
       "    <tr>\n",
       "      <th>553</th>\n",
       "      <td>male</td>\n",
       "      <td>group D</td>\n",
       "      <td>some college</td>\n",
       "      <td>free/reduced</td>\n",
       "      <td>none</td>\n",
       "      <td>77</td>\n",
       "      <td>62</td>\n",
       "      <td>64</td>\n",
       "      <td>99</td>\n",
       "    </tr>\n",
       "    <tr>\n",
       "      <th>612</th>\n",
       "      <td>male</td>\n",
       "      <td>group C</td>\n",
       "      <td>bachelor's degree</td>\n",
       "      <td>standard</td>\n",
       "      <td>completed</td>\n",
       "      <td>94</td>\n",
       "      <td>90</td>\n",
       "      <td>91</td>\n",
       "      <td>99</td>\n",
       "    </tr>\n",
       "    <tr>\n",
       "      <th>634</th>\n",
       "      <td>male</td>\n",
       "      <td>group D</td>\n",
       "      <td>some high school</td>\n",
       "      <td>standard</td>\n",
       "      <td>none</td>\n",
       "      <td>84</td>\n",
       "      <td>84</td>\n",
       "      <td>80</td>\n",
       "      <td>99</td>\n",
       "    </tr>\n",
       "    <tr>\n",
       "      <th>666</th>\n",
       "      <td>female</td>\n",
       "      <td>group C</td>\n",
       "      <td>some college</td>\n",
       "      <td>free/reduced</td>\n",
       "      <td>completed</td>\n",
       "      <td>63</td>\n",
       "      <td>73</td>\n",
       "      <td>71</td>\n",
       "      <td>99</td>\n",
       "    </tr>\n",
       "    <tr>\n",
       "      <th>768</th>\n",
       "      <td>female</td>\n",
       "      <td>group D</td>\n",
       "      <td>some high school</td>\n",
       "      <td>standard</td>\n",
       "      <td>none</td>\n",
       "      <td>68</td>\n",
       "      <td>71</td>\n",
       "      <td>75</td>\n",
       "      <td>99</td>\n",
       "    </tr>\n",
       "    <tr>\n",
       "      <th>873</th>\n",
       "      <td>male</td>\n",
       "      <td>group E</td>\n",
       "      <td>associate's degree</td>\n",
       "      <td>free/reduced</td>\n",
       "      <td>none</td>\n",
       "      <td>90</td>\n",
       "      <td>90</td>\n",
       "      <td>82</td>\n",
       "      <td>99</td>\n",
       "    </tr>\n",
       "    <tr>\n",
       "      <th>953</th>\n",
       "      <td>male</td>\n",
       "      <td>group C</td>\n",
       "      <td>high school</td>\n",
       "      <td>standard</td>\n",
       "      <td>completed</td>\n",
       "      <td>58</td>\n",
       "      <td>52</td>\n",
       "      <td>54</td>\n",
       "      <td>99</td>\n",
       "    </tr>\n",
       "  </tbody>\n",
       "</table>\n",
       "</div>"
      ],
      "text/plain": [
       "     gender race/ethnicity parental level of education         lunch  \\\n",
       "24     male        group D           bachelor's degree  free/reduced   \n",
       "85   female        group C                some college      standard   \n",
       "298    male        group C                 high school  free/reduced   \n",
       "553    male        group D                some college  free/reduced   \n",
       "612    male        group C           bachelor's degree      standard   \n",
       "634    male        group D            some high school      standard   \n",
       "666  female        group C                some college  free/reduced   \n",
       "768  female        group D            some high school      standard   \n",
       "873    male        group E          associate's degree  free/reduced   \n",
       "953    male        group C                 high school      standard   \n",
       "\n",
       "    test preparation course  math score  reading score  writing score  \\\n",
       "24                completed          74             71             80   \n",
       "85                     none          73             80             82   \n",
       "298               completed          40             46             50   \n",
       "553                    none          77             62             64   \n",
       "612               completed          94             90             91   \n",
       "634                    none          84             84             80   \n",
       "666               completed          63             73             71   \n",
       "768                    none          68             71             75   \n",
       "873                    none          90             90             82   \n",
       "953               completed          58             52             54   \n",
       "\n",
       "     new score  \n",
       "24          99  \n",
       "85          99  \n",
       "298         99  \n",
       "553         99  \n",
       "612         99  \n",
       "634         99  \n",
       "666         99  \n",
       "768         99  \n",
       "873         99  \n",
       "953         99  "
      ]
     },
     "execution_count": 39,
     "metadata": {},
     "output_type": "execute_result"
    }
   ],
   "source": [
    "#find min/max row of new score column\n",
    "df_exam.loc[df_exam['new score'] == df_exam['new score'].max()] "
   ]
  },
  {
   "cell_type": "code",
   "execution_count": 40,
   "id": "8f66eb5a",
   "metadata": {},
   "outputs": [
    {
     "data": {
      "text/html": [
       "<div>\n",
       "<style scoped>\n",
       "    .dataframe tbody tr th:only-of-type {\n",
       "        vertical-align: middle;\n",
       "    }\n",
       "\n",
       "    .dataframe tbody tr th {\n",
       "        vertical-align: top;\n",
       "    }\n",
       "\n",
       "    .dataframe thead th {\n",
       "        text-align: right;\n",
       "    }\n",
       "</style>\n",
       "<table border=\"1\" class=\"dataframe\">\n",
       "  <thead>\n",
       "    <tr style=\"text-align: right;\">\n",
       "      <th></th>\n",
       "      <th>gender</th>\n",
       "      <th>race/ethnicity</th>\n",
       "      <th>parental level of education</th>\n",
       "      <th>lunch</th>\n",
       "      <th>test preparation course</th>\n",
       "      <th>math score</th>\n",
       "      <th>reading score</th>\n",
       "      <th>writing score</th>\n",
       "      <th>new score</th>\n",
       "    </tr>\n",
       "  </thead>\n",
       "  <tbody>\n",
       "    <tr>\n",
       "      <th>21</th>\n",
       "      <td>female</td>\n",
       "      <td>group B</td>\n",
       "      <td>some college</td>\n",
       "      <td>free/reduced</td>\n",
       "      <td>completed</td>\n",
       "      <td>65</td>\n",
       "      <td>75</td>\n",
       "      <td>70</td>\n",
       "      <td>1</td>\n",
       "    </tr>\n",
       "    <tr>\n",
       "      <th>124</th>\n",
       "      <td>male</td>\n",
       "      <td>group E</td>\n",
       "      <td>some college</td>\n",
       "      <td>standard</td>\n",
       "      <td>none</td>\n",
       "      <td>83</td>\n",
       "      <td>80</td>\n",
       "      <td>73</td>\n",
       "      <td>1</td>\n",
       "    </tr>\n",
       "    <tr>\n",
       "      <th>156</th>\n",
       "      <td>female</td>\n",
       "      <td>group E</td>\n",
       "      <td>high school</td>\n",
       "      <td>free/reduced</td>\n",
       "      <td>completed</td>\n",
       "      <td>66</td>\n",
       "      <td>74</td>\n",
       "      <td>78</td>\n",
       "      <td>1</td>\n",
       "    </tr>\n",
       "    <tr>\n",
       "      <th>236</th>\n",
       "      <td>male</td>\n",
       "      <td>group D</td>\n",
       "      <td>bachelor's degree</td>\n",
       "      <td>free/reduced</td>\n",
       "      <td>none</td>\n",
       "      <td>63</td>\n",
       "      <td>66</td>\n",
       "      <td>67</td>\n",
       "      <td>1</td>\n",
       "    </tr>\n",
       "    <tr>\n",
       "      <th>239</th>\n",
       "      <td>male</td>\n",
       "      <td>group C</td>\n",
       "      <td>associate's degree</td>\n",
       "      <td>standard</td>\n",
       "      <td>none</td>\n",
       "      <td>84</td>\n",
       "      <td>80</td>\n",
       "      <td>80</td>\n",
       "      <td>1</td>\n",
       "    </tr>\n",
       "    <tr>\n",
       "      <th>...</th>\n",
       "      <td>...</td>\n",
       "      <td>...</td>\n",
       "      <td>...</td>\n",
       "      <td>...</td>\n",
       "      <td>...</td>\n",
       "      <td>...</td>\n",
       "      <td>...</td>\n",
       "      <td>...</td>\n",
       "      <td>...</td>\n",
       "    </tr>\n",
       "    <tr>\n",
       "      <th>407</th>\n",
       "      <td>female</td>\n",
       "      <td>group B</td>\n",
       "      <td>associate's degree</td>\n",
       "      <td>standard</td>\n",
       "      <td>none</td>\n",
       "      <td>82</td>\n",
       "      <td>80</td>\n",
       "      <td>77</td>\n",
       "      <td>1</td>\n",
       "    </tr>\n",
       "    <tr>\n",
       "      <th>558</th>\n",
       "      <td>female</td>\n",
       "      <td>group B</td>\n",
       "      <td>associate's degree</td>\n",
       "      <td>free/reduced</td>\n",
       "      <td>none</td>\n",
       "      <td>53</td>\n",
       "      <td>70</td>\n",
       "      <td>70</td>\n",
       "      <td>1</td>\n",
       "    </tr>\n",
       "    <tr>\n",
       "      <th>580</th>\n",
       "      <td>female</td>\n",
       "      <td>group D</td>\n",
       "      <td>some high school</td>\n",
       "      <td>standard</td>\n",
       "      <td>none</td>\n",
       "      <td>81</td>\n",
       "      <td>97</td>\n",
       "      <td>96</td>\n",
       "      <td>1</td>\n",
       "    </tr>\n",
       "    <tr>\n",
       "      <th>899</th>\n",
       "      <td>female</td>\n",
       "      <td>group D</td>\n",
       "      <td>some high school</td>\n",
       "      <td>standard</td>\n",
       "      <td>completed</td>\n",
       "      <td>65</td>\n",
       "      <td>78</td>\n",
       "      <td>82</td>\n",
       "      <td>1</td>\n",
       "    </tr>\n",
       "    <tr>\n",
       "      <th>969</th>\n",
       "      <td>female</td>\n",
       "      <td>group B</td>\n",
       "      <td>bachelor's degree</td>\n",
       "      <td>standard</td>\n",
       "      <td>none</td>\n",
       "      <td>75</td>\n",
       "      <td>84</td>\n",
       "      <td>80</td>\n",
       "      <td>1</td>\n",
       "    </tr>\n",
       "  </tbody>\n",
       "</table>\n",
       "<p>12 rows × 9 columns</p>\n",
       "</div>"
      ],
      "text/plain": [
       "     gender race/ethnicity parental level of education         lunch  \\\n",
       "21   female        group B                some college  free/reduced   \n",
       "124    male        group E                some college      standard   \n",
       "156  female        group E                 high school  free/reduced   \n",
       "236    male        group D           bachelor's degree  free/reduced   \n",
       "239    male        group C          associate's degree      standard   \n",
       "..      ...            ...                         ...           ...   \n",
       "407  female        group B          associate's degree      standard   \n",
       "558  female        group B          associate's degree  free/reduced   \n",
       "580  female        group D            some high school      standard   \n",
       "899  female        group D            some high school      standard   \n",
       "969  female        group B           bachelor's degree      standard   \n",
       "\n",
       "    test preparation course  math score  reading score  writing score  \\\n",
       "21                completed          65             75             70   \n",
       "124                    none          83             80             73   \n",
       "156               completed          66             74             78   \n",
       "236                    none          63             66             67   \n",
       "239                    none          84             80             80   \n",
       "..                      ...         ...            ...            ...   \n",
       "407                    none          82             80             77   \n",
       "558                    none          53             70             70   \n",
       "580                    none          81             97             96   \n",
       "899               completed          65             78             82   \n",
       "969                    none          75             84             80   \n",
       "\n",
       "     new score  \n",
       "21           1  \n",
       "124          1  \n",
       "156          1  \n",
       "236          1  \n",
       "239          1  \n",
       "..         ...  \n",
       "407          1  \n",
       "558          1  \n",
       "580          1  \n",
       "899          1  \n",
       "969          1  \n",
       "\n",
       "[12 rows x 9 columns]"
      ]
     },
     "execution_count": 40,
     "metadata": {},
     "output_type": "execute_result"
    }
   ],
   "source": [
    "df_exam.loc[df_exam['new score'] == df_exam['new score'].min()]"
   ]
  },
  {
   "cell_type": "code",
   "execution_count": 5,
   "id": "a977cff6",
   "metadata": {},
   "outputs": [
    {
     "data": {
      "text/html": [
       "<div>\n",
       "<style scoped>\n",
       "    .dataframe tbody tr th:only-of-type {\n",
       "        vertical-align: middle;\n",
       "    }\n",
       "\n",
       "    .dataframe tbody tr th {\n",
       "        vertical-align: top;\n",
       "    }\n",
       "\n",
       "    .dataframe thead th {\n",
       "        text-align: right;\n",
       "    }\n",
       "</style>\n",
       "<table border=\"1\" class=\"dataframe\">\n",
       "  <thead>\n",
       "    <tr style=\"text-align: right;\">\n",
       "      <th></th>\n",
       "      <th>gender</th>\n",
       "      <th>race/ethnicity</th>\n",
       "      <th>parental level of education</th>\n",
       "      <th>lunch</th>\n",
       "      <th>test preparation course</th>\n",
       "      <th>math score</th>\n",
       "      <th>reading score</th>\n",
       "      <th>writing score</th>\n",
       "      <th>new score</th>\n",
       "    </tr>\n",
       "  </thead>\n",
       "  <tbody>\n",
       "    <tr>\n",
       "      <th>0</th>\n",
       "      <td>female</td>\n",
       "      <td>group B</td>\n",
       "      <td>bachelor's degree</td>\n",
       "      <td>standard</td>\n",
       "      <td>none</td>\n",
       "      <td>72</td>\n",
       "      <td>72</td>\n",
       "      <td>74</td>\n",
       "      <td>63.24</td>\n",
       "    </tr>\n",
       "    <tr>\n",
       "      <th>1</th>\n",
       "      <td>female</td>\n",
       "      <td>group C</td>\n",
       "      <td>some college</td>\n",
       "      <td>standard</td>\n",
       "      <td>completed</td>\n",
       "      <td>69</td>\n",
       "      <td>90</td>\n",
       "      <td>88</td>\n",
       "      <td>64.77</td>\n",
       "    </tr>\n",
       "    <tr>\n",
       "      <th>2</th>\n",
       "      <td>female</td>\n",
       "      <td>group B</td>\n",
       "      <td>master's degree</td>\n",
       "      <td>standard</td>\n",
       "      <td>none</td>\n",
       "      <td>90</td>\n",
       "      <td>95</td>\n",
       "      <td>93</td>\n",
       "      <td>90.54</td>\n",
       "    </tr>\n",
       "    <tr>\n",
       "      <th>3</th>\n",
       "      <td>male</td>\n",
       "      <td>group A</td>\n",
       "      <td>associate's degree</td>\n",
       "      <td>free/reduced</td>\n",
       "      <td>none</td>\n",
       "      <td>47</td>\n",
       "      <td>57</td>\n",
       "      <td>44</td>\n",
       "      <td>97.71</td>\n",
       "    </tr>\n",
       "    <tr>\n",
       "      <th>4</th>\n",
       "      <td>male</td>\n",
       "      <td>group C</td>\n",
       "      <td>some college</td>\n",
       "      <td>standard</td>\n",
       "      <td>none</td>\n",
       "      <td>76</td>\n",
       "      <td>78</td>\n",
       "      <td>75</td>\n",
       "      <td>16.11</td>\n",
       "    </tr>\n",
       "    <tr>\n",
       "      <th>...</th>\n",
       "      <td>...</td>\n",
       "      <td>...</td>\n",
       "      <td>...</td>\n",
       "      <td>...</td>\n",
       "      <td>...</td>\n",
       "      <td>...</td>\n",
       "      <td>...</td>\n",
       "      <td>...</td>\n",
       "      <td>...</td>\n",
       "    </tr>\n",
       "    <tr>\n",
       "      <th>995</th>\n",
       "      <td>female</td>\n",
       "      <td>group E</td>\n",
       "      <td>master's degree</td>\n",
       "      <td>standard</td>\n",
       "      <td>completed</td>\n",
       "      <td>88</td>\n",
       "      <td>99</td>\n",
       "      <td>95</td>\n",
       "      <td>61.27</td>\n",
       "    </tr>\n",
       "    <tr>\n",
       "      <th>996</th>\n",
       "      <td>male</td>\n",
       "      <td>group C</td>\n",
       "      <td>high school</td>\n",
       "      <td>free/reduced</td>\n",
       "      <td>none</td>\n",
       "      <td>62</td>\n",
       "      <td>55</td>\n",
       "      <td>55</td>\n",
       "      <td>1.34</td>\n",
       "    </tr>\n",
       "    <tr>\n",
       "      <th>997</th>\n",
       "      <td>female</td>\n",
       "      <td>group C</td>\n",
       "      <td>high school</td>\n",
       "      <td>free/reduced</td>\n",
       "      <td>completed</td>\n",
       "      <td>59</td>\n",
       "      <td>71</td>\n",
       "      <td>65</td>\n",
       "      <td>56.04</td>\n",
       "    </tr>\n",
       "    <tr>\n",
       "      <th>998</th>\n",
       "      <td>female</td>\n",
       "      <td>group D</td>\n",
       "      <td>some college</td>\n",
       "      <td>standard</td>\n",
       "      <td>completed</td>\n",
       "      <td>68</td>\n",
       "      <td>78</td>\n",
       "      <td>77</td>\n",
       "      <td>62.28</td>\n",
       "    </tr>\n",
       "    <tr>\n",
       "      <th>999</th>\n",
       "      <td>female</td>\n",
       "      <td>group D</td>\n",
       "      <td>some college</td>\n",
       "      <td>free/reduced</td>\n",
       "      <td>none</td>\n",
       "      <td>77</td>\n",
       "      <td>86</td>\n",
       "      <td>86</td>\n",
       "      <td>6.62</td>\n",
       "    </tr>\n",
       "  </tbody>\n",
       "</table>\n",
       "<p>1000 rows × 9 columns</p>\n",
       "</div>"
      ],
      "text/plain": [
       "     gender race/ethnicity parental level of education         lunch  \\\n",
       "0    female        group B           bachelor's degree      standard   \n",
       "1    female        group C                some college      standard   \n",
       "2    female        group B             master's degree      standard   \n",
       "3      male        group A          associate's degree  free/reduced   \n",
       "4      male        group C                some college      standard   \n",
       "..      ...            ...                         ...           ...   \n",
       "995  female        group E             master's degree      standard   \n",
       "996    male        group C                 high school  free/reduced   \n",
       "997  female        group C                 high school  free/reduced   \n",
       "998  female        group D                some college      standard   \n",
       "999  female        group D                some college  free/reduced   \n",
       "\n",
       "    test preparation course  math score  reading score  writing score  \\\n",
       "0                      none          72             72             74   \n",
       "1                 completed          69             90             88   \n",
       "2                      none          90             95             93   \n",
       "3                      none          47             57             44   \n",
       "4                      none          76             78             75   \n",
       "..                      ...         ...            ...            ...   \n",
       "995               completed          88             99             95   \n",
       "996                    none          62             55             55   \n",
       "997               completed          59             71             65   \n",
       "998               completed          68             78             77   \n",
       "999                    none          77             86             86   \n",
       "\n",
       "     new score  \n",
       "0        63.24  \n",
       "1        64.77  \n",
       "2        90.54  \n",
       "3        97.71  \n",
       "4        16.11  \n",
       "..         ...  \n",
       "995      61.27  \n",
       "996       1.34  \n",
       "997      56.04  \n",
       "998      62.28  \n",
       "999       6.62  \n",
       "\n",
       "[1000 rows x 9 columns]"
      ]
     },
     "execution_count": 5,
     "metadata": {},
     "output_type": "execute_result"
    }
   ],
   "source": [
    "\"\"\"4.create a floating number between 1 and 100+ round up to 2 decimals\n",
    "numpy.random.uniform(low,high,size)\n",
    "\"\"\"\n",
    "df_exam['new score']=np.random.uniform(1,100,size=1000)#if not size=1000, will error\n",
    "df_exam.round(2) #no round(df_exam,2) as round is gen function of python, not a method\n",
    "#要def function"
   ]
  },
  {
   "cell_type": "markdown",
   "id": "00a9505e",
   "metadata": {},
   "source": [
    "# chapter6 operation with Df"
   ]
  },
  {
   "cell_type": "code",
   "execution_count": 46,
   "id": "ffb4ec30",
   "metadata": {},
   "outputs": [],
   "source": [
    "import pandas as pd\n",
    "import numpy  as np\n",
    "df_exam=pd.read_csv(r'C:\\Users\\fengs\\Desktop\\pd_real\\python-course-for-excel-users-main\\2.Intro to Pandas\\StudentsPerformance.csv')"
   ]
  },
  {
   "cell_type": "code",
   "execution_count": 49,
   "id": "3cf5c91f",
   "metadata": {},
   "outputs": [],
   "source": [
    "#set tools display rows\n",
    "pd.set_option('display.max_rows', 10)  #\n",
    "pd.set_option('display.max_columns', 10)  #\n",
    "df_exam"
   ]
  },
  {
   "cell_type": "code",
   "execution_count": 51,
   "id": "770161f8",
   "metadata": {},
   "outputs": [
    {
     "data": {
      "text/plain": [
       "66089"
      ]
     },
     "execution_count": 51,
     "metadata": {},
     "output_type": "execute_result"
    }
   ],
   "source": [
    "\"\"\"1.cal sum of a columns\n",
    "\"\"\"\n",
    "df_exam['math score'].sum()"
   ]
  },
  {
   "cell_type": "code",
   "execution_count": 54,
   "id": "b879f948",
   "metadata": {},
   "outputs": [
    {
     "data": {
      "text/plain": [
       "15.16"
      ]
     },
     "execution_count": 54,
     "metadata": {},
     "output_type": "execute_result"
    }
   ],
   "source": [
    "\"\"\"2.count ,mean, std,\n",
    "\"\"\"\n",
    "df_exam['math score'].count()\n",
    "df_exam['math score'].mean()\n",
    "round(df_exam['math score'].std(),2)"
   ]
  },
  {
   "cell_type": "code",
   "execution_count": 55,
   "id": "98e4eb5d",
   "metadata": {},
   "outputs": [
    {
     "data": {
      "text/html": [
       "<div>\n",
       "<style scoped>\n",
       "    .dataframe tbody tr th:only-of-type {\n",
       "        vertical-align: middle;\n",
       "    }\n",
       "\n",
       "    .dataframe tbody tr th {\n",
       "        vertical-align: top;\n",
       "    }\n",
       "\n",
       "    .dataframe thead th {\n",
       "        text-align: right;\n",
       "    }\n",
       "</style>\n",
       "<table border=\"1\" class=\"dataframe\">\n",
       "  <thead>\n",
       "    <tr style=\"text-align: right;\">\n",
       "      <th></th>\n",
       "      <th>math score</th>\n",
       "      <th>reading score</th>\n",
       "      <th>writing score</th>\n",
       "    </tr>\n",
       "  </thead>\n",
       "  <tbody>\n",
       "    <tr>\n",
       "      <th>count</th>\n",
       "      <td>1000.00</td>\n",
       "      <td>1000.00</td>\n",
       "      <td>1000.00</td>\n",
       "    </tr>\n",
       "    <tr>\n",
       "      <th>mean</th>\n",
       "      <td>66.09</td>\n",
       "      <td>69.17</td>\n",
       "      <td>68.05</td>\n",
       "    </tr>\n",
       "    <tr>\n",
       "      <th>std</th>\n",
       "      <td>15.16</td>\n",
       "      <td>14.60</td>\n",
       "      <td>15.20</td>\n",
       "    </tr>\n",
       "    <tr>\n",
       "      <th>min</th>\n",
       "      <td>0.00</td>\n",
       "      <td>17.00</td>\n",
       "      <td>10.00</td>\n",
       "    </tr>\n",
       "    <tr>\n",
       "      <th>25%</th>\n",
       "      <td>57.00</td>\n",
       "      <td>59.00</td>\n",
       "      <td>57.75</td>\n",
       "    </tr>\n",
       "    <tr>\n",
       "      <th>50%</th>\n",
       "      <td>66.00</td>\n",
       "      <td>70.00</td>\n",
       "      <td>69.00</td>\n",
       "    </tr>\n",
       "    <tr>\n",
       "      <th>75%</th>\n",
       "      <td>77.00</td>\n",
       "      <td>79.00</td>\n",
       "      <td>79.00</td>\n",
       "    </tr>\n",
       "    <tr>\n",
       "      <th>max</th>\n",
       "      <td>100.00</td>\n",
       "      <td>100.00</td>\n",
       "      <td>100.00</td>\n",
       "    </tr>\n",
       "  </tbody>\n",
       "</table>\n",
       "</div>"
      ],
      "text/plain": [
       "       math score  reading score  writing score\n",
       "count     1000.00        1000.00        1000.00\n",
       "mean        66.09          69.17          68.05\n",
       "std         15.16          14.60          15.20\n",
       "min          0.00          17.00          10.00\n",
       "25%         57.00          59.00          57.75\n",
       "50%         66.00          70.00          69.00\n",
       "75%         77.00          79.00          79.00\n",
       "max        100.00         100.00         100.00"
      ]
     },
     "execution_count": 55,
     "metadata": {},
     "output_type": "execute_result"
    }
   ],
   "source": [
    "\"\"\"3.describle\n",
    "\"\"\"\n",
    "round(df_exam.describe(),2)"
   ]
  },
  {
   "cell_type": "code",
   "execution_count": 60,
   "id": "bccd9cc9",
   "metadata": {},
   "outputs": [
    {
     "name": "stdout",
     "output_type": "stream",
     "text": [
      "70.0\n",
      "79.0\n"
     ]
    }
   ],
   "source": [
    "\"\"\"4.quantile()\n",
    "numpy.quantile(arr, q, axis = None) \n",
    "\"\"\"\n",
    "print(np.quantile(df_exam['reading score'],0.5))\n",
    "print(np.quantile(df_exam['reading score'],0.75))"
   ]
  },
  {
   "cell_type": "markdown",
   "id": "0a3dcee8",
   "metadata": {},
   "source": [
    "### 6.2 rows process "
   ]
  },
  {
   "cell_type": "code",
   "execution_count": 62,
   "id": "a88eb561",
   "metadata": {},
   "outputs": [
    {
     "data": {
      "text/html": [
       "<div>\n",
       "<style scoped>\n",
       "    .dataframe tbody tr th:only-of-type {\n",
       "        vertical-align: middle;\n",
       "    }\n",
       "\n",
       "    .dataframe tbody tr th {\n",
       "        vertical-align: top;\n",
       "    }\n",
       "\n",
       "    .dataframe thead th {\n",
       "        text-align: right;\n",
       "    }\n",
       "</style>\n",
       "<table border=\"1\" class=\"dataframe\">\n",
       "  <thead>\n",
       "    <tr style=\"text-align: right;\">\n",
       "      <th></th>\n",
       "      <th>gender</th>\n",
       "      <th>race/ethnicity</th>\n",
       "      <th>parental level of education</th>\n",
       "      <th>lunch</th>\n",
       "      <th>test preparation course</th>\n",
       "      <th>math score</th>\n",
       "      <th>reading score</th>\n",
       "      <th>writing score</th>\n",
       "      <th>total</th>\n",
       "    </tr>\n",
       "  </thead>\n",
       "  <tbody>\n",
       "    <tr>\n",
       "      <th>0</th>\n",
       "      <td>female</td>\n",
       "      <td>group B</td>\n",
       "      <td>bachelor's degree</td>\n",
       "      <td>standard</td>\n",
       "      <td>none</td>\n",
       "      <td>72</td>\n",
       "      <td>72</td>\n",
       "      <td>74</td>\n",
       "      <td>216</td>\n",
       "    </tr>\n",
       "    <tr>\n",
       "      <th>1</th>\n",
       "      <td>female</td>\n",
       "      <td>group C</td>\n",
       "      <td>some college</td>\n",
       "      <td>standard</td>\n",
       "      <td>completed</td>\n",
       "      <td>69</td>\n",
       "      <td>90</td>\n",
       "      <td>88</td>\n",
       "      <td>249</td>\n",
       "    </tr>\n",
       "    <tr>\n",
       "      <th>2</th>\n",
       "      <td>female</td>\n",
       "      <td>group B</td>\n",
       "      <td>master's degree</td>\n",
       "      <td>standard</td>\n",
       "      <td>none</td>\n",
       "      <td>90</td>\n",
       "      <td>95</td>\n",
       "      <td>93</td>\n",
       "      <td>280</td>\n",
       "    </tr>\n",
       "    <tr>\n",
       "      <th>3</th>\n",
       "      <td>male</td>\n",
       "      <td>group A</td>\n",
       "      <td>associate's degree</td>\n",
       "      <td>free/reduced</td>\n",
       "      <td>none</td>\n",
       "      <td>47</td>\n",
       "      <td>57</td>\n",
       "      <td>44</td>\n",
       "      <td>161</td>\n",
       "    </tr>\n",
       "    <tr>\n",
       "      <th>4</th>\n",
       "      <td>male</td>\n",
       "      <td>group C</td>\n",
       "      <td>some college</td>\n",
       "      <td>standard</td>\n",
       "      <td>none</td>\n",
       "      <td>76</td>\n",
       "      <td>78</td>\n",
       "      <td>75</td>\n",
       "      <td>232</td>\n",
       "    </tr>\n",
       "  </tbody>\n",
       "</table>\n",
       "</div>"
      ],
      "text/plain": [
       "   gender race/ethnicity parental level of education         lunch  \\\n",
       "0  female        group B           bachelor's degree      standard   \n",
       "1  female        group C                some college      standard   \n",
       "2  female        group B             master's degree      standard   \n",
       "3    male        group A          associate's degree  free/reduced   \n",
       "4    male        group C                some college      standard   \n",
       "\n",
       "  test preparation course  math score  reading score  writing score  total  \n",
       "0                    none          72             72             74    216  \n",
       "1               completed          69             90             88    249  \n",
       "2                    none          90             95             93    280  \n",
       "3                    none          47             57             44    161  \n",
       "4                    none          76             78             75    232  "
      ]
     },
     "execution_count": 62,
     "metadata": {},
     "output_type": "execute_result"
    }
   ],
   "source": [
    "#1.total by sum other\n",
    "df_exam['total']=df_exam['math score']+df_exam['reading score']+df_exam['reading score']\n",
    "df_exam.head()\n",
    "de_exam.round(2) #precise to 2 decimals"
   ]
  },
  {
   "cell_type": "markdown",
   "id": "37352d34",
   "metadata": {},
   "source": [
    "### chapter 7 Dateframe fine-tune(優化)"
   ]
  },
  {
   "cell_type": "code",
   "execution_count": 10,
   "id": "06f0142e",
   "metadata": {},
   "outputs": [
    {
     "data": {
      "text/html": [
       "<div>\n",
       "<style scoped>\n",
       "    .dataframe tbody tr th:only-of-type {\n",
       "        vertical-align: middle;\n",
       "    }\n",
       "\n",
       "    .dataframe tbody tr th {\n",
       "        vertical-align: top;\n",
       "    }\n",
       "\n",
       "    .dataframe thead th {\n",
       "        text-align: right;\n",
       "    }\n",
       "</style>\n",
       "<table border=\"1\" class=\"dataframe\">\n",
       "  <thead>\n",
       "    <tr style=\"text-align: right;\">\n",
       "      <th></th>\n",
       "      <th>gender</th>\n",
       "      <th>race/ethnicity</th>\n",
       "      <th>parental level of education</th>\n",
       "      <th>lunch</th>\n",
       "      <th>test preparation course</th>\n",
       "      <th>math score</th>\n",
       "      <th>reading score</th>\n",
       "      <th>writing score</th>\n",
       "      <th>new score</th>\n",
       "    </tr>\n",
       "  </thead>\n",
       "  <tbody>\n",
       "    <tr>\n",
       "      <th>0</th>\n",
       "      <td>female</td>\n",
       "      <td>group B</td>\n",
       "      <td>bachelor's degree</td>\n",
       "      <td>standard</td>\n",
       "      <td>none</td>\n",
       "      <td>72</td>\n",
       "      <td>72</td>\n",
       "      <td>74</td>\n",
       "      <td>63.238354</td>\n",
       "    </tr>\n",
       "    <tr>\n",
       "      <th>1</th>\n",
       "      <td>female</td>\n",
       "      <td>group C</td>\n",
       "      <td>some college</td>\n",
       "      <td>standard</td>\n",
       "      <td>completed</td>\n",
       "      <td>69</td>\n",
       "      <td>90</td>\n",
       "      <td>88</td>\n",
       "      <td>64.767176</td>\n",
       "    </tr>\n",
       "    <tr>\n",
       "      <th>2</th>\n",
       "      <td>female</td>\n",
       "      <td>group B</td>\n",
       "      <td>master's degree</td>\n",
       "      <td>standard</td>\n",
       "      <td>none</td>\n",
       "      <td>90</td>\n",
       "      <td>95</td>\n",
       "      <td>93</td>\n",
       "      <td>90.543414</td>\n",
       "    </tr>\n",
       "    <tr>\n",
       "      <th>3</th>\n",
       "      <td>male</td>\n",
       "      <td>group A</td>\n",
       "      <td>associate's degree</td>\n",
       "      <td>free/reduced</td>\n",
       "      <td>none</td>\n",
       "      <td>47</td>\n",
       "      <td>57</td>\n",
       "      <td>44</td>\n",
       "      <td>97.705107</td>\n",
       "    </tr>\n",
       "    <tr>\n",
       "      <th>4</th>\n",
       "      <td>male</td>\n",
       "      <td>group C</td>\n",
       "      <td>some college</td>\n",
       "      <td>standard</td>\n",
       "      <td>none</td>\n",
       "      <td>76</td>\n",
       "      <td>78</td>\n",
       "      <td>75</td>\n",
       "      <td>16.112690</td>\n",
       "    </tr>\n",
       "  </tbody>\n",
       "</table>\n",
       "</div>"
      ],
      "text/plain": [
       "   gender race/ethnicity parental level of education         lunch  \\\n",
       "0  female        group B           bachelor's degree      standard   \n",
       "1  female        group C                some college      standard   \n",
       "2  female        group B             master's degree      standard   \n",
       "3    male        group A          associate's degree  free/reduced   \n",
       "4    male        group C                some college      standard   \n",
       "\n",
       "  test preparation course  math score  reading score  writing score  new score  \n",
       "0                    none          72             72             74  63.238354  \n",
       "1               completed          69             90             88  64.767176  \n",
       "2                    none          90             95             93  90.543414  \n",
       "3                    none          47             57             44  97.705107  \n",
       "4                    none          76             78             75  16.112690  "
      ]
     },
     "execution_count": 10,
     "metadata": {},
     "output_type": "execute_result"
    }
   ],
   "source": [
    "df_exam.head()"
   ]
  },
  {
   "cell_type": "code",
   "execution_count": 7,
   "id": "eb78cae3",
   "metadata": {},
   "outputs": [
    {
     "data": {
      "text/plain": [
       "1000"
      ]
     },
     "execution_count": 7,
     "metadata": {},
     "output_type": "execute_result"
    }
   ],
   "source": [
    "\"\"\"7.1 value_count, count elements of a column\n",
    "Series.value_counts(normalize=False, sort=True, ascending=False, bins=None, dropna=True)\n",
    "\"\"\"\n",
    "#1.simple count, can only count row NaN VALUE \n",
    "df_exam['gender'].count()"
   ]
  },
  {
   "cell_type": "code",
   "execution_count": 8,
   "id": "e459b737",
   "metadata": {},
   "outputs": [
    {
     "data": {
      "text/plain": [
       "female    518\n",
       "male      482\n",
       "Name: gender, dtype: int64"
      ]
     },
     "execution_count": 8,
     "metadata": {},
     "output_type": "execute_result"
    }
   ],
   "source": [
    "#value_count can count how many female/ male\n",
    "#term:count xxx elements by category\n",
    "df_exam['gender'].value_counts()"
   ]
  },
  {
   "cell_type": "code",
   "execution_count": 9,
   "id": "be4ced52",
   "metadata": {},
   "outputs": [
    {
     "data": {
      "text/plain": [
       "female    0.518\n",
       "male      0.482\n",
       "Name: gender, dtype: float64"
      ]
     },
     "execution_count": 9,
     "metadata": {},
     "output_type": "execute_result"
    }
   ],
   "source": [
    "\"\"\"7.2 return the relative frequency\n",
    "% of each elements\n",
    "\"\"\"\n",
    "df_exam['gender'].value_counts(normalize=True)\n"
   ]
  },
  {
   "cell_type": "code",
   "execution_count": 12,
   "id": "f038e409",
   "metadata": {},
   "outputs": [
    {
     "data": {
      "text/plain": [
       "some college          0.226\n",
       "associate's degree    0.222\n",
       "high school           0.196\n",
       "some high school      0.179\n",
       "bachelor's degree     0.118\n",
       "master's degree       0.059\n",
       "Name: parental level of education, dtype: float64"
      ]
     },
     "execution_count": 12,
     "metadata": {},
     "output_type": "execute_result"
    }
   ],
   "source": [
    "#real usage\n",
    "df_exam['parental level of education'].value_counts(normalize=True).round(4)"
   ]
  },
  {
   "cell_type": "code",
   "execution_count": 14,
   "id": "34f16b17",
   "metadata": {},
   "outputs": [
    {
     "data": {
      "text/html": [
       "<div>\n",
       "<style scoped>\n",
       "    .dataframe tbody tr th:only-of-type {\n",
       "        vertical-align: middle;\n",
       "    }\n",
       "\n",
       "    .dataframe tbody tr th {\n",
       "        vertical-align: top;\n",
       "    }\n",
       "\n",
       "    .dataframe thead th {\n",
       "        text-align: right;\n",
       "    }\n",
       "</style>\n",
       "<table border=\"1\" class=\"dataframe\">\n",
       "  <thead>\n",
       "    <tr style=\"text-align: right;\">\n",
       "      <th></th>\n",
       "      <th>gender</th>\n",
       "      <th>race/ethnicity</th>\n",
       "      <th>parental level of education</th>\n",
       "      <th>lunch</th>\n",
       "      <th>test preparation course</th>\n",
       "      <th>math score</th>\n",
       "      <th>reading score</th>\n",
       "      <th>writing score</th>\n",
       "      <th>new score</th>\n",
       "    </tr>\n",
       "  </thead>\n",
       "  <tbody>\n",
       "    <tr>\n",
       "      <th>962</th>\n",
       "      <td>female</td>\n",
       "      <td>group E</td>\n",
       "      <td>associate's degree</td>\n",
       "      <td>standard</td>\n",
       "      <td>none</td>\n",
       "      <td>100</td>\n",
       "      <td>100</td>\n",
       "      <td>100</td>\n",
       "      <td>81.323253</td>\n",
       "    </tr>\n",
       "    <tr>\n",
       "      <th>625</th>\n",
       "      <td>male</td>\n",
       "      <td>group D</td>\n",
       "      <td>some college</td>\n",
       "      <td>standard</td>\n",
       "      <td>completed</td>\n",
       "      <td>100</td>\n",
       "      <td>97</td>\n",
       "      <td>99</td>\n",
       "      <td>41.641384</td>\n",
       "    </tr>\n",
       "    <tr>\n",
       "      <th>458</th>\n",
       "      <td>female</td>\n",
       "      <td>group E</td>\n",
       "      <td>bachelor's degree</td>\n",
       "      <td>standard</td>\n",
       "      <td>none</td>\n",
       "      <td>100</td>\n",
       "      <td>100</td>\n",
       "      <td>100</td>\n",
       "      <td>63.719324</td>\n",
       "    </tr>\n",
       "    <tr>\n",
       "      <th>623</th>\n",
       "      <td>male</td>\n",
       "      <td>group A</td>\n",
       "      <td>some college</td>\n",
       "      <td>standard</td>\n",
       "      <td>completed</td>\n",
       "      <td>100</td>\n",
       "      <td>96</td>\n",
       "      <td>86</td>\n",
       "      <td>66.962459</td>\n",
       "    </tr>\n",
       "  </tbody>\n",
       "</table>\n",
       "</div>"
      ],
      "text/plain": [
       "     gender race/ethnicity parental level of education     lunch  \\\n",
       "962  female        group E          associate's degree  standard   \n",
       "625    male        group D                some college  standard   \n",
       "458  female        group E           bachelor's degree  standard   \n",
       "623    male        group A                some college  standard   \n",
       "\n",
       "    test preparation course  math score  reading score  writing score  \\\n",
       "962                    none         100            100            100   \n",
       "625               completed         100             97             99   \n",
       "458                    none         100            100            100   \n",
       "623               completed         100             96             86   \n",
       "\n",
       "     new score  \n",
       "962  81.323253  \n",
       "625  41.641384  \n",
       "458  63.719324  \n",
       "623  66.962459  "
      ]
     },
     "execution_count": 14,
     "metadata": {},
     "output_type": "execute_result"
    }
   ],
   "source": [
    "\"\"\"7.3 sort data\n",
    "DataFrame.sort(columns=None, axis=0, ascending=True\n",
    "               , inplace=False, kind='quicksort', na_position='last', **kwargs)\n",
    "\"\"\"\n",
    "df_exam.sort_values(by=['math score'],ascending=False).head(4) #by= is optional"
   ]
  },
  {
   "cell_type": "code",
   "execution_count": 15,
   "id": "4e907abc",
   "metadata": {
    "scrolled": true
   },
   "outputs": [
    {
     "data": {
      "text/html": [
       "<div>\n",
       "<style scoped>\n",
       "    .dataframe tbody tr th:only-of-type {\n",
       "        vertical-align: middle;\n",
       "    }\n",
       "\n",
       "    .dataframe tbody tr th {\n",
       "        vertical-align: top;\n",
       "    }\n",
       "\n",
       "    .dataframe thead th {\n",
       "        text-align: right;\n",
       "    }\n",
       "</style>\n",
       "<table border=\"1\" class=\"dataframe\">\n",
       "  <thead>\n",
       "    <tr style=\"text-align: right;\">\n",
       "      <th></th>\n",
       "      <th>gender</th>\n",
       "      <th>race/ethnicity</th>\n",
       "      <th>parental level of education</th>\n",
       "      <th>lunch</th>\n",
       "      <th>test preparation course</th>\n",
       "      <th>math score</th>\n",
       "      <th>reading score</th>\n",
       "      <th>writing score</th>\n",
       "      <th>new score</th>\n",
       "    </tr>\n",
       "  </thead>\n",
       "  <tbody>\n",
       "    <tr>\n",
       "      <th>59</th>\n",
       "      <td>female</td>\n",
       "      <td>group C</td>\n",
       "      <td>some high school</td>\n",
       "      <td>free/reduced</td>\n",
       "      <td>none</td>\n",
       "      <td>0</td>\n",
       "      <td>17</td>\n",
       "      <td>10</td>\n",
       "      <td>96.561534</td>\n",
       "    </tr>\n",
       "    <tr>\n",
       "      <th>980</th>\n",
       "      <td>female</td>\n",
       "      <td>group B</td>\n",
       "      <td>high school</td>\n",
       "      <td>free/reduced</td>\n",
       "      <td>none</td>\n",
       "      <td>8</td>\n",
       "      <td>24</td>\n",
       "      <td>23</td>\n",
       "      <td>15.489817</td>\n",
       "    </tr>\n",
       "    <tr>\n",
       "      <th>17</th>\n",
       "      <td>female</td>\n",
       "      <td>group B</td>\n",
       "      <td>some high school</td>\n",
       "      <td>free/reduced</td>\n",
       "      <td>none</td>\n",
       "      <td>18</td>\n",
       "      <td>32</td>\n",
       "      <td>28</td>\n",
       "      <td>93.174847</td>\n",
       "    </tr>\n",
       "    <tr>\n",
       "      <th>787</th>\n",
       "      <td>female</td>\n",
       "      <td>group B</td>\n",
       "      <td>some college</td>\n",
       "      <td>standard</td>\n",
       "      <td>none</td>\n",
       "      <td>19</td>\n",
       "      <td>38</td>\n",
       "      <td>32</td>\n",
       "      <td>41.011983</td>\n",
       "    </tr>\n",
       "  </tbody>\n",
       "</table>\n",
       "</div>"
      ],
      "text/plain": [
       "     gender race/ethnicity parental level of education         lunch  \\\n",
       "59   female        group C            some high school  free/reduced   \n",
       "980  female        group B                 high school  free/reduced   \n",
       "17   female        group B            some high school  free/reduced   \n",
       "787  female        group B                some college      standard   \n",
       "\n",
       "    test preparation course  math score  reading score  writing score  \\\n",
       "59                     none           0             17             10   \n",
       "980                    none           8             24             23   \n",
       "17                     none          18             32             28   \n",
       "787                    none          19             38             32   \n",
       "\n",
       "     new score  \n",
       "59   96.561534  \n",
       "980  15.489817  \n",
       "17   93.174847  \n",
       "787  41.011983  "
      ]
     },
     "execution_count": 15,
     "metadata": {},
     "output_type": "execute_result"
    }
   ],
   "source": [
    "\"\"\"ex2:sort by many cols\n",
    "\"\"\"\n",
    "df_exam.sort_values(by=['math score','reading score']).head(4)"
   ]
  },
  {
   "cell_type": "code",
   "execution_count": 16,
   "id": "ca870c59",
   "metadata": {},
   "outputs": [
    {
     "data": {
      "text/html": [
       "<div>\n",
       "<style scoped>\n",
       "    .dataframe tbody tr th:only-of-type {\n",
       "        vertical-align: middle;\n",
       "    }\n",
       "\n",
       "    .dataframe tbody tr th {\n",
       "        vertical-align: top;\n",
       "    }\n",
       "\n",
       "    .dataframe thead th {\n",
       "        text-align: right;\n",
       "    }\n",
       "</style>\n",
       "<table border=\"1\" class=\"dataframe\">\n",
       "  <thead>\n",
       "    <tr style=\"text-align: right;\">\n",
       "      <th></th>\n",
       "      <th>gender</th>\n",
       "      <th>race/ethnicity</th>\n",
       "      <th>parental level of education</th>\n",
       "      <th>lunch</th>\n",
       "      <th>test preparation course</th>\n",
       "      <th>math score</th>\n",
       "      <th>reading score</th>\n",
       "      <th>writing score</th>\n",
       "      <th>new score</th>\n",
       "    </tr>\n",
       "  </thead>\n",
       "  <tbody>\n",
       "    <tr>\n",
       "      <th>0</th>\n",
       "      <td>female</td>\n",
       "      <td>group B</td>\n",
       "      <td>bachelor's degree</td>\n",
       "      <td>standard</td>\n",
       "      <td>none</td>\n",
       "      <td>72</td>\n",
       "      <td>72</td>\n",
       "      <td>74</td>\n",
       "      <td>63.238354</td>\n",
       "    </tr>\n",
       "    <tr>\n",
       "      <th>1</th>\n",
       "      <td>female</td>\n",
       "      <td>group C</td>\n",
       "      <td>some college</td>\n",
       "      <td>standard</td>\n",
       "      <td>completed</td>\n",
       "      <td>69</td>\n",
       "      <td>90</td>\n",
       "      <td>88</td>\n",
       "      <td>64.767176</td>\n",
       "    </tr>\n",
       "    <tr>\n",
       "      <th>2</th>\n",
       "      <td>female</td>\n",
       "      <td>group B</td>\n",
       "      <td>master's degree</td>\n",
       "      <td>standard</td>\n",
       "      <td>none</td>\n",
       "      <td>90</td>\n",
       "      <td>95</td>\n",
       "      <td>93</td>\n",
       "      <td>90.543414</td>\n",
       "    </tr>\n",
       "    <tr>\n",
       "      <th>3</th>\n",
       "      <td>male</td>\n",
       "      <td>group A</td>\n",
       "      <td>associate's degree</td>\n",
       "      <td>free/reduced</td>\n",
       "      <td>none</td>\n",
       "      <td>47</td>\n",
       "      <td>57</td>\n",
       "      <td>44</td>\n",
       "      <td>97.705107</td>\n",
       "    </tr>\n",
       "  </tbody>\n",
       "</table>\n",
       "</div>"
      ],
      "text/plain": [
       "   gender race/ethnicity parental level of education         lunch  \\\n",
       "0  female        group B           bachelor's degree      standard   \n",
       "1  female        group C                some college      standard   \n",
       "2  female        group B             master's degree      standard   \n",
       "3    male        group A          associate's degree  free/reduced   \n",
       "\n",
       "  test preparation course  math score  reading score  writing score  new score  \n",
       "0                    none          72             72             74  63.238354  \n",
       "1               completed          69             90             88  64.767176  \n",
       "2                    none          90             95             93  90.543414  \n",
       "3                    none          47             57             44  97.705107  "
      ]
     },
     "execution_count": 16,
     "metadata": {},
     "output_type": "execute_result"
    }
   ],
   "source": [
    "\"\"\"ex3:arg: inplace=False , not update the dataframe\n",
    "     true update dataframe\n",
    "\"\"\"\n",
    "df_exam.head(4) #default sorting"
   ]
  },
  {
   "cell_type": "code",
   "execution_count": 17,
   "id": "5f4a1019",
   "metadata": {},
   "outputs": [
    {
     "data": {
      "text/html": [
       "<div>\n",
       "<style scoped>\n",
       "    .dataframe tbody tr th:only-of-type {\n",
       "        vertical-align: middle;\n",
       "    }\n",
       "\n",
       "    .dataframe tbody tr th {\n",
       "        vertical-align: top;\n",
       "    }\n",
       "\n",
       "    .dataframe thead th {\n",
       "        text-align: right;\n",
       "    }\n",
       "</style>\n",
       "<table border=\"1\" class=\"dataframe\">\n",
       "  <thead>\n",
       "    <tr style=\"text-align: right;\">\n",
       "      <th></th>\n",
       "      <th>gender</th>\n",
       "      <th>race/ethnicity</th>\n",
       "      <th>parental level of education</th>\n",
       "      <th>lunch</th>\n",
       "      <th>test preparation course</th>\n",
       "      <th>math score</th>\n",
       "      <th>reading score</th>\n",
       "      <th>writing score</th>\n",
       "      <th>new score</th>\n",
       "    </tr>\n",
       "  </thead>\n",
       "  <tbody>\n",
       "    <tr>\n",
       "      <th>59</th>\n",
       "      <td>female</td>\n",
       "      <td>group C</td>\n",
       "      <td>some high school</td>\n",
       "      <td>free/reduced</td>\n",
       "      <td>none</td>\n",
       "      <td>0</td>\n",
       "      <td>17</td>\n",
       "      <td>10</td>\n",
       "      <td>96.561534</td>\n",
       "    </tr>\n",
       "    <tr>\n",
       "      <th>980</th>\n",
       "      <td>female</td>\n",
       "      <td>group B</td>\n",
       "      <td>high school</td>\n",
       "      <td>free/reduced</td>\n",
       "      <td>none</td>\n",
       "      <td>8</td>\n",
       "      <td>24</td>\n",
       "      <td>23</td>\n",
       "      <td>15.489817</td>\n",
       "    </tr>\n",
       "    <tr>\n",
       "      <th>17</th>\n",
       "      <td>female</td>\n",
       "      <td>group B</td>\n",
       "      <td>some high school</td>\n",
       "      <td>free/reduced</td>\n",
       "      <td>none</td>\n",
       "      <td>18</td>\n",
       "      <td>32</td>\n",
       "      <td>28</td>\n",
       "      <td>93.174847</td>\n",
       "    </tr>\n",
       "    <tr>\n",
       "      <th>787</th>\n",
       "      <td>female</td>\n",
       "      <td>group B</td>\n",
       "      <td>some college</td>\n",
       "      <td>standard</td>\n",
       "      <td>none</td>\n",
       "      <td>19</td>\n",
       "      <td>38</td>\n",
       "      <td>32</td>\n",
       "      <td>41.011983</td>\n",
       "    </tr>\n",
       "  </tbody>\n",
       "</table>\n",
       "</div>"
      ],
      "text/plain": [
       "     gender race/ethnicity parental level of education         lunch  \\\n",
       "59   female        group C            some high school  free/reduced   \n",
       "980  female        group B                 high school  free/reduced   \n",
       "17   female        group B            some high school  free/reduced   \n",
       "787  female        group B                some college      standard   \n",
       "\n",
       "    test preparation course  math score  reading score  writing score  \\\n",
       "59                     none           0             17             10   \n",
       "980                    none           8             24             23   \n",
       "17                     none          18             32             28   \n",
       "787                    none          19             38             32   \n",
       "\n",
       "     new score  \n",
       "59   96.561534  \n",
       "980  15.489817  \n",
       "17   93.174847  \n",
       "787  41.011983  "
      ]
     },
     "execution_count": 17,
     "metadata": {},
     "output_type": "execute_result"
    }
   ],
   "source": [
    "df_exam.sort_values(by=['math score','reading score'],inplace=True)\n",
    "df_exam.head(4) # sorting has update"
   ]
  },
  {
   "cell_type": "code",
   "execution_count": 19,
   "id": "2f7abaf1",
   "metadata": {},
   "outputs": [
    {
     "data": {
      "text/html": [
       "<div>\n",
       "<style scoped>\n",
       "    .dataframe tbody tr th:only-of-type {\n",
       "        vertical-align: middle;\n",
       "    }\n",
       "\n",
       "    .dataframe tbody tr th {\n",
       "        vertical-align: top;\n",
       "    }\n",
       "\n",
       "    .dataframe thead th {\n",
       "        text-align: right;\n",
       "    }\n",
       "</style>\n",
       "<table border=\"1\" class=\"dataframe\">\n",
       "  <thead>\n",
       "    <tr style=\"text-align: right;\">\n",
       "      <th></th>\n",
       "      <th>gender</th>\n",
       "      <th>race/ethnicity</th>\n",
       "      <th>parental level of education</th>\n",
       "      <th>lunch</th>\n",
       "      <th>test preparation course</th>\n",
       "      <th>math score</th>\n",
       "      <th>reading score</th>\n",
       "      <th>writing score</th>\n",
       "      <th>new score</th>\n",
       "    </tr>\n",
       "  </thead>\n",
       "  <tbody>\n",
       "    <tr>\n",
       "      <th>464</th>\n",
       "      <td>male</td>\n",
       "      <td>group A</td>\n",
       "      <td>bachelor's degree</td>\n",
       "      <td>standard</td>\n",
       "      <td>completed</td>\n",
       "      <td>75</td>\n",
       "      <td>58</td>\n",
       "      <td>62</td>\n",
       "      <td>41.912005</td>\n",
       "    </tr>\n",
       "    <tr>\n",
       "      <th>378</th>\n",
       "      <td>female</td>\n",
       "      <td>group A</td>\n",
       "      <td>some high school</td>\n",
       "      <td>standard</td>\n",
       "      <td>none</td>\n",
       "      <td>71</td>\n",
       "      <td>83</td>\n",
       "      <td>77</td>\n",
       "      <td>25.613728</td>\n",
       "    </tr>\n",
       "    <tr>\n",
       "      <th>769</th>\n",
       "      <td>male</td>\n",
       "      <td>group A</td>\n",
       "      <td>some college</td>\n",
       "      <td>free/reduced</td>\n",
       "      <td>none</td>\n",
       "      <td>58</td>\n",
       "      <td>60</td>\n",
       "      <td>57</td>\n",
       "      <td>87.154273</td>\n",
       "    </tr>\n",
       "    <tr>\n",
       "      <th>589</th>\n",
       "      <td>female</td>\n",
       "      <td>group A</td>\n",
       "      <td>some high school</td>\n",
       "      <td>standard</td>\n",
       "      <td>none</td>\n",
       "      <td>48</td>\n",
       "      <td>66</td>\n",
       "      <td>65</td>\n",
       "      <td>46.637284</td>\n",
       "    </tr>\n",
       "    <tr>\n",
       "      <th>88</th>\n",
       "      <td>female</td>\n",
       "      <td>group A</td>\n",
       "      <td>some college</td>\n",
       "      <td>standard</td>\n",
       "      <td>none</td>\n",
       "      <td>58</td>\n",
       "      <td>70</td>\n",
       "      <td>67</td>\n",
       "      <td>78.105995</td>\n",
       "    </tr>\n",
       "    <tr>\n",
       "      <th>...</th>\n",
       "      <td>...</td>\n",
       "      <td>...</td>\n",
       "      <td>...</td>\n",
       "      <td>...</td>\n",
       "      <td>...</td>\n",
       "      <td>...</td>\n",
       "      <td>...</td>\n",
       "      <td>...</td>\n",
       "      <td>...</td>\n",
       "    </tr>\n",
       "    <tr>\n",
       "      <th>884</th>\n",
       "      <td>female</td>\n",
       "      <td>group E</td>\n",
       "      <td>associate's degree</td>\n",
       "      <td>standard</td>\n",
       "      <td>none</td>\n",
       "      <td>51</td>\n",
       "      <td>51</td>\n",
       "      <td>54</td>\n",
       "      <td>73.671729</td>\n",
       "    </tr>\n",
       "    <tr>\n",
       "      <th>700</th>\n",
       "      <td>female</td>\n",
       "      <td>group E</td>\n",
       "      <td>bachelor's degree</td>\n",
       "      <td>standard</td>\n",
       "      <td>completed</td>\n",
       "      <td>79</td>\n",
       "      <td>81</td>\n",
       "      <td>82</td>\n",
       "      <td>23.184746</td>\n",
       "    </tr>\n",
       "    <tr>\n",
       "      <th>533</th>\n",
       "      <td>female</td>\n",
       "      <td>group E</td>\n",
       "      <td>associate's degree</td>\n",
       "      <td>standard</td>\n",
       "      <td>completed</td>\n",
       "      <td>79</td>\n",
       "      <td>88</td>\n",
       "      <td>94</td>\n",
       "      <td>60.079173</td>\n",
       "    </tr>\n",
       "    <tr>\n",
       "      <th>50</th>\n",
       "      <td>male</td>\n",
       "      <td>group E</td>\n",
       "      <td>some college</td>\n",
       "      <td>standard</td>\n",
       "      <td>none</td>\n",
       "      <td>53</td>\n",
       "      <td>55</td>\n",
       "      <td>48</td>\n",
       "      <td>38.522933</td>\n",
       "    </tr>\n",
       "    <tr>\n",
       "      <th>962</th>\n",
       "      <td>female</td>\n",
       "      <td>group E</td>\n",
       "      <td>associate's degree</td>\n",
       "      <td>standard</td>\n",
       "      <td>none</td>\n",
       "      <td>100</td>\n",
       "      <td>100</td>\n",
       "      <td>100</td>\n",
       "      <td>81.323253</td>\n",
       "    </tr>\n",
       "  </tbody>\n",
       "</table>\n",
       "<p>1000 rows × 9 columns</p>\n",
       "</div>"
      ],
      "text/plain": [
       "     gender race/ethnicity parental level of education         lunch  \\\n",
       "464    male        group A           bachelor's degree      standard   \n",
       "378  female        group A            some high school      standard   \n",
       "769    male        group A                some college  free/reduced   \n",
       "589  female        group A            some high school      standard   \n",
       "88   female        group A                some college      standard   \n",
       "..      ...            ...                         ...           ...   \n",
       "884  female        group E          associate's degree      standard   \n",
       "700  female        group E           bachelor's degree      standard   \n",
       "533  female        group E          associate's degree      standard   \n",
       "50     male        group E                some college      standard   \n",
       "962  female        group E          associate's degree      standard   \n",
       "\n",
       "    test preparation course  math score  reading score  writing score  \\\n",
       "464               completed          75             58             62   \n",
       "378                    none          71             83             77   \n",
       "769                    none          58             60             57   \n",
       "589                    none          48             66             65   \n",
       "88                     none          58             70             67   \n",
       "..                      ...         ...            ...            ...   \n",
       "884                    none          51             51             54   \n",
       "700               completed          79             81             82   \n",
       "533               completed          79             88             94   \n",
       "50                     none          53             55             48   \n",
       "962                    none         100            100            100   \n",
       "\n",
       "     new score  \n",
       "464  41.912005  \n",
       "378  25.613728  \n",
       "769  87.154273  \n",
       "589  46.637284  \n",
       "88   78.105995  \n",
       "..         ...  \n",
       "884  73.671729  \n",
       "700  23.184746  \n",
       "533  60.079173  \n",
       "50   38.522933  \n",
       "962  81.323253  \n",
       "\n",
       "[1000 rows x 9 columns]"
      ]
     },
     "execution_count": 19,
     "metadata": {},
     "output_type": "execute_result"
    }
   ],
   "source": [
    "#sort  by str\n",
    "#group A--group b---group C\n",
    "df_exam.sort_values(by=['race/ethnicity'],ascending=True,key=lambda col:col.str.lower())\n"
   ]
  },
  {
   "cell_type": "markdown",
   "id": "51446b69",
   "metadata": {},
   "source": [
    "# chapter 8:Pivot table"
   ]
  },
  {
   "cell_type": "raw",
   "id": "855fb148",
   "metadata": {},
   "source": [
    "1.pivot()\n",
    "~reshape data based on columns values\n",
    "~not support data aggregation\n",
    "\n",
    "2.pivot_table() #same as excel in MS\n",
    "create a spreadsheet-style pivot table\n",
    "(support data aggregation)"
   ]
  },
  {
   "cell_type": "code",
   "execution_count": 20,
   "id": "c4fe1d72",
   "metadata": {},
   "outputs": [
    {
     "data": {
      "text/html": [
       "<div>\n",
       "<style scoped>\n",
       "    .dataframe tbody tr th:only-of-type {\n",
       "        vertical-align: middle;\n",
       "    }\n",
       "\n",
       "    .dataframe tbody tr th {\n",
       "        vertical-align: top;\n",
       "    }\n",
       "\n",
       "    .dataframe thead th {\n",
       "        text-align: right;\n",
       "    }\n",
       "</style>\n",
       "<table border=\"1\" class=\"dataframe\">\n",
       "  <thead>\n",
       "    <tr style=\"text-align: right;\">\n",
       "      <th></th>\n",
       "      <th>fff</th>\n",
       "      <th>bbb</th>\n",
       "      <th>baa</th>\n",
       "      <th>zzz</th>\n",
       "    </tr>\n",
       "  </thead>\n",
       "  <tbody>\n",
       "    <tr>\n",
       "      <th>0</th>\n",
       "      <td>one</td>\n",
       "      <td>P</td>\n",
       "      <td>2</td>\n",
       "      <td>h</td>\n",
       "    </tr>\n",
       "    <tr>\n",
       "      <th>1</th>\n",
       "      <td>one</td>\n",
       "      <td>Q</td>\n",
       "      <td>3</td>\n",
       "      <td>i</td>\n",
       "    </tr>\n",
       "    <tr>\n",
       "      <th>2</th>\n",
       "      <td>one</td>\n",
       "      <td>R</td>\n",
       "      <td>4</td>\n",
       "      <td>j</td>\n",
       "    </tr>\n",
       "    <tr>\n",
       "      <th>3</th>\n",
       "      <td>two</td>\n",
       "      <td>P</td>\n",
       "      <td>5</td>\n",
       "      <td>k</td>\n",
       "    </tr>\n",
       "    <tr>\n",
       "      <th>4</th>\n",
       "      <td>two</td>\n",
       "      <td>Q</td>\n",
       "      <td>6</td>\n",
       "      <td>l</td>\n",
       "    </tr>\n",
       "    <tr>\n",
       "      <th>5</th>\n",
       "      <td>two</td>\n",
       "      <td>R</td>\n",
       "      <td>7</td>\n",
       "      <td>m</td>\n",
       "    </tr>\n",
       "  </tbody>\n",
       "</table>\n",
       "</div>"
      ],
      "text/plain": [
       "   fff bbb  baa zzz\n",
       "0  one   P    2   h\n",
       "1  one   Q    3   i\n",
       "2  one   R    4   j\n",
       "3  two   P    5   k\n",
       "4  two   Q    6   l\n",
       "5  two   R    7   m"
      ]
     },
     "execution_count": 20,
     "metadata": {},
     "output_type": "execute_result"
    }
   ],
   "source": [
    "\"\"\"7.1 pivot()\n",
    "\"\"\"\n",
    "df = pd.DataFrame({'fff': ['one', 'one', 'one', 'two', 'two',\n",
    "                           'two'],\n",
    "                   'bbb': ['P', 'Q', 'R', 'P', 'Q', 'R'],\n",
    "                   'baa': [2, 3, 4, 5, 6, 7],\n",
    "                   'zzz': ['h', 'i', 'j', 'k', 'l', 'm']})\n",
    "df"
   ]
  },
  {
   "cell_type": "code",
   "execution_count": 26,
   "id": "88b8e818",
   "metadata": {},
   "outputs": [
    {
     "data": {
      "text/html": [
       "<div>\n",
       "<style scoped>\n",
       "    .dataframe tbody tr th:only-of-type {\n",
       "        vertical-align: middle;\n",
       "    }\n",
       "\n",
       "    .dataframe tbody tr th {\n",
       "        vertical-align: top;\n",
       "    }\n",
       "\n",
       "    .dataframe thead th {\n",
       "        text-align: right;\n",
       "    }\n",
       "</style>\n",
       "<table border=\"1\" class=\"dataframe\">\n",
       "  <thead>\n",
       "    <tr style=\"text-align: right;\">\n",
       "      <th>bbb</th>\n",
       "      <th>P</th>\n",
       "      <th>Q</th>\n",
       "      <th>R</th>\n",
       "    </tr>\n",
       "    <tr>\n",
       "      <th>fff</th>\n",
       "      <th></th>\n",
       "      <th></th>\n",
       "      <th></th>\n",
       "    </tr>\n",
       "  </thead>\n",
       "  <tbody>\n",
       "    <tr>\n",
       "      <th>one</th>\n",
       "      <td>2</td>\n",
       "      <td>3</td>\n",
       "      <td>4</td>\n",
       "    </tr>\n",
       "    <tr>\n",
       "      <th>two</th>\n",
       "      <td>5</td>\n",
       "      <td>6</td>\n",
       "      <td>7</td>\n",
       "    </tr>\n",
       "  </tbody>\n",
       "</table>\n",
       "</div>"
      ],
      "text/plain": [
       "bbb  P  Q  R\n",
       "fff         \n",
       "one  2  3  4\n",
       "two  5  6  7"
      ]
     },
     "execution_count": 26,
     "metadata": {},
     "output_type": "execute_result"
    }
   ],
   "source": [
    "#show in pivot tale type\n",
    "df.pivot(index='fff', columns='bbb', values='baa')"
   ]
  },
  {
   "cell_type": "markdown",
   "id": "98bc7579",
   "metadata": {},
   "source": [
    "## 7.2 Pivot_table()"
   ]
  },
  {
   "cell_type": "code",
   "execution_count": null,
   "id": "33d1257f",
   "metadata": {},
   "outputs": [],
   "source": [
    "import pandas as pd\n",
    "import numpy  as np"
   ]
  },
  {
   "cell_type": "code",
   "execution_count": 65,
   "id": "ef33ef2a",
   "metadata": {},
   "outputs": [],
   "source": [
    "df_sale=pd.read_excel(r'C:\\Users\\fengs\\Desktop\\pd_real\\python-course-for-excel-users-main\\3.Pivot Table\\gdp.xlsx')"
   ]
  },
  {
   "cell_type": "code",
   "execution_count": 68,
   "id": "4a73b4da",
   "metadata": {},
   "outputs": [],
   "source": [
    "### use r to break long file path \n",
    "df_gdp=pd.read_excel(r'C:/Users/fengs/Desktop/pd_real/python-course-for-excel-users-main'\n",
    "           r'/3.Pivot Table/gdp.xlsx')"
   ]
  },
  {
   "cell_type": "code",
   "execution_count": 69,
   "id": "3183983e",
   "metadata": {},
   "outputs": [
    {
     "data": {
      "text/html": [
       "<div>\n",
       "<style scoped>\n",
       "    .dataframe tbody tr th:only-of-type {\n",
       "        vertical-align: middle;\n",
       "    }\n",
       "\n",
       "    .dataframe tbody tr th {\n",
       "        vertical-align: top;\n",
       "    }\n",
       "\n",
       "    .dataframe thead th {\n",
       "        text-align: right;\n",
       "    }\n",
       "</style>\n",
       "<table border=\"1\" class=\"dataframe\">\n",
       "  <thead>\n",
       "    <tr style=\"text-align: right;\">\n",
       "      <th></th>\n",
       "      <th>unid</th>\n",
       "      <th>wbid</th>\n",
       "      <th>country</th>\n",
       "      <th>year</th>\n",
       "      <th>SES</th>\n",
       "      <th>gdppc</th>\n",
       "      <th>yrseduc</th>\n",
       "      <th>popshare</th>\n",
       "    </tr>\n",
       "  </thead>\n",
       "  <tbody>\n",
       "    <tr>\n",
       "      <th>0</th>\n",
       "      <td>4</td>\n",
       "      <td>AFG</td>\n",
       "      <td>Afghanistan</td>\n",
       "      <td>1970</td>\n",
       "      <td>3.474212</td>\n",
       "      <td>709.00000</td>\n",
       "      <td>NaN</td>\n",
       "      <td>0.003097</td>\n",
       "    </tr>\n",
       "    <tr>\n",
       "      <th>1</th>\n",
       "      <td>4</td>\n",
       "      <td>AFG</td>\n",
       "      <td>Afghanistan</td>\n",
       "      <td>1920</td>\n",
       "      <td>26.968016</td>\n",
       "      <td>731.75677</td>\n",
       "      <td>NaN</td>\n",
       "      <td>0.003245</td>\n",
       "    </tr>\n",
       "    <tr>\n",
       "      <th>2</th>\n",
       "      <td>4</td>\n",
       "      <td>AFG</td>\n",
       "      <td>Afghanistan</td>\n",
       "      <td>1990</td>\n",
       "      <td>1.269530</td>\n",
       "      <td>604.00000</td>\n",
       "      <td>NaN</td>\n",
       "      <td>0.002347</td>\n",
       "    </tr>\n",
       "    <tr>\n",
       "      <th>3</th>\n",
       "      <td>4</td>\n",
       "      <td>AFG</td>\n",
       "      <td>Afghanistan</td>\n",
       "      <td>1960</td>\n",
       "      <td>15.763076</td>\n",
       "      <td>739.00000</td>\n",
       "      <td>NaN</td>\n",
       "      <td>0.003039</td>\n",
       "    </tr>\n",
       "  </tbody>\n",
       "</table>\n",
       "</div>"
      ],
      "text/plain": [
       "   unid wbid      country  year        SES      gdppc  yrseduc  popshare\n",
       "0     4  AFG  Afghanistan  1970   3.474212  709.00000      NaN  0.003097\n",
       "1     4  AFG  Afghanistan  1920  26.968016  731.75677      NaN  0.003245\n",
       "2     4  AFG  Afghanistan  1990   1.269530  604.00000      NaN  0.002347\n",
       "3     4  AFG  Afghanistan  1960  15.763076  739.00000      NaN  0.003039"
      ]
     },
     "execution_count": 69,
     "metadata": {},
     "output_type": "execute_result"
    }
   ],
   "source": [
    "df_gdp.head(4)"
   ]
  },
  {
   "cell_type": "code",
   "execution_count": 71,
   "id": "9c60fa75",
   "metadata": {},
   "outputs": [
    {
     "data": {
      "text/html": [
       "<div>\n",
       "<style scoped>\n",
       "    .dataframe tbody tr th:only-of-type {\n",
       "        vertical-align: middle;\n",
       "    }\n",
       "\n",
       "    .dataframe tbody tr th {\n",
       "        vertical-align: top;\n",
       "    }\n",
       "\n",
       "    .dataframe thead th {\n",
       "        text-align: right;\n",
       "    }\n",
       "</style>\n",
       "<table border=\"1\" class=\"dataframe\">\n",
       "  <thead>\n",
       "    <tr style=\"text-align: right;\">\n",
       "      <th>country</th>\n",
       "      <th>Afghanistan</th>\n",
       "      <th>Albania</th>\n",
       "      <th>Algeria</th>\n",
       "      <th>Angola</th>\n",
       "      <th>Argentina</th>\n",
       "      <th>...</th>\n",
       "      <th>Venezuela</th>\n",
       "      <th>Vietnam</th>\n",
       "      <th>Yemen</th>\n",
       "      <th>Zambia</th>\n",
       "      <th>Zimbabwe</th>\n",
       "    </tr>\n",
       "    <tr>\n",
       "      <th>year</th>\n",
       "      <th></th>\n",
       "      <th></th>\n",
       "      <th></th>\n",
       "      <th></th>\n",
       "      <th></th>\n",
       "      <th></th>\n",
       "      <th></th>\n",
       "      <th></th>\n",
       "      <th></th>\n",
       "      <th></th>\n",
       "      <th></th>\n",
       "    </tr>\n",
       "  </thead>\n",
       "  <tbody>\n",
       "    <tr>\n",
       "      <th>1880</th>\n",
       "      <td>585.46509</td>\n",
       "      <td>522.0000</td>\n",
       "      <td>819.18604</td>\n",
       "      <td>533.66669</td>\n",
       "      <td>1731.5</td>\n",
       "      <td>...</td>\n",
       "      <td>653.0</td>\n",
       "      <td>556.62793</td>\n",
       "      <td>811.76746</td>\n",
       "      <td>533.66669</td>\n",
       "      <td>533.66669</td>\n",
       "    </tr>\n",
       "    <tr>\n",
       "      <th>1890</th>\n",
       "      <td>635.93024</td>\n",
       "      <td>598.0000</td>\n",
       "      <td>923.37207</td>\n",
       "      <td>567.33331</td>\n",
       "      <td>2152.0</td>\n",
       "      <td>...</td>\n",
       "      <td>737.0</td>\n",
       "      <td>608.25580</td>\n",
       "      <td>881.53491</td>\n",
       "      <td>567.33331</td>\n",
       "      <td>567.33331</td>\n",
       "    </tr>\n",
       "    <tr>\n",
       "      <th>1900</th>\n",
       "      <td>686.39532</td>\n",
       "      <td>685.0000</td>\n",
       "      <td>1027.55810</td>\n",
       "      <td>601.00000</td>\n",
       "      <td>2756.0</td>\n",
       "      <td>...</td>\n",
       "      <td>821.0</td>\n",
       "      <td>659.88373</td>\n",
       "      <td>951.30231</td>\n",
       "      <td>601.00000</td>\n",
       "      <td>601.00000</td>\n",
       "    </tr>\n",
       "    <tr>\n",
       "      <th>1910</th>\n",
       "      <td>736.86047</td>\n",
       "      <td>780.0000</td>\n",
       "      <td>1131.74410</td>\n",
       "      <td>628.69232</td>\n",
       "      <td>3822.0</td>\n",
       "      <td>...</td>\n",
       "      <td>886.0</td>\n",
       "      <td>711.51166</td>\n",
       "      <td>1021.06980</td>\n",
       "      <td>628.69232</td>\n",
       "      <td>628.69232</td>\n",
       "    </tr>\n",
       "    <tr>\n",
       "      <th>1920</th>\n",
       "      <td>731.75677</td>\n",
       "      <td>861.3125</td>\n",
       "      <td>1201.21620</td>\n",
       "      <td>682.62964</td>\n",
       "      <td>3473.0</td>\n",
       "      <td>...</td>\n",
       "      <td>1173.0</td>\n",
       "      <td>713.94592</td>\n",
       "      <td>1017.21620</td>\n",
       "      <td>682.62964</td>\n",
       "      <td>682.62964</td>\n",
       "    </tr>\n",
       "  </tbody>\n",
       "</table>\n",
       "<p>5 rows × 149 columns</p>\n",
       "</div>"
      ],
      "text/plain": [
       "country  Afghanistan   Albania     Algeria     Angola  Argentina  ...  \\\n",
       "year                                                              ...   \n",
       "1880       585.46509  522.0000   819.18604  533.66669     1731.5  ...   \n",
       "1890       635.93024  598.0000   923.37207  567.33331     2152.0  ...   \n",
       "1900       686.39532  685.0000  1027.55810  601.00000     2756.0  ...   \n",
       "1910       736.86047  780.0000  1131.74410  628.69232     3822.0  ...   \n",
       "1920       731.75677  861.3125  1201.21620  682.62964     3473.0  ...   \n",
       "\n",
       "country  Venezuela    Vietnam       Yemen     Zambia   Zimbabwe  \n",
       "year                                                             \n",
       "1880         653.0  556.62793   811.76746  533.66669  533.66669  \n",
       "1890         737.0  608.25580   881.53491  567.33331  567.33331  \n",
       "1900         821.0  659.88373   951.30231  601.00000  601.00000  \n",
       "1910         886.0  711.51166  1021.06980  628.69232  628.69232  \n",
       "1920        1173.0  713.94592  1017.21620  682.62964  682.62964  \n",
       "\n",
       "[5 rows x 149 columns]"
      ]
     },
     "execution_count": 71,
     "metadata": {},
     "output_type": "execute_result"
    }
   ],
   "source": [
    "\"\"\"\n",
    "1:\n",
    "DataFrame.pivot(index=None, columns=None, values=None)\n",
    "\"\"\"\n",
    "df_gdp.pivot(index='year',columns='country',values='gdppc').head(5)"
   ]
  },
  {
   "cell_type": "raw",
   "id": "774d0d8e",
   "metadata": {},
   "source": [
    "use salse data to make a excel-type pivot table"
   ]
  },
  {
   "cell_type": "code",
   "execution_count": 72,
   "id": "08848ecb",
   "metadata": {},
   "outputs": [
    {
     "data": {
      "text/html": [
       "<div>\n",
       "<style scoped>\n",
       "    .dataframe tbody tr th:only-of-type {\n",
       "        vertical-align: middle;\n",
       "    }\n",
       "\n",
       "    .dataframe tbody tr th {\n",
       "        vertical-align: top;\n",
       "    }\n",
       "\n",
       "    .dataframe thead th {\n",
       "        text-align: right;\n",
       "    }\n",
       "</style>\n",
       "<table border=\"1\" class=\"dataframe\">\n",
       "  <thead>\n",
       "    <tr style=\"text-align: right;\">\n",
       "      <th></th>\n",
       "      <th>Invoice ID</th>\n",
       "      <th>Branch</th>\n",
       "      <th>City</th>\n",
       "      <th>Customer type</th>\n",
       "      <th>Gender</th>\n",
       "      <th>...</th>\n",
       "      <th>Payment</th>\n",
       "      <th>cogs</th>\n",
       "      <th>gross margin percentage</th>\n",
       "      <th>gross income</th>\n",
       "      <th>Rating</th>\n",
       "    </tr>\n",
       "  </thead>\n",
       "  <tbody>\n",
       "    <tr>\n",
       "      <th>0</th>\n",
       "      <td>750-67-8428</td>\n",
       "      <td>A</td>\n",
       "      <td>Yangon</td>\n",
       "      <td>Member</td>\n",
       "      <td>Female</td>\n",
       "      <td>...</td>\n",
       "      <td>Ewallet</td>\n",
       "      <td>522.83</td>\n",
       "      <td>4.761905</td>\n",
       "      <td>26.1415</td>\n",
       "      <td>9.1</td>\n",
       "    </tr>\n",
       "    <tr>\n",
       "      <th>1</th>\n",
       "      <td>226-31-3081</td>\n",
       "      <td>C</td>\n",
       "      <td>Naypyitaw</td>\n",
       "      <td>Normal</td>\n",
       "      <td>Female</td>\n",
       "      <td>...</td>\n",
       "      <td>Cash</td>\n",
       "      <td>76.40</td>\n",
       "      <td>4.761905</td>\n",
       "      <td>3.8200</td>\n",
       "      <td>9.6</td>\n",
       "    </tr>\n",
       "    <tr>\n",
       "      <th>2</th>\n",
       "      <td>631-41-3108</td>\n",
       "      <td>A</td>\n",
       "      <td>Yangon</td>\n",
       "      <td>Normal</td>\n",
       "      <td>Male</td>\n",
       "      <td>...</td>\n",
       "      <td>Credit card</td>\n",
       "      <td>324.31</td>\n",
       "      <td>4.761905</td>\n",
       "      <td>16.2155</td>\n",
       "      <td>7.4</td>\n",
       "    </tr>\n",
       "  </tbody>\n",
       "</table>\n",
       "<p>3 rows × 17 columns</p>\n",
       "</div>"
      ],
      "text/plain": [
       "    Invoice ID Branch       City Customer type  Gender  ...      Payment  \\\n",
       "0  750-67-8428      A     Yangon        Member  Female  ...      Ewallet   \n",
       "1  226-31-3081      C  Naypyitaw        Normal  Female  ...         Cash   \n",
       "2  631-41-3108      A     Yangon        Normal    Male  ...  Credit card   \n",
       "\n",
       "     cogs  gross margin percentage  gross income  Rating  \n",
       "0  522.83                 4.761905       26.1415     9.1  \n",
       "1   76.40                 4.761905        3.8200     9.6  \n",
       "2  324.31                 4.761905       16.2155     7.4  \n",
       "\n",
       "[3 rows x 17 columns]"
      ]
     },
     "execution_count": 72,
     "metadata": {},
     "output_type": "execute_result"
    }
   ],
   "source": [
    "df_sales=pd.read_excel(r'C:/Users/fengs/Desktop/pd_real/python-course-for-excel-users-main'\n",
    "           r'/3.Pivot Table/supermarket_sales.xlsx')\n",
    "df_sales.head(3)"
   ]
  },
  {
   "cell_type": "code",
   "execution_count": 73,
   "id": "67bbfa0b",
   "metadata": {},
   "outputs": [
    {
     "data": {
      "text/html": [
       "<div>\n",
       "<style scoped>\n",
       "    .dataframe tbody tr th:only-of-type {\n",
       "        vertical-align: middle;\n",
       "    }\n",
       "\n",
       "    .dataframe tbody tr th {\n",
       "        vertical-align: top;\n",
       "    }\n",
       "\n",
       "    .dataframe thead th {\n",
       "        text-align: right;\n",
       "    }\n",
       "</style>\n",
       "<table border=\"1\" class=\"dataframe\">\n",
       "  <thead>\n",
       "    <tr style=\"text-align: right;\">\n",
       "      <th></th>\n",
       "      <th>Quantity</th>\n",
       "      <th>Rating</th>\n",
       "      <th>Tax 5%</th>\n",
       "      <th>Total</th>\n",
       "      <th>Unit price</th>\n",
       "      <th>cogs</th>\n",
       "      <th>gross income</th>\n",
       "      <th>gross margin percentage</th>\n",
       "    </tr>\n",
       "    <tr>\n",
       "      <th>Gender</th>\n",
       "      <th></th>\n",
       "      <th></th>\n",
       "      <th></th>\n",
       "      <th></th>\n",
       "      <th></th>\n",
       "      <th></th>\n",
       "      <th></th>\n",
       "      <th></th>\n",
       "    </tr>\n",
       "  </thead>\n",
       "  <tbody>\n",
       "    <tr>\n",
       "      <th>Female</th>\n",
       "      <td>2869</td>\n",
       "      <td>3489.2</td>\n",
       "      <td>7994.425</td>\n",
       "      <td>167882.925</td>\n",
       "      <td>27687.24</td>\n",
       "      <td>159888.50</td>\n",
       "      <td>7994.425</td>\n",
       "      <td>2385.714286</td>\n",
       "    </tr>\n",
       "    <tr>\n",
       "      <th>Male</th>\n",
       "      <td>2641</td>\n",
       "      <td>3483.5</td>\n",
       "      <td>7384.944</td>\n",
       "      <td>155083.824</td>\n",
       "      <td>27984.89</td>\n",
       "      <td>147698.88</td>\n",
       "      <td>7384.944</td>\n",
       "      <td>2376.190476</td>\n",
       "    </tr>\n",
       "  </tbody>\n",
       "</table>\n",
       "</div>"
      ],
      "text/plain": [
       "        Quantity  Rating    Tax 5%       Total  Unit price       cogs  \\\n",
       "Gender                                                                  \n",
       "Female      2869  3489.2  7994.425  167882.925    27687.24  159888.50   \n",
       "Male        2641  3483.5  7384.944  155083.824    27984.89  147698.88   \n",
       "\n",
       "        gross income  gross margin percentage  \n",
       "Gender                                         \n",
       "Female      7994.425              2385.714286  \n",
       "Male        7384.944              2376.190476  "
      ]
     },
     "execution_count": 73,
     "metadata": {},
     "output_type": "execute_result"
    }
   ],
   "source": [
    "\"\"\"\n",
    "pandas.pivot_table(data, values=None, index=None, columns=None, aggfunc='mean', fill_value=None,\n",
    "                   margins=False, dropna=True, margins_name='All', observed=False, sort=True)\n",
    "\"\"\"\n",
    "#Q:compare a male/female performance\n",
    "df_sales.pivot_table(index='Gender',aggfunc='sum',)\n",
    "\n",
    "\"\"\"\n",
    "explaination: 1:move gender to first col;\n",
    "              2:sum by gender factors:male+female\n",
    "\"\"\""
   ]
  },
  {
   "cell_type": "markdown",
   "id": "fa1c7014",
   "metadata": {},
   "source": [
    "### 7.3 complex examples"
   ]
  },
  {
   "cell_type": "code",
   "execution_count": 74,
   "id": "b0d98123",
   "metadata": {},
   "outputs": [
    {
     "data": {
      "text/html": [
       "<div>\n",
       "<style scoped>\n",
       "    .dataframe tbody tr th:only-of-type {\n",
       "        vertical-align: middle;\n",
       "    }\n",
       "\n",
       "    .dataframe tbody tr th {\n",
       "        vertical-align: top;\n",
       "    }\n",
       "\n",
       "    .dataframe thead th {\n",
       "        text-align: right;\n",
       "    }\n",
       "</style>\n",
       "<table border=\"1\" class=\"dataframe\">\n",
       "  <thead>\n",
       "    <tr style=\"text-align: right;\">\n",
       "      <th></th>\n",
       "      <th>Quantity</th>\n",
       "      <th>Total</th>\n",
       "    </tr>\n",
       "    <tr>\n",
       "      <th>Gender</th>\n",
       "      <th></th>\n",
       "      <th></th>\n",
       "    </tr>\n",
       "  </thead>\n",
       "  <tbody>\n",
       "    <tr>\n",
       "      <th>Female</th>\n",
       "      <td>2869</td>\n",
       "      <td>167882.925</td>\n",
       "    </tr>\n",
       "    <tr>\n",
       "      <th>Male</th>\n",
       "      <td>2641</td>\n",
       "      <td>155083.824</td>\n",
       "    </tr>\n",
       "  </tbody>\n",
       "</table>\n",
       "</div>"
      ],
      "text/plain": [
       "        Quantity       Total\n",
       "Gender                      \n",
       "Female      2869  167882.925\n",
       "Male        2641  155083.824"
      ]
     },
     "execution_count": 74,
     "metadata": {},
     "output_type": "execute_result"
    }
   ],
   "source": [
    "\"\"\"make an AG+SELECT specific cols\n",
    "\"\"\"\n",
    "df_sales.pivot_table(index='Gender',values=['Quantity','Total']\n",
    "                    ,aggfunc='sum'\n",
    "                    )"
   ]
  },
  {
   "cell_type": "code",
   "execution_count": 76,
   "id": "0efe082b",
   "metadata": {},
   "outputs": [
    {
     "data": {
      "text/html": [
       "<div>\n",
       "<style scoped>\n",
       "    .dataframe tbody tr th:only-of-type {\n",
       "        vertical-align: middle;\n",
       "    }\n",
       "\n",
       "    .dataframe tbody tr th {\n",
       "        vertical-align: top;\n",
       "    }\n",
       "\n",
       "    .dataframe thead th {\n",
       "        text-align: right;\n",
       "    }\n",
       "</style>\n",
       "<table border=\"1\" class=\"dataframe\">\n",
       "  <thead>\n",
       "    <tr style=\"text-align: right;\">\n",
       "      <th>Product line</th>\n",
       "      <th>Electronic accessories</th>\n",
       "      <th>Fashion accessories</th>\n",
       "      <th>Food and beverages</th>\n",
       "      <th>Health and beauty</th>\n",
       "      <th>Home and lifestyle</th>\n",
       "      <th>Sports and travel</th>\n",
       "    </tr>\n",
       "    <tr>\n",
       "      <th>Gender</th>\n",
       "      <th></th>\n",
       "      <th></th>\n",
       "      <th></th>\n",
       "      <th></th>\n",
       "      <th></th>\n",
       "      <th></th>\n",
       "    </tr>\n",
       "  </thead>\n",
       "  <tbody>\n",
       "    <tr>\n",
       "      <th>Female</th>\n",
       "      <td>488</td>\n",
       "      <td>530</td>\n",
       "      <td>514</td>\n",
       "      <td>343</td>\n",
       "      <td>498</td>\n",
       "      <td>496</td>\n",
       "    </tr>\n",
       "    <tr>\n",
       "      <th>Male</th>\n",
       "      <td>483</td>\n",
       "      <td>372</td>\n",
       "      <td>438</td>\n",
       "      <td>511</td>\n",
       "      <td>413</td>\n",
       "      <td>424</td>\n",
       "    </tr>\n",
       "  </tbody>\n",
       "</table>\n",
       "</div>"
      ],
      "text/plain": [
       "Product line  Electronic accessories  Fashion accessories  Food and beverages  \\\n",
       "Gender                                                                          \n",
       "Female                           488                  530                 514   \n",
       "Male                             483                  372                 438   \n",
       "\n",
       "Product line  Health and beauty  Home and lifestyle  Sports and travel  \n",
       "Gender                                                                  \n",
       "Female                      343                 498                496  \n",
       "Male                        511                 413                424  "
      ]
     },
     "execution_count": 76,
     "metadata": {},
     "output_type": "execute_result"
    }
   ],
   "source": [
    "df_sales.pivot_table(index='Gender'\n",
    "                    ,columns='Product line'\n",
    "                    ,values='Quantity'\n",
    "                    ,aggfunc='sum'\n",
    "                    )\n",
    "#value of 'Product line' becomes the rows values\n",
    "#Q：compare the sale performance on diff products"
   ]
  },
  {
   "cell_type": "code",
   "execution_count": null,
   "id": "64a81180",
   "metadata": {},
   "outputs": [],
   "source": []
  },
  {
   "cell_type": "markdown",
   "id": "bed55b72",
   "metadata": {},
   "source": [
    "## chapter 8: data visualization"
   ]
  },
  {
   "cell_type": "code",
   "execution_count": 79,
   "id": "ceeb9924",
   "metadata": {},
   "outputs": [
    {
     "data": {
      "text/html": [
       "<div>\n",
       "<style scoped>\n",
       "    .dataframe tbody tr th:only-of-type {\n",
       "        vertical-align: middle;\n",
       "    }\n",
       "\n",
       "    .dataframe tbody tr th {\n",
       "        vertical-align: top;\n",
       "    }\n",
       "\n",
       "    .dataframe thead th {\n",
       "        text-align: right;\n",
       "    }\n",
       "</style>\n",
       "<table border=\"1\" class=\"dataframe\">\n",
       "  <thead>\n",
       "    <tr style=\"text-align: right;\">\n",
       "      <th></th>\n",
       "      <th>country</th>\n",
       "      <th>year</th>\n",
       "      <th>population</th>\n",
       "    </tr>\n",
       "  </thead>\n",
       "  <tbody>\n",
       "    <tr>\n",
       "      <th>0</th>\n",
       "      <td>China</td>\n",
       "      <td>2020.0</td>\n",
       "      <td>1.439324e+09</td>\n",
       "    </tr>\n",
       "    <tr>\n",
       "      <th>1</th>\n",
       "      <td>China</td>\n",
       "      <td>2019.0</td>\n",
       "      <td>1.433784e+09</td>\n",
       "    </tr>\n",
       "    <tr>\n",
       "      <th>2</th>\n",
       "      <td>China</td>\n",
       "      <td>2018.0</td>\n",
       "      <td>1.427648e+09</td>\n",
       "    </tr>\n",
       "    <tr>\n",
       "      <th>3</th>\n",
       "      <td>China</td>\n",
       "      <td>2017.0</td>\n",
       "      <td>1.421022e+09</td>\n",
       "    </tr>\n",
       "  </tbody>\n",
       "</table>\n",
       "</div>"
      ],
      "text/plain": [
       "  country    year    population\n",
       "0   China  2020.0  1.439324e+09\n",
       "1   China  2019.0  1.433784e+09\n",
       "2   China  2018.0  1.427648e+09\n",
       "3   China  2017.0  1.421022e+09"
      ]
     },
     "execution_count": 79,
     "metadata": {},
     "output_type": "execute_result"
    }
   ],
   "source": [
    "import pandas as pd\n",
    "import numpy  as np\n",
    "df_pop=pd.read_csv(r'C:\\Users\\fengs\\Desktop\\pd_real\\python-course-for-excel-users-main'\n",
    "            r'\\4.Data Visualization\\population_total.csv')\n",
    "df_pop.head(4)"
   ]
  },
  {
   "cell_type": "markdown",
   "id": "cf8a9c4d",
   "metadata": {},
   "source": [
    "## Chapter 8.1DML of DF(cleansing)"
   ]
  },
  {
   "cell_type": "code",
   "execution_count": null,
   "id": "d97c69fa",
   "metadata": {},
   "outputs": [],
   "source": [
    "\"\"\"8.1find out NaN rows\n",
    "\n",
    "Using isna() to select all rows with NaN under an entire DataFrame:\n",
    "df[df.isna().any(axis=1)]\n",
    "\n",
    "Using isna() to select all rows with NaN under a single DataFrame column:\n",
    "df[df['column name'].isna()]\n",
    "\n",
    "how about use loc??\n",
    "ref:\n",
    "df_exam.loc[df_exam['new score'] == df_exam['new score'].min()]\n",
    "\"\"\""
   ]
  },
  {
   "cell_type": "code",
   "execution_count": 81,
   "id": "92812e3a",
   "metadata": {},
   "outputs": [
    {
     "data": {
      "text/html": [
       "<div>\n",
       "<style scoped>\n",
       "    .dataframe tbody tr th:only-of-type {\n",
       "        vertical-align: middle;\n",
       "    }\n",
       "\n",
       "    .dataframe tbody tr th {\n",
       "        vertical-align: top;\n",
       "    }\n",
       "\n",
       "    .dataframe thead th {\n",
       "        text-align: right;\n",
       "    }\n",
       "</style>\n",
       "<table border=\"1\" class=\"dataframe\">\n",
       "  <thead>\n",
       "    <tr style=\"text-align: right;\">\n",
       "      <th></th>\n",
       "      <th>country</th>\n",
       "      <th>year</th>\n",
       "      <th>population</th>\n",
       "    </tr>\n",
       "  </thead>\n",
       "  <tbody>\n",
       "    <tr>\n",
       "      <th>1174</th>\n",
       "      <td>Micronesia</td>\n",
       "      <td>NaN</td>\n",
       "      <td>NaN</td>\n",
       "    </tr>\n",
       "    <tr>\n",
       "      <th>1175</th>\n",
       "      <td>Micronesia</td>\n",
       "      <td>NaN</td>\n",
       "      <td>NaN</td>\n",
       "    </tr>\n",
       "    <tr>\n",
       "      <th>1243</th>\n",
       "      <td>Micronesia</td>\n",
       "      <td>NaN</td>\n",
       "      <td>NaN</td>\n",
       "    </tr>\n",
       "    <tr>\n",
       "      <th>1244</th>\n",
       "      <td>Micronesia</td>\n",
       "      <td>NaN</td>\n",
       "      <td>NaN</td>\n",
       "    </tr>\n",
       "    <tr>\n",
       "      <th>1245</th>\n",
       "      <td>Micronesia</td>\n",
       "      <td>NaN</td>\n",
       "      <td>NaN</td>\n",
       "    </tr>\n",
       "    <tr>\n",
       "      <th>1310</th>\n",
       "      <td>Micronesia</td>\n",
       "      <td>NaN</td>\n",
       "      <td>NaN</td>\n",
       "    </tr>\n",
       "    <tr>\n",
       "      <th>1311</th>\n",
       "      <td>Micronesia</td>\n",
       "      <td>NaN</td>\n",
       "      <td>NaN</td>\n",
       "    </tr>\n",
       "  </tbody>\n",
       "</table>\n",
       "</div>"
      ],
      "text/plain": [
       "         country  year  population\n",
       "1174  Micronesia   NaN         NaN\n",
       "1175  Micronesia   NaN         NaN\n",
       "1243  Micronesia   NaN         NaN\n",
       "1244  Micronesia   NaN         NaN\n",
       "1245  Micronesia   NaN         NaN\n",
       "1310  Micronesia   NaN         NaN\n",
       "1311  Micronesia   NaN         NaN"
      ]
     },
     "execution_count": 81,
     "metadata": {},
     "output_type": "execute_result"
    }
   ],
   "source": [
    "#all rows contains any Nan values\n",
    "df_pop[df_pop.isna().any(axis=1)]"
   ]
  },
  {
   "cell_type": "code",
   "execution_count": 82,
   "id": "7842caf4",
   "metadata": {},
   "outputs": [
    {
     "data": {
      "text/html": [
       "<div>\n",
       "<style scoped>\n",
       "    .dataframe tbody tr th:only-of-type {\n",
       "        vertical-align: middle;\n",
       "    }\n",
       "\n",
       "    .dataframe tbody tr th {\n",
       "        vertical-align: top;\n",
       "    }\n",
       "\n",
       "    .dataframe thead th {\n",
       "        text-align: right;\n",
       "    }\n",
       "</style>\n",
       "<table border=\"1\" class=\"dataframe\">\n",
       "  <thead>\n",
       "    <tr style=\"text-align: right;\">\n",
       "      <th></th>\n",
       "      <th>country</th>\n",
       "      <th>year</th>\n",
       "      <th>population</th>\n",
       "    </tr>\n",
       "  </thead>\n",
       "  <tbody>\n",
       "    <tr>\n",
       "      <th>1174</th>\n",
       "      <td>Micronesia</td>\n",
       "      <td>NaN</td>\n",
       "      <td>NaN</td>\n",
       "    </tr>\n",
       "    <tr>\n",
       "      <th>1175</th>\n",
       "      <td>Micronesia</td>\n",
       "      <td>NaN</td>\n",
       "      <td>NaN</td>\n",
       "    </tr>\n",
       "    <tr>\n",
       "      <th>1243</th>\n",
       "      <td>Micronesia</td>\n",
       "      <td>NaN</td>\n",
       "      <td>NaN</td>\n",
       "    </tr>\n",
       "    <tr>\n",
       "      <th>1244</th>\n",
       "      <td>Micronesia</td>\n",
       "      <td>NaN</td>\n",
       "      <td>NaN</td>\n",
       "    </tr>\n",
       "    <tr>\n",
       "      <th>1245</th>\n",
       "      <td>Micronesia</td>\n",
       "      <td>NaN</td>\n",
       "      <td>NaN</td>\n",
       "    </tr>\n",
       "    <tr>\n",
       "      <th>1310</th>\n",
       "      <td>Micronesia</td>\n",
       "      <td>NaN</td>\n",
       "      <td>NaN</td>\n",
       "    </tr>\n",
       "    <tr>\n",
       "      <th>1311</th>\n",
       "      <td>Micronesia</td>\n",
       "      <td>NaN</td>\n",
       "      <td>NaN</td>\n",
       "    </tr>\n",
       "  </tbody>\n",
       "</table>\n",
       "</div>"
      ],
      "text/plain": [
       "         country  year  population\n",
       "1174  Micronesia   NaN         NaN\n",
       "1175  Micronesia   NaN         NaN\n",
       "1243  Micronesia   NaN         NaN\n",
       "1244  Micronesia   NaN         NaN\n",
       "1245  Micronesia   NaN         NaN\n",
       "1310  Micronesia   NaN         NaN\n",
       "1311  Micronesia   NaN         NaN"
      ]
     },
     "execution_count": 82,
     "metadata": {},
     "output_type": "execute_result"
    }
   ],
   "source": [
    "#rows that year is nan\n",
    "df_pop[df_pop['year'].isna()]"
   ]
  },
  {
   "cell_type": "code",
   "execution_count": 84,
   "id": "9b627e6e",
   "metadata": {},
   "outputs": [
    {
     "data": {
      "text/plain": [
       "(4185, 3)"
      ]
     },
     "execution_count": 84,
     "metadata": {},
     "output_type": "execute_result"
    }
   ],
   "source": [
    "\"\"\"1.drop NAN rows\n",
    "\"\"\"\n",
    "df_pop.shape  # it is attribute,not function or method"
   ]
  },
  {
   "cell_type": "code",
   "execution_count": 85,
   "id": "ec046b82",
   "metadata": {},
   "outputs": [
    {
     "data": {
      "text/plain": [
       "(4178, 3)"
      ]
     },
     "execution_count": 85,
     "metadata": {},
     "output_type": "execute_result"
    }
   ],
   "source": [
    "df_pop.dropna(inplace=True)\n",
    "df_pop.shape"
   ]
  },
  {
   "cell_type": "code",
   "execution_count": 89,
   "id": "b8abd9c5",
   "metadata": {},
   "outputs": [
    {
     "data": {
      "text/html": [
       "<div>\n",
       "<style scoped>\n",
       "    .dataframe tbody tr th:only-of-type {\n",
       "        vertical-align: middle;\n",
       "    }\n",
       "\n",
       "    .dataframe tbody tr th {\n",
       "        vertical-align: top;\n",
       "    }\n",
       "\n",
       "    .dataframe thead th {\n",
       "        text-align: right;\n",
       "    }\n",
       "</style>\n",
       "<table border=\"1\" class=\"dataframe\">\n",
       "  <thead>\n",
       "    <tr style=\"text-align: right;\">\n",
       "      <th>country</th>\n",
       "      <th>Afghanistan</th>\n",
       "      <th>Albania</th>\n",
       "      <th>Algeria</th>\n",
       "      <th>American Samoa</th>\n",
       "      <th>Andorra</th>\n",
       "      <th>...</th>\n",
       "      <th>Wallis &amp; Futuna</th>\n",
       "      <th>Western Sahara</th>\n",
       "      <th>Yemen</th>\n",
       "      <th>Zambia</th>\n",
       "      <th>Zimbabwe</th>\n",
       "    </tr>\n",
       "    <tr>\n",
       "      <th>year</th>\n",
       "      <th></th>\n",
       "      <th></th>\n",
       "      <th></th>\n",
       "      <th></th>\n",
       "      <th></th>\n",
       "      <th></th>\n",
       "      <th></th>\n",
       "      <th></th>\n",
       "      <th></th>\n",
       "      <th></th>\n",
       "      <th></th>\n",
       "    </tr>\n",
       "  </thead>\n",
       "  <tbody>\n",
       "    <tr>\n",
       "      <th>1955.0</th>\n",
       "      <td>8270991.0</td>\n",
       "      <td>1419994.0</td>\n",
       "      <td>9774283.0</td>\n",
       "      <td>19754.0</td>\n",
       "      <td>9232.0</td>\n",
       "      <td>...</td>\n",
       "      <td>7669.0</td>\n",
       "      <td>21147.0</td>\n",
       "      <td>4965574.0</td>\n",
       "      <td>2644976.0</td>\n",
       "      <td>3213286.0</td>\n",
       "    </tr>\n",
       "    <tr>\n",
       "      <th>1960.0</th>\n",
       "      <td>8996973.0</td>\n",
       "      <td>1636090.0</td>\n",
       "      <td>11057863.0</td>\n",
       "      <td>20123.0</td>\n",
       "      <td>13411.0</td>\n",
       "      <td>...</td>\n",
       "      <td>8157.0</td>\n",
       "      <td>32761.0</td>\n",
       "      <td>5315355.0</td>\n",
       "      <td>3070776.0</td>\n",
       "      <td>3776681.0</td>\n",
       "    </tr>\n",
       "    <tr>\n",
       "      <th>1965.0</th>\n",
       "      <td>9956320.0</td>\n",
       "      <td>1896171.0</td>\n",
       "      <td>12550885.0</td>\n",
       "      <td>23672.0</td>\n",
       "      <td>18549.0</td>\n",
       "      <td>...</td>\n",
       "      <td>8724.0</td>\n",
       "      <td>50970.0</td>\n",
       "      <td>5727751.0</td>\n",
       "      <td>3570464.0</td>\n",
       "      <td>4471177.0</td>\n",
       "    </tr>\n",
       "    <tr>\n",
       "      <th>1970.0</th>\n",
       "      <td>11173642.0</td>\n",
       "      <td>2150707.0</td>\n",
       "      <td>14464985.0</td>\n",
       "      <td>27363.0</td>\n",
       "      <td>24276.0</td>\n",
       "      <td>...</td>\n",
       "      <td>8853.0</td>\n",
       "      <td>76874.0</td>\n",
       "      <td>6193384.0</td>\n",
       "      <td>4179067.0</td>\n",
       "      <td>5289303.0</td>\n",
       "    </tr>\n",
       "    <tr>\n",
       "      <th>1975.0</th>\n",
       "      <td>12689160.0</td>\n",
       "      <td>2411732.0</td>\n",
       "      <td>16607707.0</td>\n",
       "      <td>30052.0</td>\n",
       "      <td>30705.0</td>\n",
       "      <td>...</td>\n",
       "      <td>9320.0</td>\n",
       "      <td>74954.0</td>\n",
       "      <td>6784695.0</td>\n",
       "      <td>4943283.0</td>\n",
       "      <td>6293875.0</td>\n",
       "    </tr>\n",
       "    <tr>\n",
       "      <th>...</th>\n",
       "      <td>...</td>\n",
       "      <td>...</td>\n",
       "      <td>...</td>\n",
       "      <td>...</td>\n",
       "      <td>...</td>\n",
       "      <td>...</td>\n",
       "      <td>...</td>\n",
       "      <td>...</td>\n",
       "      <td>...</td>\n",
       "      <td>...</td>\n",
       "      <td>...</td>\n",
       "    </tr>\n",
       "    <tr>\n",
       "      <th>2016.0</th>\n",
       "      <td>35383032.0</td>\n",
       "      <td>2886438.0</td>\n",
       "      <td>40551392.0</td>\n",
       "      <td>55741.0</td>\n",
       "      <td>77297.0</td>\n",
       "      <td>...</td>\n",
       "      <td>12107.0</td>\n",
       "      <td>538749.0</td>\n",
       "      <td>27168208.0</td>\n",
       "      <td>16363458.0</td>\n",
       "      <td>14030331.0</td>\n",
       "    </tr>\n",
       "    <tr>\n",
       "      <th>2017.0</th>\n",
       "      <td>36296113.0</td>\n",
       "      <td>2884169.0</td>\n",
       "      <td>41389189.0</td>\n",
       "      <td>55620.0</td>\n",
       "      <td>77001.0</td>\n",
       "      <td>...</td>\n",
       "      <td>11900.0</td>\n",
       "      <td>552615.0</td>\n",
       "      <td>27834819.0</td>\n",
       "      <td>16853599.0</td>\n",
       "      <td>14236595.0</td>\n",
       "    </tr>\n",
       "    <tr>\n",
       "      <th>2018.0</th>\n",
       "      <td>37171921.0</td>\n",
       "      <td>2882740.0</td>\n",
       "      <td>42228408.0</td>\n",
       "      <td>55465.0</td>\n",
       "      <td>77006.0</td>\n",
       "      <td>...</td>\n",
       "      <td>11661.0</td>\n",
       "      <td>567402.0</td>\n",
       "      <td>28498683.0</td>\n",
       "      <td>17351708.0</td>\n",
       "      <td>14438802.0</td>\n",
       "    </tr>\n",
       "    <tr>\n",
       "      <th>2019.0</th>\n",
       "      <td>38041754.0</td>\n",
       "      <td>2880917.0</td>\n",
       "      <td>43053054.0</td>\n",
       "      <td>55312.0</td>\n",
       "      <td>77142.0</td>\n",
       "      <td>...</td>\n",
       "      <td>11432.0</td>\n",
       "      <td>582463.0</td>\n",
       "      <td>29161922.0</td>\n",
       "      <td>17861030.0</td>\n",
       "      <td>14645468.0</td>\n",
       "    </tr>\n",
       "    <tr>\n",
       "      <th>2020.0</th>\n",
       "      <td>38928346.0</td>\n",
       "      <td>2877797.0</td>\n",
       "      <td>43851044.0</td>\n",
       "      <td>NaN</td>\n",
       "      <td>NaN</td>\n",
       "      <td>...</td>\n",
       "      <td>NaN</td>\n",
       "      <td>597339.0</td>\n",
       "      <td>29825964.0</td>\n",
       "      <td>18383955.0</td>\n",
       "      <td>14862924.0</td>\n",
       "    </tr>\n",
       "  </tbody>\n",
       "</table>\n",
       "<p>18 rows × 234 columns</p>\n",
       "</div>"
      ],
      "text/plain": [
       "country  Afghanistan    Albania     Algeria  American Samoa  Andorra  ...  \\\n",
       "year                                                                  ...   \n",
       "1955.0     8270991.0  1419994.0   9774283.0         19754.0   9232.0  ...   \n",
       "1960.0     8996973.0  1636090.0  11057863.0         20123.0  13411.0  ...   \n",
       "1965.0     9956320.0  1896171.0  12550885.0         23672.0  18549.0  ...   \n",
       "1970.0    11173642.0  2150707.0  14464985.0         27363.0  24276.0  ...   \n",
       "1975.0    12689160.0  2411732.0  16607707.0         30052.0  30705.0  ...   \n",
       "...              ...        ...         ...             ...      ...  ...   \n",
       "2016.0    35383032.0  2886438.0  40551392.0         55741.0  77297.0  ...   \n",
       "2017.0    36296113.0  2884169.0  41389189.0         55620.0  77001.0  ...   \n",
       "2018.0    37171921.0  2882740.0  42228408.0         55465.0  77006.0  ...   \n",
       "2019.0    38041754.0  2880917.0  43053054.0         55312.0  77142.0  ...   \n",
       "2020.0    38928346.0  2877797.0  43851044.0             NaN      NaN  ...   \n",
       "\n",
       "country  Wallis & Futuna  Western Sahara       Yemen      Zambia    Zimbabwe  \n",
       "year                                                                          \n",
       "1955.0            7669.0         21147.0   4965574.0   2644976.0   3213286.0  \n",
       "1960.0            8157.0         32761.0   5315355.0   3070776.0   3776681.0  \n",
       "1965.0            8724.0         50970.0   5727751.0   3570464.0   4471177.0  \n",
       "1970.0            8853.0         76874.0   6193384.0   4179067.0   5289303.0  \n",
       "1975.0            9320.0         74954.0   6784695.0   4943283.0   6293875.0  \n",
       "...                  ...             ...         ...         ...         ...  \n",
       "2016.0           12107.0        538749.0  27168208.0  16363458.0  14030331.0  \n",
       "2017.0           11900.0        552615.0  27834819.0  16853599.0  14236595.0  \n",
       "2018.0           11661.0        567402.0  28498683.0  17351708.0  14438802.0  \n",
       "2019.0           11432.0        582463.0  29161922.0  17861030.0  14645468.0  \n",
       "2020.0               NaN        597339.0  29825964.0  18383955.0  14862924.0  \n",
       "\n",
       "[18 rows x 234 columns]"
      ]
     },
     "execution_count": 89,
     "metadata": {},
     "output_type": "execute_result"
    }
   ],
   "source": [
    "\"\"\"2:pivot table show all values\n",
    "\"\"\"\n",
    "df_pop.pivot_table(index='year',columns='country',values='population',aggfunc='sum')"
   ]
  },
  {
   "cell_type": "code",
   "execution_count": 92,
   "id": "35cc5f44",
   "metadata": {},
   "outputs": [],
   "source": [
    "\"\"\"3.select partial col\n",
    "\"\"\"\n",
    "df_pivot=df_pop.pivot_table(index='year',columns='country',values='population',aggfunc='sum')\n"
   ]
  },
  {
   "cell_type": "code",
   "execution_count": 97,
   "id": "cd84e674",
   "metadata": {},
   "outputs": [
    {
     "data": {
      "text/html": [
       "<div>\n",
       "<style scoped>\n",
       "    .dataframe tbody tr th:only-of-type {\n",
       "        vertical-align: middle;\n",
       "    }\n",
       "\n",
       "    .dataframe tbody tr th {\n",
       "        vertical-align: top;\n",
       "    }\n",
       "\n",
       "    .dataframe thead th {\n",
       "        text-align: right;\n",
       "    }\n",
       "</style>\n",
       "<table border=\"1\" class=\"dataframe\">\n",
       "  <thead>\n",
       "    <tr style=\"text-align: right;\">\n",
       "      <th>country</th>\n",
       "      <th>China</th>\n",
       "      <th>India</th>\n",
       "      <th>Brazil</th>\n",
       "      <th>United States</th>\n",
       "    </tr>\n",
       "    <tr>\n",
       "      <th>year</th>\n",
       "      <th></th>\n",
       "      <th></th>\n",
       "      <th></th>\n",
       "      <th></th>\n",
       "    </tr>\n",
       "  </thead>\n",
       "  <tbody>\n",
       "    <tr>\n",
       "      <th>2016.0</th>\n",
       "      <td>1.414049e+09</td>\n",
       "      <td>1.324517e+09</td>\n",
       "      <td>206163053.0</td>\n",
       "      <td>323015995.0</td>\n",
       "    </tr>\n",
       "    <tr>\n",
       "      <th>2017.0</th>\n",
       "      <td>1.421022e+09</td>\n",
       "      <td>1.338677e+09</td>\n",
       "      <td>207833823.0</td>\n",
       "      <td>325084756.0</td>\n",
       "    </tr>\n",
       "    <tr>\n",
       "      <th>2018.0</th>\n",
       "      <td>1.427648e+09</td>\n",
       "      <td>1.352642e+09</td>\n",
       "      <td>209469323.0</td>\n",
       "      <td>327096265.0</td>\n",
       "    </tr>\n",
       "    <tr>\n",
       "      <th>2019.0</th>\n",
       "      <td>1.433784e+09</td>\n",
       "      <td>1.366418e+09</td>\n",
       "      <td>211049527.0</td>\n",
       "      <td>329064917.0</td>\n",
       "    </tr>\n",
       "    <tr>\n",
       "      <th>2020.0</th>\n",
       "      <td>1.439324e+09</td>\n",
       "      <td>1.380004e+09</td>\n",
       "      <td>212559417.0</td>\n",
       "      <td>331002651.0</td>\n",
       "    </tr>\n",
       "  </tbody>\n",
       "</table>\n",
       "</div>"
      ],
      "text/plain": [
       "country         China         India       Brazil  United States\n",
       "year                                                           \n",
       "2016.0   1.414049e+09  1.324517e+09  206163053.0    323015995.0\n",
       "2017.0   1.421022e+09  1.338677e+09  207833823.0    325084756.0\n",
       "2018.0   1.427648e+09  1.352642e+09  209469323.0    327096265.0\n",
       "2019.0   1.433784e+09  1.366418e+09  211049527.0    329064917.0\n",
       "2020.0   1.439324e+09  1.380004e+09  212559417.0    331002651.0"
      ]
     },
     "execution_count": 97,
     "metadata": {},
     "output_type": "execute_result"
    }
   ],
   "source": [
    "df_pivot[['China','India','Brazil','United States']].tail(n=5)"
   ]
  },
  {
   "cell_type": "markdown",
   "id": "b9cf77ed",
   "metadata": {},
   "source": [
    "#  chapter 9: graphics"
   ]
  },
  {
   "cell_type": "raw",
   "id": "d338aa8e",
   "metadata": {},
   "source": [
    "1.usually we use mathlib to draw graphics,but pd can also do some simple jobs"
   ]
  },
  {
   "cell_type": "code",
   "execution_count": 98,
   "id": "e154c442",
   "metadata": {},
   "outputs": [
    {
     "data": {
      "text/plain": [
       "<AxesSubplot:xlabel='year'>"
      ]
     },
     "execution_count": 98,
     "metadata": {},
     "output_type": "execute_result"
    },
    {
     "data": {
      "image/png": "[encoded data removed]",
      "text/plain": [
       "<Figure size 432x288 with 1 Axes>"
      ]
     },
     "metadata": {
      "needs_background": "light"
     },
     "output_type": "display_data"
    }
   ],
   "source": [
    "df_graph=df_pivot[['China','India','Brazil','United States']]\n",
    "df_graph.plot(kind='line')"
   ]
  },
  {
   "cell_type": "code",
   "execution_count": 125,
   "id": "66fac406",
   "metadata": {},
   "outputs": [
    {
     "data": {
      "text/plain": [
       "<AxesSubplot:title={'center':'Population from 1960-2020'}, xlabel='Year', ylabel='population'>"
      ]
     },
     "execution_count": 125,
     "metadata": {},
     "output_type": "execute_result"
    },
    {
     "data": {
      "image/png": "[encoded data removed]",
      "text/plain": [
       "<Figure size 576x288 with 1 Axes>"
      ]
     },
     "metadata": {
      "needs_background": "light"
     },
     "output_type": "display_data"
    }
   ],
   "source": [
    "df_graph.plot(kind='line',xlabel='Year',ylabel='population'\n",
    "             ,title='Population from 1960-2020'\n",
    "             ,figsize=(8,4) #figsize=(x_size,y_size)\n",
    "             ,xticks=range(1960,2010,15) #x-axis interval\n",
    "             )"
   ]
  },
  {
   "cell_type": "markdown",
   "id": "03578857",
   "metadata": {},
   "source": [
    "### 9.2 single barplot"
   ]
  },
  {
   "cell_type": "code",
   "execution_count": 107,
   "id": "600c8c7c",
   "metadata": {},
   "outputs": [
    {
     "data": {
      "text/plain": [
       "Index(['China', 'India', 'Brazil', 'United States'], dtype='object', name='country')"
      ]
     },
     "execution_count": 107,
     "metadata": {},
     "output_type": "execute_result"
    }
   ],
   "source": [
    "\"\"\"select one year \n",
    "1.as it has change to pivto =type,not a normal DF,\n",
    "\"\"\"\n",
    "df_graph.columns"
   ]
  },
  {
   "cell_type": "code",
   "execution_count": 108,
   "id": "43cdc956",
   "metadata": {},
   "outputs": [
    {
     "data": {
      "text/plain": [
       "Float64Index([1955.0, 1960.0, 1965.0, 1970.0, 1975.0, 1980.0, 1985.0, 1990.0,\n",
       "              1995.0, 2000.0, 2005.0, 2010.0, 2015.0, 2016.0, 2017.0, 2018.0,\n",
       "              2019.0, 2020.0],\n",
       "             dtype='float64', name='year')"
      ]
     },
     "execution_count": 108,
     "metadata": {},
     "output_type": "execute_result"
    }
   ],
   "source": [
    "df_graph.index"
   ]
  },
  {
   "cell_type": "code",
   "execution_count": 111,
   "id": "4cc519d0",
   "metadata": {},
   "outputs": [
    {
     "data": {
      "text/html": [
       "<div>\n",
       "<style scoped>\n",
       "    .dataframe tbody tr th:only-of-type {\n",
       "        vertical-align: middle;\n",
       "    }\n",
       "\n",
       "    .dataframe tbody tr th {\n",
       "        vertical-align: top;\n",
       "    }\n",
       "\n",
       "    .dataframe thead th {\n",
       "        text-align: right;\n",
       "    }\n",
       "</style>\n",
       "<table border=\"1\" class=\"dataframe\">\n",
       "  <thead>\n",
       "    <tr style=\"text-align: right;\">\n",
       "      <th>country</th>\n",
       "      <th>China</th>\n",
       "      <th>India</th>\n",
       "      <th>Brazil</th>\n",
       "      <th>United States</th>\n",
       "    </tr>\n",
       "    <tr>\n",
       "      <th>year</th>\n",
       "      <th></th>\n",
       "      <th></th>\n",
       "      <th></th>\n",
       "      <th></th>\n",
       "    </tr>\n",
       "  </thead>\n",
       "  <tbody>\n",
       "  </tbody>\n",
       "</table>\n",
       "</div>"
      ],
      "text/plain": [
       "Empty DataFrame\n",
       "Columns: [China, India, Brazil, United States]\n",
       "Index: []"
      ]
     },
     "execution_count": 111,
     "metadata": {},
     "output_type": "execute_result"
    }
   ],
   "source": [
    "df_graph.loc[:-1] # not a normal DF "
   ]
  },
  {
   "cell_type": "code",
   "execution_count": 113,
   "id": "30eaf58d",
   "metadata": {},
   "outputs": [
    {
     "data": {
      "text/html": [
       "<div>\n",
       "<style scoped>\n",
       "    .dataframe tbody tr th:only-of-type {\n",
       "        vertical-align: middle;\n",
       "    }\n",
       "\n",
       "    .dataframe tbody tr th {\n",
       "        vertical-align: top;\n",
       "    }\n",
       "\n",
       "    .dataframe thead th {\n",
       "        text-align: right;\n",
       "    }\n",
       "</style>\n",
       "<table border=\"1\" class=\"dataframe\">\n",
       "  <thead>\n",
       "    <tr style=\"text-align: right;\">\n",
       "      <th>country</th>\n",
       "      <th>China</th>\n",
       "      <th>India</th>\n",
       "      <th>Brazil</th>\n",
       "      <th>United States</th>\n",
       "    </tr>\n",
       "    <tr>\n",
       "      <th>year</th>\n",
       "      <th></th>\n",
       "      <th></th>\n",
       "      <th></th>\n",
       "      <th></th>\n",
       "    </tr>\n",
       "  </thead>\n",
       "  <tbody>\n",
       "    <tr>\n",
       "      <th>2020.0</th>\n",
       "      <td>1.439324e+09</td>\n",
       "      <td>1.380004e+09</td>\n",
       "      <td>212559417.0</td>\n",
       "      <td>331002651.0</td>\n",
       "    </tr>\n",
       "  </tbody>\n",
       "</table>\n",
       "</div>"
      ],
      "text/plain": [
       "country         China         India       Brazil  United States\n",
       "year                                                           \n",
       "2020.0   1.439324e+09  1.380004e+09  212559417.0    331002651.0"
      ]
     },
     "execution_count": 113,
     "metadata": {},
     "output_type": "execute_result"
    }
   ],
   "source": [
    "df_graph[df_graph.index.isin([2020])] #filter by index"
   ]
  },
  {
   "cell_type": "code",
   "execution_count": 115,
   "id": "4b0fe04b",
   "metadata": {},
   "outputs": [
    {
     "data": {
      "text/html": [
       "<div>\n",
       "<style scoped>\n",
       "    .dataframe tbody tr th:only-of-type {\n",
       "        vertical-align: middle;\n",
       "    }\n",
       "\n",
       "    .dataframe tbody tr th {\n",
       "        vertical-align: top;\n",
       "    }\n",
       "\n",
       "    .dataframe thead th {\n",
       "        text-align: right;\n",
       "    }\n",
       "</style>\n",
       "<table border=\"1\" class=\"dataframe\">\n",
       "  <thead>\n",
       "    <tr style=\"text-align: right;\">\n",
       "      <th>year</th>\n",
       "      <th>2020.0</th>\n",
       "    </tr>\n",
       "    <tr>\n",
       "      <th>country</th>\n",
       "      <th></th>\n",
       "    </tr>\n",
       "  </thead>\n",
       "  <tbody>\n",
       "    <tr>\n",
       "      <th>China</th>\n",
       "      <td>1.439324e+09</td>\n",
       "    </tr>\n",
       "    <tr>\n",
       "      <th>India</th>\n",
       "      <td>1.380004e+09</td>\n",
       "    </tr>\n",
       "    <tr>\n",
       "      <th>Brazil</th>\n",
       "      <td>2.125594e+08</td>\n",
       "    </tr>\n",
       "    <tr>\n",
       "      <th>United States</th>\n",
       "      <td>3.310027e+08</td>\n",
       "    </tr>\n",
       "  </tbody>\n",
       "</table>\n",
       "</div>"
      ],
      "text/plain": [
       "year                 2020.0\n",
       "country                    \n",
       "China          1.439324e+09\n",
       "India          1.380004e+09\n",
       "Brazil         2.125594e+08\n",
       "United States  3.310027e+08"
      ]
     },
     "execution_count": 115,
     "metadata": {},
     "output_type": "execute_result"
    }
   ],
   "source": [
    "df_2020=df_graph[df_graph.index.isin([2020])]\n",
    "df_2020.T #table mode"
   ]
  },
  {
   "cell_type": "code",
   "execution_count": 116,
   "id": "0ffa2712",
   "metadata": {},
   "outputs": [
    {
     "data": {
      "text/html": [
       "<div>\n",
       "<style scoped>\n",
       "    .dataframe tbody tr th:only-of-type {\n",
       "        vertical-align: middle;\n",
       "    }\n",
       "\n",
       "    .dataframe tbody tr th {\n",
       "        vertical-align: top;\n",
       "    }\n",
       "\n",
       "    .dataframe thead th {\n",
       "        text-align: right;\n",
       "    }\n",
       "</style>\n",
       "<table border=\"1\" class=\"dataframe\">\n",
       "  <thead>\n",
       "    <tr style=\"text-align: right;\">\n",
       "      <th>year</th>\n",
       "      <th>2020.0</th>\n",
       "    </tr>\n",
       "    <tr>\n",
       "      <th>country</th>\n",
       "      <th></th>\n",
       "    </tr>\n",
       "  </thead>\n",
       "  <tbody>\n",
       "    <tr>\n",
       "      <th>China</th>\n",
       "      <td>1.439324e+09</td>\n",
       "    </tr>\n",
       "    <tr>\n",
       "      <th>India</th>\n",
       "      <td>1.380004e+09</td>\n",
       "    </tr>\n",
       "    <tr>\n",
       "      <th>Brazil</th>\n",
       "      <td>2.125594e+08</td>\n",
       "    </tr>\n",
       "    <tr>\n",
       "      <th>United States</th>\n",
       "      <td>3.310027e+08</td>\n",
       "    </tr>\n",
       "  </tbody>\n",
       "</table>\n",
       "</div>"
      ],
      "text/plain": [
       "year                 2020.0\n",
       "country                    \n",
       "China          1.439324e+09\n",
       "India          1.380004e+09\n",
       "Brazil         2.125594e+08\n",
       "United States  3.310027e+08"
      ]
     },
     "execution_count": 116,
     "metadata": {},
     "output_type": "execute_result"
    }
   ],
   "source": [
    "df_2020=df_graph[df_graph.index.isin([2020])].T\n",
    "df_2020"
   ]
  },
  {
   "cell_type": "code",
   "execution_count": 119,
   "id": "c4d66591",
   "metadata": {},
   "outputs": [
    {
     "data": {
      "text/plain": [
       "<AxesSubplot:title={'center':'population in 2020'}, xlabel='States', ylabel='Pop in M'>"
      ]
     },
     "execution_count": 119,
     "metadata": {},
     "output_type": "execute_result"
    },
    {
     "data": {
      "image/png": "[encoded data removed]",
      "text/plain": [
       "<Figure size 432x288 with 1 Axes>"
      ]
     },
     "metadata": {
      "needs_background": "light"
     },
     "output_type": "display_data"
    }
   ],
   "source": [
    "df_2020.plot(kind='bar',color='orange',xlabel='States',ylabel='Pop in M',\n",
    "            title='population in 2020')"
   ]
  },
  {
   "cell_type": "markdown",
   "id": "390cd87d",
   "metadata": {},
   "source": [
    "### 9.3 barplot grouped by 'N' variables"
   ]
  },
  {
   "cell_type": "code",
   "execution_count": 122,
   "id": "e275df1d",
   "metadata": {},
   "outputs": [],
   "source": [
    "\"\"\"select few years not only 1 year\n",
    "\"\"\"\n",
    "#df_2020=df_graph[df_graph.index.isin([2020])]\n",
    "#df_graph\n",
    "df_year=df_graph[df_graph.index.isin([2016,2017,2018,2019,2020])]"
   ]
  },
  {
   "cell_type": "code",
   "execution_count": 126,
   "id": "544c7cf8",
   "metadata": {},
   "outputs": [
    {
     "data": {
      "text/plain": [
       "<AxesSubplot:xlabel='year'>"
      ]
     },
     "execution_count": 126,
     "metadata": {},
     "output_type": "execute_result"
    },
    {
     "data": {
      "image/png": "[encoded data removed]",
      "text/plain": [
       "<Figure size 432x288 with 1 Axes>"
      ]
     },
     "metadata": {
      "needs_background": "light"
     },
     "output_type": "display_data"
    }
   ],
   "source": [
    "#grouped barplot\n",
    "df_year.plot(kind='bar')"
   ]
  },
  {
   "cell_type": "markdown",
   "id": "73e1c84f",
   "metadata": {},
   "source": [
    "### 9.4 save graphics"
   ]
  },
  {
   "cell_type": "code",
   "execution_count": 127,
   "id": "abb90cff",
   "metadata": {},
   "outputs": [
    {
     "data": {
      "text/plain": [
       "<AxesSubplot:title={'center':'Population from 1960-2020'}, xlabel='Year', ylabel='population'>"
      ]
     },
     "execution_count": 127,
     "metadata": {},
     "output_type": "execute_result"
    },
    {
     "data": {
      "image/png": "[encoded data removed]",
      "text/plain": [
       "<Figure size 576x288 with 1 Axes>"
      ]
     },
     "metadata": {
      "needs_background": "light"
     },
     "output_type": "display_data"
    }
   ],
   "source": [
    "df_graph.plot(kind='line',xlabel='Year',ylabel='population'\n",
    "             ,title='Population from 1960-2020'\n",
    "             ,figsize=(8,4) #figsize=(x_size,y_size)\n",
    "             ,xticks=range(1960,2010,15) #x-axis interval\n",
    "             )"
   ]
  },
  {
   "cell_type": "code",
   "execution_count": 132,
   "id": "168271ab",
   "metadata": {},
   "outputs": [
    {
     "data": {
      "text/plain": [
       "'\\nimport X: this imports everything as X.var1,X.var2,etc\\nfrom X import * : this imports everthing as var1,var2 etc ,i.e it floods the local namespace\\n'"
      ]
     },
     "execution_count": 132,
     "metadata": {},
     "output_type": "execute_result"
    }
   ],
   "source": [
    "\"\"\"\n",
    "import X: this imports everything as X.var1,X.var2,etc\n",
    "from X import * : this imports everthing as var1,var2 etc ,i.e it floods the local namespace\n",
    "\"\"\""
   ]
  },
  {
   "cell_type": "code",
   "execution_count": 131,
   "id": "b6d33481",
   "metadata": {},
   "outputs": [],
   "source": [
    "import matplotlib.pyplot as plt"
   ]
  },
  {
   "cell_type": "raw",
   "id": "7849f8bf",
   "metadata": {},
   "source": [
    "Syntax: savefig(fname, dpi=None, facecolor=’w’, edgecolor=’w’, orientation=’portrait’, papertype=None, format=None, transparent=False, bbox_inches=None, pad_inches=0.1, frameon=None, metadata=None)"
   ]
  },
  {
   "cell_type": "code",
   "execution_count": 139,
   "id": "f5f5da5a",
   "metadata": {
    "scrolled": true
   },
   "outputs": [
    {
     "data": {
      "image/png": "[encoded data removed]",
      "text/plain": [
       "<Figure size 576x288 with 1 Axes>"
      ]
     },
     "metadata": {
      "needs_background": "light"
     },
     "output_type": "display_data"
    }
   ],
   "source": [
    "#save as image: \n",
    "#need to in a same cells\n",
    "df_graph.plot(kind='line',xlabel='Year',ylabel='population'\n",
    "             ,title='Population from 1960-2020'\n",
    "             ,figsize=(8,4) #figsize=(x_size,y_size)\n",
    "             ,xticks=range(1960,2010,15) #x-axis interval\n",
    "             )\n",
    "plt.savefig(r'C:\\Users\\fengs\\Desktop\\pd_real\\python-course-for-excel-users-main\\my_test.png')\n",
    "plt.show("
   ]
  },
  {
   "cell_type": "code",
   "execution_count": 142,
   "id": "0744bf80",
   "metadata": {},
   "outputs": [
    {
     "ename": "SyntaxError",
     "evalue": "(unicode error) 'unicodeescape' codec can't decode bytes in position 13-14: truncated \\UXXXXXXXX escape (Temp/ipykernel_11460/348674691.py, line 3)",
     "output_type": "error",
     "traceback": [
      "\u001b[1;36m  File \u001b[1;32m\"C:\\Users\\fengs\\AppData\\Local\\Temp/ipykernel_11460/348674691.py\"\u001b[1;36m, line \u001b[1;32m3\u001b[0m\n\u001b[1;33m    \"\"\"\u001b[0m\n\u001b[1;37m       ^\u001b[0m\n\u001b[1;31mSyntaxError\u001b[0m\u001b[1;31m:\u001b[0m (unicode error) 'unicodeescape' codec can't decode bytes in position 13-14: truncated \\UXXXXXXXX escape\n"
     ]
    }
   ],
   "source": [
    "\"\"\"plt.show(r'C:\\Users\\fengs\\Desktop\\pd_real\\python-course-for-excel-users-main\\my_test.png')\n",
    "    failed\n",
    "\"\"\"\n",
    "img=plt.show(r'C:/Users/fengs/Desktop/pd_real/python-course-for-excel-users-main/my_test.png')\n",
    "img.show()"
   ]
  },
  {
   "cell_type": "code",
   "execution_count": 144,
   "id": "34825ae4",
   "metadata": {},
   "outputs": [],
   "source": [
    " from PIL import Image                                                                                \n",
    " img = Image.open(r'C:/Users/fengs/Desktop/pd_real/python-course-for-excel-users-main/my_test.png')\n",
    " img.show() "
   ]
  },
  {
   "cell_type": "markdown",
   "id": "ac4a9d4b",
   "metadata": {},
   "source": [
    "### 9.5 save DF +Pivot table"
   ]
  },
  {
   "cell_type": "code",
   "execution_count": 147,
   "id": "4978f4d0",
   "metadata": {
    "scrolled": true
   },
   "outputs": [],
   "source": [
    "df_pivot.to_excel(r'C:\\Users\\fengs\\Desktop\\pd_real\\python-course-for-excel-users-main\\pivot_table.xlsx')"
   ]
  },
  {
   "cell_type": "code",
   "execution_count": null,
   "id": "f2d7b080",
   "metadata": {},
   "outputs": [],
   "source": []
  }
 ],
 "metadata": {
  "kernelspec": {
   "display_name": "Python 3 (ipykernel)",
   "language": "python",
   "name": "python3"
  },
  "language_info": {
   "codemirror_mode": {
    "name": "ipython",
    "version": 3
   },
   "file_extension": ".py",
   "mimetype": "text/x-python",
   "name": "python",
   "nbconvert_exporter": "python",
   "pygments_lexer": "ipython3",
   "version": "3.9.7"
  }
 },
 "nbformat": 4,
 "nbformat_minor": 5
}
